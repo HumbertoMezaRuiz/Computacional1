





<!DOCTYPE html>
<html lang="en" data-color-mode="light" data-light-theme="light" data-dark-theme="dark">
  <head>
    <meta charset="utf-8">
  <link rel="dns-prefetch" href="https://github.githubassets.com">
  <link rel="dns-prefetch" href="https://avatars.githubusercontent.com">
  <link rel="dns-prefetch" href="https://github-cloud.s3.amazonaws.com">
  <link rel="dns-prefetch" href="https://user-images.githubusercontent.com/">



  <link crossorigin="anonymous" media="all" integrity="sha512-k9NM/a2xYY6wCRcWG7f3ROm4X5CJNikViGX0N8YIxs6sUYAe/j08/RSHXr3fA9wLIy87AMFCgXm6jbvhZhIXWw==" rel="stylesheet" href="https://github.githubassets.com/assets/frameworks-93d34cfdadb1618eb00917161bb7f744.css" />
  
    <link crossorigin="anonymous" media="all" integrity="sha512-FSQAq0EMs4fztkVYnaG6tYMYSthrQSMf9Yowkvapk08OAxsW4QUZZT9h9jSMmO7GB6rO1uRQdGRn8FwXE9lyyg==" rel="stylesheet" href="https://github.githubassets.com/assets/behaviors-152400ab410cb387f3b645589da1bab5.css" />
    
    
    
    <link crossorigin="anonymous" media="all" integrity="sha512-ADxBGP+/Ejuf3hdfXt1DPBnGrlQ47QqWJG2/uzyeofvKQGbkHG8l5dAmbOThfWzViBmMF+vy43i5TLs2M+J+4g==" rel="stylesheet" href="https://github.githubassets.com/assets/github-003c4118ffbf123b9fde175f5edd433c.css" />

  <script crossorigin="anonymous" defer="defer" integrity="sha512-8K2vvwbW+6H27Nad5ydg8PA2/aMD/LKq+EiK9s0U0hhVZxCI2tWBsYk9beAtisRw2j+Or5k2/F+6dk02nmj/PA==" type="application/javascript" src="https://github.githubassets.com/assets/environment-f0adafbf.js"></script>
    <script crossorigin="anonymous" defer="defer" integrity="sha512-Of+WG2CISim899I88sYG7d/75B6gHRWbUDvUOJDh52ZKHoHClE8JQ4nZbvOrvIVTGKCUe68JogcDBUMVtQ7F8w==" type="application/javascript" src="https://github.githubassets.com/assets/chunk-frameworks-39ff961b.js"></script>
    <script crossorigin="anonymous" defer="defer" integrity="sha512-7GvK4gfpB9Ztz8H6JMSvF2zkjlAfbaRjfl7n1VtRpOc7huXjL3iGa8FuQiFTvdPX1fd8IYbNtXZoEDZa3RVOrQ==" type="application/javascript" src="https://github.githubassets.com/assets/chunk-vendor-ec6bcae2.js"></script>
  
  <script crossorigin="anonymous" defer="defer" integrity="sha512-LrlbFtVuiWoRKQh9cFzkYpcKwheTNTA3TrW7JLVCmEXKXR12EaKZsxRyACxZoBxeHvaak562K8ShalgfBhmhZw==" type="application/javascript" src="https://github.githubassets.com/assets/behaviors-2eb95b16.js"></script>
  
    <script crossorigin="anonymous" defer="defer" integrity="sha512-xDmMfbDOi7C1qDeTcUUIjKfOAG5qhfSNSHRf7wT0crqnTCqtHlO1jBZmRSpjbpn4RyitzX75K0wQ/dpHqO/gAg==" type="application/javascript" data-module-id="./chunk-contributions-spider-graph.js" data-src="https://github.githubassets.com/assets/chunk-contributions-spider-graph-c4398c7d.js"></script>
    <script crossorigin="anonymous" defer="defer" integrity="sha512-obMR8mPKx8OvqRe34LgnUcxeJ1qujiA4ND3H6UX13ExMlA/WfHLjEzXRmgGRcRvN/8J1nzc+Z+jgz/PLTFy6zg==" type="application/javascript" data-module-id="./chunk-drag-drop.js" data-src="https://github.githubassets.com/assets/chunk-drag-drop-a1b311f2.js"></script>
    <script crossorigin="anonymous" defer="defer" integrity="sha512-TGnbT/6B5dxVwEk7iOlwSY9mfqhfq8m05ec+KjdlfEwoieq73iBeyidClQUSmFa2snukwzF9peY8c7FJf9FARA==" type="application/javascript" data-module-id="./chunk-emoji-picker-element.js" data-src="https://github.githubassets.com/assets/chunk-emoji-picker-element-4c69db4f.js"></script>
    <script crossorigin="anonymous" defer="defer" integrity="sha512-NwYkwzxETzKUYRXumHDsBIuggkh86KmJ1WrwWZW5wTvVPf047+wOmOHI5b4D65bfdtd3WbXJ7k+3ZWoxpIaqcA==" type="application/javascript" data-module-id="./chunk-insights-graph.js" data-src="https://github.githubassets.com/assets/chunk-insights-graph-370624c3.js"></script>
    <script crossorigin="anonymous" defer="defer" integrity="sha512-o7Wgi+lb9ce+9dvjWvB30ar51Bw0wcGhFZfQIzNGZfJ/7GZwYxVCsqgA4Q2o8yRq1QDUL1G1NxR0/3o9FoQ9JQ==" type="application/javascript" data-module-id="./chunk-jump-to.js" data-src="https://github.githubassets.com/assets/chunk-jump-to-a3b5a08b.js"></script>
    <script crossorigin="anonymous" defer="defer" integrity="sha512-tcH4xCRuMBAh1PruDaiwGnRIbHlF6bGLhxyCQ16uqok1cV5QFMguVPWJtN9KI0jGQOgN+Pha3+uOUXhXdfK/qw==" type="application/javascript" data-module-id="./chunk-profile-pins-element.js" data-src="https://github.githubassets.com/assets/chunk-profile-pins-element-b5c1f8c4.js"></script>
    <script crossorigin="anonymous" defer="defer" integrity="sha512-E+H+wAtjiqutBvn2cnXzDIvmasIhYiS7i7JzOfFUwo+Ej8zT54OrJtP//RhwixnypgOpCF4JvqzYy6zOtORDmg==" type="application/javascript" data-module-id="./chunk-runner-groups.js" data-src="https://github.githubassets.com/assets/chunk-runner-groups-13e1fec0.js"></script>
    <script crossorigin="anonymous" defer="defer" integrity="sha512-U+Pp1bYuA3fRqhike5Go//O/vsExaZLz00lrIby+rZ88yf03nQHz3wLZR9paWkakpD7TH5nS6AUpabCc7OFWpg==" type="application/javascript" data-module-id="./chunk-sortable-behavior.js" data-src="https://github.githubassets.com/assets/chunk-sortable-behavior-53e3e9d5.js"></script>
    <script crossorigin="anonymous" defer="defer" integrity="sha512-QBwrFY4kzAVN0nZmTYJLeEhi5bQ+42rE8h1g384XeZb7n62BykcUICACtaDQ473aIrRf38RSR7WDfNEIVuSlTA==" type="application/javascript" data-module-id="./chunk-tweetsodium.js" data-src="https://github.githubassets.com/assets/chunk-tweetsodium-401c2b15.js"></script>
    <script crossorigin="anonymous" defer="defer" integrity="sha512-su8FOuJFv0H16y8vmT+N3HiFpDQnHKiLz/UEdGxlCfgwnKBy202gaBmkcBpqXigRg+A8pMDXcSPIWSEW+IIKvQ==" type="application/javascript" data-module-id="./chunk-user-status-submit.js" data-src="https://github.githubassets.com/assets/chunk-user-status-submit-b2ef053a.js"></script>
  
  <script crossorigin="anonymous" defer="defer" integrity="sha512-ErMq1uty6eCwzrAQeYz8lUzm7jvz+wMlEWmBsxzKRaVKOXKaaq2rCt9iKxrnljKSqcJIbpUZqKIbOCmMdjX5Mw==" type="application/javascript" src="https://github.githubassets.com/assets/repositories-12b32ad6.js"></script>
<script crossorigin="anonymous" defer="defer" integrity="sha512-Ahh1vGV9jX7qzPdC1tA1y6PaLV9AbDPSlt2q8C7SUVVKTgoB5vDsUrKvaGh7Gj2Tv594XRcr0LjJdKA8HmL8iQ==" type="application/javascript" src="https://github.githubassets.com/assets/diffs-021875bc.js"></script>

  <meta name="viewport" content="width=device-width">
  
  <title>FisicaComputacional1/\Actividad3\Actividad3.ipynb at main · HumbertoMezaRuiz/FisicaComputacional1</title>
    <meta name="description" content="Contribute to HumbertoMezaRuiz/FisicaComputacional1 development by creating an account on GitHub.">
    <link rel="search" type="application/opensearchdescription+xml" href="/opensearch.xml" title="GitHub">
  <link rel="fluid-icon" href="https://github.com/fluidicon.png" title="GitHub">
  <meta property="fb:app_id" content="1401488693436528">
  <meta name="apple-itunes-app" content="app-id=1477376905" />
    <meta name="twitter:image:src" content="https://avatars.githubusercontent.com/u/77270156?s=400&amp;v=4" /><meta name="twitter:site" content="@github" /><meta name="twitter:card" content="summary" /><meta name="twitter:title" content="HumbertoMezaRuiz/FisicaComputacional1" /><meta name="twitter:description" content="Contribute to HumbertoMezaRuiz/FisicaComputacional1 development by creating an account on GitHub." />
    <meta property="og:image" content="https://avatars.githubusercontent.com/u/77270156?s=400&amp;v=4" /><meta property="og:site_name" content="GitHub" /><meta property="og:type" content="object" /><meta property="og:title" content="HumbertoMezaRuiz/FisicaComputacional1" /><meta property="og:url" content="https://github.com/HumbertoMezaRuiz/FisicaComputacional1" /><meta property="og:description" content="Contribute to HumbertoMezaRuiz/FisicaComputacional1 development by creating an account on GitHub." />



    

  <link rel="assets" href="https://github.githubassets.com/">
    <link rel="shared-web-socket" href="wss://alive.github.com/_sockets/u/77270156/ws?session=eyJ2IjoiVjMiLCJ1Ijo3NzI3MDE1NiwicyI6NjMyNzUyMTg5LCJjIjo0MDE3MTE0LCJ0IjoxNjExNzc2NTc1fQ==--c3431dbd4612f0093b76899107cd444f9603256bbd687f4b6636e0461533babf" data-refresh-url="/_alive">
    <link rel="shared-web-socket-src" href="/socket-worker-5029ae85.js">
  <link rel="sudo-modal" href="/sessions/sudo_modal">

  <meta name="request-id" content="7EA9:7F5F:2259FF2:35AC3DB:6011C238" data-pjax-transient="true" /><meta name="html-safe-nonce" content="70e1644cb265d08fd720a80ca3568f274b1ae31609af171f85f6553205b5f837" data-pjax-transient="true" /><meta name="visitor-payload" content="eyJyZWZlcnJlciI6Imh0dHBzOi8vZ2l0aHViLmNvbS9IdW1iZXJ0b01lemFSdWl6L0Zpc2ljYUNvbXB1dGFjaW9uYWwxL2Jsb2IvbWFpbi8lNUNBY3RpdmlkYWQzJTVDQWN0aXZpZGFkMy5pcHluYiIsInJlcXVlc3RfaWQiOiI3RUE5OjdGNUY6MjI1OUZGMjozNUFDM0RCOjYwMTFDMjM4IiwidmlzaXRvcl9pZCI6IjczMjYzMjM3MDcyNDcwNzQwNDYiLCJyZWdpb25fZWRnZSI6ImlhZCIsInJlZ2lvbl9yZW5kZXIiOiJpYWQifQ==" data-pjax-transient="true" /><meta name="visitor-hmac" content="71badce572611368d801d4417a2790e20ff818229bb16733828fc6b646cdd753" data-pjax-transient="true" />

    <meta name="hovercard-subject-tag" content="repository:328614868" data-pjax-transient>


  <meta name="github-keyboard-shortcuts" content="repository" data-pjax-transient="true" />

  

  <meta name="selected-link" value="repo_source" data-pjax-transient>

    <meta name="google-site-verification" content="c1kuD-K2HIVF635lypcsWPoD4kilo5-jA_wBFyT4uMY">
  <meta name="google-site-verification" content="KT5gs8h0wvaagLKAVWq8bbeNwnZZK1r1XQysX3xurLU">
  <meta name="google-site-verification" content="ZzhVyEFwb7w3e0-uOTltm8Jsck2F5StVihD0exw2fsA">
  <meta name="google-site-verification" content="GXs5KoUUkNCoaAZn7wPN-t01Pywp9M3sEjnt_3_ZWPc">

  <meta name="octolytics-host" content="collector.githubapp.com" /><meta name="octolytics-app-id" content="github" /><meta name="octolytics-event-url" content="https://collector.githubapp.com/github-external/browser_event" /><meta name="octolytics-actor-id" content="77270156" /><meta name="octolytics-actor-login" content="HumbertoMezaRuiz" /><meta name="octolytics-actor-hash" content="a1967d8825c900512223291fb0e9ea2f6e75c6265f277e1d59d663d59fd417ae" />

  <meta name="analytics-location" content="/&lt;user-name&gt;/&lt;repo-name&gt;/blob/blame" data-pjax-transient="true" />

  






  

      <meta name="hostname" content="github.com">
    <meta name="user-login" content="HumbertoMezaRuiz">


      <meta name="expected-hostname" content="github.com">

      <meta name="js-proxy-site-detection-payload" content="NDExZjkyMWQ0OTg1ODU3OTY1MWI5ZGE3ZDE3NzBhYjQ5YTkyZTZjZGI4NmEwODRkNzMwYTUyOTJmMjQwZTZhM3x7InJlbW90ZV9hZGRyZXNzIjoiMTc3LjI0NS4xMDMuNTgiLCJyZXF1ZXN0X2lkIjoiN0VBOTo3RjVGOjIyNTlGRjI6MzVBQzNEQjo2MDExQzIzOCIsInRpbWVzdGFtcCI6MTYxMTc3NjU3NSwiaG9zdCI6ImdpdGh1Yi5jb20ifQ==">

    <meta name="enabled-features" content="MARKETPLACE_PENDING_INSTALLATIONS,JS_HTTP_CACHE_HEADERS,ACTIONS_SHORT_SHA_WARNING,TASK_LIST_AUTOCOMPLETE,MULTI_WORD_SUGGESTER">

  <meta http-equiv="x-pjax-version" content="c7df87ab409ba9c4de45993d3aae8e06c3ff88d02042db3b9f6dd9015418c17a">
  

        <link href="https://github.com/HumbertoMezaRuiz/FisicaComputacional1/commits/main.atom" rel="alternate" title="Recent Commits to FisicaComputacional1:main" type="application/atom+xml">

  <meta name="go-import" content="github.com/HumbertoMezaRuiz/FisicaComputacional1 git https://github.com/HumbertoMezaRuiz/FisicaComputacional1.git">

  <meta name="octolytics-dimension-user_id" content="77270156" /><meta name="octolytics-dimension-user_login" content="HumbertoMezaRuiz" /><meta name="octolytics-dimension-repository_id" content="328614868" /><meta name="octolytics-dimension-repository_nwo" content="HumbertoMezaRuiz/FisicaComputacional1" /><meta name="octolytics-dimension-repository_public" content="true" /><meta name="octolytics-dimension-repository_is_fork" content="false" /><meta name="octolytics-dimension-repository_network_root_id" content="328614868" /><meta name="octolytics-dimension-repository_network_root_nwo" content="HumbertoMezaRuiz/FisicaComputacional1" />





  <meta name="browser-stats-url" content="https://api.github.com/_private/browser/stats">

  <meta name="browser-errors-url" content="https://api.github.com/_private/browser/errors">

  <meta name="browser-optimizely-client-errors-url" content="https://api.github.com/_private/browser/optimizely_client/errors">

  <link rel="mask-icon" href="https://github.githubassets.com/pinned-octocat.svg" color="#000000">
  <link rel="alternate icon" class="js-site-favicon" type="image/png" href="https://github.githubassets.com/favicons/favicon.png">
  <link rel="icon" class="js-site-favicon" type="image/svg+xml" href="https://github.githubassets.com/favicons/favicon.svg">

<meta name="theme-color" content="#1e2327">
    <meta name="color-scheme" content="light dark">


  <link rel="manifest" href="/manifest.json" crossOrigin="use-credentials">

  </head>

  <body class="logged-in env-production page-responsive full-width">
    

    <div class="position-relative js-header-wrapper ">
      <a href="#start-of-content" class="p-3 bg-blue text-white show-on-focus js-skip-to-content">Skip to content</a>
      <span class="progress-pjax-loader width-full js-pjax-loader-bar Progress position-fixed">
    <span style="background-color: #79b8ff;width: 0%;" class="Progress-item progress-pjax-loader-bar "></span>
</span>      
      


            <header class="Header js-details-container Details px-3 px-md-4 px-lg-5 flex-wrap flex-md-nowrap" role="banner" >
    <div class="Header-item mt-n1 mb-n1  d-none d-md-flex">
      <a class="Header-link " href="https://github.com/" data-hotkey="g d"
  aria-label="Homepage " data-ga-click="Header, go to dashboard, icon:logo">
  <svg class="octicon octicon-mark-github v-align-middle" height="32" viewBox="0 0 16 16" version="1.1" width="32" aria-hidden="true"><path fill-rule="evenodd" d="M8 0C3.58 0 0 3.58 0 8c0 3.54 2.29 6.53 5.47 7.59.4.07.55-.17.55-.38 0-.19-.01-.82-.01-1.49-2.01.37-2.53-.49-2.69-.94-.09-.23-.48-.94-.82-1.13-.28-.15-.68-.52-.01-.53.63-.01 1.08.58 1.23.82.72 1.21 1.87.87 2.33.66.07-.52.28-.87.51-1.07-1.78-.2-3.64-.89-3.64-3.95 0-.87.31-1.59.82-2.15-.08-.2-.36-1.02.08-2.12 0 0 .67-.21 2.2.82.64-.18 1.32-.27 2-.27.68 0 1.36.09 2 .27 1.53-1.04 2.2-.82 2.2-.82.44 1.1.16 1.92.08 2.12.51.56.82 1.27.82 2.15 0 3.07-1.87 3.75-3.65 3.95.29.25.54.73.54 1.48 0 1.07-.01 1.93-.01 2.2 0 .21.15.46.55.38A8.013 8.013 0 0016 8c0-4.42-3.58-8-8-8z"></path></svg>
</a>

    </div>

    <div class="Header-item d-md-none">
      <button class="Header-link btn-link js-details-target" type="button" aria-label="Toggle navigation" aria-expanded="false">
        <svg height="24" class="octicon octicon-three-bars" viewBox="0 0 16 16" version="1.1" width="24" aria-hidden="true"><path fill-rule="evenodd" d="M1 2.75A.75.75 0 011.75 2h12.5a.75.75 0 110 1.5H1.75A.75.75 0 011 2.75zm0 5A.75.75 0 011.75 7h12.5a.75.75 0 110 1.5H1.75A.75.75 0 011 7.75zM1.75 12a.75.75 0 100 1.5h12.5a.75.75 0 100-1.5H1.75z"></path></svg>
      </button>
    </div>

    <div class="Header-item Header-item--full flex-column flex-md-row width-full flex-order-2 flex-md-order-none mr-0 mr-md-3 mt-3 mt-md-0 Details-content--hidden-not-important d-md-flex">
          <div class="header-search flex-auto js-site-search position-relative flex-self-stretch flex-md-self-auto mb-3 mb-md-0 mr-0 mr-md-3 scoped-search site-scoped-search js-jump-to"
  role="combobox"
  aria-owns="jump-to-results"
  aria-label="Search or jump to"
  aria-haspopup="listbox"
  aria-expanded="false"
>
  <div class="position-relative">
    <!-- '"` --><!-- </textarea></xmp> --></option></form><form class="js-site-search-form" role="search" aria-label="Site" data-scope-type="Repository" data-scope-id="328614868" data-scoped-search-url="/HumbertoMezaRuiz/FisicaComputacional1/search" data-owner-scoped-search-url="/users/HumbertoMezaRuiz/search" data-unscoped-search-url="/search" action="/HumbertoMezaRuiz/FisicaComputacional1/search" accept-charset="UTF-8" method="get">
      <label class="form-control input-sm header-search-wrapper p-0 js-chromeless-input-container header-search-wrapper-jump-to position-relative d-flex flex-justify-between flex-items-center">
        <input type="text"
          class="form-control input-sm header-search-input jump-to-field js-jump-to-field js-site-search-focus js-site-search-field is-clearable"
          data-hotkey="s,/"
          name="q"
          value=""
          placeholder="Search or jump to…"
          data-unscoped-placeholder="Search or jump to…"
          data-scoped-placeholder="Search or jump to…"
          autocapitalize="off"
          aria-autocomplete="list"
          aria-controls="jump-to-results"
          aria-label="Search or jump to…"
          data-jump-to-suggestions-path="/_graphql/GetSuggestedNavigationDestinations"
          spellcheck="false"
          autocomplete="off"
          >
          <input type="hidden" value="TyAFC1AmmCpG4jK9ITIoAhkc4rIpZADl+3fH/tSQBGWp2e9mUI9Y04GsNs+WSo8cmc5ASPXLIFNqbGAdIdOewQ==" data-csrf="true" class="js-data-jump-to-suggestions-path-csrf" />
          <input type="hidden" class="js-site-search-type-field" name="type" >
            <img src="https://github.githubassets.com/images/search-key-slash.svg" alt="" class="mr-2 header-search-key-slash">

            <div class="Box position-absolute overflow-hidden d-none jump-to-suggestions js-jump-to-suggestions-container">
              
<ul class="d-none js-jump-to-suggestions-template-container">
  

<li class="d-flex flex-justify-start flex-items-center p-0 f5 navigation-item js-navigation-item js-jump-to-suggestion" role="option">
  <a tabindex="-1" class="no-underline d-flex flex-auto flex-items-center jump-to-suggestions-path js-jump-to-suggestion-path js-navigation-open p-2" href="" data-item-type="suggestion">
    <div class="jump-to-octicon js-jump-to-octicon flex-shrink-0 mr-2 text-center d-none">
      <svg height="16" width="16" class="octicon octicon-repo flex-shrink-0 js-jump-to-octicon-repo d-none" title="Repository" aria-label="Repository" viewBox="0 0 16 16" version="1.1" role="img"><path fill-rule="evenodd" d="M2 2.5A2.5 2.5 0 014.5 0h8.75a.75.75 0 01.75.75v12.5a.75.75 0 01-.75.75h-2.5a.75.75 0 110-1.5h1.75v-2h-8a1 1 0 00-.714 1.7.75.75 0 01-1.072 1.05A2.495 2.495 0 012 11.5v-9zm10.5-1V9h-8c-.356 0-.694.074-1 .208V2.5a1 1 0 011-1h8zM5 12.25v3.25a.25.25 0 00.4.2l1.45-1.087a.25.25 0 01.3 0L8.6 15.7a.25.25 0 00.4-.2v-3.25a.25.25 0 00-.25-.25h-3.5a.25.25 0 00-.25.25z"></path></svg>
      <svg height="16" width="16" class="octicon octicon-project flex-shrink-0 js-jump-to-octicon-project d-none" title="Project" aria-label="Project" viewBox="0 0 16 16" version="1.1" role="img"><path fill-rule="evenodd" d="M1.75 0A1.75 1.75 0 000 1.75v12.5C0 15.216.784 16 1.75 16h12.5A1.75 1.75 0 0016 14.25V1.75A1.75 1.75 0 0014.25 0H1.75zM1.5 1.75a.25.25 0 01.25-.25h12.5a.25.25 0 01.25.25v12.5a.25.25 0 01-.25.25H1.75a.25.25 0 01-.25-.25V1.75zM11.75 3a.75.75 0 00-.75.75v7.5a.75.75 0 001.5 0v-7.5a.75.75 0 00-.75-.75zm-8.25.75a.75.75 0 011.5 0v5.5a.75.75 0 01-1.5 0v-5.5zM8 3a.75.75 0 00-.75.75v3.5a.75.75 0 001.5 0v-3.5A.75.75 0 008 3z"></path></svg>
      <svg height="16" width="16" class="octicon octicon-search flex-shrink-0 js-jump-to-octicon-search d-none" title="Search" aria-label="Search" viewBox="0 0 16 16" version="1.1" role="img"><path fill-rule="evenodd" d="M11.5 7a4.499 4.499 0 11-8.998 0A4.499 4.499 0 0111.5 7zm-.82 4.74a6 6 0 111.06-1.06l3.04 3.04a.75.75 0 11-1.06 1.06l-3.04-3.04z"></path></svg>
    </div>

    <img class="avatar mr-2 flex-shrink-0 js-jump-to-suggestion-avatar d-none" alt="" aria-label="Team" src="" width="28" height="28">

    <div class="jump-to-suggestion-name js-jump-to-suggestion-name flex-auto overflow-hidden text-left no-wrap css-truncate css-truncate-target">
    </div>

    <div class="border rounded-1 flex-shrink-0 bg-gray px-1 text-gray-light ml-1 f6 d-none js-jump-to-badge-search">
      <span class="js-jump-to-badge-search-text-default d-none" aria-label="in this repository">
        In this repository
      </span>
      <span class="js-jump-to-badge-search-text-global d-none" aria-label="in all of GitHub">
        All GitHub
      </span>
      <span aria-hidden="true" class="d-inline-block ml-1 v-align-middle">↵</span>
    </div>

    <div aria-hidden="true" class="border rounded-1 flex-shrink-0 bg-gray px-1 text-gray-light ml-1 f6 d-none d-on-nav-focus js-jump-to-badge-jump">
      Jump to
      <span class="d-inline-block ml-1 v-align-middle">↵</span>
    </div>
  </a>
</li>

</ul>

<ul class="d-none js-jump-to-no-results-template-container">
  <li class="d-flex flex-justify-center flex-items-center f5 d-none js-jump-to-suggestion p-2">
    <span class="text-gray">No suggested jump to results</span>
  </li>
</ul>

<ul id="jump-to-results" role="listbox" class="p-0 m-0 js-navigation-container jump-to-suggestions-results-container js-jump-to-suggestions-results-container">
  

<li class="d-flex flex-justify-start flex-items-center p-0 f5 navigation-item js-navigation-item js-jump-to-scoped-search d-none" role="option">
  <a tabindex="-1" class="no-underline d-flex flex-auto flex-items-center jump-to-suggestions-path js-jump-to-suggestion-path js-navigation-open p-2" href="" data-item-type="scoped_search">
    <div class="jump-to-octicon js-jump-to-octicon flex-shrink-0 mr-2 text-center d-none">
      <svg height="16" width="16" class="octicon octicon-repo flex-shrink-0 js-jump-to-octicon-repo d-none" title="Repository" aria-label="Repository" viewBox="0 0 16 16" version="1.1" role="img"><path fill-rule="evenodd" d="M2 2.5A2.5 2.5 0 014.5 0h8.75a.75.75 0 01.75.75v12.5a.75.75 0 01-.75.75h-2.5a.75.75 0 110-1.5h1.75v-2h-8a1 1 0 00-.714 1.7.75.75 0 01-1.072 1.05A2.495 2.495 0 012 11.5v-9zm10.5-1V9h-8c-.356 0-.694.074-1 .208V2.5a1 1 0 011-1h8zM5 12.25v3.25a.25.25 0 00.4.2l1.45-1.087a.25.25 0 01.3 0L8.6 15.7a.25.25 0 00.4-.2v-3.25a.25.25 0 00-.25-.25h-3.5a.25.25 0 00-.25.25z"></path></svg>
      <svg height="16" width="16" class="octicon octicon-project flex-shrink-0 js-jump-to-octicon-project d-none" title="Project" aria-label="Project" viewBox="0 0 16 16" version="1.1" role="img"><path fill-rule="evenodd" d="M1.75 0A1.75 1.75 0 000 1.75v12.5C0 15.216.784 16 1.75 16h12.5A1.75 1.75 0 0016 14.25V1.75A1.75 1.75 0 0014.25 0H1.75zM1.5 1.75a.25.25 0 01.25-.25h12.5a.25.25 0 01.25.25v12.5a.25.25 0 01-.25.25H1.75a.25.25 0 01-.25-.25V1.75zM11.75 3a.75.75 0 00-.75.75v7.5a.75.75 0 001.5 0v-7.5a.75.75 0 00-.75-.75zm-8.25.75a.75.75 0 011.5 0v5.5a.75.75 0 01-1.5 0v-5.5zM8 3a.75.75 0 00-.75.75v3.5a.75.75 0 001.5 0v-3.5A.75.75 0 008 3z"></path></svg>
      <svg height="16" width="16" class="octicon octicon-search flex-shrink-0 js-jump-to-octicon-search d-none" title="Search" aria-label="Search" viewBox="0 0 16 16" version="1.1" role="img"><path fill-rule="evenodd" d="M11.5 7a4.499 4.499 0 11-8.998 0A4.499 4.499 0 0111.5 7zm-.82 4.74a6 6 0 111.06-1.06l3.04 3.04a.75.75 0 11-1.06 1.06l-3.04-3.04z"></path></svg>
    </div>

    <img class="avatar mr-2 flex-shrink-0 js-jump-to-suggestion-avatar d-none" alt="" aria-label="Team" src="" width="28" height="28">

    <div class="jump-to-suggestion-name js-jump-to-suggestion-name flex-auto overflow-hidden text-left no-wrap css-truncate css-truncate-target">
    </div>

    <div class="border rounded-1 flex-shrink-0 bg-gray px-1 text-gray-light ml-1 f6 d-none js-jump-to-badge-search">
      <span class="js-jump-to-badge-search-text-default d-none" aria-label="in this repository">
        In this repository
      </span>
      <span class="js-jump-to-badge-search-text-global d-none" aria-label="in all of GitHub">
        All GitHub
      </span>
      <span aria-hidden="true" class="d-inline-block ml-1 v-align-middle">↵</span>
    </div>

    <div aria-hidden="true" class="border rounded-1 flex-shrink-0 bg-gray px-1 text-gray-light ml-1 f6 d-none d-on-nav-focus js-jump-to-badge-jump">
      Jump to
      <span class="d-inline-block ml-1 v-align-middle">↵</span>
    </div>
  </a>
</li>

  

<li class="d-flex flex-justify-start flex-items-center p-0 f5 navigation-item js-navigation-item js-jump-to-owner-scoped-search d-none" role="option">
  <a tabindex="-1" class="no-underline d-flex flex-auto flex-items-center jump-to-suggestions-path js-jump-to-suggestion-path js-navigation-open p-2" href="" data-item-type="owner_scoped_search">
    <div class="jump-to-octicon js-jump-to-octicon flex-shrink-0 mr-2 text-center d-none">
      <svg height="16" width="16" class="octicon octicon-repo flex-shrink-0 js-jump-to-octicon-repo d-none" title="Repository" aria-label="Repository" viewBox="0 0 16 16" version="1.1" role="img"><path fill-rule="evenodd" d="M2 2.5A2.5 2.5 0 014.5 0h8.75a.75.75 0 01.75.75v12.5a.75.75 0 01-.75.75h-2.5a.75.75 0 110-1.5h1.75v-2h-8a1 1 0 00-.714 1.7.75.75 0 01-1.072 1.05A2.495 2.495 0 012 11.5v-9zm10.5-1V9h-8c-.356 0-.694.074-1 .208V2.5a1 1 0 011-1h8zM5 12.25v3.25a.25.25 0 00.4.2l1.45-1.087a.25.25 0 01.3 0L8.6 15.7a.25.25 0 00.4-.2v-3.25a.25.25 0 00-.25-.25h-3.5a.25.25 0 00-.25.25z"></path></svg>
      <svg height="16" width="16" class="octicon octicon-project flex-shrink-0 js-jump-to-octicon-project d-none" title="Project" aria-label="Project" viewBox="0 0 16 16" version="1.1" role="img"><path fill-rule="evenodd" d="M1.75 0A1.75 1.75 0 000 1.75v12.5C0 15.216.784 16 1.75 16h12.5A1.75 1.75 0 0016 14.25V1.75A1.75 1.75 0 0014.25 0H1.75zM1.5 1.75a.25.25 0 01.25-.25h12.5a.25.25 0 01.25.25v12.5a.25.25 0 01-.25.25H1.75a.25.25 0 01-.25-.25V1.75zM11.75 3a.75.75 0 00-.75.75v7.5a.75.75 0 001.5 0v-7.5a.75.75 0 00-.75-.75zm-8.25.75a.75.75 0 011.5 0v5.5a.75.75 0 01-1.5 0v-5.5zM8 3a.75.75 0 00-.75.75v3.5a.75.75 0 001.5 0v-3.5A.75.75 0 008 3z"></path></svg>
      <svg height="16" width="16" class="octicon octicon-search flex-shrink-0 js-jump-to-octicon-search d-none" title="Search" aria-label="Search" viewBox="0 0 16 16" version="1.1" role="img"><path fill-rule="evenodd" d="M11.5 7a4.499 4.499 0 11-8.998 0A4.499 4.499 0 0111.5 7zm-.82 4.74a6 6 0 111.06-1.06l3.04 3.04a.75.75 0 11-1.06 1.06l-3.04-3.04z"></path></svg>
    </div>

    <img class="avatar mr-2 flex-shrink-0 js-jump-to-suggestion-avatar d-none" alt="" aria-label="Team" src="" width="28" height="28">

    <div class="jump-to-suggestion-name js-jump-to-suggestion-name flex-auto overflow-hidden text-left no-wrap css-truncate css-truncate-target">
    </div>

    <div class="border rounded-1 flex-shrink-0 bg-gray px-1 text-gray-light ml-1 f6 d-none js-jump-to-badge-search">
      <span class="js-jump-to-badge-search-text-default d-none" aria-label="in this user">
        In this user
      </span>
      <span class="js-jump-to-badge-search-text-global d-none" aria-label="in all of GitHub">
        All GitHub
      </span>
      <span aria-hidden="true" class="d-inline-block ml-1 v-align-middle">↵</span>
    </div>

    <div aria-hidden="true" class="border rounded-1 flex-shrink-0 bg-gray px-1 text-gray-light ml-1 f6 d-none d-on-nav-focus js-jump-to-badge-jump">
      Jump to
      <span class="d-inline-block ml-1 v-align-middle">↵</span>
    </div>
  </a>
</li>

  

<li class="d-flex flex-justify-start flex-items-center p-0 f5 navigation-item js-navigation-item js-jump-to-global-search d-none" role="option">
  <a tabindex="-1" class="no-underline d-flex flex-auto flex-items-center jump-to-suggestions-path js-jump-to-suggestion-path js-navigation-open p-2" href="" data-item-type="global_search">
    <div class="jump-to-octicon js-jump-to-octicon flex-shrink-0 mr-2 text-center d-none">
      <svg height="16" width="16" class="octicon octicon-repo flex-shrink-0 js-jump-to-octicon-repo d-none" title="Repository" aria-label="Repository" viewBox="0 0 16 16" version="1.1" role="img"><path fill-rule="evenodd" d="M2 2.5A2.5 2.5 0 014.5 0h8.75a.75.75 0 01.75.75v12.5a.75.75 0 01-.75.75h-2.5a.75.75 0 110-1.5h1.75v-2h-8a1 1 0 00-.714 1.7.75.75 0 01-1.072 1.05A2.495 2.495 0 012 11.5v-9zm10.5-1V9h-8c-.356 0-.694.074-1 .208V2.5a1 1 0 011-1h8zM5 12.25v3.25a.25.25 0 00.4.2l1.45-1.087a.25.25 0 01.3 0L8.6 15.7a.25.25 0 00.4-.2v-3.25a.25.25 0 00-.25-.25h-3.5a.25.25 0 00-.25.25z"></path></svg>
      <svg height="16" width="16" class="octicon octicon-project flex-shrink-0 js-jump-to-octicon-project d-none" title="Project" aria-label="Project" viewBox="0 0 16 16" version="1.1" role="img"><path fill-rule="evenodd" d="M1.75 0A1.75 1.75 0 000 1.75v12.5C0 15.216.784 16 1.75 16h12.5A1.75 1.75 0 0016 14.25V1.75A1.75 1.75 0 0014.25 0H1.75zM1.5 1.75a.25.25 0 01.25-.25h12.5a.25.25 0 01.25.25v12.5a.25.25 0 01-.25.25H1.75a.25.25 0 01-.25-.25V1.75zM11.75 3a.75.75 0 00-.75.75v7.5a.75.75 0 001.5 0v-7.5a.75.75 0 00-.75-.75zm-8.25.75a.75.75 0 011.5 0v5.5a.75.75 0 01-1.5 0v-5.5zM8 3a.75.75 0 00-.75.75v3.5a.75.75 0 001.5 0v-3.5A.75.75 0 008 3z"></path></svg>
      <svg height="16" width="16" class="octicon octicon-search flex-shrink-0 js-jump-to-octicon-search d-none" title="Search" aria-label="Search" viewBox="0 0 16 16" version="1.1" role="img"><path fill-rule="evenodd" d="M11.5 7a4.499 4.499 0 11-8.998 0A4.499 4.499 0 0111.5 7zm-.82 4.74a6 6 0 111.06-1.06l3.04 3.04a.75.75 0 11-1.06 1.06l-3.04-3.04z"></path></svg>
    </div>

    <img class="avatar mr-2 flex-shrink-0 js-jump-to-suggestion-avatar d-none" alt="" aria-label="Team" src="" width="28" height="28">

    <div class="jump-to-suggestion-name js-jump-to-suggestion-name flex-auto overflow-hidden text-left no-wrap css-truncate css-truncate-target">
    </div>

    <div class="border rounded-1 flex-shrink-0 bg-gray px-1 text-gray-light ml-1 f6 d-none js-jump-to-badge-search">
      <span class="js-jump-to-badge-search-text-default d-none" aria-label="in this repository">
        In this repository
      </span>
      <span class="js-jump-to-badge-search-text-global d-none" aria-label="in all of GitHub">
        All GitHub
      </span>
      <span aria-hidden="true" class="d-inline-block ml-1 v-align-middle">↵</span>
    </div>

    <div aria-hidden="true" class="border rounded-1 flex-shrink-0 bg-gray px-1 text-gray-light ml-1 f6 d-none d-on-nav-focus js-jump-to-badge-jump">
      Jump to
      <span class="d-inline-block ml-1 v-align-middle">↵</span>
    </div>
  </a>
</li>


    <li class="d-flex flex-justify-center flex-items-center p-0 f5 js-jump-to-suggestion">
      <svg viewBox="0 0 16 16" fill="none" style="box-sizing: content-box; color: var(--color-icon-primary);" class="m-3" width="32" height="32">
  <circle cx="8" cy="8" r="7" stroke="currentColor" stroke-opacity="0.25" stroke-width="2" vector-effect="non-scaling-stroke" />
  <path d="M15 8a7.002 7.002 0 00-7-7" stroke="currentColor" stroke-width="2" stroke-linecap="round" vector-effect="non-scaling-stroke">
    <animateTransform attributeName="transform" type="rotate" from="0 8 8" to="360 8 8" dur="1s" repeatCount="indefinite" />
  </path>
</svg>
    </li>
</ul>

            </div>
      </label>
</form>  </div>
</div>

        <nav class="d-flex flex-column flex-md-row flex-self-stretch flex-md-self-auto" aria-label="Global">
      <a class="Header-link py-md-3 d-block d-md-none py-2 border-top border-md-top-0 border-white-fade-15" data-ga-click="Header, click, Nav menu - item:dashboard:user" aria-label="Dashboard" href="/dashboard">
        Dashboard
</a>
    <a class="js-selected-navigation-item Header-link mt-md-n3 mb-md-n3 py-2 py-md-3 mr-0 mr-md-3 border-top border-md-top-0 border-white-fade-15" data-hotkey="g p" data-ga-click="Header, click, Nav menu - item:pulls context:user" aria-label="Pull requests you created" data-selected-links="/pulls /pulls/assigned /pulls/mentioned /pulls" href="/pulls">
        Pull<span class="d-inline d-md-none d-lg-inline"> request</span>s
</a>
    <a class="js-selected-navigation-item Header-link mt-md-n3 mb-md-n3 py-2 py-md-3 mr-0 mr-md-3 border-top border-md-top-0 border-white-fade-15" data-hotkey="g i" data-ga-click="Header, click, Nav menu - item:issues context:user" aria-label="Issues you created" data-selected-links="/issues /issues/assigned /issues/mentioned /issues" href="/issues">
      Issues
</a>

      <div class="d-flex position-relative">
        <a class="js-selected-navigation-item Header-link flex-auto mt-md-n3 mb-md-n3 py-2 py-md-3 mr-0 mr-md-3 border-top border-md-top-0 border-white-fade-15" data-ga-click="Header, click, Nav menu - item:marketplace context:user" data-octo-click="marketplace_click" data-octo-dimensions="location:nav_bar" data-selected-links=" /marketplace" href="/marketplace">
          Marketplace
</a>      </div>

    <a class="js-selected-navigation-item Header-link mt-md-n3 mb-md-n3 py-2 py-md-3 mr-0 mr-md-3 border-top border-md-top-0 border-white-fade-15" data-ga-click="Header, click, Nav menu - item:explore" data-selected-links="/explore /trending /trending/developers /integrations /integrations/feature/code /integrations/feature/collaborate /integrations/feature/ship showcases showcases_search showcases_landing /explore" href="/explore">
      Explore
</a>



    <a class="Header-link d-block d-md-none mr-0 mr-md-3 py-2 py-md-3 border-top border-md-top-0 border-white-fade-15" href="/settings/profile">
      Settings
</a>
    <a class="Header-link d-block d-md-none mr-0 mr-md-3 py-2 py-md-3 border-top border-md-top-0 border-white-fade-15" href="/HumbertoMezaRuiz">
      <img class="avatar avatar-user" src="https://avatars.githubusercontent.com/u/77270156?s=40&amp;v=4" width="20" height="20" alt="@HumbertoMezaRuiz" />
      HumbertoMezaRuiz
</a>
    <!-- '"` --><!-- </textarea></xmp> --></option></form><form action="/logout" accept-charset="UTF-8" method="post"><input type="hidden" name="authenticity_token" value="6VdIDWQV78CweRdYJEb9Xiy8QvRlK7jdcyi4C4a/JjkSLE7S3M1HRJADHcj1/2WYd5UORXP9CiBzoKrBj/wHTw==" />
      <button type="submit" class="Header-link mr-0 mr-md-3 py-2 py-md-3 border-top border-md-top-0 border-white-fade-15 d-md-none btn-link d-block width-full text-left" data-ga-click="Header, sign out, icon:logout" style="padding-left: 2px;">
        <svg class="octicon octicon-sign-out v-align-middle" viewBox="0 0 16 16" version="1.1" width="16" height="16" aria-hidden="true"><path fill-rule="evenodd" d="M2 2.75C2 1.784 2.784 1 3.75 1h2.5a.75.75 0 010 1.5h-2.5a.25.25 0 00-.25.25v10.5c0 .138.112.25.25.25h2.5a.75.75 0 010 1.5h-2.5A1.75 1.75 0 012 13.25V2.75zm10.44 4.5H6.75a.75.75 0 000 1.5h5.69l-1.97 1.97a.75.75 0 101.06 1.06l3.25-3.25a.75.75 0 000-1.06l-3.25-3.25a.75.75 0 10-1.06 1.06l1.97 1.97z"></path></svg>
        Sign out
      </button>
</form></nav>

    </div>

    <div class="Header-item Header-item--full flex-justify-center d-md-none position-relative">
        <a class="Header-link " href="https://github.com/" data-hotkey="g d"
  aria-label="Homepage " data-ga-click="Header, go to dashboard, icon:logo">
  <svg class="octicon octicon-mark-github v-align-middle" height="32" viewBox="0 0 16 16" version="1.1" width="32" aria-hidden="true"><path fill-rule="evenodd" d="M8 0C3.58 0 0 3.58 0 8c0 3.54 2.29 6.53 5.47 7.59.4.07.55-.17.55-.38 0-.19-.01-.82-.01-1.49-2.01.37-2.53-.49-2.69-.94-.09-.23-.48-.94-.82-1.13-.28-.15-.68-.52-.01-.53.63-.01 1.08.58 1.23.82.72 1.21 1.87.87 2.33.66.07-.52.28-.87.51-1.07-1.78-.2-3.64-.89-3.64-3.95 0-.87.31-1.59.82-2.15-.08-.2-.36-1.02.08-2.12 0 0 .67-.21 2.2.82.64-.18 1.32-.27 2-.27.68 0 1.36.09 2 .27 1.53-1.04 2.2-.82 2.2-.82.44 1.1.16 1.92.08 2.12.51.56.82 1.27.82 2.15 0 3.07-1.87 3.75-3.65 3.95.29.25.54.73.54 1.48 0 1.07-.01 1.93-.01 2.2 0 .21.15.46.55.38A8.013 8.013 0 0016 8c0-4.42-3.58-8-8-8z"></path></svg>
</a>

    </div>

    <div class="Header-item mr-0 mr-md-3 flex-order-1 flex-md-order-none">
        

    <notification-indicator class="js-socket-channel" data-channel="eyJjIjoibm90aWZpY2F0aW9uLWNoYW5nZWQ6NzcyNzAxNTYiLCJ0IjoxNjExNzc2NTc1fQ==--2a3d30887480864cf082839ca06d22b10f4e3439cb71f067ea6dffaab17ffed8">
      <a href="/notifications"
         class="Header-link notification-indicator position-relative tooltipped tooltipped-sw"
         
         aria-label="You have no unread notifications"
         data-hotkey="g n"
         data-ga-click="Header, go to notifications, icon:read"
         data-target="notification-indicator.link">
         <span class="mail-status  " data-target="notification-indicator.modifier"></span>
         <svg class="octicon octicon-bell" viewBox="0 0 16 16" version="1.1" width="16" height="16" aria-hidden="true"><path d="M8 16a2 2 0 001.985-1.75c.017-.137-.097-.25-.235-.25h-3.5c-.138 0-.252.113-.235.25A2 2 0 008 16z"></path><path fill-rule="evenodd" d="M8 1.5A3.5 3.5 0 004.5 5v2.947c0 .346-.102.683-.294.97l-1.703 2.556a.018.018 0 00-.003.01l.001.006c0 .002.002.004.004.006a.017.017 0 00.006.004l.007.001h10.964l.007-.001a.016.016 0 00.006-.004.016.016 0 00.004-.006l.001-.007a.017.017 0 00-.003-.01l-1.703-2.554a1.75 1.75 0 01-.294-.97V5A3.5 3.5 0 008 1.5zM3 5a5 5 0 0110 0v2.947c0 .05.015.098.042.139l1.703 2.555A1.518 1.518 0 0113.482 13H2.518a1.518 1.518 0 01-1.263-2.36l1.703-2.554A.25.25 0 003 7.947V5z"></path></svg>
      </a>
    </notification-indicator>

    </div>


    <div class="Header-item position-relative d-none d-md-flex">
        <details class="details-overlay details-reset">
  <summary class="Header-link"
      aria-label="Create new…"
      data-ga-click="Header, create new, icon:add">
      <svg class="octicon octicon-plus" viewBox="0 0 16 16" version="1.1" width="16" height="16" aria-hidden="true"><path fill-rule="evenodd" d="M7.75 2a.75.75 0 01.75.75V7h4.25a.75.75 0 110 1.5H8.5v4.25a.75.75 0 11-1.5 0V8.5H2.75a.75.75 0 010-1.5H7V2.75A.75.75 0 017.75 2z"></path></svg> <span class="dropdown-caret"></span>
  </summary>
  <details-menu class="dropdown-menu dropdown-menu-sw">
    
<a role="menuitem" class="dropdown-item" href="/new" data-ga-click="Header, create new repository">
  New repository
</a>

  <a role="menuitem" class="dropdown-item" href="/new/import" data-ga-click="Header, import a repository">
    Import repository
  </a>

<a role="menuitem" class="dropdown-item" href="https://gist.github.com/" data-ga-click="Header, create new gist">
  New gist
</a>

  <a role="menuitem" class="dropdown-item" href="/organizations/new" data-ga-click="Header, create new organization">
    New organization
  </a>


  <div role="none" class="dropdown-divider"></div>
  <div class="dropdown-header">
    <span title="HumbertoMezaRuiz/FisicaComputacional1">This repository</span>
  </div>
    <a role="menuitem" class="dropdown-item" href="/HumbertoMezaRuiz/FisicaComputacional1/issues/new/choose" data-ga-click="Header, create new issue" data-skip-pjax>
      New issue
    </a>


  </details-menu>
</details>

    </div>

    <div class="Header-item position-relative mr-0 d-none d-md-flex">
        
  <details class="details-overlay details-reset js-feature-preview-indicator-container" data-feature-preview-indicator-src="/users/HumbertoMezaRuiz/feature_preview/indicator_check">

  <summary class="Header-link"
    aria-label="View profile and more"
    data-ga-click="Header, show menu, icon:avatar">
    <img
  alt="@HumbertoMezaRuiz"
  width="20"
  height="20"
  src="https://avatars.githubusercontent.com/u/77270156?s=60&amp;v=4"
  class="avatar avatar-user " />

      <span class="feature-preview-indicator js-feature-preview-indicator" style="top: 1px;" hidden></span>
    <span class="dropdown-caret"></span>
  </summary>
  <details-menu class="dropdown-menu dropdown-menu-sw" style="width: 180px" 
      src="/users/77270156/menu" preload>
      <include-fragment>
        <p class="text-center mt-3" data-hide-on-error>
          <svg viewBox="0 0 16 16" fill="none" style="box-sizing: content-box; color: var(--color-icon-primary);" width="32" height="32">
  <circle cx="8" cy="8" r="7" stroke="currentColor" stroke-opacity="0.25" stroke-width="2" vector-effect="non-scaling-stroke" />
  <path d="M15 8a7.002 7.002 0 00-7-7" stroke="currentColor" stroke-width="2" stroke-linecap="round" vector-effect="non-scaling-stroke">
    <animateTransform attributeName="transform" type="rotate" from="0 8 8" to="360 8 8" dur="1s" repeatCount="indefinite" />
  </path>
</svg>
        </p>
        <p class="ml-1 mb-2 mt-2 text-gray-dark" data-show-on-error>
          <svg class="octicon octicon-alert" viewBox="0 0 16 16" version="1.1" width="16" height="16" aria-hidden="true"><path fill-rule="evenodd" d="M8.22 1.754a.25.25 0 00-.44 0L1.698 13.132a.25.25 0 00.22.368h12.164a.25.25 0 00.22-.368L8.22 1.754zm-1.763-.707c.659-1.234 2.427-1.234 3.086 0l6.082 11.378A1.75 1.75 0 0114.082 15H1.918a1.75 1.75 0 01-1.543-2.575L6.457 1.047zM9 11a1 1 0 11-2 0 1 1 0 012 0zm-.25-5.25a.75.75 0 00-1.5 0v2.5a.75.75 0 001.5 0v-2.5z"></path></svg>
          Sorry, something went wrong.
        </p>
      </include-fragment>
  </details-menu>
</details>

    </div>
</header>

              
    </div>

  <div id="start-of-content" class="show-on-focus"></div>





    <div data-pjax-replace id="js-flash-container">


  <template class="js-flash-template">
    <div class="flash flash-full  {{ className }}">
  <div class=" px-2" >
    <button class="flash-close js-flash-close" type="button" aria-label="Dismiss this message">
      <svg class="octicon octicon-x" viewBox="0 0 16 16" version="1.1" width="16" height="16" aria-hidden="true"><path fill-rule="evenodd" d="M3.72 3.72a.75.75 0 011.06 0L8 6.94l3.22-3.22a.75.75 0 111.06 1.06L9.06 8l3.22 3.22a.75.75 0 11-1.06 1.06L8 9.06l-3.22 3.22a.75.75 0 01-1.06-1.06L6.94 8 3.72 4.78a.75.75 0 010-1.06z"></path></svg>
    </button>
    
      <div>{{ message }}</div>

  </div>
</div>
  </template>
</div>


    

  <include-fragment class="js-notification-shelf-include-fragment" data-base-src="https://github.com/notifications/beta/shelf"></include-fragment>




  <div
    class="application-main "
    data-commit-hovercards-enabled
    data-discussion-hovercards-enabled
    data-issue-and-pr-hovercards-enabled
  >
        <div itemscope itemtype="http://schema.org/SoftwareSourceCode" class="">
    <main id="js-repo-pjax-container" data-pjax-container >
      

    






  


  <div class="bg-gray-light pt-3 hide-full-screen mb-5">

      <div class="d-flex mb-3 px-3 px-md-4 px-lg-5">

        <div class="flex-auto min-width-0 width-fit mr-3">
            <h1 class=" d-flex flex-wrap flex-items-center break-word f3 text-normal">
    <svg class="octicon octicon-repo text-gray mr-2" viewBox="0 0 16 16" version="1.1" width="16" height="16" aria-hidden="true"><path fill-rule="evenodd" d="M2 2.5A2.5 2.5 0 014.5 0h8.75a.75.75 0 01.75.75v12.5a.75.75 0 01-.75.75h-2.5a.75.75 0 110-1.5h1.75v-2h-8a1 1 0 00-.714 1.7.75.75 0 01-1.072 1.05A2.495 2.495 0 012 11.5v-9zm10.5-1V9h-8c-.356 0-.694.074-1 .208V2.5a1 1 0 011-1h8zM5 12.25v3.25a.25.25 0 00.4.2l1.45-1.087a.25.25 0 01.3 0L8.6 15.7a.25.25 0 00.4-.2v-3.25a.25.25 0 00-.25-.25h-3.5a.25.25 0 00-.25.25z"></path></svg>
    <span class="author flex-self-stretch" itemprop="author">
      <a class="url fn" rel="author" data-hovercard-type="user" data-hovercard-url="/users/HumbertoMezaRuiz/hovercard" data-octo-click="hovercard-link-click" data-octo-dimensions="link_type:self" href="/HumbertoMezaRuiz">HumbertoMezaRuiz</a>
    </span>
    <span class="mx-1 flex-self-stretch color-text-secondary">/</span>
  <strong itemprop="name" class="mr-2 flex-self-stretch">
    <a data-pjax="#js-repo-pjax-container" class="" href="/HumbertoMezaRuiz/FisicaComputacional1">FisicaComputacional1</a>
  </strong>
  
</h1>


        </div>

          <ul class="pagehead-actions flex-shrink-0 d-none d-md-inline" style="padding: 2px 0;">

  <li>
          <notifications-list-subscription-form class="f5 position-relative d-flex">
      <details
        class="details-reset details-overlay f5 position-relative"
        data-target="notifications-list-subscription-form.details"
        data-action="toggle:notifications-list-subscription-form#detailsToggled"
      >

      <summary class="btn btn-sm rounded-right-0" data-hydro-click="{&quot;event_type&quot;:&quot;repository.click&quot;,&quot;payload&quot;:{&quot;target&quot;:&quot;WATCH_BUTTON&quot;,&quot;repository_id&quot;:328614868,&quot;originating_url&quot;:&quot;https://github.com/HumbertoMezaRuiz/FisicaComputacional1/blame/main/%5CActividad3%5CActividad3.ipynb&quot;,&quot;user_id&quot;:77270156}}" data-hydro-click-hmac="41065a4db127331041329725aae5144fdbd0da279f449cb14404b7894bb4683f" data-ga-click="Repository, click Watch settings, action:blob#blame" aria-label="Notifications settings">
          <span data-menu-button>
            <span
              
              
              data-target="notifications-list-subscription-form.unwatchButtonCopy"
            >
              <svg class="octicon octicon-eye" height="16" viewBox="0 0 16 16" version="1.1" width="16" aria-hidden="true"><path fill-rule="evenodd" d="M1.679 7.932c.412-.621 1.242-1.75 2.366-2.717C5.175 4.242 6.527 3.5 8 3.5c1.473 0 2.824.742 3.955 1.715 1.124.967 1.954 2.096 2.366 2.717a.119.119 0 010 .136c-.412.621-1.242 1.75-2.366 2.717C10.825 11.758 9.473 12.5 8 12.5c-1.473 0-2.824-.742-3.955-1.715C2.92 9.818 2.09 8.69 1.679 8.068a.119.119 0 010-.136zM8 2c-1.981 0-3.67.992-4.933 2.078C1.797 5.169.88 6.423.43 7.1a1.619 1.619 0 000 1.798c.45.678 1.367 1.932 2.637 3.024C4.329 13.008 6.019 14 8 14c1.981 0 3.67-.992 4.933-2.078 1.27-1.091 2.187-2.345 2.637-3.023a1.619 1.619 0 000-1.798c-.45-.678-1.367-1.932-2.637-3.023C11.671 2.992 9.981 2 8 2zm0 8a2 2 0 100-4 2 2 0 000 4z"></path></svg>
              Unwatch
            </span>
            <span
              hidden
              
              data-target="notifications-list-subscription-form.stopIgnoringButtonCopy"
            >
              <svg class="octicon octicon-bell-slash" height="16" viewBox="0 0 16 16" version="1.1" width="16" aria-hidden="true"><path fill-rule="evenodd" d="M8 1.5c-.997 0-1.895.416-2.534 1.086A.75.75 0 014.38 1.55 5 5 0 0113 5v2.373a.75.75 0 01-1.5 0V5A3.5 3.5 0 008 1.5zM4.182 4.31L1.19 2.143a.75.75 0 10-.88 1.214L3 5.305v2.642a.25.25 0 01-.042.139L1.255 10.64A1.518 1.518 0 002.518 13h11.108l1.184.857a.75.75 0 10.88-1.214l-1.375-.996a1.196 1.196 0 00-.013-.01L4.198 4.321a.733.733 0 00-.016-.011zm7.373 7.19L4.5 6.391v1.556c0 .346-.102.683-.294.97l-1.703 2.556a.018.018 0 00-.003.01.015.015 0 00.005.012.017.017 0 00.006.004l.007.001h9.037zM8 16a2 2 0 001.985-1.75c.017-.137-.097-.25-.235-.25h-3.5c-.138 0-.252.113-.235.25A2 2 0 008 16z"></path></svg>
              Stop ignoring
            </span>
            <span
              hidden
              
              data-target="notifications-list-subscription-form.watchButtonCopy"
            >
              <svg class="octicon octicon-eye" height="16" viewBox="0 0 16 16" version="1.1" width="16" aria-hidden="true"><path fill-rule="evenodd" d="M1.679 7.932c.412-.621 1.242-1.75 2.366-2.717C5.175 4.242 6.527 3.5 8 3.5c1.473 0 2.824.742 3.955 1.715 1.124.967 1.954 2.096 2.366 2.717a.119.119 0 010 .136c-.412.621-1.242 1.75-2.366 2.717C10.825 11.758 9.473 12.5 8 12.5c-1.473 0-2.824-.742-3.955-1.715C2.92 9.818 2.09 8.69 1.679 8.068a.119.119 0 010-.136zM8 2c-1.981 0-3.67.992-4.933 2.078C1.797 5.169.88 6.423.43 7.1a1.619 1.619 0 000 1.798c.45.678 1.367 1.932 2.637 3.024C4.329 13.008 6.019 14 8 14c1.981 0 3.67-.992 4.933-2.078 1.27-1.091 2.187-2.345 2.637-3.023a1.619 1.619 0 000-1.798c-.45-.678-1.367-1.932-2.637-3.023C11.671 2.992 9.981 2 8 2zm0 8a2 2 0 100-4 2 2 0 000 4z"></path></svg>
              Watch
            </span>
          </span>
          <span class="dropdown-caret"></span>
</summary>
        <details-menu
          class="SelectMenu  "
          role="menu"
          data-target="notifications-list-subscription-form.menu"
          
        >
          <div class="SelectMenu-modal notifications-component-menu-modal">
            <header class="SelectMenu-header">
              <h3 class="SelectMenu-title">Notifications</h3>
              <button class="SelectMenu-closeButton" type="button" aria-label="Close menu" data-action="click:notifications-list-subscription-form#closeMenu">
                <svg class="octicon octicon-x" viewBox="0 0 16 16" version="1.1" width="16" height="16" aria-hidden="true"><path fill-rule="evenodd" d="M3.72 3.72a.75.75 0 011.06 0L8 6.94l3.22-3.22a.75.75 0 111.06 1.06L9.06 8l3.22 3.22a.75.75 0 11-1.06 1.06L8 9.06l-3.22 3.22a.75.75 0 01-1.06-1.06L6.94 8 3.72 4.78a.75.75 0 010-1.06z"></path></svg>
              </button>
            </header>

            <div class="SelectMenu-list">
              <form data-target="notifications-list-subscription-form.form" data-action="submit:notifications-list-subscription-form#submitForm" action="/notifications/subscribe" accept-charset="UTF-8" method="post"><input type="hidden" name="authenticity_token" value="tWUllVWTNphSmMNkjvaPmu4QCHfsJfu0JdWS1wIsIMwtQP0GIKkhWxBadgzlqB3K4v7Fk8bMdqGxqiS8FfPsOw==" />

                <input type="hidden" name="repository_id" value="328614868">

                <button
                  type="submit"
                  name="do"
                  value="included"
                  class="SelectMenu-item flex-items-start"
                  role="menuitemradio"
                  aria-checked="false"
                  data-targets="notifications-list-subscription-form.subscriptionButtons"
                  
                >
                  <span class="f5">
                    <svg class="octicon octicon-check SelectMenu-icon SelectMenu-icon--check" height="16" viewBox="0 0 16 16" version="1.1" width="16" aria-hidden="true"><path fill-rule="evenodd" d="M13.78 4.22a.75.75 0 010 1.06l-7.25 7.25a.75.75 0 01-1.06 0L2.22 9.28a.75.75 0 011.06-1.06L6 10.94l6.72-6.72a.75.75 0 011.06 0z"></path></svg>
                  </span>
                  <div>
                    <div class="f5 text-bold">
                      Participating and @mentions
                    </div>
                    <div class="text-small text-gray text-normal pb-1">
                      Only receive notifications from this repository when participating or @mentioned.
                    </div>
                  </div>
                </button>

                <button
                  type="submit"
                  name="do"
                  value="subscribed"
                  class="SelectMenu-item flex-items-start"
                  role="menuitemradio"
                  aria-checked="true"
                  data-targets="notifications-list-subscription-form.subscriptionButtons"
                >
                  <span class="f5">
                    <svg class="octicon octicon-check SelectMenu-icon SelectMenu-icon--check" height="16" viewBox="0 0 16 16" version="1.1" width="16" aria-hidden="true"><path fill-rule="evenodd" d="M13.78 4.22a.75.75 0 010 1.06l-7.25 7.25a.75.75 0 01-1.06 0L2.22 9.28a.75.75 0 011.06-1.06L6 10.94l6.72-6.72a.75.75 0 011.06 0z"></path></svg>
                  </span>
                  <div>
                    <div class="f5 text-bold">
                      All Activity
                    </div>
                    <div class="text-small text-gray text-normal pb-1">
                      Notified of all notifications on this repository.
                    </div>
                  </div>
                </button>

                <button
                  type="submit"
                  name="do"
                  value="ignore"
                  class="SelectMenu-item flex-items-start"
                  role="menuitemradio"
                  aria-checked="false"
                  data-targets="notifications-list-subscription-form.subscriptionButtons"
                >
                  <span class="f5">
                    <svg class="octicon octicon-check SelectMenu-icon SelectMenu-icon--check" height="16" viewBox="0 0 16 16" version="1.1" width="16" aria-hidden="true"><path fill-rule="evenodd" d="M13.78 4.22a.75.75 0 010 1.06l-7.25 7.25a.75.75 0 01-1.06 0L2.22 9.28a.75.75 0 011.06-1.06L6 10.94l6.72-6.72a.75.75 0 011.06 0z"></path></svg>
                  </span>
                  <div>
                    <div class="f5 text-bold">
                      Ignore
                    </div>
                    <div class="text-small text-gray text-normal pb-1">
                      Never be notified.
                    </div>
                  </div>
                </button>
</form>
              <button
                class="SelectMenu-item flex-items-start pr-3"
                type="button"
                role="menuitemradio"
                data-target="notifications-list-subscription-form.customButton"
                data-action="click:notifications-list-subscription-form#openCustomDialog"
                aria-haspopup="true"
                aria-checked="false"
                
              >
                <span class="f5">
                  <svg class="octicon octicon-check SelectMenu-icon SelectMenu-icon--check" height="16" viewBox="0 0 16 16" version="1.1" width="16" aria-hidden="true"><path fill-rule="evenodd" d="M13.78 4.22a.75.75 0 010 1.06l-7.25 7.25a.75.75 0 01-1.06 0L2.22 9.28a.75.75 0 011.06-1.06L6 10.94l6.72-6.72a.75.75 0 011.06 0z"></path></svg>
                </span>
                <div>
                  <div class="d-flex flex-items-start flex-justify-between">
                    <div class="f5 text-bold">Custom</div>
                    <div class="f5 pr-1">
                      <svg class="octicon octicon-arrow-right" height="16" viewBox="0 0 16 16" version="1.1" width="16" aria-hidden="true"><path fill-rule="evenodd" d="M8.22 2.97a.75.75 0 011.06 0l4.25 4.25a.75.75 0 010 1.06l-4.25 4.25a.75.75 0 01-1.06-1.06l2.97-2.97H3.75a.75.75 0 010-1.5h7.44L8.22 4.03a.75.75 0 010-1.06z"></path></svg>
                    </div>
                  </div>
                  <div class="text-small text-gray text-normal pb-1">
                    Select events you want to be notified of in addition to participating and @mentions.
                  </div>
                </div>
              </button>
            </div>
          </div>
        </details-menu>

        <details-dialog class="notifications-component-dialog " data-target="notifications-list-subscription-form.customDialog" hidden>
          <div class="SelectMenu-modal notifications-component-dialog-modal overflow-visible">
            <form data-target="notifications-list-subscription-form.customform" data-action="submit:notifications-list-subscription-form#submitCustomForm" action="/notifications/subscribe" accept-charset="UTF-8" method="post"><input type="hidden" name="authenticity_token" value="PTow3x2ehD7mDHe0D6clJ51DAG69MHcRh0DvWuBW1Y+lH+hMaKST/aTOwtxk+bd3ka3NipfZ+gQTP1kx94kZeA==" />

              <input type="hidden" name="repository_id" value="328614868">

              <header class="d-sm-none SelectMenu-header pb-0 border-bottom-0 px-2 px-sm-3">
                <h1 class="f3 SelectMenu-title d-inline-flex">
                  <button
                    class="bg-white border-0 px-2 py-0 m-0 link-gray f5"
                    aria-label="Return to menu"
                    type="button"
                    data-action="click:notifications-list-subscription-form#closeCustomDialog"
                  >
                    <svg style="" class="octicon octicon-arrow-left" height="16" viewBox="0 0 16 16" version="1.1" width="16" aria-hidden="true"><path fill-rule="evenodd" d="M7.78 12.53a.75.75 0 01-1.06 0L2.47 8.28a.75.75 0 010-1.06l4.25-4.25a.75.75 0 011.06 1.06L4.81 7h7.44a.75.75 0 010 1.5H4.81l2.97 2.97a.75.75 0 010 1.06z"></path></svg>
                  </button>
                  Custom
                </h3>
              </header>

              <header class="d-none d-sm-flex flex-items-start pt-1">
                <button
                  class="border-0 px-2 pt-1 m-0 link-gray f5"
                  style="background-color: transparent;"
                  aria-label="Return to menu"
                  type="button"
                  data-action="click:notifications-list-subscription-form#closeCustomDialog"
                >
                  <svg style="position: relative; left: 2px; top: 1px" class="octicon octicon-arrow-left" height="16" viewBox="0 0 16 16" version="1.1" width="16" aria-hidden="true"><path fill-rule="evenodd" d="M7.78 12.53a.75.75 0 01-1.06 0L2.47 8.28a.75.75 0 010-1.06l4.25-4.25a.75.75 0 011.06 1.06L4.81 7h7.44a.75.75 0 010 1.5H4.81l2.97 2.97a.75.75 0 010 1.06z"></path></svg>
                </button>

                <h1 class="pt-1 pr-4 pb-0 pl-0 f5 text-bold">
                  Custom
                </h1>
              </header>

              <fieldset>
                <legend>
                  <div class="text-small text-gray pt-0 pr-3 pb-3 pl-6 pl-sm-5 border-bottom mb-3">
                    Select events you want to be notified of in addition to participating and @mentions.
                  </div>
                </legend>
                  <div class="form-checkbox mr-3 ml-6 ml-sm-5 mb-2 mt-0">
                    <label class="f5 text-normal">
                      <input
                        type="checkbox"
                        name="thread_types[]"
                        value="Issue"
                        data-targets="notifications-list-subscription-form.threadTypeCheckboxes"
                        data-action="change:notifications-list-subscription-form#threadTypeCheckboxesUpdated"
                        
                      >
                      Issues
                    </label>

                  </div>
                  <div class="form-checkbox mr-3 ml-6 ml-sm-5 mb-2 mt-0">
                    <label class="f5 text-normal">
                      <input
                        type="checkbox"
                        name="thread_types[]"
                        value="PullRequest"
                        data-targets="notifications-list-subscription-form.threadTypeCheckboxes"
                        data-action="change:notifications-list-subscription-form#threadTypeCheckboxesUpdated"
                        
                      >
                      Pull requests
                    </label>

                  </div>
                  <div class="form-checkbox mr-3 ml-6 ml-sm-5 mb-2 mt-0">
                    <label class="f5 text-normal">
                      <input
                        type="checkbox"
                        name="thread_types[]"
                        value="Release"
                        data-targets="notifications-list-subscription-form.threadTypeCheckboxes"
                        data-action="change:notifications-list-subscription-form#threadTypeCheckboxesUpdated"
                        
                      >
                      Releases
                    </label>

                  </div>
                  <div class="form-checkbox mr-3 ml-6 ml-sm-5 mb-2 mt-0">
                    <label class="f5 text-normal">
                      <input
                        type="checkbox"
                        name="thread_types[]"
                        value="Discussion"
                        data-targets="notifications-list-subscription-form.threadTypeCheckboxes"
                        data-action="change:notifications-list-subscription-form#threadTypeCheckboxesUpdated"
                        
                      >
                      Discussions
                    </label>

                      <span
                        class="tooltipped tooltipped-nw mr-2 p-1 float-right"
                        
                        aria-label="Discussions are not enabled for this repo">
                        <svg style="fill: var(--color-icon-tertiary)" class="octicon octicon-info" viewBox="0 0 16 16" version="1.1" width="16" height="16" aria-hidden="true"><path fill-rule="evenodd" d="M8 1.5a6.5 6.5 0 100 13 6.5 6.5 0 000-13zM0 8a8 8 0 1116 0A8 8 0 010 8zm6.5-.25A.75.75 0 017.25 7h1a.75.75 0 01.75.75v2.75h.25a.75.75 0 010 1.5h-2a.75.75 0 010-1.5h.25v-2h-.25a.75.75 0 01-.75-.75zM8 6a1 1 0 100-2 1 1 0 000 2z"></path></svg>
                      </span>
                  </div>
              </fieldset>
              <div class="pt-2 pb-3 px-3 d-flex flex-justify-start flex-row-reverse">
                <button
                  type="submit"
                  name="do"
                  value="custom"
                  class="btn btn-sm btn-primary ml-2"
                  data-target="notifications-list-subscription-form.customSubmit"
                  disabled
                >Apply</button>

                <button
                  class="btn btn-sm"
                  type="button"
                  data-action="click:notifications-list-subscription-form#resetForm"
                  data-close-dialog="">Cancel</button>
              </div>
</form>          </div>
        </details-dialog>
        <div class="notifications-component-dialog-overlay"></div>
      </details>
        <a class="social-count"
          href="/HumbertoMezaRuiz/FisicaComputacional1/watchers"
          aria-label="1 user is watching this repository"
          data-target="notifications-list-subscription-form.socialCount"
        >
          1
        </a>

    </notifications-list-subscription-form>

  </li>

  <li>
        <div class="d-block js-toggler-container js-social-container starring-container ">
    <form class="starred js-social-form" action="/HumbertoMezaRuiz/FisicaComputacional1/unstar" accept-charset="UTF-8" method="post"><input type="hidden" name="authenticity_token" value="cTiNMaOcrFjCO78KAC7WPNo+fc8TUc7FwVEVnOFAblW/uDM/F+anIs/50AwpnwIRPq8p3dHFHEU+fVHAmRHH8A==" />
      <input type="hidden" name="context" value="repository">
      <button type="submit" class="btn btn-sm btn-with-count  js-toggler-target" aria-label="Unstar this repository" title="Unstar HumbertoMezaRuiz/FisicaComputacional1" data-hydro-click="{&quot;event_type&quot;:&quot;repository.click&quot;,&quot;payload&quot;:{&quot;target&quot;:&quot;UNSTAR_BUTTON&quot;,&quot;repository_id&quot;:328614868,&quot;originating_url&quot;:&quot;https://github.com/HumbertoMezaRuiz/FisicaComputacional1/blame/main/%5CActividad3%5CActividad3.ipynb&quot;,&quot;user_id&quot;:77270156}}" data-hydro-click-hmac="88ac3d4615bf9eeb760e83dcfa44b77f61128f4f06bb77434410ef7acf35ca55" data-ga-click="Repository, click unstar button, action:blob#blame; text:Unstar">        <svg class="octicon octicon-star-fill mr-1" height="16" viewBox="0 0 16 16" version="1.1" width="16" aria-hidden="true"><path fill-rule="evenodd" d="M8 .25a.75.75 0 01.673.418l1.882 3.815 4.21.612a.75.75 0 01.416 1.279l-3.046 2.97.719 4.192a.75.75 0 01-1.088.791L8 12.347l-3.766 1.98a.75.75 0 01-1.088-.79l.72-4.194L.818 6.374a.75.75 0 01.416-1.28l4.21-.611L7.327.668A.75.75 0 018 .25z"></path></svg>
        <span>
          Unstar
</span></button>        <a class="social-count js-social-count" href="/HumbertoMezaRuiz/FisicaComputacional1/stargazers"
           aria-label="0 users starred this repository">
           0
        </a>
</form>
    <form class="unstarred js-social-form" action="/HumbertoMezaRuiz/FisicaComputacional1/star" accept-charset="UTF-8" method="post"><input type="hidden" name="authenticity_token" value="p7d3zZKT7DyfvZNTS7tAH8FGihGYVXCoBi7rjDNfVERKIX4hRJ8BZW97vDZ/E0g2q7W8KHsmoqs9U4GTl9IXxQ==" />
      <input type="hidden" name="context" value="repository">
      <button type="submit" class="btn btn-sm btn-with-count  js-toggler-target" aria-label="Unstar this repository" title="Star HumbertoMezaRuiz/FisicaComputacional1" data-hydro-click="{&quot;event_type&quot;:&quot;repository.click&quot;,&quot;payload&quot;:{&quot;target&quot;:&quot;STAR_BUTTON&quot;,&quot;repository_id&quot;:328614868,&quot;originating_url&quot;:&quot;https://github.com/HumbertoMezaRuiz/FisicaComputacional1/blame/main/%5CActividad3%5CActividad3.ipynb&quot;,&quot;user_id&quot;:77270156}}" data-hydro-click-hmac="7bede80528c571eefc2add0c74e657635fd212c0fd93150c918543c70ace675f" data-ga-click="Repository, click star button, action:blob#blame; text:Star">        <svg class="octicon octicon-star mr-1" height="16" viewBox="0 0 16 16" version="1.1" width="16" aria-hidden="true"><path fill-rule="evenodd" d="M8 .25a.75.75 0 01.673.418l1.882 3.815 4.21.612a.75.75 0 01.416 1.279l-3.046 2.97.719 4.192a.75.75 0 01-1.088.791L8 12.347l-3.766 1.98a.75.75 0 01-1.088-.79l.72-4.194L.818 6.374a.75.75 0 01.416-1.28l4.21-.611L7.327.668A.75.75 0 018 .25zm0 2.445L6.615 5.5a.75.75 0 01-.564.41l-3.097.45 2.24 2.184a.75.75 0 01.216.664l-.528 3.084 2.769-1.456a.75.75 0 01.698 0l2.77 1.456-.53-3.084a.75.75 0 01.216-.664l2.24-2.183-3.096-.45a.75.75 0 01-.564-.41L8 2.694v.001z"></path></svg>
        <span>
          Star
</span></button>        <a class="social-count js-social-count" href="/HumbertoMezaRuiz/FisicaComputacional1/stargazers"
           aria-label="0 users starred this repository">
          0
        </a>
</form>  </div>

  </li>

  <li>
          <span class="btn btn-sm btn-with-count disabled tooltipped tooltipped-sw" aria-label="Cannot fork because you own this repository and are not a member of any organizations.">
            <svg class="octicon octicon-repo-forked" viewBox="0 0 16 16" version="1.1" width="16" height="16" aria-hidden="true"><path fill-rule="evenodd" d="M5 3.25a.75.75 0 11-1.5 0 .75.75 0 011.5 0zm0 2.122a2.25 2.25 0 10-1.5 0v.878A2.25 2.25 0 005.75 8.5h1.5v2.128a2.251 2.251 0 101.5 0V8.5h1.5a2.25 2.25 0 002.25-2.25v-.878a2.25 2.25 0 10-1.5 0v.878a.75.75 0 01-.75.75h-4.5A.75.75 0 015 6.25v-.878zm3.75 7.378a.75.75 0 11-1.5 0 .75.75 0 011.5 0zm3-8.75a.75.75 0 100-1.5.75.75 0 000 1.5z"></path></svg>
            Fork
</span>
      <a href="/HumbertoMezaRuiz/FisicaComputacional1/network/members" class="social-count"
         aria-label="0 users forked this repository">
        0
      </a>
  </li>
</ul>

      </div>
        
<nav aria-label="Repository" data-pjax="#js-repo-pjax-container" class="js-repo-nav js-sidenav-container-pjax js-responsive-underlinenav overflow-hidden UnderlineNav px-3 px-md-4 px-lg-5 bg-gray-light">
  <ul class="UnderlineNav-body list-style-none ">
          <li class="d-flex">
        <a class="js-selected-navigation-item selected UnderlineNav-item hx_underlinenav-item no-wrap js-responsive-underlinenav-item" data-tab-item="i0code-tab" data-hotkey="g c" data-ga-click="Repository, Navigation click, Code tab" aria-current="page" data-selected-links="repo_source repo_downloads repo_commits repo_releases repo_tags repo_branches repo_packages repo_deployments /HumbertoMezaRuiz/FisicaComputacional1" href="/HumbertoMezaRuiz/FisicaComputacional1">
              <svg class="octicon octicon-code UnderlineNav-octicon d-none d-sm-inline" height="16" viewBox="0 0 16 16" version="1.1" width="16" aria-hidden="true"><path fill-rule="evenodd" d="M4.72 3.22a.75.75 0 011.06 1.06L2.06 8l3.72 3.72a.75.75 0 11-1.06 1.06L.47 8.53a.75.75 0 010-1.06l4.25-4.25zm6.56 0a.75.75 0 10-1.06 1.06L13.94 8l-3.72 3.72a.75.75 0 101.06 1.06l4.25-4.25a.75.75 0 000-1.06l-4.25-4.25z"></path></svg>
            <span data-content="Code">Code</span>
              <span title="Not available" class="Counter "></span>
</a>

      </li>
      <li class="d-flex">
        <a class="js-selected-navigation-item UnderlineNav-item hx_underlinenav-item no-wrap js-responsive-underlinenav-item" data-tab-item="i1issues-tab" data-hotkey="g i" data-ga-click="Repository, Navigation click, Issues tab" data-selected-links="repo_issues repo_labels repo_milestones /HumbertoMezaRuiz/FisicaComputacional1/issues" href="/HumbertoMezaRuiz/FisicaComputacional1/issues">
              <svg class="octicon octicon-issue-opened UnderlineNav-octicon d-none d-sm-inline" height="16" viewBox="0 0 16 16" version="1.1" width="16" aria-hidden="true"><path fill-rule="evenodd" d="M8 1.5a6.5 6.5 0 100 13 6.5 6.5 0 000-13zM0 8a8 8 0 1116 0A8 8 0 010 8zm9 3a1 1 0 11-2 0 1 1 0 012 0zm-.25-6.25a.75.75 0 00-1.5 0v3.5a.75.75 0 001.5 0v-3.5z"></path></svg>
            <span data-content="Issues">Issues</span>
              <span title="0" hidden="hidden" class="Counter ">0</span>
</a>

      </li>
      <li class="d-flex">
        <a class="js-selected-navigation-item UnderlineNav-item hx_underlinenav-item no-wrap js-responsive-underlinenav-item" data-tab-item="i2pull-requests-tab" data-hotkey="g p" data-ga-click="Repository, Navigation click, Pull requests tab" data-selected-links="repo_pulls checks /HumbertoMezaRuiz/FisicaComputacional1/pulls" href="/HumbertoMezaRuiz/FisicaComputacional1/pulls">
              <svg class="octicon octicon-git-pull-request UnderlineNav-octicon d-none d-sm-inline" height="16" viewBox="0 0 16 16" version="1.1" width="16" aria-hidden="true"><path fill-rule="evenodd" d="M7.177 3.073L9.573.677A.25.25 0 0110 .854v4.792a.25.25 0 01-.427.177L7.177 3.427a.25.25 0 010-.354zM3.75 2.5a.75.75 0 100 1.5.75.75 0 000-1.5zm-2.25.75a2.25 2.25 0 113 2.122v5.256a2.251 2.251 0 11-1.5 0V5.372A2.25 2.25 0 011.5 3.25zM11 2.5h-1V4h1a1 1 0 011 1v5.628a2.251 2.251 0 101.5 0V5A2.5 2.5 0 0011 2.5zm1 10.25a.75.75 0 111.5 0 .75.75 0 01-1.5 0zM3.75 12a.75.75 0 100 1.5.75.75 0 000-1.5z"></path></svg>
            <span data-content="Pull requests">Pull requests</span>
              <span title="0" hidden="hidden" class="Counter ">0</span>
</a>

      </li>
      <li class="d-flex">
        <a class="js-selected-navigation-item UnderlineNav-item hx_underlinenav-item no-wrap js-responsive-underlinenav-item" data-tab-item="i3actions-tab" data-hotkey="g a" data-ga-click="Repository, Navigation click, Actions tab" data-selected-links="repo_actions /HumbertoMezaRuiz/FisicaComputacional1/actions" href="/HumbertoMezaRuiz/FisicaComputacional1/actions">
              <svg class="octicon octicon-play UnderlineNav-octicon d-none d-sm-inline" height="16" viewBox="0 0 16 16" version="1.1" width="16" aria-hidden="true"><path fill-rule="evenodd" d="M1.5 8a6.5 6.5 0 1113 0 6.5 6.5 0 01-13 0zM8 0a8 8 0 100 16A8 8 0 008 0zM6.379 5.227A.25.25 0 006 5.442v5.117a.25.25 0 00.379.214l4.264-2.559a.25.25 0 000-.428L6.379 5.227z"></path></svg>
            <span data-content="Actions">Actions</span>
              <span title="Not available" class="Counter "></span>
</a>

      </li>
      <li class="d-flex">
        <a class="js-selected-navigation-item UnderlineNav-item hx_underlinenav-item no-wrap js-responsive-underlinenav-item" data-tab-item="i4projects-tab" data-hotkey="g b" data-ga-click="Repository, Navigation click, Projects tab" data-selected-links="repo_projects new_repo_project repo_project /HumbertoMezaRuiz/FisicaComputacional1/projects" href="/HumbertoMezaRuiz/FisicaComputacional1/projects">
              <svg class="octicon octicon-project UnderlineNav-octicon d-none d-sm-inline" height="16" viewBox="0 0 16 16" version="1.1" width="16" aria-hidden="true"><path fill-rule="evenodd" d="M1.75 0A1.75 1.75 0 000 1.75v12.5C0 15.216.784 16 1.75 16h12.5A1.75 1.75 0 0016 14.25V1.75A1.75 1.75 0 0014.25 0H1.75zM1.5 1.75a.25.25 0 01.25-.25h12.5a.25.25 0 01.25.25v12.5a.25.25 0 01-.25.25H1.75a.25.25 0 01-.25-.25V1.75zM11.75 3a.75.75 0 00-.75.75v7.5a.75.75 0 001.5 0v-7.5a.75.75 0 00-.75-.75zm-8.25.75a.75.75 0 011.5 0v5.5a.75.75 0 01-1.5 0v-5.5zM8 3a.75.75 0 00-.75.75v3.5a.75.75 0 001.5 0v-3.5A.75.75 0 008 3z"></path></svg>
            <span data-content="Projects">Projects</span>
              <span title="0" hidden="hidden" class="Counter ">0</span>
</a>

      </li>
      <li class="d-flex">
        <a class="js-selected-navigation-item UnderlineNav-item hx_underlinenav-item no-wrap js-responsive-underlinenav-item" data-tab-item="i5wiki-tab" data-hotkey="g w" data-ga-click="Repository, Navigation click, Wikis tab" data-selected-links="repo_wiki /HumbertoMezaRuiz/FisicaComputacional1/wiki" href="/HumbertoMezaRuiz/FisicaComputacional1/wiki">
              <svg class="octicon octicon-book UnderlineNav-octicon d-none d-sm-inline" height="16" viewBox="0 0 16 16" version="1.1" width="16" aria-hidden="true"><path fill-rule="evenodd" d="M0 1.75A.75.75 0 01.75 1h4.253c1.227 0 2.317.59 3 1.501A3.744 3.744 0 0111.006 1h4.245a.75.75 0 01.75.75v10.5a.75.75 0 01-.75.75h-4.507a2.25 2.25 0 00-1.591.659l-.622.621a.75.75 0 01-1.06 0l-.622-.621A2.25 2.25 0 005.258 13H.75a.75.75 0 01-.75-.75V1.75zm8.755 3a2.25 2.25 0 012.25-2.25H14.5v9h-3.757c-.71 0-1.4.201-1.992.572l.004-7.322zm-1.504 7.324l.004-5.073-.002-2.253A2.25 2.25 0 005.003 2.5H1.5v9h3.757a3.75 3.75 0 011.994.574z"></path></svg>
            <span data-content="Wiki">Wiki</span>
              <span title="Not available" class="Counter "></span>
</a>

      </li>
      <li class="d-flex">
        <a class="js-selected-navigation-item UnderlineNav-item hx_underlinenav-item no-wrap js-responsive-underlinenav-item" data-tab-item="i6security-tab" data-hotkey="g s" data-ga-click="Repository, Navigation click, Security tab" data-selected-links="security overview alerts policy token_scanning code_scanning /HumbertoMezaRuiz/FisicaComputacional1/security" href="/HumbertoMezaRuiz/FisicaComputacional1/security">
              <svg class="octicon octicon-shield UnderlineNav-octicon d-none d-sm-inline" height="16" viewBox="0 0 16 16" version="1.1" width="16" aria-hidden="true"><path fill-rule="evenodd" d="M7.467.133a1.75 1.75 0 011.066 0l5.25 1.68A1.75 1.75 0 0115 3.48V7c0 1.566-.32 3.182-1.303 4.682-.983 1.498-2.585 2.813-5.032 3.855a1.7 1.7 0 01-1.33 0c-2.447-1.042-4.049-2.357-5.032-3.855C1.32 10.182 1 8.566 1 7V3.48a1.75 1.75 0 011.217-1.667l5.25-1.68zm.61 1.429a.25.25 0 00-.153 0l-5.25 1.68a.25.25 0 00-.174.238V7c0 1.358.275 2.666 1.057 3.86.784 1.194 2.121 2.34 4.366 3.297a.2.2 0 00.154 0c2.245-.956 3.582-2.104 4.366-3.298C13.225 9.666 13.5 8.36 13.5 7V3.48a.25.25 0 00-.174-.237l-5.25-1.68zM9 10.5a1 1 0 11-2 0 1 1 0 012 0zm-.25-5.75a.75.75 0 10-1.5 0v3a.75.75 0 001.5 0v-3z"></path></svg>
            <span data-content="Security">Security</span>
              <include-fragment src="/HumbertoMezaRuiz/FisicaComputacional1/security/overall-count" accept="text/fragment+html"></include-fragment>
</a>

      </li>
      <li class="d-flex">
        <a class="js-selected-navigation-item UnderlineNav-item hx_underlinenav-item no-wrap js-responsive-underlinenav-item" data-tab-item="i7insights-tab" data-ga-click="Repository, Navigation click, Insights tab" data-selected-links="repo_graphs repo_contributors dependency_graph dependabot_updates pulse people /HumbertoMezaRuiz/FisicaComputacional1/pulse" href="/HumbertoMezaRuiz/FisicaComputacional1/pulse">
              <svg class="octicon octicon-graph UnderlineNav-octicon d-none d-sm-inline" height="16" viewBox="0 0 16 16" version="1.1" width="16" aria-hidden="true"><path fill-rule="evenodd" d="M1.5 1.75a.75.75 0 00-1.5 0v12.5c0 .414.336.75.75.75h14.5a.75.75 0 000-1.5H1.5V1.75zm14.28 2.53a.75.75 0 00-1.06-1.06L10 7.94 7.53 5.47a.75.75 0 00-1.06 0L3.22 8.72a.75.75 0 001.06 1.06L7 7.06l2.47 2.47a.75.75 0 001.06 0l5.25-5.25z"></path></svg>
            <span data-content="Insights">Insights</span>
              <span title="Not available" class="Counter "></span>
</a>

      </li>
      <li class="d-flex">
        <a class="js-selected-navigation-item UnderlineNav-item hx_underlinenav-item no-wrap js-responsive-underlinenav-item" data-tab-item="i8settings-tab" data-ga-click="Repository, Navigation click, Settings tab" data-selected-links="repo_settings repo_branch_settings hooks integration_installations repo_keys_settings issue_template_editor secrets_settings key_links_settings repo_actions_settings notifications repository_environments /HumbertoMezaRuiz/FisicaComputacional1/settings" href="/HumbertoMezaRuiz/FisicaComputacional1/settings">
              <svg class="octicon octicon-gear UnderlineNav-octicon d-none d-sm-inline" height="16" viewBox="0 0 16 16" version="1.1" width="16" aria-hidden="true"><path fill-rule="evenodd" d="M7.429 1.525a6.593 6.593 0 011.142 0c.036.003.108.036.137.146l.289 1.105c.147.56.55.967.997 1.189.174.086.341.183.501.29.417.278.97.423 1.53.27l1.102-.303c.11-.03.175.016.195.046.219.31.41.641.573.989.014.031.022.11-.059.19l-.815.806c-.411.406-.562.957-.53 1.456a4.588 4.588 0 010 .582c-.032.499.119 1.05.53 1.456l.815.806c.08.08.073.159.059.19a6.494 6.494 0 01-.573.99c-.02.029-.086.074-.195.045l-1.103-.303c-.559-.153-1.112-.008-1.529.27-.16.107-.327.204-.5.29-.449.222-.851.628-.998 1.189l-.289 1.105c-.029.11-.101.143-.137.146a6.613 6.613 0 01-1.142 0c-.036-.003-.108-.037-.137-.146l-.289-1.105c-.147-.56-.55-.967-.997-1.189a4.502 4.502 0 01-.501-.29c-.417-.278-.97-.423-1.53-.27l-1.102.303c-.11.03-.175-.016-.195-.046a6.492 6.492 0 01-.573-.989c-.014-.031-.022-.11.059-.19l.815-.806c.411-.406.562-.957.53-1.456a4.587 4.587 0 010-.582c.032-.499-.119-1.05-.53-1.456l-.815-.806c-.08-.08-.073-.159-.059-.19a6.44 6.44 0 01.573-.99c.02-.029.086-.075.195-.045l1.103.303c.559.153 1.112.008 1.529-.27.16-.107.327-.204.5-.29.449-.222.851-.628.998-1.189l.289-1.105c.029-.11.101-.143.137-.146zM8 0c-.236 0-.47.01-.701.03-.743.065-1.29.615-1.458 1.261l-.29 1.106c-.017.066-.078.158-.211.224a5.994 5.994 0 00-.668.386c-.123.082-.233.09-.3.071L3.27 2.776c-.644-.177-1.392.02-1.82.63a7.977 7.977 0 00-.704 1.217c-.315.675-.111 1.422.363 1.891l.815.806c.05.048.098.147.088.294a6.084 6.084 0 000 .772c.01.147-.038.246-.088.294l-.815.806c-.474.469-.678 1.216-.363 1.891.2.428.436.835.704 1.218.428.609 1.176.806 1.82.63l1.103-.303c.066-.019.176-.011.299.071.213.143.436.272.668.386.133.066.194.158.212.224l.289 1.106c.169.646.715 1.196 1.458 1.26a8.094 8.094 0 001.402 0c.743-.064 1.29-.614 1.458-1.26l.29-1.106c.017-.066.078-.158.211-.224a5.98 5.98 0 00.668-.386c.123-.082.233-.09.3-.071l1.102.302c.644.177 1.392-.02 1.82-.63.268-.382.505-.789.704-1.217.315-.675.111-1.422-.364-1.891l-.814-.806c-.05-.048-.098-.147-.088-.294a6.1 6.1 0 000-.772c-.01-.147.039-.246.088-.294l.814-.806c.475-.469.679-1.216.364-1.891a7.992 7.992 0 00-.704-1.218c-.428-.609-1.176-.806-1.82-.63l-1.103.303c-.066.019-.176.011-.299-.071a5.991 5.991 0 00-.668-.386c-.133-.066-.194-.158-.212-.224L10.16 1.29C9.99.645 9.444.095 8.701.031A8.094 8.094 0 008 0zm1.5 8a1.5 1.5 0 11-3 0 1.5 1.5 0 013 0zM11 8a3 3 0 11-6 0 3 3 0 016 0z"></path></svg>
            <span data-content="Settings">Settings</span>
              <span title="Not available" class="Counter "></span>
</a>

      </li>

</ul>        <div class="position-absolute right-0 pr-3 pr-md-4 pr-lg-5 js-responsive-underlinenav-overflow" style="visibility:hidden;">
      <details class="details-overlay details-reset position-relative">
  <summary role="button">
    <div class="UnderlineNav-item mr-0 border-0">
            <svg class="octicon octicon-kebab-horizontal" viewBox="0 0 16 16" version="1.1" width="16" height="16" aria-hidden="true"><path d="M8 9a1.5 1.5 0 100-3 1.5 1.5 0 000 3zM1.5 9a1.5 1.5 0 100-3 1.5 1.5 0 000 3zm13 0a1.5 1.5 0 100-3 1.5 1.5 0 000 3z"></path></svg>
            <span class="sr-only">More</span>
          </div>
</summary>  <div>
    <details-menu role="menu" class="dropdown-menu dropdown-menu-sw ">
  
            <ul>
                <li data-menu-item="i0code-tab" hidden>
                  <a role="menuitem" class="js-selected-navigation-item dropdown-item" data-selected-links=" /HumbertoMezaRuiz/FisicaComputacional1" href="/HumbertoMezaRuiz/FisicaComputacional1">
                    Code
</a>                </li>
                <li data-menu-item="i1issues-tab" hidden>
                  <a role="menuitem" class="js-selected-navigation-item dropdown-item" data-selected-links=" /HumbertoMezaRuiz/FisicaComputacional1/issues" href="/HumbertoMezaRuiz/FisicaComputacional1/issues">
                    Issues
</a>                </li>
                <li data-menu-item="i2pull-requests-tab" hidden>
                  <a role="menuitem" class="js-selected-navigation-item dropdown-item" data-selected-links=" /HumbertoMezaRuiz/FisicaComputacional1/pulls" href="/HumbertoMezaRuiz/FisicaComputacional1/pulls">
                    Pull requests
</a>                </li>
                <li data-menu-item="i3actions-tab" hidden>
                  <a role="menuitem" class="js-selected-navigation-item dropdown-item" data-selected-links=" /HumbertoMezaRuiz/FisicaComputacional1/actions" href="/HumbertoMezaRuiz/FisicaComputacional1/actions">
                    Actions
</a>                </li>
                <li data-menu-item="i4projects-tab" hidden>
                  <a role="menuitem" class="js-selected-navigation-item dropdown-item" data-selected-links=" /HumbertoMezaRuiz/FisicaComputacional1/projects" href="/HumbertoMezaRuiz/FisicaComputacional1/projects">
                    Projects
</a>                </li>
                <li data-menu-item="i5wiki-tab" hidden>
                  <a role="menuitem" class="js-selected-navigation-item dropdown-item" data-selected-links=" /HumbertoMezaRuiz/FisicaComputacional1/wiki" href="/HumbertoMezaRuiz/FisicaComputacional1/wiki">
                    Wiki
</a>                </li>
                <li data-menu-item="i6security-tab" hidden>
                  <a role="menuitem" class="js-selected-navigation-item dropdown-item" data-selected-links=" /HumbertoMezaRuiz/FisicaComputacional1/security" href="/HumbertoMezaRuiz/FisicaComputacional1/security">
                    Security
</a>                </li>
                <li data-menu-item="i7insights-tab" hidden>
                  <a role="menuitem" class="js-selected-navigation-item dropdown-item" data-selected-links=" /HumbertoMezaRuiz/FisicaComputacional1/pulse" href="/HumbertoMezaRuiz/FisicaComputacional1/pulse">
                    Insights
</a>                </li>
                <li data-menu-item="i8settings-tab" hidden>
                  <a role="menuitem" class="js-selected-navigation-item dropdown-item" data-selected-links=" /HumbertoMezaRuiz/FisicaComputacional1/settings" href="/HumbertoMezaRuiz/FisicaComputacional1/settings">
                    Settings
</a>                </li>
            </ul>

</details-menu>
</div></details>    </div>

</nav>
  </div>


<div class="container-xl clearfix new-discussion-timeline px-3 px-md-4 px-lg-5">
  <div class="repository-content " >

    
      

  <div class="wants-full-width-container"></div>

  <a class="d-none js-permalink-shortcut" data-hotkey="y" href="/HumbertoMezaRuiz/FisicaComputacional1/blame/209f1c754d119a59e339d9cec6733a66fcc5aa85/%5CActividad3%5CActividad3.ipynb">Permalink</a>

  <div class="breadcrumb css-truncate blame-breadcrumb">
    <span id="blob-path" class="css-truncate-target"><span class="js-repo-root text-bold"><span class="js-path-segment d-inline-block wb-break-all"><a data-pjax="true" href="/HumbertoMezaRuiz/FisicaComputacional1"><span>FisicaComputacional1</span></a></span></span><span class="separator">/</span><strong class="final-path">\Actividad3\Actividad3.ipynb</strong></span>
    <clipboard-copy value="\Actividad3\Actividad3.ipynb" aria-label="Copy file path to clipboard" class="btn btn-sm">
      <svg class="octicon octicon-clippy" height="16" viewBox="0 0 16 16" version="1.1" width="16" aria-hidden="true"><path fill-rule="evenodd" d="M5.75 1a.75.75 0 00-.75.75v3c0 .414.336.75.75.75h4.5a.75.75 0 00.75-.75v-3a.75.75 0 00-.75-.75h-4.5zm.75 3V2.5h3V4h-3zm-2.874-.467a.75.75 0 00-.752-1.298A1.75 1.75 0 002 3.75v9.5c0 .966.784 1.75 1.75 1.75h8.5A1.75 1.75 0 0014 13.25v-9.5a1.75 1.75 0 00-.874-1.515.75.75 0 10-.752 1.298.25.25 0 01.126.217v9.5a.25.25 0 01-.25.25h-8.5a.25.25 0 01-.25-.25v-9.5a.25.25 0 01.126-.217z"></path></svg>
    </clipboard-copy>
  </div>

  <div class="line-age-legend float-right mt-n4 f6">
    <span>Newer</span>
    <ol class="d-inline-block mx-1 list-style-none">
        <li class="heat d-inline-block" data-heat="1"></li>
        <li class="heat d-inline-block" data-heat="2"></li>
        <li class="heat d-inline-block" data-heat="3"></li>
        <li class="heat d-inline-block" data-heat="4"></li>
        <li class="heat d-inline-block" data-heat="5"></li>
        <li class="heat d-inline-block" data-heat="6"></li>
        <li class="heat d-inline-block" data-heat="7"></li>
        <li class="heat d-inline-block" data-heat="8"></li>
        <li class="heat d-inline-block" data-heat="9"></li>
        <li class="heat d-inline-block" data-heat="10"></li>
    </ol>
    <span>Older</span>
  </div>

  <div class="file">
    <div class="file-header">
      <div class="file-actions">
        <div class="BtnGroup">
          <a id="raw-url" class="btn btn-sm BtnGroup-item" href="/HumbertoMezaRuiz/FisicaComputacional1/raw/main/%5CActividad3%5CActividad3.ipynb">Raw</a>
          <a class="btn btn-sm js-update-url-with-hash BtnGroup-item" href="/HumbertoMezaRuiz/FisicaComputacional1/blob/main/%5CActividad3%5CActividad3.ipynb">Normal view</a>
          <a rel="nofollow" class="btn btn-sm BtnGroup-item" href="/HumbertoMezaRuiz/FisicaComputacional1/commits/main/%5CActividad3%5CActividad3.ipynb">History</a>
        </div>
      </div>


  

      <div class="file-info">
        <svg class="octicon octicon-file" viewBox="0 0 16 16" version="1.1" width="16" height="16" aria-hidden="true"><path fill-rule="evenodd" d="M3.75 1.5a.25.25 0 00-.25.25v11.5c0 .138.112.25.25.25h8.5a.25.25 0 00.25-.25V6H9.75A1.75 1.75 0 018 4.25V1.5H3.75zm5.75.56v2.19c0 .138.112.25.25.25h2.19L9.5 2.06zM2 1.75C2 .784 2.784 0 3.75 0h5.086c.464 0 .909.184 1.237.513l3.414 3.414c.329.328.513.773.513 1.237v8.086A1.75 1.75 0 0112.25 15h-8.5A1.75 1.75 0 012 13.25V1.75z"></path></svg>
        <span class="file-mode" title="File Mode">100644</span>
        <span class="file-info-divider"></span>
          793 lines (793 sloc)
          <span class="file-info-divider"></span>
        26 KB
      </div>
    </div>

    <div class="blob-wrapper">
      <div class="blame-container  highlight data js-file-line-container tab-size" data-tab-size="8" data-paste-markdown-skip>

          <div class="blame-hunk d-flex border-gray-light border-bottom">

            <div class="blame-commit flex-self-stretch mr-1" data-heat="1">
              <div class="blame-commit-info pl-1 pr-2">

                <div class="no-wrap d-flex flex-items-start">
                  
<div class="AvatarStack flex-self-start ">
  <div class="AvatarStack-body" aria-label="HumbertoMezaRuiz">
        <a class="avatar avatar-user" data-skip-pjax="true" data-hovercard-type="user" data-hovercard-url="/users/HumbertoMezaRuiz/hovercard" data-octo-click="hovercard-link-click" data-octo-dimensions="link_type:self" style="width:20px;height:20px;" href="/HumbertoMezaRuiz">
          <img height="20" width="20" alt="@HumbertoMezaRuiz" src="https://avatars.githubusercontent.com/u/77270156?s=60&amp;v=4" class=" avatar-user" />
</a>  </div>
</div>

                  <div class="blame-commit-content d-flex no-wrap flex-items-center">
                    <div class="blame-commit-message overflow-hidden pt-1 f6">
                      <a class="message f6 text-gray-dark" data-hovercard-type="commit" data-hovercard-url="/HumbertoMezaRuiz/FisicaComputacional1/commit/209f1c754d119a59e339d9cec6733a66fcc5aa85/hovercard" data-pjax="true" href="/HumbertoMezaRuiz/FisicaComputacional1/commit/209f1c754d119a59e339d9cec6733a66fcc5aa85">Créé avec Colaboratory</a>
                    </div>
                  </div>
                  <div class="blame-commit-date ml-3" data-heat="1"><time-ago datetime="2021-01-27T19:07:15Z" class="no-wrap">Jan 27, 2021</time-ago></div>
                </div>
              </div>
            </div>

            <div class="blob-reblame pl-1 pr-1">
              
            </div>

            <div class="width-full">
                <div class="d-flex flex-justify-start flex-items-start">
                  <div class="blob-num blame-blob-num bg-gray-light js-line-number" id="L1">1</div>
                  <div class="blob-code blob-code-inner js-file-line" id="LC1">{</div>
                </div>
                <div class="d-flex flex-justify-start flex-items-start">
                  <div class="blob-num blame-blob-num bg-gray-light js-line-number" id="L2">2</div>
                  <div class="blob-code blob-code-inner js-file-line" id="LC2">  <span class="pl-s"><span class="pl-pds">&quot;</span>nbformat<span class="pl-pds">&quot;</span></span>: <span class="pl-c1">4</span>,</div>
                </div>
                <div class="d-flex flex-justify-start flex-items-start">
                  <div class="blob-num blame-blob-num bg-gray-light js-line-number" id="L3">3</div>
                  <div class="blob-code blob-code-inner js-file-line" id="LC3">  <span class="pl-s"><span class="pl-pds">&quot;</span>nbformat_minor<span class="pl-pds">&quot;</span></span>: <span class="pl-c1">0</span>,</div>
                </div>
                <div class="d-flex flex-justify-start flex-items-start">
                  <div class="blob-num blame-blob-num bg-gray-light js-line-number" id="L4">4</div>
                  <div class="blob-code blob-code-inner js-file-line" id="LC4">  <span class="pl-s"><span class="pl-pds">&quot;</span>metadata<span class="pl-pds">&quot;</span></span>: {</div>
                </div>
                <div class="d-flex flex-justify-start flex-items-start">
                  <div class="blob-num blame-blob-num bg-gray-light js-line-number" id="L5">5</div>
                  <div class="blob-code blob-code-inner js-file-line" id="LC5">    <span class="pl-s"><span class="pl-pds">&quot;</span>colab<span class="pl-pds">&quot;</span></span>: {</div>
                </div>
                <div class="d-flex flex-justify-start flex-items-start">
                  <div class="blob-num blame-blob-num bg-gray-light js-line-number" id="L6">6</div>
                  <div class="blob-code blob-code-inner js-file-line" id="LC6">      <span class="pl-s"><span class="pl-pds">&quot;</span>name<span class="pl-pds">&quot;</span></span>: <span class="pl-s"><span class="pl-pds">&quot;</span>Actividad3.ipynb<span class="pl-pds">&quot;</span></span>,</div>
                </div>
                <div class="d-flex flex-justify-start flex-items-start">
                  <div class="blob-num blame-blob-num bg-gray-light js-line-number" id="L7">7</div>
                  <div class="blob-code blob-code-inner js-file-line" id="LC7">      <span class="pl-s"><span class="pl-pds">&quot;</span>provenance<span class="pl-pds">&quot;</span></span>: [],</div>
                </div>
                <div class="d-flex flex-justify-start flex-items-start">
                  <div class="blob-num blame-blob-num bg-gray-light js-line-number" id="L8">8</div>
                  <div class="blob-code blob-code-inner js-file-line" id="LC8">      <span class="pl-s"><span class="pl-pds">&quot;</span>authorship_tag<span class="pl-pds">&quot;</span></span>: <span class="pl-s"><span class="pl-pds">&quot;</span>ABX9TyNDYagUAzsCSSKkCkZhpvNM<span class="pl-pds">&quot;</span></span>,</div>
                </div>
                <div class="d-flex flex-justify-start flex-items-start">
                  <div class="blob-num blame-blob-num bg-gray-light js-line-number" id="L9">9</div>
                  <div class="blob-code blob-code-inner js-file-line" id="LC9">      <span class="pl-s"><span class="pl-pds">&quot;</span>include_colab_link<span class="pl-pds">&quot;</span></span>: <span class="pl-c1">true</span></div>
                </div>
                <div class="d-flex flex-justify-start flex-items-start">
                  <div class="blob-num blame-blob-num bg-gray-light js-line-number" id="L10">10</div>
                  <div class="blob-code blob-code-inner js-file-line" id="LC10">    },</div>
                </div>
                <div class="d-flex flex-justify-start flex-items-start">
                  <div class="blob-num blame-blob-num bg-gray-light js-line-number" id="L11">11</div>
                  <div class="blob-code blob-code-inner js-file-line" id="LC11">    <span class="pl-s"><span class="pl-pds">&quot;</span>kernelspec<span class="pl-pds">&quot;</span></span>: {</div>
                </div>
                <div class="d-flex flex-justify-start flex-items-start">
                  <div class="blob-num blame-blob-num bg-gray-light js-line-number" id="L12">12</div>
                  <div class="blob-code blob-code-inner js-file-line" id="LC12">      <span class="pl-s"><span class="pl-pds">&quot;</span>name<span class="pl-pds">&quot;</span></span>: <span class="pl-s"><span class="pl-pds">&quot;</span>python3<span class="pl-pds">&quot;</span></span>,</div>
                </div>
                <div class="d-flex flex-justify-start flex-items-start">
                  <div class="blob-num blame-blob-num bg-gray-light js-line-number" id="L13">13</div>
                  <div class="blob-code blob-code-inner js-file-line" id="LC13">      <span class="pl-s"><span class="pl-pds">&quot;</span>display_name<span class="pl-pds">&quot;</span></span>: <span class="pl-s"><span class="pl-pds">&quot;</span>Python 3<span class="pl-pds">&quot;</span></span></div>
                </div>
                <div class="d-flex flex-justify-start flex-items-start">
                  <div class="blob-num blame-blob-num bg-gray-light js-line-number" id="L14">14</div>
                  <div class="blob-code blob-code-inner js-file-line" id="LC14">    }</div>
                </div>
                <div class="d-flex flex-justify-start flex-items-start">
                  <div class="blob-num blame-blob-num bg-gray-light js-line-number" id="L15">15</div>
                  <div class="blob-code blob-code-inner js-file-line" id="LC15">  },</div>
                </div>
                <div class="d-flex flex-justify-start flex-items-start">
                  <div class="blob-num blame-blob-num bg-gray-light js-line-number" id="L16">16</div>
                  <div class="blob-code blob-code-inner js-file-line" id="LC16">  <span class="pl-s"><span class="pl-pds">&quot;</span>cells<span class="pl-pds">&quot;</span></span>: [</div>
                </div>
                <div class="d-flex flex-justify-start flex-items-start">
                  <div class="blob-num blame-blob-num bg-gray-light js-line-number" id="L17">17</div>
                  <div class="blob-code blob-code-inner js-file-line" id="LC17">    {</div>
                </div>
                <div class="d-flex flex-justify-start flex-items-start">
                  <div class="blob-num blame-blob-num bg-gray-light js-line-number" id="L18">18</div>
                  <div class="blob-code blob-code-inner js-file-line" id="LC18">      <span class="pl-s"><span class="pl-pds">&quot;</span>cell_type<span class="pl-pds">&quot;</span></span>: <span class="pl-s"><span class="pl-pds">&quot;</span>markdown<span class="pl-pds">&quot;</span></span>,</div>
                </div>
                <div class="d-flex flex-justify-start flex-items-start">
                  <div class="blob-num blame-blob-num bg-gray-light js-line-number" id="L19">19</div>
                  <div class="blob-code blob-code-inner js-file-line" id="LC19">      <span class="pl-s"><span class="pl-pds">&quot;</span>metadata<span class="pl-pds">&quot;</span></span>: {</div>
                </div>
                <div class="d-flex flex-justify-start flex-items-start">
                  <div class="blob-num blame-blob-num bg-gray-light js-line-number" id="L20">20</div>
                  <div class="blob-code blob-code-inner js-file-line" id="LC20">        <span class="pl-s"><span class="pl-pds">&quot;</span>id<span class="pl-pds">&quot;</span></span>: <span class="pl-s"><span class="pl-pds">&quot;</span>view-in-github<span class="pl-pds">&quot;</span></span>,</div>
                </div>
                <div class="d-flex flex-justify-start flex-items-start">
                  <div class="blob-num blame-blob-num bg-gray-light js-line-number" id="L21">21</div>
                  <div class="blob-code blob-code-inner js-file-line" id="LC21">        <span class="pl-s"><span class="pl-pds">&quot;</span>colab_type<span class="pl-pds">&quot;</span></span>: <span class="pl-s"><span class="pl-pds">&quot;</span>text<span class="pl-pds">&quot;</span></span></div>
                </div>
                <div class="d-flex flex-justify-start flex-items-start">
                  <div class="blob-num blame-blob-num bg-gray-light js-line-number" id="L22">22</div>
                  <div class="blob-code blob-code-inner js-file-line" id="LC22">      },</div>
                </div>
                <div class="d-flex flex-justify-start flex-items-start">
                  <div class="blob-num blame-blob-num bg-gray-light js-line-number" id="L23">23</div>
                  <div class="blob-code blob-code-inner js-file-line" id="LC23">      <span class="pl-s"><span class="pl-pds">&quot;</span>source<span class="pl-pds">&quot;</span></span>: [</div>
                </div>
                <div class="d-flex flex-justify-start flex-items-start">
                  <div class="blob-num blame-blob-num bg-gray-light js-line-number" id="L24">24</div>
                  <div class="blob-code blob-code-inner js-file-line" id="LC24">        <span class="pl-s"><span class="pl-pds">&quot;</span>&lt;a href=<span class="pl-cce">\&quot;</span>https://colab.research.google.com/github/HumbertoMezaRuiz/FisicaComputacional1/blob/main/%5CActividad3%5CActividad3.ipynb<span class="pl-cce">\&quot;</span> target=<span class="pl-cce">\&quot;</span>_parent<span class="pl-cce">\&quot;</span>&gt;&lt;img src=<span class="pl-cce">\&quot;</span>https://colab.research.google.com/assets/colab-badge.svg<span class="pl-cce">\&quot;</span> alt=<span class="pl-cce">\&quot;</span>Open In Colab<span class="pl-cce">\&quot;</span>/&gt;&lt;/a&gt;<span class="pl-pds">&quot;</span></span></div>
                </div>
                <div class="d-flex flex-justify-start flex-items-start">
                  <div class="blob-num blame-blob-num bg-gray-light js-line-number" id="L25">25</div>
                  <div class="blob-code blob-code-inner js-file-line" id="LC25">      ]</div>
                </div>
                <div class="d-flex flex-justify-start flex-items-start">
                  <div class="blob-num blame-blob-num bg-gray-light js-line-number" id="L26">26</div>
                  <div class="blob-code blob-code-inner js-file-line" id="LC26">    },</div>
                </div>
                <div class="d-flex flex-justify-start flex-items-start">
                  <div class="blob-num blame-blob-num bg-gray-light js-line-number" id="L27">27</div>
                  <div class="blob-code blob-code-inner js-file-line" id="LC27">    {</div>
                </div>
                <div class="d-flex flex-justify-start flex-items-start">
                  <div class="blob-num blame-blob-num bg-gray-light js-line-number" id="L28">28</div>
                  <div class="blob-code blob-code-inner js-file-line" id="LC28">      <span class="pl-s"><span class="pl-pds">&quot;</span>cell_type<span class="pl-pds">&quot;</span></span>: <span class="pl-s"><span class="pl-pds">&quot;</span>code<span class="pl-pds">&quot;</span></span>,</div>
                </div>
                <div class="d-flex flex-justify-start flex-items-start">
                  <div class="blob-num blame-blob-num bg-gray-light js-line-number" id="L29">29</div>
                  <div class="blob-code blob-code-inner js-file-line" id="LC29">      <span class="pl-s"><span class="pl-pds">&quot;</span>metadata<span class="pl-pds">&quot;</span></span>: {</div>
                </div>
                <div class="d-flex flex-justify-start flex-items-start">
                  <div class="blob-num blame-blob-num bg-gray-light js-line-number" id="L30">30</div>
                  <div class="blob-code blob-code-inner js-file-line" id="LC30">        <span class="pl-s"><span class="pl-pds">&quot;</span>id<span class="pl-pds">&quot;</span></span>: <span class="pl-s"><span class="pl-pds">&quot;</span>aKYWv4NB0wrn<span class="pl-pds">&quot;</span></span></div>
                </div>
                <div class="d-flex flex-justify-start flex-items-start">
                  <div class="blob-num blame-blob-num bg-gray-light js-line-number" id="L31">31</div>
                  <div class="blob-code blob-code-inner js-file-line" id="LC31">      },</div>
                </div>
                <div class="d-flex flex-justify-start flex-items-start">
                  <div class="blob-num blame-blob-num bg-gray-light js-line-number" id="L32">32</div>
                  <div class="blob-code blob-code-inner js-file-line" id="LC32">      <span class="pl-s"><span class="pl-pds">&quot;</span>source<span class="pl-pds">&quot;</span></span>: [</div>
                </div>
                <div class="d-flex flex-justify-start flex-items-start">
                  <div class="blob-num blame-blob-num bg-gray-light js-line-number" id="L33">33</div>
                  <div class="blob-code blob-code-inner js-file-line" id="LC33">        <span class="pl-s"><span class="pl-pds">&quot;</span>import numpy as np<span class="pl-cce">\r\n</span><span class="pl-pds">&quot;</span></span>,</div>
                </div>
                <div class="d-flex flex-justify-start flex-items-start">
                  <div class="blob-num blame-blob-num bg-gray-light js-line-number" id="L34">34</div>
                  <div class="blob-code blob-code-inner js-file-line" id="LC34">        <span class="pl-s"><span class="pl-pds">&quot;</span>import pandas as pd<span class="pl-cce">\r\n</span><span class="pl-pds">&quot;</span></span>,</div>
                </div>
                <div class="d-flex flex-justify-start flex-items-start">
                  <div class="blob-num blame-blob-num bg-gray-light js-line-number" id="L35">35</div>
                  <div class="blob-code blob-code-inner js-file-line" id="LC35">        <span class="pl-s"><span class="pl-pds">&quot;</span><span class="pl-cce">\r\n</span><span class="pl-pds">&quot;</span></span>,</div>
                </div>
                <div class="d-flex flex-justify-start flex-items-start">
                  <div class="blob-num blame-blob-num bg-gray-light js-line-number" id="L36">36</div>
                  <div class="blob-code blob-code-inner js-file-line" id="LC36">        <span class="pl-s"><span class="pl-pds">&quot;</span>url1 = <span class="pl-cce">\&quot;</span>https://raw.githubusercontent.com/HumbertoMezaRuiz/FisicaComputacional1/main/Actividad1/diarios.txt<span class="pl-cce">\&quot;\r\n</span><span class="pl-pds">&quot;</span></span>,</div>
                </div>
                <div class="d-flex flex-justify-start flex-items-start">
                  <div class="blob-num blame-blob-num bg-gray-light js-line-number" id="L37">37</div>
                  <div class="blob-code blob-code-inner js-file-line" id="LC37">        <span class="pl-s"><span class="pl-pds">&quot;</span>encabezado = [&#39;Fecha&#39;,&#39;Precipit&#39;,&#39;Evap&#39;,&#39;Tmax&#39;,&#39;Tmin&#39;]<span class="pl-cce">\r\n</span><span class="pl-pds">&quot;</span></span>,</div>
                </div>
                <div class="d-flex flex-justify-start flex-items-start">
                  <div class="blob-num blame-blob-num bg-gray-light js-line-number" id="L38">38</div>
                  <div class="blob-code blob-code-inner js-file-line" id="LC38">        <span class="pl-s"><span class="pl-pds">&quot;</span>df_dist = pd.read_csv(url1, names=encabezado, encoding=&#39;cp1251&#39;, sep=&#39;<span class="pl-cce">\\</span>s+&#39;, skiprows=19, skipfooter=2, header=None, engine=&#39;python&#39;)<span class="pl-cce">\r\n</span><span class="pl-pds">&quot;</span></span></div>
                </div>
                <div class="d-flex flex-justify-start flex-items-start">
                  <div class="blob-num blame-blob-num bg-gray-light js-line-number" id="L39">39</div>
                  <div class="blob-code blob-code-inner js-file-line" id="LC39">      ],</div>
                </div>
                <div class="d-flex flex-justify-start flex-items-start">
                  <div class="blob-num blame-blob-num bg-gray-light js-line-number" id="L40">40</div>
                  <div class="blob-code blob-code-inner js-file-line" id="LC40">      <span class="pl-s"><span class="pl-pds">&quot;</span>execution_count<span class="pl-pds">&quot;</span></span>: <span class="pl-c1">27</span>,</div>
                </div>
                <div class="d-flex flex-justify-start flex-items-start">
                  <div class="blob-num blame-blob-num bg-gray-light js-line-number" id="L41">41</div>
                  <div class="blob-code blob-code-inner js-file-line" id="LC41">      <span class="pl-s"><span class="pl-pds">&quot;</span>outputs<span class="pl-pds">&quot;</span></span>: []</div>
                </div>
                <div class="d-flex flex-justify-start flex-items-start">
                  <div class="blob-num blame-blob-num bg-gray-light js-line-number" id="L42">42</div>
                  <div class="blob-code blob-code-inner js-file-line" id="LC42">    },</div>
                </div>
                <div class="d-flex flex-justify-start flex-items-start">
                  <div class="blob-num blame-blob-num bg-gray-light js-line-number" id="L43">43</div>
                  <div class="blob-code blob-code-inner js-file-line" id="LC43">    {</div>
                </div>
                <div class="d-flex flex-justify-start flex-items-start">
                  <div class="blob-num blame-blob-num bg-gray-light js-line-number" id="L44">44</div>
                  <div class="blob-code blob-code-inner js-file-line" id="LC44">      <span class="pl-s"><span class="pl-pds">&quot;</span>cell_type<span class="pl-pds">&quot;</span></span>: <span class="pl-s"><span class="pl-pds">&quot;</span>code<span class="pl-pds">&quot;</span></span>,</div>
                </div>
                <div class="d-flex flex-justify-start flex-items-start">
                  <div class="blob-num blame-blob-num bg-gray-light js-line-number" id="L45">45</div>
                  <div class="blob-code blob-code-inner js-file-line" id="LC45">      <span class="pl-s"><span class="pl-pds">&quot;</span>metadata<span class="pl-pds">&quot;</span></span>: {</div>
                </div>
                <div class="d-flex flex-justify-start flex-items-start">
                  <div class="blob-num blame-blob-num bg-gray-light js-line-number" id="L46">46</div>
                  <div class="blob-code blob-code-inner js-file-line" id="LC46">        <span class="pl-s"><span class="pl-pds">&quot;</span>colab<span class="pl-pds">&quot;</span></span>: {</div>
                </div>
                <div class="d-flex flex-justify-start flex-items-start">
                  <div class="blob-num blame-blob-num bg-gray-light js-line-number" id="L47">47</div>
                  <div class="blob-code blob-code-inner js-file-line" id="LC47">          <span class="pl-s"><span class="pl-pds">&quot;</span>base_uri<span class="pl-pds">&quot;</span></span>: <span class="pl-s"><span class="pl-pds">&quot;</span>https://localhost:8080/<span class="pl-pds">&quot;</span></span></div>
                </div>
                <div class="d-flex flex-justify-start flex-items-start">
                  <div class="blob-num blame-blob-num bg-gray-light js-line-number" id="L48">48</div>
                  <div class="blob-code blob-code-inner js-file-line" id="LC48">        },</div>
                </div>
                <div class="d-flex flex-justify-start flex-items-start">
                  <div class="blob-num blame-blob-num bg-gray-light js-line-number" id="L49">49</div>
                  <div class="blob-code blob-code-inner js-file-line" id="LC49">        <span class="pl-s"><span class="pl-pds">&quot;</span>id<span class="pl-pds">&quot;</span></span>: <span class="pl-s"><span class="pl-pds">&quot;</span>Im2MTQs7IsZi<span class="pl-pds">&quot;</span></span>,</div>
                </div>
                <div class="d-flex flex-justify-start flex-items-start">
                  <div class="blob-num blame-blob-num bg-gray-light js-line-number" id="L50">50</div>
                  <div class="blob-code blob-code-inner js-file-line" id="LC50">        <span class="pl-s"><span class="pl-pds">&quot;</span>outputId<span class="pl-pds">&quot;</span></span>: <span class="pl-s"><span class="pl-pds">&quot;</span>d1643307-c2d9-44ed-884e-6d669c751a33<span class="pl-pds">&quot;</span></span></div>
                </div>
                <div class="d-flex flex-justify-start flex-items-start">
                  <div class="blob-num blame-blob-num bg-gray-light js-line-number" id="L51">51</div>
                  <div class="blob-code blob-code-inner js-file-line" id="LC51">      },</div>
                </div>
                <div class="d-flex flex-justify-start flex-items-start">
                  <div class="blob-num blame-blob-num bg-gray-light js-line-number" id="L52">52</div>
                  <div class="blob-code blob-code-inner js-file-line" id="LC52">      <span class="pl-s"><span class="pl-pds">&quot;</span>source<span class="pl-pds">&quot;</span></span>: [</div>
                </div>
                <div class="d-flex flex-justify-start flex-items-start">
                  <div class="blob-num blame-blob-num bg-gray-light js-line-number" id="L53">53</div>
                  <div class="blob-code blob-code-inner js-file-line" id="LC53">        <span class="pl-s"><span class="pl-pds">&quot;</span>print(df_dist.head(10))<span class="pl-cce">\r\n</span><span class="pl-pds">&quot;</span></span>,</div>
                </div>
                <div class="d-flex flex-justify-start flex-items-start">
                  <div class="blob-num blame-blob-num bg-gray-light js-line-number" id="L54">54</div>
                  <div class="blob-code blob-code-inner js-file-line" id="LC54">        <span class="pl-s"><span class="pl-pds">&quot;</span>print(df_dist.tail(10))<span class="pl-pds">&quot;</span></span></div>
                </div>
                <div class="d-flex flex-justify-start flex-items-start">
                  <div class="blob-num blame-blob-num bg-gray-light js-line-number" id="L55">55</div>
                  <div class="blob-code blob-code-inner js-file-line" id="LC55">      ],</div>
                </div>
                <div class="d-flex flex-justify-start flex-items-start">
                  <div class="blob-num blame-blob-num bg-gray-light js-line-number" id="L56">56</div>
                  <div class="blob-code blob-code-inner js-file-line" id="LC56">      <span class="pl-s"><span class="pl-pds">&quot;</span>execution_count<span class="pl-pds">&quot;</span></span>: <span class="pl-c1">32</span>,</div>
                </div>
                <div class="d-flex flex-justify-start flex-items-start">
                  <div class="blob-num blame-blob-num bg-gray-light js-line-number" id="L57">57</div>
                  <div class="blob-code blob-code-inner js-file-line" id="LC57">      <span class="pl-s"><span class="pl-pds">&quot;</span>outputs<span class="pl-pds">&quot;</span></span>: [</div>
                </div>
                <div class="d-flex flex-justify-start flex-items-start">
                  <div class="blob-num blame-blob-num bg-gray-light js-line-number" id="L58">58</div>
                  <div class="blob-code blob-code-inner js-file-line" id="LC58">        {</div>
                </div>
                <div class="d-flex flex-justify-start flex-items-start">
                  <div class="blob-num blame-blob-num bg-gray-light js-line-number" id="L59">59</div>
                  <div class="blob-code blob-code-inner js-file-line" id="LC59">          <span class="pl-s"><span class="pl-pds">&quot;</span>output_type<span class="pl-pds">&quot;</span></span>: <span class="pl-s"><span class="pl-pds">&quot;</span>stream<span class="pl-pds">&quot;</span></span>,</div>
                </div>
                <div class="d-flex flex-justify-start flex-items-start">
                  <div class="blob-num blame-blob-num bg-gray-light js-line-number" id="L60">60</div>
                  <div class="blob-code blob-code-inner js-file-line" id="LC60">          <span class="pl-s"><span class="pl-pds">&quot;</span>text<span class="pl-pds">&quot;</span></span>: [</div>
                </div>
                <div class="d-flex flex-justify-start flex-items-start">
                  <div class="blob-num blame-blob-num bg-gray-light js-line-number" id="L61">61</div>
                  <div class="blob-code blob-code-inner js-file-line" id="LC61">            <span class="pl-s"><span class="pl-pds">&quot;</span>        Fecha Precipit  Evap Tmax Tmin<span class="pl-cce">\n</span><span class="pl-pds">&quot;</span></span>,</div>
                </div>
                <div class="d-flex flex-justify-start flex-items-start">
                  <div class="blob-num blame-blob-num bg-gray-light js-line-number" id="L62">62</div>
                  <div class="blob-code blob-code-inner js-file-line" id="LC62">            <span class="pl-s"><span class="pl-pds">&quot;</span>0  01/03/1973        0  Nulo   29   12<span class="pl-cce">\n</span><span class="pl-pds">&quot;</span></span>,</div>
                </div>
                <div class="d-flex flex-justify-start flex-items-start">
                  <div class="blob-num blame-blob-num bg-gray-light js-line-number" id="L63">63</div>
                  <div class="blob-code blob-code-inner js-file-line" id="LC63">            <span class="pl-s"><span class="pl-pds">&quot;</span>1  02/03/1973        0  Nulo   30   12<span class="pl-cce">\n</span><span class="pl-pds">&quot;</span></span>,</div>
                </div>
                <div class="d-flex flex-justify-start flex-items-start">
                  <div class="blob-num blame-blob-num bg-gray-light js-line-number" id="L64">64</div>
                  <div class="blob-code blob-code-inner js-file-line" id="LC64">            <span class="pl-s"><span class="pl-pds">&quot;</span>2  03/03/1973        0  Nulo   29    9<span class="pl-cce">\n</span><span class="pl-pds">&quot;</span></span>,</div>
                </div>
                <div class="d-flex flex-justify-start flex-items-start">
                  <div class="blob-num blame-blob-num bg-gray-light js-line-number" id="L65">65</div>
                  <div class="blob-code blob-code-inner js-file-line" id="LC65">            <span class="pl-s"><span class="pl-pds">&quot;</span>3  04/03/1973        0  Nulo   28    8<span class="pl-cce">\n</span><span class="pl-pds">&quot;</span></span>,</div>
                </div>
                <div class="d-flex flex-justify-start flex-items-start">
                  <div class="blob-num blame-blob-num bg-gray-light js-line-number" id="L66">66</div>
                  <div class="blob-code blob-code-inner js-file-line" id="LC66">            <span class="pl-s"><span class="pl-pds">&quot;</span>4  05/03/1973        0  Nulo   28    7<span class="pl-cce">\n</span><span class="pl-pds">&quot;</span></span>,</div>
                </div>
                <div class="d-flex flex-justify-start flex-items-start">
                  <div class="blob-num blame-blob-num bg-gray-light js-line-number" id="L67">67</div>
                  <div class="blob-code blob-code-inner js-file-line" id="LC67">            <span class="pl-s"><span class="pl-pds">&quot;</span>5  06/03/1973        0  Nulo   25    9<span class="pl-cce">\n</span><span class="pl-pds">&quot;</span></span>,</div>
                </div>
                <div class="d-flex flex-justify-start flex-items-start">
                  <div class="blob-num blame-blob-num bg-gray-light js-line-number" id="L68">68</div>
                  <div class="blob-code blob-code-inner js-file-line" id="LC68">            <span class="pl-s"><span class="pl-pds">&quot;</span>6  07/03/1973        0  Nulo   26    7<span class="pl-cce">\n</span><span class="pl-pds">&quot;</span></span>,</div>
                </div>
                <div class="d-flex flex-justify-start flex-items-start">
                  <div class="blob-num blame-blob-num bg-gray-light js-line-number" id="L69">69</div>
                  <div class="blob-code blob-code-inner js-file-line" id="LC69">            <span class="pl-s"><span class="pl-pds">&quot;</span>7  08/03/1973        0  Nulo   27    8<span class="pl-cce">\n</span><span class="pl-pds">&quot;</span></span>,</div>
                </div>
                <div class="d-flex flex-justify-start flex-items-start">
                  <div class="blob-num blame-blob-num bg-gray-light js-line-number" id="L70">70</div>
                  <div class="blob-code blob-code-inner js-file-line" id="LC70">            <span class="pl-s"><span class="pl-pds">&quot;</span>8  09/03/1973        0  Nulo   27   10<span class="pl-cce">\n</span><span class="pl-pds">&quot;</span></span>,</div>
                </div>
                <div class="d-flex flex-justify-start flex-items-start">
                  <div class="blob-num blame-blob-num bg-gray-light js-line-number" id="L71">71</div>
                  <div class="blob-code blob-code-inner js-file-line" id="LC71">            <span class="pl-s"><span class="pl-pds">&quot;</span>9  10/03/1973        0  Nulo   23    6<span class="pl-cce">\n</span><span class="pl-pds">&quot;</span></span>,</div>
                </div>
                <div class="d-flex flex-justify-start flex-items-start">
                  <div class="blob-num blame-blob-num bg-gray-light js-line-number" id="L72">72</div>
                  <div class="blob-code blob-code-inner js-file-line" id="LC72">            <span class="pl-s"><span class="pl-pds">&quot;</span>           Fecha Precipit  Evap Tmax Tmin<span class="pl-cce">\n</span><span class="pl-pds">&quot;</span></span>,</div>
                </div>
                <div class="d-flex flex-justify-start flex-items-start">
                  <div class="blob-num blame-blob-num bg-gray-light js-line-number" id="L73">73</div>
                  <div class="blob-code blob-code-inner js-file-line" id="LC73">            <span class="pl-s"><span class="pl-pds">&quot;</span>6888  21/03/2016        0  Nulo   39   11<span class="pl-cce">\n</span><span class="pl-pds">&quot;</span></span>,</div>
                </div>
                <div class="d-flex flex-justify-start flex-items-start">
                  <div class="blob-num blame-blob-num bg-gray-light js-line-number" id="L74">74</div>
                  <div class="blob-code blob-code-inner js-file-line" id="LC74">            <span class="pl-s"><span class="pl-pds">&quot;</span>6889  22/03/2016        0  Nulo   34   12<span class="pl-cce">\n</span><span class="pl-pds">&quot;</span></span>,</div>
                </div>
                <div class="d-flex flex-justify-start flex-items-start">
                  <div class="blob-num blame-blob-num bg-gray-light js-line-number" id="L75">75</div>
                  <div class="blob-code blob-code-inner js-file-line" id="LC75">            <span class="pl-s"><span class="pl-pds">&quot;</span>6890  23/03/2016        0  Nulo   31   12<span class="pl-cce">\n</span><span class="pl-pds">&quot;</span></span>,</div>
                </div>
                <div class="d-flex flex-justify-start flex-items-start">
                  <div class="blob-num blame-blob-num bg-gray-light js-line-number" id="L76">76</div>
                  <div class="blob-code blob-code-inner js-file-line" id="LC76">            <span class="pl-s"><span class="pl-pds">&quot;</span>6891  24/03/2016        0  Nulo   30   11<span class="pl-cce">\n</span><span class="pl-pds">&quot;</span></span>,</div>
                </div>
                <div class="d-flex flex-justify-start flex-items-start">
                  <div class="blob-num blame-blob-num bg-gray-light js-line-number" id="L77">77</div>
                  <div class="blob-code blob-code-inner js-file-line" id="LC77">            <span class="pl-s"><span class="pl-pds">&quot;</span>6892  25/03/2016        0  Nulo   31    9<span class="pl-cce">\n</span><span class="pl-pds">&quot;</span></span>,</div>
                </div>
                <div class="d-flex flex-justify-start flex-items-start">
                  <div class="blob-num blame-blob-num bg-gray-light js-line-number" id="L78">78</div>
                  <div class="blob-code blob-code-inner js-file-line" id="LC78">            <span class="pl-s"><span class="pl-pds">&quot;</span>6893  26/03/2016        0  Nulo   30   11<span class="pl-cce">\n</span><span class="pl-pds">&quot;</span></span>,</div>
                </div>
                <div class="d-flex flex-justify-start flex-items-start">
                  <div class="blob-num blame-blob-num bg-gray-light js-line-number" id="L79">79</div>
                  <div class="blob-code blob-code-inner js-file-line" id="LC79">            <span class="pl-s"><span class="pl-pds">&quot;</span>6894  27/03/2016        0  Nulo   30   11<span class="pl-cce">\n</span><span class="pl-pds">&quot;</span></span>,</div>
                </div>
                <div class="d-flex flex-justify-start flex-items-start">
                  <div class="blob-num blame-blob-num bg-gray-light js-line-number" id="L80">80</div>
                  <div class="blob-code blob-code-inner js-file-line" id="LC80">            <span class="pl-s"><span class="pl-pds">&quot;</span>6895  28/03/2016        0  Nulo   28   12<span class="pl-cce">\n</span><span class="pl-pds">&quot;</span></span>,</div>
                </div>
                <div class="d-flex flex-justify-start flex-items-start">
                  <div class="blob-num blame-blob-num bg-gray-light js-line-number" id="L81">81</div>
                  <div class="blob-code blob-code-inner js-file-line" id="LC81">            <span class="pl-s"><span class="pl-pds">&quot;</span>6896  29/03/2016        0  Nulo   28   11<span class="pl-cce">\n</span><span class="pl-pds">&quot;</span></span>,</div>
                </div>
                <div class="d-flex flex-justify-start flex-items-start">
                  <div class="blob-num blame-blob-num bg-gray-light js-line-number" id="L82">82</div>
                  <div class="blob-code blob-code-inner js-file-line" id="LC82">            <span class="pl-s"><span class="pl-pds">&quot;</span>6897  30/03/2016        0  Nulo   29   12<span class="pl-cce">\n</span><span class="pl-pds">&quot;</span></span></div>
                </div>
                <div class="d-flex flex-justify-start flex-items-start">
                  <div class="blob-num blame-blob-num bg-gray-light js-line-number" id="L83">83</div>
                  <div class="blob-code blob-code-inner js-file-line" id="LC83">          ],</div>
                </div>
                <div class="d-flex flex-justify-start flex-items-start">
                  <div class="blob-num blame-blob-num bg-gray-light js-line-number" id="L84">84</div>
                  <div class="blob-code blob-code-inner js-file-line" id="LC84">          <span class="pl-s"><span class="pl-pds">&quot;</span>name<span class="pl-pds">&quot;</span></span>: <span class="pl-s"><span class="pl-pds">&quot;</span>stdout<span class="pl-pds">&quot;</span></span></div>
                </div>
                <div class="d-flex flex-justify-start flex-items-start">
                  <div class="blob-num blame-blob-num bg-gray-light js-line-number" id="L85">85</div>
                  <div class="blob-code blob-code-inner js-file-line" id="LC85">        }</div>
                </div>
                <div class="d-flex flex-justify-start flex-items-start">
                  <div class="blob-num blame-blob-num bg-gray-light js-line-number" id="L86">86</div>
                  <div class="blob-code blob-code-inner js-file-line" id="LC86">      ]</div>
                </div>
                <div class="d-flex flex-justify-start flex-items-start">
                  <div class="blob-num blame-blob-num bg-gray-light js-line-number" id="L87">87</div>
                  <div class="blob-code blob-code-inner js-file-line" id="LC87">    },</div>
                </div>
                <div class="d-flex flex-justify-start flex-items-start">
                  <div class="blob-num blame-blob-num bg-gray-light js-line-number" id="L88">88</div>
                  <div class="blob-code blob-code-inner js-file-line" id="LC88">    {</div>
                </div>
                <div class="d-flex flex-justify-start flex-items-start">
                  <div class="blob-num blame-blob-num bg-gray-light js-line-number" id="L89">89</div>
                  <div class="blob-code blob-code-inner js-file-line" id="LC89">      <span class="pl-s"><span class="pl-pds">&quot;</span>cell_type<span class="pl-pds">&quot;</span></span>: <span class="pl-s"><span class="pl-pds">&quot;</span>code<span class="pl-pds">&quot;</span></span>,</div>
                </div>
                <div class="d-flex flex-justify-start flex-items-start">
                  <div class="blob-num blame-blob-num bg-gray-light js-line-number" id="L90">90</div>
                  <div class="blob-code blob-code-inner js-file-line" id="LC90">      <span class="pl-s"><span class="pl-pds">&quot;</span>metadata<span class="pl-pds">&quot;</span></span>: {</div>
                </div>
                <div class="d-flex flex-justify-start flex-items-start">
                  <div class="blob-num blame-blob-num bg-gray-light js-line-number" id="L91">91</div>
                  <div class="blob-code blob-code-inner js-file-line" id="LC91">        <span class="pl-s"><span class="pl-pds">&quot;</span>colab<span class="pl-pds">&quot;</span></span>: {</div>
                </div>
                <div class="d-flex flex-justify-start flex-items-start">
                  <div class="blob-num blame-blob-num bg-gray-light js-line-number" id="L92">92</div>
                  <div class="blob-code blob-code-inner js-file-line" id="LC92">          <span class="pl-s"><span class="pl-pds">&quot;</span>base_uri<span class="pl-pds">&quot;</span></span>: <span class="pl-s"><span class="pl-pds">&quot;</span>https://localhost:8080/<span class="pl-pds">&quot;</span></span></div>
                </div>
                <div class="d-flex flex-justify-start flex-items-start">
                  <div class="blob-num blame-blob-num bg-gray-light js-line-number" id="L93">93</div>
                  <div class="blob-code blob-code-inner js-file-line" id="LC93">        },</div>
                </div>
                <div class="d-flex flex-justify-start flex-items-start">
                  <div class="blob-num blame-blob-num bg-gray-light js-line-number" id="L94">94</div>
                  <div class="blob-code blob-code-inner js-file-line" id="LC94">        <span class="pl-s"><span class="pl-pds">&quot;</span>id<span class="pl-pds">&quot;</span></span>: <span class="pl-s"><span class="pl-pds">&quot;</span>MvZ0YfUhJbQJ<span class="pl-pds">&quot;</span></span>,</div>
                </div>
                <div class="d-flex flex-justify-start flex-items-start">
                  <div class="blob-num blame-blob-num bg-gray-light js-line-number" id="L95">95</div>
                  <div class="blob-code blob-code-inner js-file-line" id="LC95">        <span class="pl-s"><span class="pl-pds">&quot;</span>outputId<span class="pl-pds">&quot;</span></span>: <span class="pl-s"><span class="pl-pds">&quot;</span>9d10d04c-3ae2-4f2e-ad52-9f4bcb2da1ae<span class="pl-pds">&quot;</span></span></div>
                </div>
                <div class="d-flex flex-justify-start flex-items-start">
                  <div class="blob-num blame-blob-num bg-gray-light js-line-number" id="L96">96</div>
                  <div class="blob-code blob-code-inner js-file-line" id="LC96">      },</div>
                </div>
                <div class="d-flex flex-justify-start flex-items-start">
                  <div class="blob-num blame-blob-num bg-gray-light js-line-number" id="L97">97</div>
                  <div class="blob-code blob-code-inner js-file-line" id="LC97">      <span class="pl-s"><span class="pl-pds">&quot;</span>source<span class="pl-pds">&quot;</span></span>: [</div>
                </div>
                <div class="d-flex flex-justify-start flex-items-start">
                  <div class="blob-num blame-blob-num bg-gray-light js-line-number" id="L98">98</div>
                  <div class="blob-code blob-code-inner js-file-line" id="LC98">        <span class="pl-s"><span class="pl-pds">&quot;</span>df_dist.shape<span class="pl-pds">&quot;</span></span></div>
                </div>
                <div class="d-flex flex-justify-start flex-items-start">
                  <div class="blob-num blame-blob-num bg-gray-light js-line-number" id="L99">99</div>
                  <div class="blob-code blob-code-inner js-file-line" id="LC99">      ],</div>
                </div>
                <div class="d-flex flex-justify-start flex-items-start">
                  <div class="blob-num blame-blob-num bg-gray-light js-line-number" id="L100">100</div>
                  <div class="blob-code blob-code-inner js-file-line" id="LC100">      <span class="pl-s"><span class="pl-pds">&quot;</span>execution_count<span class="pl-pds">&quot;</span></span>: <span class="pl-c1">29</span>,</div>
                </div>
                <div class="d-flex flex-justify-start flex-items-start">
                  <div class="blob-num blame-blob-num bg-gray-light js-line-number" id="L101">101</div>
                  <div class="blob-code blob-code-inner js-file-line" id="LC101">      <span class="pl-s"><span class="pl-pds">&quot;</span>outputs<span class="pl-pds">&quot;</span></span>: [</div>
                </div>
                <div class="d-flex flex-justify-start flex-items-start">
                  <div class="blob-num blame-blob-num bg-gray-light js-line-number" id="L102">102</div>
                  <div class="blob-code blob-code-inner js-file-line" id="LC102">        {</div>
                </div>
                <div class="d-flex flex-justify-start flex-items-start">
                  <div class="blob-num blame-blob-num bg-gray-light js-line-number" id="L103">103</div>
                  <div class="blob-code blob-code-inner js-file-line" id="LC103">          <span class="pl-s"><span class="pl-pds">&quot;</span>output_type<span class="pl-pds">&quot;</span></span>: <span class="pl-s"><span class="pl-pds">&quot;</span>execute_result<span class="pl-pds">&quot;</span></span>,</div>
                </div>
                <div class="d-flex flex-justify-start flex-items-start">
                  <div class="blob-num blame-blob-num bg-gray-light js-line-number" id="L104">104</div>
                  <div class="blob-code blob-code-inner js-file-line" id="LC104">          <span class="pl-s"><span class="pl-pds">&quot;</span>data<span class="pl-pds">&quot;</span></span>: {</div>
                </div>
                <div class="d-flex flex-justify-start flex-items-start">
                  <div class="blob-num blame-blob-num bg-gray-light js-line-number" id="L105">105</div>
                  <div class="blob-code blob-code-inner js-file-line" id="LC105">            <span class="pl-s"><span class="pl-pds">&quot;</span>text/plain<span class="pl-pds">&quot;</span></span>: [</div>
                </div>
                <div class="d-flex flex-justify-start flex-items-start">
                  <div class="blob-num blame-blob-num bg-gray-light js-line-number" id="L106">106</div>
                  <div class="blob-code blob-code-inner js-file-line" id="LC106">              <span class="pl-s"><span class="pl-pds">&quot;</span>(6898, 5)<span class="pl-pds">&quot;</span></span></div>
                </div>
                <div class="d-flex flex-justify-start flex-items-start">
                  <div class="blob-num blame-blob-num bg-gray-light js-line-number" id="L107">107</div>
                  <div class="blob-code blob-code-inner js-file-line" id="LC107">            ]</div>
                </div>
                <div class="d-flex flex-justify-start flex-items-start">
                  <div class="blob-num blame-blob-num bg-gray-light js-line-number" id="L108">108</div>
                  <div class="blob-code blob-code-inner js-file-line" id="LC108">          },</div>
                </div>
                <div class="d-flex flex-justify-start flex-items-start">
                  <div class="blob-num blame-blob-num bg-gray-light js-line-number" id="L109">109</div>
                  <div class="blob-code blob-code-inner js-file-line" id="LC109">          <span class="pl-s"><span class="pl-pds">&quot;</span>metadata<span class="pl-pds">&quot;</span></span>: {</div>
                </div>
                <div class="d-flex flex-justify-start flex-items-start">
                  <div class="blob-num blame-blob-num bg-gray-light js-line-number" id="L110">110</div>
                  <div class="blob-code blob-code-inner js-file-line" id="LC110">            <span class="pl-s"><span class="pl-pds">&quot;</span>tags<span class="pl-pds">&quot;</span></span>: []</div>
                </div>
                <div class="d-flex flex-justify-start flex-items-start">
                  <div class="blob-num blame-blob-num bg-gray-light js-line-number" id="L111">111</div>
                  <div class="blob-code blob-code-inner js-file-line" id="LC111">          },</div>
                </div>
                <div class="d-flex flex-justify-start flex-items-start">
                  <div class="blob-num blame-blob-num bg-gray-light js-line-number" id="L112">112</div>
                  <div class="blob-code blob-code-inner js-file-line" id="LC112">          <span class="pl-s"><span class="pl-pds">&quot;</span>execution_count<span class="pl-pds">&quot;</span></span>: <span class="pl-c1">29</span></div>
                </div>
                <div class="d-flex flex-justify-start flex-items-start">
                  <div class="blob-num blame-blob-num bg-gray-light js-line-number" id="L113">113</div>
                  <div class="blob-code blob-code-inner js-file-line" id="LC113">        }</div>
                </div>
                <div class="d-flex flex-justify-start flex-items-start">
                  <div class="blob-num blame-blob-num bg-gray-light js-line-number" id="L114">114</div>
                  <div class="blob-code blob-code-inner js-file-line" id="LC114">      ]</div>
                </div>
                <div class="d-flex flex-justify-start flex-items-start">
                  <div class="blob-num blame-blob-num bg-gray-light js-line-number" id="L115">115</div>
                  <div class="blob-code blob-code-inner js-file-line" id="LC115">    },</div>
                </div>
                <div class="d-flex flex-justify-start flex-items-start">
                  <div class="blob-num blame-blob-num bg-gray-light js-line-number" id="L116">116</div>
                  <div class="blob-code blob-code-inner js-file-line" id="LC116">    {</div>
                </div>
                <div class="d-flex flex-justify-start flex-items-start">
                  <div class="blob-num blame-blob-num bg-gray-light js-line-number" id="L117">117</div>
                  <div class="blob-code blob-code-inner js-file-line" id="LC117">      <span class="pl-s"><span class="pl-pds">&quot;</span>cell_type<span class="pl-pds">&quot;</span></span>: <span class="pl-s"><span class="pl-pds">&quot;</span>code<span class="pl-pds">&quot;</span></span>,</div>
                </div>
                <div class="d-flex flex-justify-start flex-items-start">
                  <div class="blob-num blame-blob-num bg-gray-light js-line-number" id="L118">118</div>
                  <div class="blob-code blob-code-inner js-file-line" id="LC118">      <span class="pl-s"><span class="pl-pds">&quot;</span>metadata<span class="pl-pds">&quot;</span></span>: {</div>
                </div>
                <div class="d-flex flex-justify-start flex-items-start">
                  <div class="blob-num blame-blob-num bg-gray-light js-line-number" id="L119">119</div>
                  <div class="blob-code blob-code-inner js-file-line" id="LC119">        <span class="pl-s"><span class="pl-pds">&quot;</span>colab<span class="pl-pds">&quot;</span></span>: {</div>
                </div>
                <div class="d-flex flex-justify-start flex-items-start">
                  <div class="blob-num blame-blob-num bg-gray-light js-line-number" id="L120">120</div>
                  <div class="blob-code blob-code-inner js-file-line" id="LC120">          <span class="pl-s"><span class="pl-pds">&quot;</span>base_uri<span class="pl-pds">&quot;</span></span>: <span class="pl-s"><span class="pl-pds">&quot;</span>https://localhost:8080/<span class="pl-pds">&quot;</span></span></div>
                </div>
                <div class="d-flex flex-justify-start flex-items-start">
                  <div class="blob-num blame-blob-num bg-gray-light js-line-number" id="L121">121</div>
                  <div class="blob-code blob-code-inner js-file-line" id="LC121">        },</div>
                </div>
                <div class="d-flex flex-justify-start flex-items-start">
                  <div class="blob-num blame-blob-num bg-gray-light js-line-number" id="L122">122</div>
                  <div class="blob-code blob-code-inner js-file-line" id="LC122">        <span class="pl-s"><span class="pl-pds">&quot;</span>id<span class="pl-pds">&quot;</span></span>: <span class="pl-s"><span class="pl-pds">&quot;</span>wQvX01HcJ2mV<span class="pl-pds">&quot;</span></span>,</div>
                </div>
                <div class="d-flex flex-justify-start flex-items-start">
                  <div class="blob-num blame-blob-num bg-gray-light js-line-number" id="L123">123</div>
                  <div class="blob-code blob-code-inner js-file-line" id="LC123">        <span class="pl-s"><span class="pl-pds">&quot;</span>outputId<span class="pl-pds">&quot;</span></span>: <span class="pl-s"><span class="pl-pds">&quot;</span>a1d1fe18-f23b-465e-9261-b78dfd505e02<span class="pl-pds">&quot;</span></span></div>
                </div>
                <div class="d-flex flex-justify-start flex-items-start">
                  <div class="blob-num blame-blob-num bg-gray-light js-line-number" id="L124">124</div>
                  <div class="blob-code blob-code-inner js-file-line" id="LC124">      },</div>
                </div>
                <div class="d-flex flex-justify-start flex-items-start">
                  <div class="blob-num blame-blob-num bg-gray-light js-line-number" id="L125">125</div>
                  <div class="blob-code blob-code-inner js-file-line" id="LC125">      <span class="pl-s"><span class="pl-pds">&quot;</span>source<span class="pl-pds">&quot;</span></span>: [</div>
                </div>
                <div class="d-flex flex-justify-start flex-items-start">
                  <div class="blob-num blame-blob-num bg-gray-light js-line-number" id="L126">126</div>
                  <div class="blob-code blob-code-inner js-file-line" id="LC126">        <span class="pl-s"><span class="pl-pds">&quot;</span>df_dist.info()<span class="pl-pds">&quot;</span></span></div>
                </div>
                <div class="d-flex flex-justify-start flex-items-start">
                  <div class="blob-num blame-blob-num bg-gray-light js-line-number" id="L127">127</div>
                  <div class="blob-code blob-code-inner js-file-line" id="LC127">      ],</div>
                </div>
                <div class="d-flex flex-justify-start flex-items-start">
                  <div class="blob-num blame-blob-num bg-gray-light js-line-number" id="L128">128</div>
                  <div class="blob-code blob-code-inner js-file-line" id="LC128">      <span class="pl-s"><span class="pl-pds">&quot;</span>execution_count<span class="pl-pds">&quot;</span></span>: <span class="pl-c1">35</span>,</div>
                </div>
                <div class="d-flex flex-justify-start flex-items-start">
                  <div class="blob-num blame-blob-num bg-gray-light js-line-number" id="L129">129</div>
                  <div class="blob-code blob-code-inner js-file-line" id="LC129">      <span class="pl-s"><span class="pl-pds">&quot;</span>outputs<span class="pl-pds">&quot;</span></span>: [</div>
                </div>
                <div class="d-flex flex-justify-start flex-items-start">
                  <div class="blob-num blame-blob-num bg-gray-light js-line-number" id="L130">130</div>
                  <div class="blob-code blob-code-inner js-file-line" id="LC130">        {</div>
                </div>
                <div class="d-flex flex-justify-start flex-items-start">
                  <div class="blob-num blame-blob-num bg-gray-light js-line-number" id="L131">131</div>
                  <div class="blob-code blob-code-inner js-file-line" id="LC131">          <span class="pl-s"><span class="pl-pds">&quot;</span>output_type<span class="pl-pds">&quot;</span></span>: <span class="pl-s"><span class="pl-pds">&quot;</span>stream<span class="pl-pds">&quot;</span></span>,</div>
                </div>
                <div class="d-flex flex-justify-start flex-items-start">
                  <div class="blob-num blame-blob-num bg-gray-light js-line-number" id="L132">132</div>
                  <div class="blob-code blob-code-inner js-file-line" id="LC132">          <span class="pl-s"><span class="pl-pds">&quot;</span>text<span class="pl-pds">&quot;</span></span>: [</div>
                </div>
                <div class="d-flex flex-justify-start flex-items-start">
                  <div class="blob-num blame-blob-num bg-gray-light js-line-number" id="L133">133</div>
                  <div class="blob-code blob-code-inner js-file-line" id="LC133">            <span class="pl-s"><span class="pl-pds">&quot;</span>&lt;class &#39;pandas.core.frame.DataFrame&#39;&gt;<span class="pl-cce">\n</span><span class="pl-pds">&quot;</span></span>,</div>
                </div>
                <div class="d-flex flex-justify-start flex-items-start">
                  <div class="blob-num blame-blob-num bg-gray-light js-line-number" id="L134">134</div>
                  <div class="blob-code blob-code-inner js-file-line" id="LC134">            <span class="pl-s"><span class="pl-pds">&quot;</span>RangeIndex: 6898 entries, 0 to 6897<span class="pl-cce">\n</span><span class="pl-pds">&quot;</span></span>,</div>
                </div>
                <div class="d-flex flex-justify-start flex-items-start">
                  <div class="blob-num blame-blob-num bg-gray-light js-line-number" id="L135">135</div>
                  <div class="blob-code blob-code-inner js-file-line" id="LC135">            <span class="pl-s"><span class="pl-pds">&quot;</span>Data columns (total 5 columns):<span class="pl-cce">\n</span><span class="pl-pds">&quot;</span></span>,</div>
                </div>
                <div class="d-flex flex-justify-start flex-items-start">
                  <div class="blob-num blame-blob-num bg-gray-light js-line-number" id="L136">136</div>
                  <div class="blob-code blob-code-inner js-file-line" id="LC136">            <span class="pl-s"><span class="pl-pds">&quot;</span> #   Column    Non-Null Count  Dtype <span class="pl-cce">\n</span><span class="pl-pds">&quot;</span></span>,</div>
                </div>
                <div class="d-flex flex-justify-start flex-items-start">
                  <div class="blob-num blame-blob-num bg-gray-light js-line-number" id="L137">137</div>
                  <div class="blob-code blob-code-inner js-file-line" id="LC137">            <span class="pl-s"><span class="pl-pds">&quot;</span>---  ------    --------------  ----- <span class="pl-cce">\n</span><span class="pl-pds">&quot;</span></span>,</div>
                </div>
                <div class="d-flex flex-justify-start flex-items-start">
                  <div class="blob-num blame-blob-num bg-gray-light js-line-number" id="L138">138</div>
                  <div class="blob-code blob-code-inner js-file-line" id="LC138">            <span class="pl-s"><span class="pl-pds">&quot;</span> 0   Fecha     6898 non-null   object<span class="pl-cce">\n</span><span class="pl-pds">&quot;</span></span>,</div>
                </div>
                <div class="d-flex flex-justify-start flex-items-start">
                  <div class="blob-num blame-blob-num bg-gray-light js-line-number" id="L139">139</div>
                  <div class="blob-code blob-code-inner js-file-line" id="LC139">            <span class="pl-s"><span class="pl-pds">&quot;</span> 1   Precipit  6898 non-null   object<span class="pl-cce">\n</span><span class="pl-pds">&quot;</span></span>,</div>
                </div>
                <div class="d-flex flex-justify-start flex-items-start">
                  <div class="blob-num blame-blob-num bg-gray-light js-line-number" id="L140">140</div>
                  <div class="blob-code blob-code-inner js-file-line" id="LC140">            <span class="pl-s"><span class="pl-pds">&quot;</span> 2   Evap      6898 non-null   object<span class="pl-cce">\n</span><span class="pl-pds">&quot;</span></span>,</div>
                </div>
                <div class="d-flex flex-justify-start flex-items-start">
                  <div class="blob-num blame-blob-num bg-gray-light js-line-number" id="L141">141</div>
                  <div class="blob-code blob-code-inner js-file-line" id="LC141">            <span class="pl-s"><span class="pl-pds">&quot;</span> 3   Tmax      6898 non-null   object<span class="pl-cce">\n</span><span class="pl-pds">&quot;</span></span>,</div>
                </div>
                <div class="d-flex flex-justify-start flex-items-start">
                  <div class="blob-num blame-blob-num bg-gray-light js-line-number" id="L142">142</div>
                  <div class="blob-code blob-code-inner js-file-line" id="LC142">            <span class="pl-s"><span class="pl-pds">&quot;</span> 4   Tmin      6898 non-null   object<span class="pl-cce">\n</span><span class="pl-pds">&quot;</span></span>,</div>
                </div>
                <div class="d-flex flex-justify-start flex-items-start">
                  <div class="blob-num blame-blob-num bg-gray-light js-line-number" id="L143">143</div>
                  <div class="blob-code blob-code-inner js-file-line" id="LC143">            <span class="pl-s"><span class="pl-pds">&quot;</span>dtypes: object(5)<span class="pl-cce">\n</span><span class="pl-pds">&quot;</span></span>,</div>
                </div>
                <div class="d-flex flex-justify-start flex-items-start">
                  <div class="blob-num blame-blob-num bg-gray-light js-line-number" id="L144">144</div>
                  <div class="blob-code blob-code-inner js-file-line" id="LC144">            <span class="pl-s"><span class="pl-pds">&quot;</span>memory usage: 269.6+ KB<span class="pl-cce">\n</span><span class="pl-pds">&quot;</span></span></div>
                </div>
                <div class="d-flex flex-justify-start flex-items-start">
                  <div class="blob-num blame-blob-num bg-gray-light js-line-number" id="L145">145</div>
                  <div class="blob-code blob-code-inner js-file-line" id="LC145">          ],</div>
                </div>
                <div class="d-flex flex-justify-start flex-items-start">
                  <div class="blob-num blame-blob-num bg-gray-light js-line-number" id="L146">146</div>
                  <div class="blob-code blob-code-inner js-file-line" id="LC146">          <span class="pl-s"><span class="pl-pds">&quot;</span>name<span class="pl-pds">&quot;</span></span>: <span class="pl-s"><span class="pl-pds">&quot;</span>stdout<span class="pl-pds">&quot;</span></span></div>
                </div>
                <div class="d-flex flex-justify-start flex-items-start">
                  <div class="blob-num blame-blob-num bg-gray-light js-line-number" id="L147">147</div>
                  <div class="blob-code blob-code-inner js-file-line" id="LC147">        }</div>
                </div>
                <div class="d-flex flex-justify-start flex-items-start">
                  <div class="blob-num blame-blob-num bg-gray-light js-line-number" id="L148">148</div>
                  <div class="blob-code blob-code-inner js-file-line" id="LC148">      ]</div>
                </div>
                <div class="d-flex flex-justify-start flex-items-start">
                  <div class="blob-num blame-blob-num bg-gray-light js-line-number" id="L149">149</div>
                  <div class="blob-code blob-code-inner js-file-line" id="LC149">    },</div>
                </div>
                <div class="d-flex flex-justify-start flex-items-start">
                  <div class="blob-num blame-blob-num bg-gray-light js-line-number" id="L150">150</div>
                  <div class="blob-code blob-code-inner js-file-line" id="LC150">    {</div>
                </div>
                <div class="d-flex flex-justify-start flex-items-start">
                  <div class="blob-num blame-blob-num bg-gray-light js-line-number" id="L151">151</div>
                  <div class="blob-code blob-code-inner js-file-line" id="LC151">      <span class="pl-s"><span class="pl-pds">&quot;</span>cell_type<span class="pl-pds">&quot;</span></span>: <span class="pl-s"><span class="pl-pds">&quot;</span>code<span class="pl-pds">&quot;</span></span>,</div>
                </div>
                <div class="d-flex flex-justify-start flex-items-start">
                  <div class="blob-num blame-blob-num bg-gray-light js-line-number" id="L152">152</div>
                  <div class="blob-code blob-code-inner js-file-line" id="LC152">      <span class="pl-s"><span class="pl-pds">&quot;</span>metadata<span class="pl-pds">&quot;</span></span>: {</div>
                </div>
                <div class="d-flex flex-justify-start flex-items-start">
                  <div class="blob-num blame-blob-num bg-gray-light js-line-number" id="L153">153</div>
                  <div class="blob-code blob-code-inner js-file-line" id="LC153">        <span class="pl-s"><span class="pl-pds">&quot;</span>colab<span class="pl-pds">&quot;</span></span>: {</div>
                </div>
                <div class="d-flex flex-justify-start flex-items-start">
                  <div class="blob-num blame-blob-num bg-gray-light js-line-number" id="L154">154</div>
                  <div class="blob-code blob-code-inner js-file-line" id="LC154">          <span class="pl-s"><span class="pl-pds">&quot;</span>base_uri<span class="pl-pds">&quot;</span></span>: <span class="pl-s"><span class="pl-pds">&quot;</span>https://localhost:8080/<span class="pl-pds">&quot;</span></span>,</div>
                </div>
                <div class="d-flex flex-justify-start flex-items-start">
                  <div class="blob-num blame-blob-num bg-gray-light js-line-number" id="L155">155</div>
                  <div class="blob-code blob-code-inner js-file-line" id="LC155">          <span class="pl-s"><span class="pl-pds">&quot;</span>height<span class="pl-pds">&quot;</span></span>: <span class="pl-c1">204</span></div>
                </div>
                <div class="d-flex flex-justify-start flex-items-start">
                  <div class="blob-num blame-blob-num bg-gray-light js-line-number" id="L156">156</div>
                  <div class="blob-code blob-code-inner js-file-line" id="LC156">        },</div>
                </div>
                <div class="d-flex flex-justify-start flex-items-start">
                  <div class="blob-num blame-blob-num bg-gray-light js-line-number" id="L157">157</div>
                  <div class="blob-code blob-code-inner js-file-line" id="LC157">        <span class="pl-s"><span class="pl-pds">&quot;</span>id<span class="pl-pds">&quot;</span></span>: <span class="pl-s"><span class="pl-pds">&quot;</span>pu3tvsh4LODt<span class="pl-pds">&quot;</span></span>,</div>
                </div>
                <div class="d-flex flex-justify-start flex-items-start">
                  <div class="blob-num blame-blob-num bg-gray-light js-line-number" id="L158">158</div>
                  <div class="blob-code blob-code-inner js-file-line" id="LC158">        <span class="pl-s"><span class="pl-pds">&quot;</span>outputId<span class="pl-pds">&quot;</span></span>: <span class="pl-s"><span class="pl-pds">&quot;</span>f6e2e248-2aae-4063-b792-03dfd76f7555<span class="pl-pds">&quot;</span></span></div>
                </div>
                <div class="d-flex flex-justify-start flex-items-start">
                  <div class="blob-num blame-blob-num bg-gray-light js-line-number" id="L159">159</div>
                  <div class="blob-code blob-code-inner js-file-line" id="LC159">      },</div>
                </div>
                <div class="d-flex flex-justify-start flex-items-start">
                  <div class="blob-num blame-blob-num bg-gray-light js-line-number" id="L160">160</div>
                  <div class="blob-code blob-code-inner js-file-line" id="LC160">      <span class="pl-s"><span class="pl-pds">&quot;</span>source<span class="pl-pds">&quot;</span></span>: [</div>
                </div>
                <div class="d-flex flex-justify-start flex-items-start">
                  <div class="blob-num blame-blob-num bg-gray-light js-line-number" id="L161">161</div>
                  <div class="blob-code blob-code-inner js-file-line" id="LC161">        <span class="pl-s"><span class="pl-pds">&quot;</span>df_work0 = df_dist.copy()<span class="pl-cce">\r\n</span><span class="pl-pds">&quot;</span></span>,</div>
                </div>
                <div class="d-flex flex-justify-start flex-items-start">
                  <div class="blob-num blame-blob-num bg-gray-light js-line-number" id="L162">162</div>
                  <div class="blob-code blob-code-inner js-file-line" id="LC162">        <span class="pl-s"><span class="pl-pds">&quot;</span>df_work0.head()<span class="pl-pds">&quot;</span></span></div>
                </div>
                <div class="d-flex flex-justify-start flex-items-start">
                  <div class="blob-num blame-blob-num bg-gray-light js-line-number" id="L163">163</div>
                  <div class="blob-code blob-code-inner js-file-line" id="LC163">      ],</div>
                </div>
                <div class="d-flex flex-justify-start flex-items-start">
                  <div class="blob-num blame-blob-num bg-gray-light js-line-number" id="L164">164</div>
                  <div class="blob-code blob-code-inner js-file-line" id="LC164">      <span class="pl-s"><span class="pl-pds">&quot;</span>execution_count<span class="pl-pds">&quot;</span></span>: <span class="pl-c1">36</span>,</div>
                </div>
                <div class="d-flex flex-justify-start flex-items-start">
                  <div class="blob-num blame-blob-num bg-gray-light js-line-number" id="L165">165</div>
                  <div class="blob-code blob-code-inner js-file-line" id="LC165">      <span class="pl-s"><span class="pl-pds">&quot;</span>outputs<span class="pl-pds">&quot;</span></span>: [</div>
                </div>
                <div class="d-flex flex-justify-start flex-items-start">
                  <div class="blob-num blame-blob-num bg-gray-light js-line-number" id="L166">166</div>
                  <div class="blob-code blob-code-inner js-file-line" id="LC166">        {</div>
                </div>
                <div class="d-flex flex-justify-start flex-items-start">
                  <div class="blob-num blame-blob-num bg-gray-light js-line-number" id="L167">167</div>
                  <div class="blob-code blob-code-inner js-file-line" id="LC167">          <span class="pl-s"><span class="pl-pds">&quot;</span>output_type<span class="pl-pds">&quot;</span></span>: <span class="pl-s"><span class="pl-pds">&quot;</span>execute_result<span class="pl-pds">&quot;</span></span>,</div>
                </div>
                <div class="d-flex flex-justify-start flex-items-start">
                  <div class="blob-num blame-blob-num bg-gray-light js-line-number" id="L168">168</div>
                  <div class="blob-code blob-code-inner js-file-line" id="LC168">          <span class="pl-s"><span class="pl-pds">&quot;</span>data<span class="pl-pds">&quot;</span></span>: {</div>
                </div>
                <div class="d-flex flex-justify-start flex-items-start">
                  <div class="blob-num blame-blob-num bg-gray-light js-line-number" id="L169">169</div>
                  <div class="blob-code blob-code-inner js-file-line" id="LC169">            <span class="pl-s"><span class="pl-pds">&quot;</span>text/html<span class="pl-pds">&quot;</span></span>: [</div>
                </div>
                <div class="d-flex flex-justify-start flex-items-start">
                  <div class="blob-num blame-blob-num bg-gray-light js-line-number" id="L170">170</div>
                  <div class="blob-code blob-code-inner js-file-line" id="LC170">              <span class="pl-s"><span class="pl-pds">&quot;</span>&lt;div&gt;<span class="pl-cce">\n</span><span class="pl-pds">&quot;</span></span>,</div>
                </div>
                <div class="d-flex flex-justify-start flex-items-start">
                  <div class="blob-num blame-blob-num bg-gray-light js-line-number" id="L171">171</div>
                  <div class="blob-code blob-code-inner js-file-line" id="LC171">              <span class="pl-s"><span class="pl-pds">&quot;</span>&lt;style scoped&gt;<span class="pl-cce">\n</span><span class="pl-pds">&quot;</span></span>,</div>
                </div>
                <div class="d-flex flex-justify-start flex-items-start">
                  <div class="blob-num blame-blob-num bg-gray-light js-line-number" id="L172">172</div>
                  <div class="blob-code blob-code-inner js-file-line" id="LC172">              <span class="pl-s"><span class="pl-pds">&quot;</span>    .dataframe tbody tr th:only-of-type {<span class="pl-cce">\n</span><span class="pl-pds">&quot;</span></span>,</div>
                </div>
                <div class="d-flex flex-justify-start flex-items-start">
                  <div class="blob-num blame-blob-num bg-gray-light js-line-number" id="L173">173</div>
                  <div class="blob-code blob-code-inner js-file-line" id="LC173">              <span class="pl-s"><span class="pl-pds">&quot;</span>        vertical-align: middle;<span class="pl-cce">\n</span><span class="pl-pds">&quot;</span></span>,</div>
                </div>
                <div class="d-flex flex-justify-start flex-items-start">
                  <div class="blob-num blame-blob-num bg-gray-light js-line-number" id="L174">174</div>
                  <div class="blob-code blob-code-inner js-file-line" id="LC174">              <span class="pl-s"><span class="pl-pds">&quot;</span>    }<span class="pl-cce">\n</span><span class="pl-pds">&quot;</span></span>,</div>
                </div>
                <div class="d-flex flex-justify-start flex-items-start">
                  <div class="blob-num blame-blob-num bg-gray-light js-line-number" id="L175">175</div>
                  <div class="blob-code blob-code-inner js-file-line" id="LC175">              <span class="pl-s"><span class="pl-pds">&quot;</span><span class="pl-cce">\n</span><span class="pl-pds">&quot;</span></span>,</div>
                </div>
                <div class="d-flex flex-justify-start flex-items-start">
                  <div class="blob-num blame-blob-num bg-gray-light js-line-number" id="L176">176</div>
                  <div class="blob-code blob-code-inner js-file-line" id="LC176">              <span class="pl-s"><span class="pl-pds">&quot;</span>    .dataframe tbody tr th {<span class="pl-cce">\n</span><span class="pl-pds">&quot;</span></span>,</div>
                </div>
                <div class="d-flex flex-justify-start flex-items-start">
                  <div class="blob-num blame-blob-num bg-gray-light js-line-number" id="L177">177</div>
                  <div class="blob-code blob-code-inner js-file-line" id="LC177">              <span class="pl-s"><span class="pl-pds">&quot;</span>        vertical-align: top;<span class="pl-cce">\n</span><span class="pl-pds">&quot;</span></span>,</div>
                </div>
                <div class="d-flex flex-justify-start flex-items-start">
                  <div class="blob-num blame-blob-num bg-gray-light js-line-number" id="L178">178</div>
                  <div class="blob-code blob-code-inner js-file-line" id="LC178">              <span class="pl-s"><span class="pl-pds">&quot;</span>    }<span class="pl-cce">\n</span><span class="pl-pds">&quot;</span></span>,</div>
                </div>
                <div class="d-flex flex-justify-start flex-items-start">
                  <div class="blob-num blame-blob-num bg-gray-light js-line-number" id="L179">179</div>
                  <div class="blob-code blob-code-inner js-file-line" id="LC179">              <span class="pl-s"><span class="pl-pds">&quot;</span><span class="pl-cce">\n</span><span class="pl-pds">&quot;</span></span>,</div>
                </div>
                <div class="d-flex flex-justify-start flex-items-start">
                  <div class="blob-num blame-blob-num bg-gray-light js-line-number" id="L180">180</div>
                  <div class="blob-code blob-code-inner js-file-line" id="LC180">              <span class="pl-s"><span class="pl-pds">&quot;</span>    .dataframe thead th {<span class="pl-cce">\n</span><span class="pl-pds">&quot;</span></span>,</div>
                </div>
                <div class="d-flex flex-justify-start flex-items-start">
                  <div class="blob-num blame-blob-num bg-gray-light js-line-number" id="L181">181</div>
                  <div class="blob-code blob-code-inner js-file-line" id="LC181">              <span class="pl-s"><span class="pl-pds">&quot;</span>        text-align: right;<span class="pl-cce">\n</span><span class="pl-pds">&quot;</span></span>,</div>
                </div>
                <div class="d-flex flex-justify-start flex-items-start">
                  <div class="blob-num blame-blob-num bg-gray-light js-line-number" id="L182">182</div>
                  <div class="blob-code blob-code-inner js-file-line" id="LC182">              <span class="pl-s"><span class="pl-pds">&quot;</span>    }<span class="pl-cce">\n</span><span class="pl-pds">&quot;</span></span>,</div>
                </div>
                <div class="d-flex flex-justify-start flex-items-start">
                  <div class="blob-num blame-blob-num bg-gray-light js-line-number" id="L183">183</div>
                  <div class="blob-code blob-code-inner js-file-line" id="LC183">              <span class="pl-s"><span class="pl-pds">&quot;</span>&lt;/style&gt;<span class="pl-cce">\n</span><span class="pl-pds">&quot;</span></span>,</div>
                </div>
                <div class="d-flex flex-justify-start flex-items-start">
                  <div class="blob-num blame-blob-num bg-gray-light js-line-number" id="L184">184</div>
                  <div class="blob-code blob-code-inner js-file-line" id="LC184">              <span class="pl-s"><span class="pl-pds">&quot;</span>&lt;table border=<span class="pl-cce">\&quot;</span>1<span class="pl-cce">\&quot;</span> class=<span class="pl-cce">\&quot;</span>dataframe<span class="pl-cce">\&quot;</span>&gt;<span class="pl-cce">\n</span><span class="pl-pds">&quot;</span></span>,</div>
                </div>
                <div class="d-flex flex-justify-start flex-items-start">
                  <div class="blob-num blame-blob-num bg-gray-light js-line-number" id="L185">185</div>
                  <div class="blob-code blob-code-inner js-file-line" id="LC185">              <span class="pl-s"><span class="pl-pds">&quot;</span>  &lt;thead&gt;<span class="pl-cce">\n</span><span class="pl-pds">&quot;</span></span>,</div>
                </div>
                <div class="d-flex flex-justify-start flex-items-start">
                  <div class="blob-num blame-blob-num bg-gray-light js-line-number" id="L186">186</div>
                  <div class="blob-code blob-code-inner js-file-line" id="LC186">              <span class="pl-s"><span class="pl-pds">&quot;</span>    &lt;tr style=<span class="pl-cce">\&quot;</span>text-align: right;<span class="pl-cce">\&quot;</span>&gt;<span class="pl-cce">\n</span><span class="pl-pds">&quot;</span></span>,</div>
                </div>
                <div class="d-flex flex-justify-start flex-items-start">
                  <div class="blob-num blame-blob-num bg-gray-light js-line-number" id="L187">187</div>
                  <div class="blob-code blob-code-inner js-file-line" id="LC187">              <span class="pl-s"><span class="pl-pds">&quot;</span>      &lt;th&gt;&lt;/th&gt;<span class="pl-cce">\n</span><span class="pl-pds">&quot;</span></span>,</div>
                </div>
                <div class="d-flex flex-justify-start flex-items-start">
                  <div class="blob-num blame-blob-num bg-gray-light js-line-number" id="L188">188</div>
                  <div class="blob-code blob-code-inner js-file-line" id="LC188">              <span class="pl-s"><span class="pl-pds">&quot;</span>      &lt;th&gt;Fecha&lt;/th&gt;<span class="pl-cce">\n</span><span class="pl-pds">&quot;</span></span>,</div>
                </div>
                <div class="d-flex flex-justify-start flex-items-start">
                  <div class="blob-num blame-blob-num bg-gray-light js-line-number" id="L189">189</div>
                  <div class="blob-code blob-code-inner js-file-line" id="LC189">              <span class="pl-s"><span class="pl-pds">&quot;</span>      &lt;th&gt;Precipit&lt;/th&gt;<span class="pl-cce">\n</span><span class="pl-pds">&quot;</span></span>,</div>
                </div>
                <div class="d-flex flex-justify-start flex-items-start">
                  <div class="blob-num blame-blob-num bg-gray-light js-line-number" id="L190">190</div>
                  <div class="blob-code blob-code-inner js-file-line" id="LC190">              <span class="pl-s"><span class="pl-pds">&quot;</span>      &lt;th&gt;Evap&lt;/th&gt;<span class="pl-cce">\n</span><span class="pl-pds">&quot;</span></span>,</div>
                </div>
                <div class="d-flex flex-justify-start flex-items-start">
                  <div class="blob-num blame-blob-num bg-gray-light js-line-number" id="L191">191</div>
                  <div class="blob-code blob-code-inner js-file-line" id="LC191">              <span class="pl-s"><span class="pl-pds">&quot;</span>      &lt;th&gt;Tmax&lt;/th&gt;<span class="pl-cce">\n</span><span class="pl-pds">&quot;</span></span>,</div>
                </div>
                <div class="d-flex flex-justify-start flex-items-start">
                  <div class="blob-num blame-blob-num bg-gray-light js-line-number" id="L192">192</div>
                  <div class="blob-code blob-code-inner js-file-line" id="LC192">              <span class="pl-s"><span class="pl-pds">&quot;</span>      &lt;th&gt;Tmin&lt;/th&gt;<span class="pl-cce">\n</span><span class="pl-pds">&quot;</span></span>,</div>
                </div>
                <div class="d-flex flex-justify-start flex-items-start">
                  <div class="blob-num blame-blob-num bg-gray-light js-line-number" id="L193">193</div>
                  <div class="blob-code blob-code-inner js-file-line" id="LC193">              <span class="pl-s"><span class="pl-pds">&quot;</span>    &lt;/tr&gt;<span class="pl-cce">\n</span><span class="pl-pds">&quot;</span></span>,</div>
                </div>
                <div class="d-flex flex-justify-start flex-items-start">
                  <div class="blob-num blame-blob-num bg-gray-light js-line-number" id="L194">194</div>
                  <div class="blob-code blob-code-inner js-file-line" id="LC194">              <span class="pl-s"><span class="pl-pds">&quot;</span>  &lt;/thead&gt;<span class="pl-cce">\n</span><span class="pl-pds">&quot;</span></span>,</div>
                </div>
                <div class="d-flex flex-justify-start flex-items-start">
                  <div class="blob-num blame-blob-num bg-gray-light js-line-number" id="L195">195</div>
                  <div class="blob-code blob-code-inner js-file-line" id="LC195">              <span class="pl-s"><span class="pl-pds">&quot;</span>  &lt;tbody&gt;<span class="pl-cce">\n</span><span class="pl-pds">&quot;</span></span>,</div>
                </div>
                <div class="d-flex flex-justify-start flex-items-start">
                  <div class="blob-num blame-blob-num bg-gray-light js-line-number" id="L196">196</div>
                  <div class="blob-code blob-code-inner js-file-line" id="LC196">              <span class="pl-s"><span class="pl-pds">&quot;</span>    &lt;tr&gt;<span class="pl-cce">\n</span><span class="pl-pds">&quot;</span></span>,</div>
                </div>
                <div class="d-flex flex-justify-start flex-items-start">
                  <div class="blob-num blame-blob-num bg-gray-light js-line-number" id="L197">197</div>
                  <div class="blob-code blob-code-inner js-file-line" id="LC197">              <span class="pl-s"><span class="pl-pds">&quot;</span>      &lt;th&gt;0&lt;/th&gt;<span class="pl-cce">\n</span><span class="pl-pds">&quot;</span></span>,</div>
                </div>
                <div class="d-flex flex-justify-start flex-items-start">
                  <div class="blob-num blame-blob-num bg-gray-light js-line-number" id="L198">198</div>
                  <div class="blob-code blob-code-inner js-file-line" id="LC198">              <span class="pl-s"><span class="pl-pds">&quot;</span>      &lt;td&gt;01/03/1973&lt;/td&gt;<span class="pl-cce">\n</span><span class="pl-pds">&quot;</span></span>,</div>
                </div>
                <div class="d-flex flex-justify-start flex-items-start">
                  <div class="blob-num blame-blob-num bg-gray-light js-line-number" id="L199">199</div>
                  <div class="blob-code blob-code-inner js-file-line" id="LC199">              <span class="pl-s"><span class="pl-pds">&quot;</span>      &lt;td&gt;0&lt;/td&gt;<span class="pl-cce">\n</span><span class="pl-pds">&quot;</span></span>,</div>
                </div>
                <div class="d-flex flex-justify-start flex-items-start">
                  <div class="blob-num blame-blob-num bg-gray-light js-line-number" id="L200">200</div>
                  <div class="blob-code blob-code-inner js-file-line" id="LC200">              <span class="pl-s"><span class="pl-pds">&quot;</span>      &lt;td&gt;Nulo&lt;/td&gt;<span class="pl-cce">\n</span><span class="pl-pds">&quot;</span></span>,</div>
                </div>
                <div class="d-flex flex-justify-start flex-items-start">
                  <div class="blob-num blame-blob-num bg-gray-light js-line-number" id="L201">201</div>
                  <div class="blob-code blob-code-inner js-file-line" id="LC201">              <span class="pl-s"><span class="pl-pds">&quot;</span>      &lt;td&gt;29&lt;/td&gt;<span class="pl-cce">\n</span><span class="pl-pds">&quot;</span></span>,</div>
                </div>
                <div class="d-flex flex-justify-start flex-items-start">
                  <div class="blob-num blame-blob-num bg-gray-light js-line-number" id="L202">202</div>
                  <div class="blob-code blob-code-inner js-file-line" id="LC202">              <span class="pl-s"><span class="pl-pds">&quot;</span>      &lt;td&gt;12&lt;/td&gt;<span class="pl-cce">\n</span><span class="pl-pds">&quot;</span></span>,</div>
                </div>
                <div class="d-flex flex-justify-start flex-items-start">
                  <div class="blob-num blame-blob-num bg-gray-light js-line-number" id="L203">203</div>
                  <div class="blob-code blob-code-inner js-file-line" id="LC203">              <span class="pl-s"><span class="pl-pds">&quot;</span>    &lt;/tr&gt;<span class="pl-cce">\n</span><span class="pl-pds">&quot;</span></span>,</div>
                </div>
                <div class="d-flex flex-justify-start flex-items-start">
                  <div class="blob-num blame-blob-num bg-gray-light js-line-number" id="L204">204</div>
                  <div class="blob-code blob-code-inner js-file-line" id="LC204">              <span class="pl-s"><span class="pl-pds">&quot;</span>    &lt;tr&gt;<span class="pl-cce">\n</span><span class="pl-pds">&quot;</span></span>,</div>
                </div>
                <div class="d-flex flex-justify-start flex-items-start">
                  <div class="blob-num blame-blob-num bg-gray-light js-line-number" id="L205">205</div>
                  <div class="blob-code blob-code-inner js-file-line" id="LC205">              <span class="pl-s"><span class="pl-pds">&quot;</span>      &lt;th&gt;1&lt;/th&gt;<span class="pl-cce">\n</span><span class="pl-pds">&quot;</span></span>,</div>
                </div>
                <div class="d-flex flex-justify-start flex-items-start">
                  <div class="blob-num blame-blob-num bg-gray-light js-line-number" id="L206">206</div>
                  <div class="blob-code blob-code-inner js-file-line" id="LC206">              <span class="pl-s"><span class="pl-pds">&quot;</span>      &lt;td&gt;02/03/1973&lt;/td&gt;<span class="pl-cce">\n</span><span class="pl-pds">&quot;</span></span>,</div>
                </div>
                <div class="d-flex flex-justify-start flex-items-start">
                  <div class="blob-num blame-blob-num bg-gray-light js-line-number" id="L207">207</div>
                  <div class="blob-code blob-code-inner js-file-line" id="LC207">              <span class="pl-s"><span class="pl-pds">&quot;</span>      &lt;td&gt;0&lt;/td&gt;<span class="pl-cce">\n</span><span class="pl-pds">&quot;</span></span>,</div>
                </div>
                <div class="d-flex flex-justify-start flex-items-start">
                  <div class="blob-num blame-blob-num bg-gray-light js-line-number" id="L208">208</div>
                  <div class="blob-code blob-code-inner js-file-line" id="LC208">              <span class="pl-s"><span class="pl-pds">&quot;</span>      &lt;td&gt;Nulo&lt;/td&gt;<span class="pl-cce">\n</span><span class="pl-pds">&quot;</span></span>,</div>
                </div>
                <div class="d-flex flex-justify-start flex-items-start">
                  <div class="blob-num blame-blob-num bg-gray-light js-line-number" id="L209">209</div>
                  <div class="blob-code blob-code-inner js-file-line" id="LC209">              <span class="pl-s"><span class="pl-pds">&quot;</span>      &lt;td&gt;30&lt;/td&gt;<span class="pl-cce">\n</span><span class="pl-pds">&quot;</span></span>,</div>
                </div>
                <div class="d-flex flex-justify-start flex-items-start">
                  <div class="blob-num blame-blob-num bg-gray-light js-line-number" id="L210">210</div>
                  <div class="blob-code blob-code-inner js-file-line" id="LC210">              <span class="pl-s"><span class="pl-pds">&quot;</span>      &lt;td&gt;12&lt;/td&gt;<span class="pl-cce">\n</span><span class="pl-pds">&quot;</span></span>,</div>
                </div>
                <div class="d-flex flex-justify-start flex-items-start">
                  <div class="blob-num blame-blob-num bg-gray-light js-line-number" id="L211">211</div>
                  <div class="blob-code blob-code-inner js-file-line" id="LC211">              <span class="pl-s"><span class="pl-pds">&quot;</span>    &lt;/tr&gt;<span class="pl-cce">\n</span><span class="pl-pds">&quot;</span></span>,</div>
                </div>
                <div class="d-flex flex-justify-start flex-items-start">
                  <div class="blob-num blame-blob-num bg-gray-light js-line-number" id="L212">212</div>
                  <div class="blob-code blob-code-inner js-file-line" id="LC212">              <span class="pl-s"><span class="pl-pds">&quot;</span>    &lt;tr&gt;<span class="pl-cce">\n</span><span class="pl-pds">&quot;</span></span>,</div>
                </div>
                <div class="d-flex flex-justify-start flex-items-start">
                  <div class="blob-num blame-blob-num bg-gray-light js-line-number" id="L213">213</div>
                  <div class="blob-code blob-code-inner js-file-line" id="LC213">              <span class="pl-s"><span class="pl-pds">&quot;</span>      &lt;th&gt;2&lt;/th&gt;<span class="pl-cce">\n</span><span class="pl-pds">&quot;</span></span>,</div>
                </div>
                <div class="d-flex flex-justify-start flex-items-start">
                  <div class="blob-num blame-blob-num bg-gray-light js-line-number" id="L214">214</div>
                  <div class="blob-code blob-code-inner js-file-line" id="LC214">              <span class="pl-s"><span class="pl-pds">&quot;</span>      &lt;td&gt;03/03/1973&lt;/td&gt;<span class="pl-cce">\n</span><span class="pl-pds">&quot;</span></span>,</div>
                </div>
                <div class="d-flex flex-justify-start flex-items-start">
                  <div class="blob-num blame-blob-num bg-gray-light js-line-number" id="L215">215</div>
                  <div class="blob-code blob-code-inner js-file-line" id="LC215">              <span class="pl-s"><span class="pl-pds">&quot;</span>      &lt;td&gt;0&lt;/td&gt;<span class="pl-cce">\n</span><span class="pl-pds">&quot;</span></span>,</div>
                </div>
                <div class="d-flex flex-justify-start flex-items-start">
                  <div class="blob-num blame-blob-num bg-gray-light js-line-number" id="L216">216</div>
                  <div class="blob-code blob-code-inner js-file-line" id="LC216">              <span class="pl-s"><span class="pl-pds">&quot;</span>      &lt;td&gt;Nulo&lt;/td&gt;<span class="pl-cce">\n</span><span class="pl-pds">&quot;</span></span>,</div>
                </div>
                <div class="d-flex flex-justify-start flex-items-start">
                  <div class="blob-num blame-blob-num bg-gray-light js-line-number" id="L217">217</div>
                  <div class="blob-code blob-code-inner js-file-line" id="LC217">              <span class="pl-s"><span class="pl-pds">&quot;</span>      &lt;td&gt;29&lt;/td&gt;<span class="pl-cce">\n</span><span class="pl-pds">&quot;</span></span>,</div>
                </div>
                <div class="d-flex flex-justify-start flex-items-start">
                  <div class="blob-num blame-blob-num bg-gray-light js-line-number" id="L218">218</div>
                  <div class="blob-code blob-code-inner js-file-line" id="LC218">              <span class="pl-s"><span class="pl-pds">&quot;</span>      &lt;td&gt;9&lt;/td&gt;<span class="pl-cce">\n</span><span class="pl-pds">&quot;</span></span>,</div>
                </div>
                <div class="d-flex flex-justify-start flex-items-start">
                  <div class="blob-num blame-blob-num bg-gray-light js-line-number" id="L219">219</div>
                  <div class="blob-code blob-code-inner js-file-line" id="LC219">              <span class="pl-s"><span class="pl-pds">&quot;</span>    &lt;/tr&gt;<span class="pl-cce">\n</span><span class="pl-pds">&quot;</span></span>,</div>
                </div>
                <div class="d-flex flex-justify-start flex-items-start">
                  <div class="blob-num blame-blob-num bg-gray-light js-line-number" id="L220">220</div>
                  <div class="blob-code blob-code-inner js-file-line" id="LC220">              <span class="pl-s"><span class="pl-pds">&quot;</span>    &lt;tr&gt;<span class="pl-cce">\n</span><span class="pl-pds">&quot;</span></span>,</div>
                </div>
                <div class="d-flex flex-justify-start flex-items-start">
                  <div class="blob-num blame-blob-num bg-gray-light js-line-number" id="L221">221</div>
                  <div class="blob-code blob-code-inner js-file-line" id="LC221">              <span class="pl-s"><span class="pl-pds">&quot;</span>      &lt;th&gt;3&lt;/th&gt;<span class="pl-cce">\n</span><span class="pl-pds">&quot;</span></span>,</div>
                </div>
                <div class="d-flex flex-justify-start flex-items-start">
                  <div class="blob-num blame-blob-num bg-gray-light js-line-number" id="L222">222</div>
                  <div class="blob-code blob-code-inner js-file-line" id="LC222">              <span class="pl-s"><span class="pl-pds">&quot;</span>      &lt;td&gt;04/03/1973&lt;/td&gt;<span class="pl-cce">\n</span><span class="pl-pds">&quot;</span></span>,</div>
                </div>
                <div class="d-flex flex-justify-start flex-items-start">
                  <div class="blob-num blame-blob-num bg-gray-light js-line-number" id="L223">223</div>
                  <div class="blob-code blob-code-inner js-file-line" id="LC223">              <span class="pl-s"><span class="pl-pds">&quot;</span>      &lt;td&gt;0&lt;/td&gt;<span class="pl-cce">\n</span><span class="pl-pds">&quot;</span></span>,</div>
                </div>
                <div class="d-flex flex-justify-start flex-items-start">
                  <div class="blob-num blame-blob-num bg-gray-light js-line-number" id="L224">224</div>
                  <div class="blob-code blob-code-inner js-file-line" id="LC224">              <span class="pl-s"><span class="pl-pds">&quot;</span>      &lt;td&gt;Nulo&lt;/td&gt;<span class="pl-cce">\n</span><span class="pl-pds">&quot;</span></span>,</div>
                </div>
                <div class="d-flex flex-justify-start flex-items-start">
                  <div class="blob-num blame-blob-num bg-gray-light js-line-number" id="L225">225</div>
                  <div class="blob-code blob-code-inner js-file-line" id="LC225">              <span class="pl-s"><span class="pl-pds">&quot;</span>      &lt;td&gt;28&lt;/td&gt;<span class="pl-cce">\n</span><span class="pl-pds">&quot;</span></span>,</div>
                </div>
                <div class="d-flex flex-justify-start flex-items-start">
                  <div class="blob-num blame-blob-num bg-gray-light js-line-number" id="L226">226</div>
                  <div class="blob-code blob-code-inner js-file-line" id="LC226">              <span class="pl-s"><span class="pl-pds">&quot;</span>      &lt;td&gt;8&lt;/td&gt;<span class="pl-cce">\n</span><span class="pl-pds">&quot;</span></span>,</div>
                </div>
                <div class="d-flex flex-justify-start flex-items-start">
                  <div class="blob-num blame-blob-num bg-gray-light js-line-number" id="L227">227</div>
                  <div class="blob-code blob-code-inner js-file-line" id="LC227">              <span class="pl-s"><span class="pl-pds">&quot;</span>    &lt;/tr&gt;<span class="pl-cce">\n</span><span class="pl-pds">&quot;</span></span>,</div>
                </div>
                <div class="d-flex flex-justify-start flex-items-start">
                  <div class="blob-num blame-blob-num bg-gray-light js-line-number" id="L228">228</div>
                  <div class="blob-code blob-code-inner js-file-line" id="LC228">              <span class="pl-s"><span class="pl-pds">&quot;</span>    &lt;tr&gt;<span class="pl-cce">\n</span><span class="pl-pds">&quot;</span></span>,</div>
                </div>
                <div class="d-flex flex-justify-start flex-items-start">
                  <div class="blob-num blame-blob-num bg-gray-light js-line-number" id="L229">229</div>
                  <div class="blob-code blob-code-inner js-file-line" id="LC229">              <span class="pl-s"><span class="pl-pds">&quot;</span>      &lt;th&gt;4&lt;/th&gt;<span class="pl-cce">\n</span><span class="pl-pds">&quot;</span></span>,</div>
                </div>
                <div class="d-flex flex-justify-start flex-items-start">
                  <div class="blob-num blame-blob-num bg-gray-light js-line-number" id="L230">230</div>
                  <div class="blob-code blob-code-inner js-file-line" id="LC230">              <span class="pl-s"><span class="pl-pds">&quot;</span>      &lt;td&gt;05/03/1973&lt;/td&gt;<span class="pl-cce">\n</span><span class="pl-pds">&quot;</span></span>,</div>
                </div>
                <div class="d-flex flex-justify-start flex-items-start">
                  <div class="blob-num blame-blob-num bg-gray-light js-line-number" id="L231">231</div>
                  <div class="blob-code blob-code-inner js-file-line" id="LC231">              <span class="pl-s"><span class="pl-pds">&quot;</span>      &lt;td&gt;0&lt;/td&gt;<span class="pl-cce">\n</span><span class="pl-pds">&quot;</span></span>,</div>
                </div>
                <div class="d-flex flex-justify-start flex-items-start">
                  <div class="blob-num blame-blob-num bg-gray-light js-line-number" id="L232">232</div>
                  <div class="blob-code blob-code-inner js-file-line" id="LC232">              <span class="pl-s"><span class="pl-pds">&quot;</span>      &lt;td&gt;Nulo&lt;/td&gt;<span class="pl-cce">\n</span><span class="pl-pds">&quot;</span></span>,</div>
                </div>
                <div class="d-flex flex-justify-start flex-items-start">
                  <div class="blob-num blame-blob-num bg-gray-light js-line-number" id="L233">233</div>
                  <div class="blob-code blob-code-inner js-file-line" id="LC233">              <span class="pl-s"><span class="pl-pds">&quot;</span>      &lt;td&gt;28&lt;/td&gt;<span class="pl-cce">\n</span><span class="pl-pds">&quot;</span></span>,</div>
                </div>
                <div class="d-flex flex-justify-start flex-items-start">
                  <div class="blob-num blame-blob-num bg-gray-light js-line-number" id="L234">234</div>
                  <div class="blob-code blob-code-inner js-file-line" id="LC234">              <span class="pl-s"><span class="pl-pds">&quot;</span>      &lt;td&gt;7&lt;/td&gt;<span class="pl-cce">\n</span><span class="pl-pds">&quot;</span></span>,</div>
                </div>
                <div class="d-flex flex-justify-start flex-items-start">
                  <div class="blob-num blame-blob-num bg-gray-light js-line-number" id="L235">235</div>
                  <div class="blob-code blob-code-inner js-file-line" id="LC235">              <span class="pl-s"><span class="pl-pds">&quot;</span>    &lt;/tr&gt;<span class="pl-cce">\n</span><span class="pl-pds">&quot;</span></span>,</div>
                </div>
                <div class="d-flex flex-justify-start flex-items-start">
                  <div class="blob-num blame-blob-num bg-gray-light js-line-number" id="L236">236</div>
                  <div class="blob-code blob-code-inner js-file-line" id="LC236">              <span class="pl-s"><span class="pl-pds">&quot;</span>  &lt;/tbody&gt;<span class="pl-cce">\n</span><span class="pl-pds">&quot;</span></span>,</div>
                </div>
                <div class="d-flex flex-justify-start flex-items-start">
                  <div class="blob-num blame-blob-num bg-gray-light js-line-number" id="L237">237</div>
                  <div class="blob-code blob-code-inner js-file-line" id="LC237">              <span class="pl-s"><span class="pl-pds">&quot;</span>&lt;/table&gt;<span class="pl-cce">\n</span><span class="pl-pds">&quot;</span></span>,</div>
                </div>
                <div class="d-flex flex-justify-start flex-items-start">
                  <div class="blob-num blame-blob-num bg-gray-light js-line-number" id="L238">238</div>
                  <div class="blob-code blob-code-inner js-file-line" id="LC238">              <span class="pl-s"><span class="pl-pds">&quot;</span>&lt;/div&gt;<span class="pl-pds">&quot;</span></span></div>
                </div>
                <div class="d-flex flex-justify-start flex-items-start">
                  <div class="blob-num blame-blob-num bg-gray-light js-line-number" id="L239">239</div>
                  <div class="blob-code blob-code-inner js-file-line" id="LC239">            ],</div>
                </div>
                <div class="d-flex flex-justify-start flex-items-start">
                  <div class="blob-num blame-blob-num bg-gray-light js-line-number" id="L240">240</div>
                  <div class="blob-code blob-code-inner js-file-line" id="LC240">            <span class="pl-s"><span class="pl-pds">&quot;</span>text/plain<span class="pl-pds">&quot;</span></span>: [</div>
                </div>
                <div class="d-flex flex-justify-start flex-items-start">
                  <div class="blob-num blame-blob-num bg-gray-light js-line-number" id="L241">241</div>
                  <div class="blob-code blob-code-inner js-file-line" id="LC241">              <span class="pl-s"><span class="pl-pds">&quot;</span>        Fecha Precipit  Evap Tmax Tmin<span class="pl-cce">\n</span><span class="pl-pds">&quot;</span></span>,</div>
                </div>
                <div class="d-flex flex-justify-start flex-items-start">
                  <div class="blob-num blame-blob-num bg-gray-light js-line-number" id="L242">242</div>
                  <div class="blob-code blob-code-inner js-file-line" id="LC242">              <span class="pl-s"><span class="pl-pds">&quot;</span>0  01/03/1973        0  Nulo   29   12<span class="pl-cce">\n</span><span class="pl-pds">&quot;</span></span>,</div>
                </div>
                <div class="d-flex flex-justify-start flex-items-start">
                  <div class="blob-num blame-blob-num bg-gray-light js-line-number" id="L243">243</div>
                  <div class="blob-code blob-code-inner js-file-line" id="LC243">              <span class="pl-s"><span class="pl-pds">&quot;</span>1  02/03/1973        0  Nulo   30   12<span class="pl-cce">\n</span><span class="pl-pds">&quot;</span></span>,</div>
                </div>
                <div class="d-flex flex-justify-start flex-items-start">
                  <div class="blob-num blame-blob-num bg-gray-light js-line-number" id="L244">244</div>
                  <div class="blob-code blob-code-inner js-file-line" id="LC244">              <span class="pl-s"><span class="pl-pds">&quot;</span>2  03/03/1973        0  Nulo   29    9<span class="pl-cce">\n</span><span class="pl-pds">&quot;</span></span>,</div>
                </div>
                <div class="d-flex flex-justify-start flex-items-start">
                  <div class="blob-num blame-blob-num bg-gray-light js-line-number" id="L245">245</div>
                  <div class="blob-code blob-code-inner js-file-line" id="LC245">              <span class="pl-s"><span class="pl-pds">&quot;</span>3  04/03/1973        0  Nulo   28    8<span class="pl-cce">\n</span><span class="pl-pds">&quot;</span></span>,</div>
                </div>
                <div class="d-flex flex-justify-start flex-items-start">
                  <div class="blob-num blame-blob-num bg-gray-light js-line-number" id="L246">246</div>
                  <div class="blob-code blob-code-inner js-file-line" id="LC246">              <span class="pl-s"><span class="pl-pds">&quot;</span>4  05/03/1973        0  Nulo   28    7<span class="pl-pds">&quot;</span></span></div>
                </div>
                <div class="d-flex flex-justify-start flex-items-start">
                  <div class="blob-num blame-blob-num bg-gray-light js-line-number" id="L247">247</div>
                  <div class="blob-code blob-code-inner js-file-line" id="LC247">            ]</div>
                </div>
                <div class="d-flex flex-justify-start flex-items-start">
                  <div class="blob-num blame-blob-num bg-gray-light js-line-number" id="L248">248</div>
                  <div class="blob-code blob-code-inner js-file-line" id="LC248">          },</div>
                </div>
                <div class="d-flex flex-justify-start flex-items-start">
                  <div class="blob-num blame-blob-num bg-gray-light js-line-number" id="L249">249</div>
                  <div class="blob-code blob-code-inner js-file-line" id="LC249">          <span class="pl-s"><span class="pl-pds">&quot;</span>metadata<span class="pl-pds">&quot;</span></span>: {</div>
                </div>
                <div class="d-flex flex-justify-start flex-items-start">
                  <div class="blob-num blame-blob-num bg-gray-light js-line-number" id="L250">250</div>
                  <div class="blob-code blob-code-inner js-file-line" id="LC250">            <span class="pl-s"><span class="pl-pds">&quot;</span>tags<span class="pl-pds">&quot;</span></span>: []</div>
                </div>
                <div class="d-flex flex-justify-start flex-items-start">
                  <div class="blob-num blame-blob-num bg-gray-light js-line-number" id="L251">251</div>
                  <div class="blob-code blob-code-inner js-file-line" id="LC251">          },</div>
                </div>
                <div class="d-flex flex-justify-start flex-items-start">
                  <div class="blob-num blame-blob-num bg-gray-light js-line-number" id="L252">252</div>
                  <div class="blob-code blob-code-inner js-file-line" id="LC252">          <span class="pl-s"><span class="pl-pds">&quot;</span>execution_count<span class="pl-pds">&quot;</span></span>: <span class="pl-c1">36</span></div>
                </div>
                <div class="d-flex flex-justify-start flex-items-start">
                  <div class="blob-num blame-blob-num bg-gray-light js-line-number" id="L253">253</div>
                  <div class="blob-code blob-code-inner js-file-line" id="LC253">        }</div>
                </div>
                <div class="d-flex flex-justify-start flex-items-start">
                  <div class="blob-num blame-blob-num bg-gray-light js-line-number" id="L254">254</div>
                  <div class="blob-code blob-code-inner js-file-line" id="LC254">      ]</div>
                </div>
                <div class="d-flex flex-justify-start flex-items-start">
                  <div class="blob-num blame-blob-num bg-gray-light js-line-number" id="L255">255</div>
                  <div class="blob-code blob-code-inner js-file-line" id="LC255">    },</div>
                </div>
                <div class="d-flex flex-justify-start flex-items-start">
                  <div class="blob-num blame-blob-num bg-gray-light js-line-number" id="L256">256</div>
                  <div class="blob-code blob-code-inner js-file-line" id="LC256">    {</div>
                </div>
                <div class="d-flex flex-justify-start flex-items-start">
                  <div class="blob-num blame-blob-num bg-gray-light js-line-number" id="L257">257</div>
                  <div class="blob-code blob-code-inner js-file-line" id="LC257">      <span class="pl-s"><span class="pl-pds">&quot;</span>cell_type<span class="pl-pds">&quot;</span></span>: <span class="pl-s"><span class="pl-pds">&quot;</span>code<span class="pl-pds">&quot;</span></span>,</div>
                </div>
                <div class="d-flex flex-justify-start flex-items-start">
                  <div class="blob-num blame-blob-num bg-gray-light js-line-number" id="L258">258</div>
                  <div class="blob-code blob-code-inner js-file-line" id="LC258">      <span class="pl-s"><span class="pl-pds">&quot;</span>metadata<span class="pl-pds">&quot;</span></span>: {</div>
                </div>
                <div class="d-flex flex-justify-start flex-items-start">
                  <div class="blob-num blame-blob-num bg-gray-light js-line-number" id="L259">259</div>
                  <div class="blob-code blob-code-inner js-file-line" id="LC259">        <span class="pl-s"><span class="pl-pds">&quot;</span>colab<span class="pl-pds">&quot;</span></span>: {</div>
                </div>
                <div class="d-flex flex-justify-start flex-items-start">
                  <div class="blob-num blame-blob-num bg-gray-light js-line-number" id="L260">260</div>
                  <div class="blob-code blob-code-inner js-file-line" id="LC260">          <span class="pl-s"><span class="pl-pds">&quot;</span>base_uri<span class="pl-pds">&quot;</span></span>: <span class="pl-s"><span class="pl-pds">&quot;</span>https://localhost:8080/<span class="pl-pds">&quot;</span></span>,</div>
                </div>
                <div class="d-flex flex-justify-start flex-items-start">
                  <div class="blob-num blame-blob-num bg-gray-light js-line-number" id="L261">261</div>
                  <div class="blob-code blob-code-inner js-file-line" id="LC261">          <span class="pl-s"><span class="pl-pds">&quot;</span>height<span class="pl-pds">&quot;</span></span>: <span class="pl-c1">204</span></div>
                </div>
                <div class="d-flex flex-justify-start flex-items-start">
                  <div class="blob-num blame-blob-num bg-gray-light js-line-number" id="L262">262</div>
                  <div class="blob-code blob-code-inner js-file-line" id="LC262">        },</div>
                </div>
                <div class="d-flex flex-justify-start flex-items-start">
                  <div class="blob-num blame-blob-num bg-gray-light js-line-number" id="L263">263</div>
                  <div class="blob-code blob-code-inner js-file-line" id="LC263">        <span class="pl-s"><span class="pl-pds">&quot;</span>id<span class="pl-pds">&quot;</span></span>: <span class="pl-s"><span class="pl-pds">&quot;</span>ZWs0CduzLQ2l<span class="pl-pds">&quot;</span></span>,</div>
                </div>
                <div class="d-flex flex-justify-start flex-items-start">
                  <div class="blob-num blame-blob-num bg-gray-light js-line-number" id="L264">264</div>
                  <div class="blob-code blob-code-inner js-file-line" id="LC264">        <span class="pl-s"><span class="pl-pds">&quot;</span>outputId<span class="pl-pds">&quot;</span></span>: <span class="pl-s"><span class="pl-pds">&quot;</span>ae557af0-4685-47c9-9557-70ebb2065e53<span class="pl-pds">&quot;</span></span></div>
                </div>
                <div class="d-flex flex-justify-start flex-items-start">
                  <div class="blob-num blame-blob-num bg-gray-light js-line-number" id="L265">265</div>
                  <div class="blob-code blob-code-inner js-file-line" id="LC265">      },</div>
                </div>
                <div class="d-flex flex-justify-start flex-items-start">
                  <div class="blob-num blame-blob-num bg-gray-light js-line-number" id="L266">266</div>
                  <div class="blob-code blob-code-inner js-file-line" id="LC266">      <span class="pl-s"><span class="pl-pds">&quot;</span>source<span class="pl-pds">&quot;</span></span>: [</div>
                </div>
                <div class="d-flex flex-justify-start flex-items-start">
                  <div class="blob-num blame-blob-num bg-gray-light js-line-number" id="L267">267</div>
                  <div class="blob-code blob-code-inner js-file-line" id="LC267">        <span class="pl-s"><span class="pl-pds">&quot;</span>str_Nulo = &#39;Nulo&#39;<span class="pl-cce">\r\n</span><span class="pl-pds">&quot;</span></span>,</div>
                </div>
                <div class="d-flex flex-justify-start flex-items-start">
                  <div class="blob-num blame-blob-num bg-gray-light js-line-number" id="L268">268</div>
                  <div class="blob-code blob-code-inner js-file-line" id="LC268">        <span class="pl-s"><span class="pl-pds">&quot;</span>df_work1 = df_work0.replace(to_replace=str_Nulo, value=&#39;&#39;, regex=True)<span class="pl-cce">\r\n</span><span class="pl-pds">&quot;</span></span>,</div>
                </div>
                <div class="d-flex flex-justify-start flex-items-start">
                  <div class="blob-num blame-blob-num bg-gray-light js-line-number" id="L269">269</div>
                  <div class="blob-code blob-code-inner js-file-line" id="LC269">        <span class="pl-s"><span class="pl-pds">&quot;</span>df_work1.head()<span class="pl-pds">&quot;</span></span></div>
                </div>
                <div class="d-flex flex-justify-start flex-items-start">
                  <div class="blob-num blame-blob-num bg-gray-light js-line-number" id="L270">270</div>
                  <div class="blob-code blob-code-inner js-file-line" id="LC270">      ],</div>
                </div>
                <div class="d-flex flex-justify-start flex-items-start">
                  <div class="blob-num blame-blob-num bg-gray-light js-line-number" id="L271">271</div>
                  <div class="blob-code blob-code-inner js-file-line" id="LC271">      <span class="pl-s"><span class="pl-pds">&quot;</span>execution_count<span class="pl-pds">&quot;</span></span>: <span class="pl-c1">37</span>,</div>
                </div>
                <div class="d-flex flex-justify-start flex-items-start">
                  <div class="blob-num blame-blob-num bg-gray-light js-line-number" id="L272">272</div>
                  <div class="blob-code blob-code-inner js-file-line" id="LC272">      <span class="pl-s"><span class="pl-pds">&quot;</span>outputs<span class="pl-pds">&quot;</span></span>: [</div>
                </div>
                <div class="d-flex flex-justify-start flex-items-start">
                  <div class="blob-num blame-blob-num bg-gray-light js-line-number" id="L273">273</div>
                  <div class="blob-code blob-code-inner js-file-line" id="LC273">        {</div>
                </div>
                <div class="d-flex flex-justify-start flex-items-start">
                  <div class="blob-num blame-blob-num bg-gray-light js-line-number" id="L274">274</div>
                  <div class="blob-code blob-code-inner js-file-line" id="LC274">          <span class="pl-s"><span class="pl-pds">&quot;</span>output_type<span class="pl-pds">&quot;</span></span>: <span class="pl-s"><span class="pl-pds">&quot;</span>execute_result<span class="pl-pds">&quot;</span></span>,</div>
                </div>
                <div class="d-flex flex-justify-start flex-items-start">
                  <div class="blob-num blame-blob-num bg-gray-light js-line-number" id="L275">275</div>
                  <div class="blob-code blob-code-inner js-file-line" id="LC275">          <span class="pl-s"><span class="pl-pds">&quot;</span>data<span class="pl-pds">&quot;</span></span>: {</div>
                </div>
                <div class="d-flex flex-justify-start flex-items-start">
                  <div class="blob-num blame-blob-num bg-gray-light js-line-number" id="L276">276</div>
                  <div class="blob-code blob-code-inner js-file-line" id="LC276">            <span class="pl-s"><span class="pl-pds">&quot;</span>text/html<span class="pl-pds">&quot;</span></span>: [</div>
                </div>
                <div class="d-flex flex-justify-start flex-items-start">
                  <div class="blob-num blame-blob-num bg-gray-light js-line-number" id="L277">277</div>
                  <div class="blob-code blob-code-inner js-file-line" id="LC277">              <span class="pl-s"><span class="pl-pds">&quot;</span>&lt;div&gt;<span class="pl-cce">\n</span><span class="pl-pds">&quot;</span></span>,</div>
                </div>
                <div class="d-flex flex-justify-start flex-items-start">
                  <div class="blob-num blame-blob-num bg-gray-light js-line-number" id="L278">278</div>
                  <div class="blob-code blob-code-inner js-file-line" id="LC278">              <span class="pl-s"><span class="pl-pds">&quot;</span>&lt;style scoped&gt;<span class="pl-cce">\n</span><span class="pl-pds">&quot;</span></span>,</div>
                </div>
                <div class="d-flex flex-justify-start flex-items-start">
                  <div class="blob-num blame-blob-num bg-gray-light js-line-number" id="L279">279</div>
                  <div class="blob-code blob-code-inner js-file-line" id="LC279">              <span class="pl-s"><span class="pl-pds">&quot;</span>    .dataframe tbody tr th:only-of-type {<span class="pl-cce">\n</span><span class="pl-pds">&quot;</span></span>,</div>
                </div>
                <div class="d-flex flex-justify-start flex-items-start">
                  <div class="blob-num blame-blob-num bg-gray-light js-line-number" id="L280">280</div>
                  <div class="blob-code blob-code-inner js-file-line" id="LC280">              <span class="pl-s"><span class="pl-pds">&quot;</span>        vertical-align: middle;<span class="pl-cce">\n</span><span class="pl-pds">&quot;</span></span>,</div>
                </div>
                <div class="d-flex flex-justify-start flex-items-start">
                  <div class="blob-num blame-blob-num bg-gray-light js-line-number" id="L281">281</div>
                  <div class="blob-code blob-code-inner js-file-line" id="LC281">              <span class="pl-s"><span class="pl-pds">&quot;</span>    }<span class="pl-cce">\n</span><span class="pl-pds">&quot;</span></span>,</div>
                </div>
                <div class="d-flex flex-justify-start flex-items-start">
                  <div class="blob-num blame-blob-num bg-gray-light js-line-number" id="L282">282</div>
                  <div class="blob-code blob-code-inner js-file-line" id="LC282">              <span class="pl-s"><span class="pl-pds">&quot;</span><span class="pl-cce">\n</span><span class="pl-pds">&quot;</span></span>,</div>
                </div>
                <div class="d-flex flex-justify-start flex-items-start">
                  <div class="blob-num blame-blob-num bg-gray-light js-line-number" id="L283">283</div>
                  <div class="blob-code blob-code-inner js-file-line" id="LC283">              <span class="pl-s"><span class="pl-pds">&quot;</span>    .dataframe tbody tr th {<span class="pl-cce">\n</span><span class="pl-pds">&quot;</span></span>,</div>
                </div>
                <div class="d-flex flex-justify-start flex-items-start">
                  <div class="blob-num blame-blob-num bg-gray-light js-line-number" id="L284">284</div>
                  <div class="blob-code blob-code-inner js-file-line" id="LC284">              <span class="pl-s"><span class="pl-pds">&quot;</span>        vertical-align: top;<span class="pl-cce">\n</span><span class="pl-pds">&quot;</span></span>,</div>
                </div>
                <div class="d-flex flex-justify-start flex-items-start">
                  <div class="blob-num blame-blob-num bg-gray-light js-line-number" id="L285">285</div>
                  <div class="blob-code blob-code-inner js-file-line" id="LC285">              <span class="pl-s"><span class="pl-pds">&quot;</span>    }<span class="pl-cce">\n</span><span class="pl-pds">&quot;</span></span>,</div>
                </div>
                <div class="d-flex flex-justify-start flex-items-start">
                  <div class="blob-num blame-blob-num bg-gray-light js-line-number" id="L286">286</div>
                  <div class="blob-code blob-code-inner js-file-line" id="LC286">              <span class="pl-s"><span class="pl-pds">&quot;</span><span class="pl-cce">\n</span><span class="pl-pds">&quot;</span></span>,</div>
                </div>
                <div class="d-flex flex-justify-start flex-items-start">
                  <div class="blob-num blame-blob-num bg-gray-light js-line-number" id="L287">287</div>
                  <div class="blob-code blob-code-inner js-file-line" id="LC287">              <span class="pl-s"><span class="pl-pds">&quot;</span>    .dataframe thead th {<span class="pl-cce">\n</span><span class="pl-pds">&quot;</span></span>,</div>
                </div>
                <div class="d-flex flex-justify-start flex-items-start">
                  <div class="blob-num blame-blob-num bg-gray-light js-line-number" id="L288">288</div>
                  <div class="blob-code blob-code-inner js-file-line" id="LC288">              <span class="pl-s"><span class="pl-pds">&quot;</span>        text-align: right;<span class="pl-cce">\n</span><span class="pl-pds">&quot;</span></span>,</div>
                </div>
                <div class="d-flex flex-justify-start flex-items-start">
                  <div class="blob-num blame-blob-num bg-gray-light js-line-number" id="L289">289</div>
                  <div class="blob-code blob-code-inner js-file-line" id="LC289">              <span class="pl-s"><span class="pl-pds">&quot;</span>    }<span class="pl-cce">\n</span><span class="pl-pds">&quot;</span></span>,</div>
                </div>
                <div class="d-flex flex-justify-start flex-items-start">
                  <div class="blob-num blame-blob-num bg-gray-light js-line-number" id="L290">290</div>
                  <div class="blob-code blob-code-inner js-file-line" id="LC290">              <span class="pl-s"><span class="pl-pds">&quot;</span>&lt;/style&gt;<span class="pl-cce">\n</span><span class="pl-pds">&quot;</span></span>,</div>
                </div>
                <div class="d-flex flex-justify-start flex-items-start">
                  <div class="blob-num blame-blob-num bg-gray-light js-line-number" id="L291">291</div>
                  <div class="blob-code blob-code-inner js-file-line" id="LC291">              <span class="pl-s"><span class="pl-pds">&quot;</span>&lt;table border=<span class="pl-cce">\&quot;</span>1<span class="pl-cce">\&quot;</span> class=<span class="pl-cce">\&quot;</span>dataframe<span class="pl-cce">\&quot;</span>&gt;<span class="pl-cce">\n</span><span class="pl-pds">&quot;</span></span>,</div>
                </div>
                <div class="d-flex flex-justify-start flex-items-start">
                  <div class="blob-num blame-blob-num bg-gray-light js-line-number" id="L292">292</div>
                  <div class="blob-code blob-code-inner js-file-line" id="LC292">              <span class="pl-s"><span class="pl-pds">&quot;</span>  &lt;thead&gt;<span class="pl-cce">\n</span><span class="pl-pds">&quot;</span></span>,</div>
                </div>
                <div class="d-flex flex-justify-start flex-items-start">
                  <div class="blob-num blame-blob-num bg-gray-light js-line-number" id="L293">293</div>
                  <div class="blob-code blob-code-inner js-file-line" id="LC293">              <span class="pl-s"><span class="pl-pds">&quot;</span>    &lt;tr style=<span class="pl-cce">\&quot;</span>text-align: right;<span class="pl-cce">\&quot;</span>&gt;<span class="pl-cce">\n</span><span class="pl-pds">&quot;</span></span>,</div>
                </div>
                <div class="d-flex flex-justify-start flex-items-start">
                  <div class="blob-num blame-blob-num bg-gray-light js-line-number" id="L294">294</div>
                  <div class="blob-code blob-code-inner js-file-line" id="LC294">              <span class="pl-s"><span class="pl-pds">&quot;</span>      &lt;th&gt;&lt;/th&gt;<span class="pl-cce">\n</span><span class="pl-pds">&quot;</span></span>,</div>
                </div>
                <div class="d-flex flex-justify-start flex-items-start">
                  <div class="blob-num blame-blob-num bg-gray-light js-line-number" id="L295">295</div>
                  <div class="blob-code blob-code-inner js-file-line" id="LC295">              <span class="pl-s"><span class="pl-pds">&quot;</span>      &lt;th&gt;Fecha&lt;/th&gt;<span class="pl-cce">\n</span><span class="pl-pds">&quot;</span></span>,</div>
                </div>
                <div class="d-flex flex-justify-start flex-items-start">
                  <div class="blob-num blame-blob-num bg-gray-light js-line-number" id="L296">296</div>
                  <div class="blob-code blob-code-inner js-file-line" id="LC296">              <span class="pl-s"><span class="pl-pds">&quot;</span>      &lt;th&gt;Precipit&lt;/th&gt;<span class="pl-cce">\n</span><span class="pl-pds">&quot;</span></span>,</div>
                </div>
                <div class="d-flex flex-justify-start flex-items-start">
                  <div class="blob-num blame-blob-num bg-gray-light js-line-number" id="L297">297</div>
                  <div class="blob-code blob-code-inner js-file-line" id="LC297">              <span class="pl-s"><span class="pl-pds">&quot;</span>      &lt;th&gt;Evap&lt;/th&gt;<span class="pl-cce">\n</span><span class="pl-pds">&quot;</span></span>,</div>
                </div>
                <div class="d-flex flex-justify-start flex-items-start">
                  <div class="blob-num blame-blob-num bg-gray-light js-line-number" id="L298">298</div>
                  <div class="blob-code blob-code-inner js-file-line" id="LC298">              <span class="pl-s"><span class="pl-pds">&quot;</span>      &lt;th&gt;Tmax&lt;/th&gt;<span class="pl-cce">\n</span><span class="pl-pds">&quot;</span></span>,</div>
                </div>
                <div class="d-flex flex-justify-start flex-items-start">
                  <div class="blob-num blame-blob-num bg-gray-light js-line-number" id="L299">299</div>
                  <div class="blob-code blob-code-inner js-file-line" id="LC299">              <span class="pl-s"><span class="pl-pds">&quot;</span>      &lt;th&gt;Tmin&lt;/th&gt;<span class="pl-cce">\n</span><span class="pl-pds">&quot;</span></span>,</div>
                </div>
                <div class="d-flex flex-justify-start flex-items-start">
                  <div class="blob-num blame-blob-num bg-gray-light js-line-number" id="L300">300</div>
                  <div class="blob-code blob-code-inner js-file-line" id="LC300">              <span class="pl-s"><span class="pl-pds">&quot;</span>    &lt;/tr&gt;<span class="pl-cce">\n</span><span class="pl-pds">&quot;</span></span>,</div>
                </div>
                <div class="d-flex flex-justify-start flex-items-start">
                  <div class="blob-num blame-blob-num bg-gray-light js-line-number" id="L301">301</div>
                  <div class="blob-code blob-code-inner js-file-line" id="LC301">              <span class="pl-s"><span class="pl-pds">&quot;</span>  &lt;/thead&gt;<span class="pl-cce">\n</span><span class="pl-pds">&quot;</span></span>,</div>
                </div>
                <div class="d-flex flex-justify-start flex-items-start">
                  <div class="blob-num blame-blob-num bg-gray-light js-line-number" id="L302">302</div>
                  <div class="blob-code blob-code-inner js-file-line" id="LC302">              <span class="pl-s"><span class="pl-pds">&quot;</span>  &lt;tbody&gt;<span class="pl-cce">\n</span><span class="pl-pds">&quot;</span></span>,</div>
                </div>
                <div class="d-flex flex-justify-start flex-items-start">
                  <div class="blob-num blame-blob-num bg-gray-light js-line-number" id="L303">303</div>
                  <div class="blob-code blob-code-inner js-file-line" id="LC303">              <span class="pl-s"><span class="pl-pds">&quot;</span>    &lt;tr&gt;<span class="pl-cce">\n</span><span class="pl-pds">&quot;</span></span>,</div>
                </div>
                <div class="d-flex flex-justify-start flex-items-start">
                  <div class="blob-num blame-blob-num bg-gray-light js-line-number" id="L304">304</div>
                  <div class="blob-code blob-code-inner js-file-line" id="LC304">              <span class="pl-s"><span class="pl-pds">&quot;</span>      &lt;th&gt;0&lt;/th&gt;<span class="pl-cce">\n</span><span class="pl-pds">&quot;</span></span>,</div>
                </div>
                <div class="d-flex flex-justify-start flex-items-start">
                  <div class="blob-num blame-blob-num bg-gray-light js-line-number" id="L305">305</div>
                  <div class="blob-code blob-code-inner js-file-line" id="LC305">              <span class="pl-s"><span class="pl-pds">&quot;</span>      &lt;td&gt;01/03/1973&lt;/td&gt;<span class="pl-cce">\n</span><span class="pl-pds">&quot;</span></span>,</div>
                </div>
                <div class="d-flex flex-justify-start flex-items-start">
                  <div class="blob-num blame-blob-num bg-gray-light js-line-number" id="L306">306</div>
                  <div class="blob-code blob-code-inner js-file-line" id="LC306">              <span class="pl-s"><span class="pl-pds">&quot;</span>      &lt;td&gt;0&lt;/td&gt;<span class="pl-cce">\n</span><span class="pl-pds">&quot;</span></span>,</div>
                </div>
                <div class="d-flex flex-justify-start flex-items-start">
                  <div class="blob-num blame-blob-num bg-gray-light js-line-number" id="L307">307</div>
                  <div class="blob-code blob-code-inner js-file-line" id="LC307">              <span class="pl-s"><span class="pl-pds">&quot;</span>      &lt;td&gt;&lt;/td&gt;<span class="pl-cce">\n</span><span class="pl-pds">&quot;</span></span>,</div>
                </div>
                <div class="d-flex flex-justify-start flex-items-start">
                  <div class="blob-num blame-blob-num bg-gray-light js-line-number" id="L308">308</div>
                  <div class="blob-code blob-code-inner js-file-line" id="LC308">              <span class="pl-s"><span class="pl-pds">&quot;</span>      &lt;td&gt;29&lt;/td&gt;<span class="pl-cce">\n</span><span class="pl-pds">&quot;</span></span>,</div>
                </div>
                <div class="d-flex flex-justify-start flex-items-start">
                  <div class="blob-num blame-blob-num bg-gray-light js-line-number" id="L309">309</div>
                  <div class="blob-code blob-code-inner js-file-line" id="LC309">              <span class="pl-s"><span class="pl-pds">&quot;</span>      &lt;td&gt;12&lt;/td&gt;<span class="pl-cce">\n</span><span class="pl-pds">&quot;</span></span>,</div>
                </div>
                <div class="d-flex flex-justify-start flex-items-start">
                  <div class="blob-num blame-blob-num bg-gray-light js-line-number" id="L310">310</div>
                  <div class="blob-code blob-code-inner js-file-line" id="LC310">              <span class="pl-s"><span class="pl-pds">&quot;</span>    &lt;/tr&gt;<span class="pl-cce">\n</span><span class="pl-pds">&quot;</span></span>,</div>
                </div>
                <div class="d-flex flex-justify-start flex-items-start">
                  <div class="blob-num blame-blob-num bg-gray-light js-line-number" id="L311">311</div>
                  <div class="blob-code blob-code-inner js-file-line" id="LC311">              <span class="pl-s"><span class="pl-pds">&quot;</span>    &lt;tr&gt;<span class="pl-cce">\n</span><span class="pl-pds">&quot;</span></span>,</div>
                </div>
                <div class="d-flex flex-justify-start flex-items-start">
                  <div class="blob-num blame-blob-num bg-gray-light js-line-number" id="L312">312</div>
                  <div class="blob-code blob-code-inner js-file-line" id="LC312">              <span class="pl-s"><span class="pl-pds">&quot;</span>      &lt;th&gt;1&lt;/th&gt;<span class="pl-cce">\n</span><span class="pl-pds">&quot;</span></span>,</div>
                </div>
                <div class="d-flex flex-justify-start flex-items-start">
                  <div class="blob-num blame-blob-num bg-gray-light js-line-number" id="L313">313</div>
                  <div class="blob-code blob-code-inner js-file-line" id="LC313">              <span class="pl-s"><span class="pl-pds">&quot;</span>      &lt;td&gt;02/03/1973&lt;/td&gt;<span class="pl-cce">\n</span><span class="pl-pds">&quot;</span></span>,</div>
                </div>
                <div class="d-flex flex-justify-start flex-items-start">
                  <div class="blob-num blame-blob-num bg-gray-light js-line-number" id="L314">314</div>
                  <div class="blob-code blob-code-inner js-file-line" id="LC314">              <span class="pl-s"><span class="pl-pds">&quot;</span>      &lt;td&gt;0&lt;/td&gt;<span class="pl-cce">\n</span><span class="pl-pds">&quot;</span></span>,</div>
                </div>
                <div class="d-flex flex-justify-start flex-items-start">
                  <div class="blob-num blame-blob-num bg-gray-light js-line-number" id="L315">315</div>
                  <div class="blob-code blob-code-inner js-file-line" id="LC315">              <span class="pl-s"><span class="pl-pds">&quot;</span>      &lt;td&gt;&lt;/td&gt;<span class="pl-cce">\n</span><span class="pl-pds">&quot;</span></span>,</div>
                </div>
                <div class="d-flex flex-justify-start flex-items-start">
                  <div class="blob-num blame-blob-num bg-gray-light js-line-number" id="L316">316</div>
                  <div class="blob-code blob-code-inner js-file-line" id="LC316">              <span class="pl-s"><span class="pl-pds">&quot;</span>      &lt;td&gt;30&lt;/td&gt;<span class="pl-cce">\n</span><span class="pl-pds">&quot;</span></span>,</div>
                </div>
                <div class="d-flex flex-justify-start flex-items-start">
                  <div class="blob-num blame-blob-num bg-gray-light js-line-number" id="L317">317</div>
                  <div class="blob-code blob-code-inner js-file-line" id="LC317">              <span class="pl-s"><span class="pl-pds">&quot;</span>      &lt;td&gt;12&lt;/td&gt;<span class="pl-cce">\n</span><span class="pl-pds">&quot;</span></span>,</div>
                </div>
                <div class="d-flex flex-justify-start flex-items-start">
                  <div class="blob-num blame-blob-num bg-gray-light js-line-number" id="L318">318</div>
                  <div class="blob-code blob-code-inner js-file-line" id="LC318">              <span class="pl-s"><span class="pl-pds">&quot;</span>    &lt;/tr&gt;<span class="pl-cce">\n</span><span class="pl-pds">&quot;</span></span>,</div>
                </div>
                <div class="d-flex flex-justify-start flex-items-start">
                  <div class="blob-num blame-blob-num bg-gray-light js-line-number" id="L319">319</div>
                  <div class="blob-code blob-code-inner js-file-line" id="LC319">              <span class="pl-s"><span class="pl-pds">&quot;</span>    &lt;tr&gt;<span class="pl-cce">\n</span><span class="pl-pds">&quot;</span></span>,</div>
                </div>
                <div class="d-flex flex-justify-start flex-items-start">
                  <div class="blob-num blame-blob-num bg-gray-light js-line-number" id="L320">320</div>
                  <div class="blob-code blob-code-inner js-file-line" id="LC320">              <span class="pl-s"><span class="pl-pds">&quot;</span>      &lt;th&gt;2&lt;/th&gt;<span class="pl-cce">\n</span><span class="pl-pds">&quot;</span></span>,</div>
                </div>
                <div class="d-flex flex-justify-start flex-items-start">
                  <div class="blob-num blame-blob-num bg-gray-light js-line-number" id="L321">321</div>
                  <div class="blob-code blob-code-inner js-file-line" id="LC321">              <span class="pl-s"><span class="pl-pds">&quot;</span>      &lt;td&gt;03/03/1973&lt;/td&gt;<span class="pl-cce">\n</span><span class="pl-pds">&quot;</span></span>,</div>
                </div>
                <div class="d-flex flex-justify-start flex-items-start">
                  <div class="blob-num blame-blob-num bg-gray-light js-line-number" id="L322">322</div>
                  <div class="blob-code blob-code-inner js-file-line" id="LC322">              <span class="pl-s"><span class="pl-pds">&quot;</span>      &lt;td&gt;0&lt;/td&gt;<span class="pl-cce">\n</span><span class="pl-pds">&quot;</span></span>,</div>
                </div>
                <div class="d-flex flex-justify-start flex-items-start">
                  <div class="blob-num blame-blob-num bg-gray-light js-line-number" id="L323">323</div>
                  <div class="blob-code blob-code-inner js-file-line" id="LC323">              <span class="pl-s"><span class="pl-pds">&quot;</span>      &lt;td&gt;&lt;/td&gt;<span class="pl-cce">\n</span><span class="pl-pds">&quot;</span></span>,</div>
                </div>
                <div class="d-flex flex-justify-start flex-items-start">
                  <div class="blob-num blame-blob-num bg-gray-light js-line-number" id="L324">324</div>
                  <div class="blob-code blob-code-inner js-file-line" id="LC324">              <span class="pl-s"><span class="pl-pds">&quot;</span>      &lt;td&gt;29&lt;/td&gt;<span class="pl-cce">\n</span><span class="pl-pds">&quot;</span></span>,</div>
                </div>
                <div class="d-flex flex-justify-start flex-items-start">
                  <div class="blob-num blame-blob-num bg-gray-light js-line-number" id="L325">325</div>
                  <div class="blob-code blob-code-inner js-file-line" id="LC325">              <span class="pl-s"><span class="pl-pds">&quot;</span>      &lt;td&gt;9&lt;/td&gt;<span class="pl-cce">\n</span><span class="pl-pds">&quot;</span></span>,</div>
                </div>
                <div class="d-flex flex-justify-start flex-items-start">
                  <div class="blob-num blame-blob-num bg-gray-light js-line-number" id="L326">326</div>
                  <div class="blob-code blob-code-inner js-file-line" id="LC326">              <span class="pl-s"><span class="pl-pds">&quot;</span>    &lt;/tr&gt;<span class="pl-cce">\n</span><span class="pl-pds">&quot;</span></span>,</div>
                </div>
                <div class="d-flex flex-justify-start flex-items-start">
                  <div class="blob-num blame-blob-num bg-gray-light js-line-number" id="L327">327</div>
                  <div class="blob-code blob-code-inner js-file-line" id="LC327">              <span class="pl-s"><span class="pl-pds">&quot;</span>    &lt;tr&gt;<span class="pl-cce">\n</span><span class="pl-pds">&quot;</span></span>,</div>
                </div>
                <div class="d-flex flex-justify-start flex-items-start">
                  <div class="blob-num blame-blob-num bg-gray-light js-line-number" id="L328">328</div>
                  <div class="blob-code blob-code-inner js-file-line" id="LC328">              <span class="pl-s"><span class="pl-pds">&quot;</span>      &lt;th&gt;3&lt;/th&gt;<span class="pl-cce">\n</span><span class="pl-pds">&quot;</span></span>,</div>
                </div>
                <div class="d-flex flex-justify-start flex-items-start">
                  <div class="blob-num blame-blob-num bg-gray-light js-line-number" id="L329">329</div>
                  <div class="blob-code blob-code-inner js-file-line" id="LC329">              <span class="pl-s"><span class="pl-pds">&quot;</span>      &lt;td&gt;04/03/1973&lt;/td&gt;<span class="pl-cce">\n</span><span class="pl-pds">&quot;</span></span>,</div>
                </div>
                <div class="d-flex flex-justify-start flex-items-start">
                  <div class="blob-num blame-blob-num bg-gray-light js-line-number" id="L330">330</div>
                  <div class="blob-code blob-code-inner js-file-line" id="LC330">              <span class="pl-s"><span class="pl-pds">&quot;</span>      &lt;td&gt;0&lt;/td&gt;<span class="pl-cce">\n</span><span class="pl-pds">&quot;</span></span>,</div>
                </div>
                <div class="d-flex flex-justify-start flex-items-start">
                  <div class="blob-num blame-blob-num bg-gray-light js-line-number" id="L331">331</div>
                  <div class="blob-code blob-code-inner js-file-line" id="LC331">              <span class="pl-s"><span class="pl-pds">&quot;</span>      &lt;td&gt;&lt;/td&gt;<span class="pl-cce">\n</span><span class="pl-pds">&quot;</span></span>,</div>
                </div>
                <div class="d-flex flex-justify-start flex-items-start">
                  <div class="blob-num blame-blob-num bg-gray-light js-line-number" id="L332">332</div>
                  <div class="blob-code blob-code-inner js-file-line" id="LC332">              <span class="pl-s"><span class="pl-pds">&quot;</span>      &lt;td&gt;28&lt;/td&gt;<span class="pl-cce">\n</span><span class="pl-pds">&quot;</span></span>,</div>
                </div>
                <div class="d-flex flex-justify-start flex-items-start">
                  <div class="blob-num blame-blob-num bg-gray-light js-line-number" id="L333">333</div>
                  <div class="blob-code blob-code-inner js-file-line" id="LC333">              <span class="pl-s"><span class="pl-pds">&quot;</span>      &lt;td&gt;8&lt;/td&gt;<span class="pl-cce">\n</span><span class="pl-pds">&quot;</span></span>,</div>
                </div>
                <div class="d-flex flex-justify-start flex-items-start">
                  <div class="blob-num blame-blob-num bg-gray-light js-line-number" id="L334">334</div>
                  <div class="blob-code blob-code-inner js-file-line" id="LC334">              <span class="pl-s"><span class="pl-pds">&quot;</span>    &lt;/tr&gt;<span class="pl-cce">\n</span><span class="pl-pds">&quot;</span></span>,</div>
                </div>
                <div class="d-flex flex-justify-start flex-items-start">
                  <div class="blob-num blame-blob-num bg-gray-light js-line-number" id="L335">335</div>
                  <div class="blob-code blob-code-inner js-file-line" id="LC335">              <span class="pl-s"><span class="pl-pds">&quot;</span>    &lt;tr&gt;<span class="pl-cce">\n</span><span class="pl-pds">&quot;</span></span>,</div>
                </div>
                <div class="d-flex flex-justify-start flex-items-start">
                  <div class="blob-num blame-blob-num bg-gray-light js-line-number" id="L336">336</div>
                  <div class="blob-code blob-code-inner js-file-line" id="LC336">              <span class="pl-s"><span class="pl-pds">&quot;</span>      &lt;th&gt;4&lt;/th&gt;<span class="pl-cce">\n</span><span class="pl-pds">&quot;</span></span>,</div>
                </div>
                <div class="d-flex flex-justify-start flex-items-start">
                  <div class="blob-num blame-blob-num bg-gray-light js-line-number" id="L337">337</div>
                  <div class="blob-code blob-code-inner js-file-line" id="LC337">              <span class="pl-s"><span class="pl-pds">&quot;</span>      &lt;td&gt;05/03/1973&lt;/td&gt;<span class="pl-cce">\n</span><span class="pl-pds">&quot;</span></span>,</div>
                </div>
                <div class="d-flex flex-justify-start flex-items-start">
                  <div class="blob-num blame-blob-num bg-gray-light js-line-number" id="L338">338</div>
                  <div class="blob-code blob-code-inner js-file-line" id="LC338">              <span class="pl-s"><span class="pl-pds">&quot;</span>      &lt;td&gt;0&lt;/td&gt;<span class="pl-cce">\n</span><span class="pl-pds">&quot;</span></span>,</div>
                </div>
                <div class="d-flex flex-justify-start flex-items-start">
                  <div class="blob-num blame-blob-num bg-gray-light js-line-number" id="L339">339</div>
                  <div class="blob-code blob-code-inner js-file-line" id="LC339">              <span class="pl-s"><span class="pl-pds">&quot;</span>      &lt;td&gt;&lt;/td&gt;<span class="pl-cce">\n</span><span class="pl-pds">&quot;</span></span>,</div>
                </div>
                <div class="d-flex flex-justify-start flex-items-start">
                  <div class="blob-num blame-blob-num bg-gray-light js-line-number" id="L340">340</div>
                  <div class="blob-code blob-code-inner js-file-line" id="LC340">              <span class="pl-s"><span class="pl-pds">&quot;</span>      &lt;td&gt;28&lt;/td&gt;<span class="pl-cce">\n</span><span class="pl-pds">&quot;</span></span>,</div>
                </div>
                <div class="d-flex flex-justify-start flex-items-start">
                  <div class="blob-num blame-blob-num bg-gray-light js-line-number" id="L341">341</div>
                  <div class="blob-code blob-code-inner js-file-line" id="LC341">              <span class="pl-s"><span class="pl-pds">&quot;</span>      &lt;td&gt;7&lt;/td&gt;<span class="pl-cce">\n</span><span class="pl-pds">&quot;</span></span>,</div>
                </div>
                <div class="d-flex flex-justify-start flex-items-start">
                  <div class="blob-num blame-blob-num bg-gray-light js-line-number" id="L342">342</div>
                  <div class="blob-code blob-code-inner js-file-line" id="LC342">              <span class="pl-s"><span class="pl-pds">&quot;</span>    &lt;/tr&gt;<span class="pl-cce">\n</span><span class="pl-pds">&quot;</span></span>,</div>
                </div>
                <div class="d-flex flex-justify-start flex-items-start">
                  <div class="blob-num blame-blob-num bg-gray-light js-line-number" id="L343">343</div>
                  <div class="blob-code blob-code-inner js-file-line" id="LC343">              <span class="pl-s"><span class="pl-pds">&quot;</span>  &lt;/tbody&gt;<span class="pl-cce">\n</span><span class="pl-pds">&quot;</span></span>,</div>
                </div>
                <div class="d-flex flex-justify-start flex-items-start">
                  <div class="blob-num blame-blob-num bg-gray-light js-line-number" id="L344">344</div>
                  <div class="blob-code blob-code-inner js-file-line" id="LC344">              <span class="pl-s"><span class="pl-pds">&quot;</span>&lt;/table&gt;<span class="pl-cce">\n</span><span class="pl-pds">&quot;</span></span>,</div>
                </div>
                <div class="d-flex flex-justify-start flex-items-start">
                  <div class="blob-num blame-blob-num bg-gray-light js-line-number" id="L345">345</div>
                  <div class="blob-code blob-code-inner js-file-line" id="LC345">              <span class="pl-s"><span class="pl-pds">&quot;</span>&lt;/div&gt;<span class="pl-pds">&quot;</span></span></div>
                </div>
                <div class="d-flex flex-justify-start flex-items-start">
                  <div class="blob-num blame-blob-num bg-gray-light js-line-number" id="L346">346</div>
                  <div class="blob-code blob-code-inner js-file-line" id="LC346">            ],</div>
                </div>
                <div class="d-flex flex-justify-start flex-items-start">
                  <div class="blob-num blame-blob-num bg-gray-light js-line-number" id="L347">347</div>
                  <div class="blob-code blob-code-inner js-file-line" id="LC347">            <span class="pl-s"><span class="pl-pds">&quot;</span>text/plain<span class="pl-pds">&quot;</span></span>: [</div>
                </div>
                <div class="d-flex flex-justify-start flex-items-start">
                  <div class="blob-num blame-blob-num bg-gray-light js-line-number" id="L348">348</div>
                  <div class="blob-code blob-code-inner js-file-line" id="LC348">              <span class="pl-s"><span class="pl-pds">&quot;</span>        Fecha Precipit Evap Tmax Tmin<span class="pl-cce">\n</span><span class="pl-pds">&quot;</span></span>,</div>
                </div>
                <div class="d-flex flex-justify-start flex-items-start">
                  <div class="blob-num blame-blob-num bg-gray-light js-line-number" id="L349">349</div>
                  <div class="blob-code blob-code-inner js-file-line" id="LC349">              <span class="pl-s"><span class="pl-pds">&quot;</span>0  01/03/1973        0        29   12<span class="pl-cce">\n</span><span class="pl-pds">&quot;</span></span>,</div>
                </div>
                <div class="d-flex flex-justify-start flex-items-start">
                  <div class="blob-num blame-blob-num bg-gray-light js-line-number" id="L350">350</div>
                  <div class="blob-code blob-code-inner js-file-line" id="LC350">              <span class="pl-s"><span class="pl-pds">&quot;</span>1  02/03/1973        0        30   12<span class="pl-cce">\n</span><span class="pl-pds">&quot;</span></span>,</div>
                </div>
                <div class="d-flex flex-justify-start flex-items-start">
                  <div class="blob-num blame-blob-num bg-gray-light js-line-number" id="L351">351</div>
                  <div class="blob-code blob-code-inner js-file-line" id="LC351">              <span class="pl-s"><span class="pl-pds">&quot;</span>2  03/03/1973        0        29    9<span class="pl-cce">\n</span><span class="pl-pds">&quot;</span></span>,</div>
                </div>
                <div class="d-flex flex-justify-start flex-items-start">
                  <div class="blob-num blame-blob-num bg-gray-light js-line-number" id="L352">352</div>
                  <div class="blob-code blob-code-inner js-file-line" id="LC352">              <span class="pl-s"><span class="pl-pds">&quot;</span>3  04/03/1973        0        28    8<span class="pl-cce">\n</span><span class="pl-pds">&quot;</span></span>,</div>
                </div>
                <div class="d-flex flex-justify-start flex-items-start">
                  <div class="blob-num blame-blob-num bg-gray-light js-line-number" id="L353">353</div>
                  <div class="blob-code blob-code-inner js-file-line" id="LC353">              <span class="pl-s"><span class="pl-pds">&quot;</span>4  05/03/1973        0        28    7<span class="pl-pds">&quot;</span></span></div>
                </div>
                <div class="d-flex flex-justify-start flex-items-start">
                  <div class="blob-num blame-blob-num bg-gray-light js-line-number" id="L354">354</div>
                  <div class="blob-code blob-code-inner js-file-line" id="LC354">            ]</div>
                </div>
                <div class="d-flex flex-justify-start flex-items-start">
                  <div class="blob-num blame-blob-num bg-gray-light js-line-number" id="L355">355</div>
                  <div class="blob-code blob-code-inner js-file-line" id="LC355">          },</div>
                </div>
                <div class="d-flex flex-justify-start flex-items-start">
                  <div class="blob-num blame-blob-num bg-gray-light js-line-number" id="L356">356</div>
                  <div class="blob-code blob-code-inner js-file-line" id="LC356">          <span class="pl-s"><span class="pl-pds">&quot;</span>metadata<span class="pl-pds">&quot;</span></span>: {</div>
                </div>
                <div class="d-flex flex-justify-start flex-items-start">
                  <div class="blob-num blame-blob-num bg-gray-light js-line-number" id="L357">357</div>
                  <div class="blob-code blob-code-inner js-file-line" id="LC357">            <span class="pl-s"><span class="pl-pds">&quot;</span>tags<span class="pl-pds">&quot;</span></span>: []</div>
                </div>
                <div class="d-flex flex-justify-start flex-items-start">
                  <div class="blob-num blame-blob-num bg-gray-light js-line-number" id="L358">358</div>
                  <div class="blob-code blob-code-inner js-file-line" id="LC358">          },</div>
                </div>
                <div class="d-flex flex-justify-start flex-items-start">
                  <div class="blob-num blame-blob-num bg-gray-light js-line-number" id="L359">359</div>
                  <div class="blob-code blob-code-inner js-file-line" id="LC359">          <span class="pl-s"><span class="pl-pds">&quot;</span>execution_count<span class="pl-pds">&quot;</span></span>: <span class="pl-c1">37</span></div>
                </div>
                <div class="d-flex flex-justify-start flex-items-start">
                  <div class="blob-num blame-blob-num bg-gray-light js-line-number" id="L360">360</div>
                  <div class="blob-code blob-code-inner js-file-line" id="LC360">        }</div>
                </div>
                <div class="d-flex flex-justify-start flex-items-start">
                  <div class="blob-num blame-blob-num bg-gray-light js-line-number" id="L361">361</div>
                  <div class="blob-code blob-code-inner js-file-line" id="LC361">      ]</div>
                </div>
                <div class="d-flex flex-justify-start flex-items-start">
                  <div class="blob-num blame-blob-num bg-gray-light js-line-number" id="L362">362</div>
                  <div class="blob-code blob-code-inner js-file-line" id="LC362">    },</div>
                </div>
                <div class="d-flex flex-justify-start flex-items-start">
                  <div class="blob-num blame-blob-num bg-gray-light js-line-number" id="L363">363</div>
                  <div class="blob-code blob-code-inner js-file-line" id="LC363">    {</div>
                </div>
                <div class="d-flex flex-justify-start flex-items-start">
                  <div class="blob-num blame-blob-num bg-gray-light js-line-number" id="L364">364</div>
                  <div class="blob-code blob-code-inner js-file-line" id="LC364">      <span class="pl-s"><span class="pl-pds">&quot;</span>cell_type<span class="pl-pds">&quot;</span></span>: <span class="pl-s"><span class="pl-pds">&quot;</span>code<span class="pl-pds">&quot;</span></span>,</div>
                </div>
                <div class="d-flex flex-justify-start flex-items-start">
                  <div class="blob-num blame-blob-num bg-gray-light js-line-number" id="L365">365</div>
                  <div class="blob-code blob-code-inner js-file-line" id="LC365">      <span class="pl-s"><span class="pl-pds">&quot;</span>metadata<span class="pl-pds">&quot;</span></span>: {</div>
                </div>
                <div class="d-flex flex-justify-start flex-items-start">
                  <div class="blob-num blame-blob-num bg-gray-light js-line-number" id="L366">366</div>
                  <div class="blob-code blob-code-inner js-file-line" id="LC366">        <span class="pl-s"><span class="pl-pds">&quot;</span>colab<span class="pl-pds">&quot;</span></span>: {</div>
                </div>
                <div class="d-flex flex-justify-start flex-items-start">
                  <div class="blob-num blame-blob-num bg-gray-light js-line-number" id="L367">367</div>
                  <div class="blob-code blob-code-inner js-file-line" id="LC367">          <span class="pl-s"><span class="pl-pds">&quot;</span>base_uri<span class="pl-pds">&quot;</span></span>: <span class="pl-s"><span class="pl-pds">&quot;</span>https://localhost:8080/<span class="pl-pds">&quot;</span></span></div>
                </div>
                <div class="d-flex flex-justify-start flex-items-start">
                  <div class="blob-num blame-blob-num bg-gray-light js-line-number" id="L368">368</div>
                  <div class="blob-code blob-code-inner js-file-line" id="LC368">        },</div>
                </div>
                <div class="d-flex flex-justify-start flex-items-start">
                  <div class="blob-num blame-blob-num bg-gray-light js-line-number" id="L369">369</div>
                  <div class="blob-code blob-code-inner js-file-line" id="LC369">        <span class="pl-s"><span class="pl-pds">&quot;</span>id<span class="pl-pds">&quot;</span></span>: <span class="pl-s"><span class="pl-pds">&quot;</span>v7nHsEPPLcEf<span class="pl-pds">&quot;</span></span>,</div>
                </div>
                <div class="d-flex flex-justify-start flex-items-start">
                  <div class="blob-num blame-blob-num bg-gray-light js-line-number" id="L370">370</div>
                  <div class="blob-code blob-code-inner js-file-line" id="LC370">        <span class="pl-s"><span class="pl-pds">&quot;</span>outputId<span class="pl-pds">&quot;</span></span>: <span class="pl-s"><span class="pl-pds">&quot;</span>1be4ca87-cd60-4fa1-f80a-1c6b62340922<span class="pl-pds">&quot;</span></span></div>
                </div>
                <div class="d-flex flex-justify-start flex-items-start">
                  <div class="blob-num blame-blob-num bg-gray-light js-line-number" id="L371">371</div>
                  <div class="blob-code blob-code-inner js-file-line" id="LC371">      },</div>
                </div>
                <div class="d-flex flex-justify-start flex-items-start">
                  <div class="blob-num blame-blob-num bg-gray-light js-line-number" id="L372">372</div>
                  <div class="blob-code blob-code-inner js-file-line" id="LC372">      <span class="pl-s"><span class="pl-pds">&quot;</span>source<span class="pl-pds">&quot;</span></span>: [</div>
                </div>
                <div class="d-flex flex-justify-start flex-items-start">
                  <div class="blob-num blame-blob-num bg-gray-light js-line-number" id="L373">373</div>
                  <div class="blob-code blob-code-inner js-file-line" id="LC373">        <span class="pl-s"><span class="pl-pds">&quot;</span>df_work1.info()<span class="pl-cce">\r\n</span><span class="pl-pds">&quot;</span></span>,</div>
                </div>
                <div class="d-flex flex-justify-start flex-items-start">
                  <div class="blob-num blame-blob-num bg-gray-light js-line-number" id="L374">374</div>
                  <div class="blob-code blob-code-inner js-file-line" id="LC374">        <span class="pl-s"><span class="pl-pds">&quot;</span>print(df_work1.head())<span class="pl-pds">&quot;</span></span></div>
                </div>
                <div class="d-flex flex-justify-start flex-items-start">
                  <div class="blob-num blame-blob-num bg-gray-light js-line-number" id="L375">375</div>
                  <div class="blob-code blob-code-inner js-file-line" id="LC375">      ],</div>
                </div>
                <div class="d-flex flex-justify-start flex-items-start">
                  <div class="blob-num blame-blob-num bg-gray-light js-line-number" id="L376">376</div>
                  <div class="blob-code blob-code-inner js-file-line" id="LC376">      <span class="pl-s"><span class="pl-pds">&quot;</span>execution_count<span class="pl-pds">&quot;</span></span>: <span class="pl-c1">38</span>,</div>
                </div>
                <div class="d-flex flex-justify-start flex-items-start">
                  <div class="blob-num blame-blob-num bg-gray-light js-line-number" id="L377">377</div>
                  <div class="blob-code blob-code-inner js-file-line" id="LC377">      <span class="pl-s"><span class="pl-pds">&quot;</span>outputs<span class="pl-pds">&quot;</span></span>: [</div>
                </div>
                <div class="d-flex flex-justify-start flex-items-start">
                  <div class="blob-num blame-blob-num bg-gray-light js-line-number" id="L378">378</div>
                  <div class="blob-code blob-code-inner js-file-line" id="LC378">        {</div>
                </div>
                <div class="d-flex flex-justify-start flex-items-start">
                  <div class="blob-num blame-blob-num bg-gray-light js-line-number" id="L379">379</div>
                  <div class="blob-code blob-code-inner js-file-line" id="LC379">          <span class="pl-s"><span class="pl-pds">&quot;</span>output_type<span class="pl-pds">&quot;</span></span>: <span class="pl-s"><span class="pl-pds">&quot;</span>stream<span class="pl-pds">&quot;</span></span>,</div>
                </div>
                <div class="d-flex flex-justify-start flex-items-start">
                  <div class="blob-num blame-blob-num bg-gray-light js-line-number" id="L380">380</div>
                  <div class="blob-code blob-code-inner js-file-line" id="LC380">          <span class="pl-s"><span class="pl-pds">&quot;</span>text<span class="pl-pds">&quot;</span></span>: [</div>
                </div>
                <div class="d-flex flex-justify-start flex-items-start">
                  <div class="blob-num blame-blob-num bg-gray-light js-line-number" id="L381">381</div>
                  <div class="blob-code blob-code-inner js-file-line" id="LC381">            <span class="pl-s"><span class="pl-pds">&quot;</span>&lt;class &#39;pandas.core.frame.DataFrame&#39;&gt;<span class="pl-cce">\n</span><span class="pl-pds">&quot;</span></span>,</div>
                </div>
                <div class="d-flex flex-justify-start flex-items-start">
                  <div class="blob-num blame-blob-num bg-gray-light js-line-number" id="L382">382</div>
                  <div class="blob-code blob-code-inner js-file-line" id="LC382">            <span class="pl-s"><span class="pl-pds">&quot;</span>RangeIndex: 6898 entries, 0 to 6897<span class="pl-cce">\n</span><span class="pl-pds">&quot;</span></span>,</div>
                </div>
                <div class="d-flex flex-justify-start flex-items-start">
                  <div class="blob-num blame-blob-num bg-gray-light js-line-number" id="L383">383</div>
                  <div class="blob-code blob-code-inner js-file-line" id="LC383">            <span class="pl-s"><span class="pl-pds">&quot;</span>Data columns (total 5 columns):<span class="pl-cce">\n</span><span class="pl-pds">&quot;</span></span>,</div>
                </div>
                <div class="d-flex flex-justify-start flex-items-start">
                  <div class="blob-num blame-blob-num bg-gray-light js-line-number" id="L384">384</div>
                  <div class="blob-code blob-code-inner js-file-line" id="LC384">            <span class="pl-s"><span class="pl-pds">&quot;</span> #   Column    Non-Null Count  Dtype <span class="pl-cce">\n</span><span class="pl-pds">&quot;</span></span>,</div>
                </div>
                <div class="d-flex flex-justify-start flex-items-start">
                  <div class="blob-num blame-blob-num bg-gray-light js-line-number" id="L385">385</div>
                  <div class="blob-code blob-code-inner js-file-line" id="LC385">            <span class="pl-s"><span class="pl-pds">&quot;</span>---  ------    --------------  ----- <span class="pl-cce">\n</span><span class="pl-pds">&quot;</span></span>,</div>
                </div>
                <div class="d-flex flex-justify-start flex-items-start">
                  <div class="blob-num blame-blob-num bg-gray-light js-line-number" id="L386">386</div>
                  <div class="blob-code blob-code-inner js-file-line" id="LC386">            <span class="pl-s"><span class="pl-pds">&quot;</span> 0   Fecha     6898 non-null   object<span class="pl-cce">\n</span><span class="pl-pds">&quot;</span></span>,</div>
                </div>
                <div class="d-flex flex-justify-start flex-items-start">
                  <div class="blob-num blame-blob-num bg-gray-light js-line-number" id="L387">387</div>
                  <div class="blob-code blob-code-inner js-file-line" id="LC387">            <span class="pl-s"><span class="pl-pds">&quot;</span> 1   Precipit  6898 non-null   object<span class="pl-cce">\n</span><span class="pl-pds">&quot;</span></span>,</div>
                </div>
                <div class="d-flex flex-justify-start flex-items-start">
                  <div class="blob-num blame-blob-num bg-gray-light js-line-number" id="L388">388</div>
                  <div class="blob-code blob-code-inner js-file-line" id="LC388">            <span class="pl-s"><span class="pl-pds">&quot;</span> 2   Evap      6898 non-null   object<span class="pl-cce">\n</span><span class="pl-pds">&quot;</span></span>,</div>
                </div>
                <div class="d-flex flex-justify-start flex-items-start">
                  <div class="blob-num blame-blob-num bg-gray-light js-line-number" id="L389">389</div>
                  <div class="blob-code blob-code-inner js-file-line" id="LC389">            <span class="pl-s"><span class="pl-pds">&quot;</span> 3   Tmax      6898 non-null   object<span class="pl-cce">\n</span><span class="pl-pds">&quot;</span></span>,</div>
                </div>
                <div class="d-flex flex-justify-start flex-items-start">
                  <div class="blob-num blame-blob-num bg-gray-light js-line-number" id="L390">390</div>
                  <div class="blob-code blob-code-inner js-file-line" id="LC390">            <span class="pl-s"><span class="pl-pds">&quot;</span> 4   Tmin      6898 non-null   object<span class="pl-cce">\n</span><span class="pl-pds">&quot;</span></span>,</div>
                </div>
                <div class="d-flex flex-justify-start flex-items-start">
                  <div class="blob-num blame-blob-num bg-gray-light js-line-number" id="L391">391</div>
                  <div class="blob-code blob-code-inner js-file-line" id="LC391">            <span class="pl-s"><span class="pl-pds">&quot;</span>dtypes: object(5)<span class="pl-cce">\n</span><span class="pl-pds">&quot;</span></span>,</div>
                </div>
                <div class="d-flex flex-justify-start flex-items-start">
                  <div class="blob-num blame-blob-num bg-gray-light js-line-number" id="L392">392</div>
                  <div class="blob-code blob-code-inner js-file-line" id="LC392">            <span class="pl-s"><span class="pl-pds">&quot;</span>memory usage: 269.6+ KB<span class="pl-cce">\n</span><span class="pl-pds">&quot;</span></span>,</div>
                </div>
                <div class="d-flex flex-justify-start flex-items-start">
                  <div class="blob-num blame-blob-num bg-gray-light js-line-number" id="L393">393</div>
                  <div class="blob-code blob-code-inner js-file-line" id="LC393">            <span class="pl-s"><span class="pl-pds">&quot;</span>        Fecha Precipit Evap Tmax Tmin<span class="pl-cce">\n</span><span class="pl-pds">&quot;</span></span>,</div>
                </div>
                <div class="d-flex flex-justify-start flex-items-start">
                  <div class="blob-num blame-blob-num bg-gray-light js-line-number" id="L394">394</div>
                  <div class="blob-code blob-code-inner js-file-line" id="LC394">            <span class="pl-s"><span class="pl-pds">&quot;</span>0  01/03/1973        0        29   12<span class="pl-cce">\n</span><span class="pl-pds">&quot;</span></span>,</div>
                </div>
                <div class="d-flex flex-justify-start flex-items-start">
                  <div class="blob-num blame-blob-num bg-gray-light js-line-number" id="L395">395</div>
                  <div class="blob-code blob-code-inner js-file-line" id="LC395">            <span class="pl-s"><span class="pl-pds">&quot;</span>1  02/03/1973        0        30   12<span class="pl-cce">\n</span><span class="pl-pds">&quot;</span></span>,</div>
                </div>
                <div class="d-flex flex-justify-start flex-items-start">
                  <div class="blob-num blame-blob-num bg-gray-light js-line-number" id="L396">396</div>
                  <div class="blob-code blob-code-inner js-file-line" id="LC396">            <span class="pl-s"><span class="pl-pds">&quot;</span>2  03/03/1973        0        29    9<span class="pl-cce">\n</span><span class="pl-pds">&quot;</span></span>,</div>
                </div>
                <div class="d-flex flex-justify-start flex-items-start">
                  <div class="blob-num blame-blob-num bg-gray-light js-line-number" id="L397">397</div>
                  <div class="blob-code blob-code-inner js-file-line" id="LC397">            <span class="pl-s"><span class="pl-pds">&quot;</span>3  04/03/1973        0        28    8<span class="pl-cce">\n</span><span class="pl-pds">&quot;</span></span>,</div>
                </div>
                <div class="d-flex flex-justify-start flex-items-start">
                  <div class="blob-num blame-blob-num bg-gray-light js-line-number" id="L398">398</div>
                  <div class="blob-code blob-code-inner js-file-line" id="LC398">            <span class="pl-s"><span class="pl-pds">&quot;</span>4  05/03/1973        0        28    7<span class="pl-cce">\n</span><span class="pl-pds">&quot;</span></span></div>
                </div>
                <div class="d-flex flex-justify-start flex-items-start">
                  <div class="blob-num blame-blob-num bg-gray-light js-line-number" id="L399">399</div>
                  <div class="blob-code blob-code-inner js-file-line" id="LC399">          ],</div>
                </div>
                <div class="d-flex flex-justify-start flex-items-start">
                  <div class="blob-num blame-blob-num bg-gray-light js-line-number" id="L400">400</div>
                  <div class="blob-code blob-code-inner js-file-line" id="LC400">          <span class="pl-s"><span class="pl-pds">&quot;</span>name<span class="pl-pds">&quot;</span></span>: <span class="pl-s"><span class="pl-pds">&quot;</span>stdout<span class="pl-pds">&quot;</span></span></div>
                </div>
                <div class="d-flex flex-justify-start flex-items-start">
                  <div class="blob-num blame-blob-num bg-gray-light js-line-number" id="L401">401</div>
                  <div class="blob-code blob-code-inner js-file-line" id="LC401">        }</div>
                </div>
                <div class="d-flex flex-justify-start flex-items-start">
                  <div class="blob-num blame-blob-num bg-gray-light js-line-number" id="L402">402</div>
                  <div class="blob-code blob-code-inner js-file-line" id="LC402">      ]</div>
                </div>
                <div class="d-flex flex-justify-start flex-items-start">
                  <div class="blob-num blame-blob-num bg-gray-light js-line-number" id="L403">403</div>
                  <div class="blob-code blob-code-inner js-file-line" id="LC403">    },</div>
                </div>
                <div class="d-flex flex-justify-start flex-items-start">
                  <div class="blob-num blame-blob-num bg-gray-light js-line-number" id="L404">404</div>
                  <div class="blob-code blob-code-inner js-file-line" id="LC404">    {</div>
                </div>
                <div class="d-flex flex-justify-start flex-items-start">
                  <div class="blob-num blame-blob-num bg-gray-light js-line-number" id="L405">405</div>
                  <div class="blob-code blob-code-inner js-file-line" id="LC405">      <span class="pl-s"><span class="pl-pds">&quot;</span>cell_type<span class="pl-pds">&quot;</span></span>: <span class="pl-s"><span class="pl-pds">&quot;</span>code<span class="pl-pds">&quot;</span></span>,</div>
                </div>
                <div class="d-flex flex-justify-start flex-items-start">
                  <div class="blob-num blame-blob-num bg-gray-light js-line-number" id="L406">406</div>
                  <div class="blob-code blob-code-inner js-file-line" id="LC406">      <span class="pl-s"><span class="pl-pds">&quot;</span>metadata<span class="pl-pds">&quot;</span></span>: {</div>
                </div>
                <div class="d-flex flex-justify-start flex-items-start">
                  <div class="blob-num blame-blob-num bg-gray-light js-line-number" id="L407">407</div>
                  <div class="blob-code blob-code-inner js-file-line" id="LC407">        <span class="pl-s"><span class="pl-pds">&quot;</span>colab<span class="pl-pds">&quot;</span></span>: {</div>
                </div>
                <div class="d-flex flex-justify-start flex-items-start">
                  <div class="blob-num blame-blob-num bg-gray-light js-line-number" id="L408">408</div>
                  <div class="blob-code blob-code-inner js-file-line" id="LC408">          <span class="pl-s"><span class="pl-pds">&quot;</span>base_uri<span class="pl-pds">&quot;</span></span>: <span class="pl-s"><span class="pl-pds">&quot;</span>https://localhost:8080/<span class="pl-pds">&quot;</span></span></div>
                </div>
                <div class="d-flex flex-justify-start flex-items-start">
                  <div class="blob-num blame-blob-num bg-gray-light js-line-number" id="L409">409</div>
                  <div class="blob-code blob-code-inner js-file-line" id="LC409">        },</div>
                </div>
                <div class="d-flex flex-justify-start flex-items-start">
                  <div class="blob-num blame-blob-num bg-gray-light js-line-number" id="L410">410</div>
                  <div class="blob-code blob-code-inner js-file-line" id="LC410">        <span class="pl-s"><span class="pl-pds">&quot;</span>id<span class="pl-pds">&quot;</span></span>: <span class="pl-s"><span class="pl-pds">&quot;</span>eEF2ecsmLdW_<span class="pl-pds">&quot;</span></span>,</div>
                </div>
                <div class="d-flex flex-justify-start flex-items-start">
                  <div class="blob-num blame-blob-num bg-gray-light js-line-number" id="L411">411</div>
                  <div class="blob-code blob-code-inner js-file-line" id="LC411">        <span class="pl-s"><span class="pl-pds">&quot;</span>outputId<span class="pl-pds">&quot;</span></span>: <span class="pl-s"><span class="pl-pds">&quot;</span>3fdb4287-4098-41e8-b72c-d148715b03d5<span class="pl-pds">&quot;</span></span></div>
                </div>
                <div class="d-flex flex-justify-start flex-items-start">
                  <div class="blob-num blame-blob-num bg-gray-light js-line-number" id="L412">412</div>
                  <div class="blob-code blob-code-inner js-file-line" id="LC412">      },</div>
                </div>
                <div class="d-flex flex-justify-start flex-items-start">
                  <div class="blob-num blame-blob-num bg-gray-light js-line-number" id="L413">413</div>
                  <div class="blob-code blob-code-inner js-file-line" id="LC413">      <span class="pl-s"><span class="pl-pds">&quot;</span>source<span class="pl-pds">&quot;</span></span>: [</div>
                </div>
                <div class="d-flex flex-justify-start flex-items-start">
                  <div class="blob-num blame-blob-num bg-gray-light js-line-number" id="L414">414</div>
                  <div class="blob-code blob-code-inner js-file-line" id="LC414">        <span class="pl-s"><span class="pl-pds">&quot;</span># Deseamos convertir los valores de las variables ambientales a núm. flotantes <span class="pl-cce">\r\n</span><span class="pl-pds">&quot;</span></span>,</div>
                </div>
                <div class="d-flex flex-justify-start flex-items-start">
                  <div class="blob-num blame-blob-num bg-gray-light js-line-number" id="L415">415</div>
                  <div class="blob-code blob-code-inner js-file-line" id="LC415">        <span class="pl-s"><span class="pl-pds">&quot;</span>cols_list = [&#39;Precipit&#39;, &#39;Evap&#39;, &#39;Tmax&#39;, &#39;Tmin&#39;]<span class="pl-cce">\r\n</span><span class="pl-pds">&quot;</span></span>,</div>
                </div>
                <div class="d-flex flex-justify-start flex-items-start">
                  <div class="blob-num blame-blob-num bg-gray-light js-line-number" id="L416">416</div>
                  <div class="blob-code blob-code-inner js-file-line" id="LC416">        <span class="pl-s"><span class="pl-pds">&quot;</span>for cols in cols_list:<span class="pl-cce">\r\n</span><span class="pl-pds">&quot;</span></span>,</div>
                </div>
                <div class="d-flex flex-justify-start flex-items-start">
                  <div class="blob-num blame-blob-num bg-gray-light js-line-number" id="L417">417</div>
                  <div class="blob-code blob-code-inner js-file-line" id="LC417">        <span class="pl-s"><span class="pl-pds">&quot;</span>  df_work1[cols] = pd.to_numeric(df_work1[cols], errors=&#39;coerce&#39;)<span class="pl-cce">\r\n</span><span class="pl-pds">&quot;</span></span>,</div>
                </div>
                <div class="d-flex flex-justify-start flex-items-start">
                  <div class="blob-num blame-blob-num bg-gray-light js-line-number" id="L418">418</div>
                  <div class="blob-code blob-code-inner js-file-line" id="LC418">        <span class="pl-s"><span class="pl-pds">&quot;</span><span class="pl-cce">\r\n</span><span class="pl-pds">&quot;</span></span>,</div>
                </div>
                <div class="d-flex flex-justify-start flex-items-start">
                  <div class="blob-num blame-blob-num bg-gray-light js-line-number" id="L419">419</div>
                  <div class="blob-code blob-code-inner js-file-line" id="LC419">        <span class="pl-s"><span class="pl-pds">&quot;</span>df_work1.info()<span class="pl-pds">&quot;</span></span></div>
                </div>
                <div class="d-flex flex-justify-start flex-items-start">
                  <div class="blob-num blame-blob-num bg-gray-light js-line-number" id="L420">420</div>
                  <div class="blob-code blob-code-inner js-file-line" id="LC420">      ],</div>
                </div>
                <div class="d-flex flex-justify-start flex-items-start">
                  <div class="blob-num blame-blob-num bg-gray-light js-line-number" id="L421">421</div>
                  <div class="blob-code blob-code-inner js-file-line" id="LC421">      <span class="pl-s"><span class="pl-pds">&quot;</span>execution_count<span class="pl-pds">&quot;</span></span>: <span class="pl-c1">41</span>,</div>
                </div>
                <div class="d-flex flex-justify-start flex-items-start">
                  <div class="blob-num blame-blob-num bg-gray-light js-line-number" id="L422">422</div>
                  <div class="blob-code blob-code-inner js-file-line" id="LC422">      <span class="pl-s"><span class="pl-pds">&quot;</span>outputs<span class="pl-pds">&quot;</span></span>: [</div>
                </div>
                <div class="d-flex flex-justify-start flex-items-start">
                  <div class="blob-num blame-blob-num bg-gray-light js-line-number" id="L423">423</div>
                  <div class="blob-code blob-code-inner js-file-line" id="LC423">        {</div>
                </div>
                <div class="d-flex flex-justify-start flex-items-start">
                  <div class="blob-num blame-blob-num bg-gray-light js-line-number" id="L424">424</div>
                  <div class="blob-code blob-code-inner js-file-line" id="LC424">          <span class="pl-s"><span class="pl-pds">&quot;</span>output_type<span class="pl-pds">&quot;</span></span>: <span class="pl-s"><span class="pl-pds">&quot;</span>stream<span class="pl-pds">&quot;</span></span>,</div>
                </div>
                <div class="d-flex flex-justify-start flex-items-start">
                  <div class="blob-num blame-blob-num bg-gray-light js-line-number" id="L425">425</div>
                  <div class="blob-code blob-code-inner js-file-line" id="LC425">          <span class="pl-s"><span class="pl-pds">&quot;</span>text<span class="pl-pds">&quot;</span></span>: [</div>
                </div>
                <div class="d-flex flex-justify-start flex-items-start">
                  <div class="blob-num blame-blob-num bg-gray-light js-line-number" id="L426">426</div>
                  <div class="blob-code blob-code-inner js-file-line" id="LC426">            <span class="pl-s"><span class="pl-pds">&quot;</span>&lt;class &#39;pandas.core.frame.DataFrame&#39;&gt;<span class="pl-cce">\n</span><span class="pl-pds">&quot;</span></span>,</div>
                </div>
                <div class="d-flex flex-justify-start flex-items-start">
                  <div class="blob-num blame-blob-num bg-gray-light js-line-number" id="L427">427</div>
                  <div class="blob-code blob-code-inner js-file-line" id="LC427">            <span class="pl-s"><span class="pl-pds">&quot;</span>RangeIndex: 6898 entries, 0 to 6897<span class="pl-cce">\n</span><span class="pl-pds">&quot;</span></span>,</div>
                </div>
                <div class="d-flex flex-justify-start flex-items-start">
                  <div class="blob-num blame-blob-num bg-gray-light js-line-number" id="L428">428</div>
                  <div class="blob-code blob-code-inner js-file-line" id="LC428">            <span class="pl-s"><span class="pl-pds">&quot;</span>Data columns (total 5 columns):<span class="pl-cce">\n</span><span class="pl-pds">&quot;</span></span>,</div>
                </div>
                <div class="d-flex flex-justify-start flex-items-start">
                  <div class="blob-num blame-blob-num bg-gray-light js-line-number" id="L429">429</div>
                  <div class="blob-code blob-code-inner js-file-line" id="LC429">            <span class="pl-s"><span class="pl-pds">&quot;</span> #   Column    Non-Null Count  Dtype  <span class="pl-cce">\n</span><span class="pl-pds">&quot;</span></span>,</div>
                </div>
                <div class="d-flex flex-justify-start flex-items-start">
                  <div class="blob-num blame-blob-num bg-gray-light js-line-number" id="L430">430</div>
                  <div class="blob-code blob-code-inner js-file-line" id="LC430">            <span class="pl-s"><span class="pl-pds">&quot;</span>---  ------    --------------  -----  <span class="pl-cce">\n</span><span class="pl-pds">&quot;</span></span>,</div>
                </div>
                <div class="d-flex flex-justify-start flex-items-start">
                  <div class="blob-num blame-blob-num bg-gray-light js-line-number" id="L431">431</div>
                  <div class="blob-code blob-code-inner js-file-line" id="LC431">            <span class="pl-s"><span class="pl-pds">&quot;</span> 0   Fecha     6898 non-null   object <span class="pl-cce">\n</span><span class="pl-pds">&quot;</span></span>,</div>
                </div>
                <div class="d-flex flex-justify-start flex-items-start">
                  <div class="blob-num blame-blob-num bg-gray-light js-line-number" id="L432">432</div>
                  <div class="blob-code blob-code-inner js-file-line" id="LC432">            <span class="pl-s"><span class="pl-pds">&quot;</span> 1   Precipit  6774 non-null   float64<span class="pl-cce">\n</span><span class="pl-pds">&quot;</span></span>,</div>
                </div>
                <div class="d-flex flex-justify-start flex-items-start">
                  <div class="blob-num blame-blob-num bg-gray-light js-line-number" id="L433">433</div>
                  <div class="blob-code blob-code-inner js-file-line" id="LC433">            <span class="pl-s"><span class="pl-pds">&quot;</span> 2   Evap      823 non-null    float64<span class="pl-cce">\n</span><span class="pl-pds">&quot;</span></span>,</div>
                </div>
                <div class="d-flex flex-justify-start flex-items-start">
                  <div class="blob-num blame-blob-num bg-gray-light js-line-number" id="L434">434</div>
                  <div class="blob-code blob-code-inner js-file-line" id="LC434">            <span class="pl-s"><span class="pl-pds">&quot;</span> 3   Tmax      6818 non-null   float64<span class="pl-cce">\n</span><span class="pl-pds">&quot;</span></span>,</div>
                </div>
                <div class="d-flex flex-justify-start flex-items-start">
                  <div class="blob-num blame-blob-num bg-gray-light js-line-number" id="L435">435</div>
                  <div class="blob-code blob-code-inner js-file-line" id="LC435">            <span class="pl-s"><span class="pl-pds">&quot;</span> 4   Tmin      6812 non-null   float64<span class="pl-cce">\n</span><span class="pl-pds">&quot;</span></span>,</div>
                </div>
                <div class="d-flex flex-justify-start flex-items-start">
                  <div class="blob-num blame-blob-num bg-gray-light js-line-number" id="L436">436</div>
                  <div class="blob-code blob-code-inner js-file-line" id="LC436">            <span class="pl-s"><span class="pl-pds">&quot;</span>dtypes: float64(4), object(1)<span class="pl-cce">\n</span><span class="pl-pds">&quot;</span></span>,</div>
                </div>
                <div class="d-flex flex-justify-start flex-items-start">
                  <div class="blob-num blame-blob-num bg-gray-light js-line-number" id="L437">437</div>
                  <div class="blob-code blob-code-inner js-file-line" id="LC437">            <span class="pl-s"><span class="pl-pds">&quot;</span>memory usage: 269.6+ KB<span class="pl-cce">\n</span><span class="pl-pds">&quot;</span></span></div>
                </div>
                <div class="d-flex flex-justify-start flex-items-start">
                  <div class="blob-num blame-blob-num bg-gray-light js-line-number" id="L438">438</div>
                  <div class="blob-code blob-code-inner js-file-line" id="LC438">          ],</div>
                </div>
                <div class="d-flex flex-justify-start flex-items-start">
                  <div class="blob-num blame-blob-num bg-gray-light js-line-number" id="L439">439</div>
                  <div class="blob-code blob-code-inner js-file-line" id="LC439">          <span class="pl-s"><span class="pl-pds">&quot;</span>name<span class="pl-pds">&quot;</span></span>: <span class="pl-s"><span class="pl-pds">&quot;</span>stdout<span class="pl-pds">&quot;</span></span></div>
                </div>
                <div class="d-flex flex-justify-start flex-items-start">
                  <div class="blob-num blame-blob-num bg-gray-light js-line-number" id="L440">440</div>
                  <div class="blob-code blob-code-inner js-file-line" id="LC440">        }</div>
                </div>
                <div class="d-flex flex-justify-start flex-items-start">
                  <div class="blob-num blame-blob-num bg-gray-light js-line-number" id="L441">441</div>
                  <div class="blob-code blob-code-inner js-file-line" id="LC441">      ]</div>
                </div>
                <div class="d-flex flex-justify-start flex-items-start">
                  <div class="blob-num blame-blob-num bg-gray-light js-line-number" id="L442">442</div>
                  <div class="blob-code blob-code-inner js-file-line" id="LC442">    },</div>
                </div>
                <div class="d-flex flex-justify-start flex-items-start">
                  <div class="blob-num blame-blob-num bg-gray-light js-line-number" id="L443">443</div>
                  <div class="blob-code blob-code-inner js-file-line" id="LC443">    {</div>
                </div>
                <div class="d-flex flex-justify-start flex-items-start">
                  <div class="blob-num blame-blob-num bg-gray-light js-line-number" id="L444">444</div>
                  <div class="blob-code blob-code-inner js-file-line" id="LC444">      <span class="pl-s"><span class="pl-pds">&quot;</span>cell_type<span class="pl-pds">&quot;</span></span>: <span class="pl-s"><span class="pl-pds">&quot;</span>code<span class="pl-pds">&quot;</span></span>,</div>
                </div>
                <div class="d-flex flex-justify-start flex-items-start">
                  <div class="blob-num blame-blob-num bg-gray-light js-line-number" id="L445">445</div>
                  <div class="blob-code blob-code-inner js-file-line" id="LC445">      <span class="pl-s"><span class="pl-pds">&quot;</span>metadata<span class="pl-pds">&quot;</span></span>: {</div>
                </div>
                <div class="d-flex flex-justify-start flex-items-start">
                  <div class="blob-num blame-blob-num bg-gray-light js-line-number" id="L446">446</div>
                  <div class="blob-code blob-code-inner js-file-line" id="LC446">        <span class="pl-s"><span class="pl-pds">&quot;</span>colab<span class="pl-pds">&quot;</span></span>: {</div>
                </div>
                <div class="d-flex flex-justify-start flex-items-start">
                  <div class="blob-num blame-blob-num bg-gray-light js-line-number" id="L447">447</div>
                  <div class="blob-code blob-code-inner js-file-line" id="LC447">          <span class="pl-s"><span class="pl-pds">&quot;</span>base_uri<span class="pl-pds">&quot;</span></span>: <span class="pl-s"><span class="pl-pds">&quot;</span>https://localhost:8080/<span class="pl-pds">&quot;</span></span></div>
                </div>
                <div class="d-flex flex-justify-start flex-items-start">
                  <div class="blob-num blame-blob-num bg-gray-light js-line-number" id="L448">448</div>
                  <div class="blob-code blob-code-inner js-file-line" id="LC448">        },</div>
                </div>
                <div class="d-flex flex-justify-start flex-items-start">
                  <div class="blob-num blame-blob-num bg-gray-light js-line-number" id="L449">449</div>
                  <div class="blob-code blob-code-inner js-file-line" id="LC449">        <span class="pl-s"><span class="pl-pds">&quot;</span>id<span class="pl-pds">&quot;</span></span>: <span class="pl-s"><span class="pl-pds">&quot;</span>Kh4s00VkMbix<span class="pl-pds">&quot;</span></span>,</div>
                </div>
                <div class="d-flex flex-justify-start flex-items-start">
                  <div class="blob-num blame-blob-num bg-gray-light js-line-number" id="L450">450</div>
                  <div class="blob-code blob-code-inner js-file-line" id="LC450">        <span class="pl-s"><span class="pl-pds">&quot;</span>outputId<span class="pl-pds">&quot;</span></span>: <span class="pl-s"><span class="pl-pds">&quot;</span>036fe5ca-f0b9-46f8-b7a9-493ea10a0432<span class="pl-pds">&quot;</span></span></div>
                </div>
                <div class="d-flex flex-justify-start flex-items-start">
                  <div class="blob-num blame-blob-num bg-gray-light js-line-number" id="L451">451</div>
                  <div class="blob-code blob-code-inner js-file-line" id="LC451">      },</div>
                </div>
                <div class="d-flex flex-justify-start flex-items-start">
                  <div class="blob-num blame-blob-num bg-gray-light js-line-number" id="L452">452</div>
                  <div class="blob-code blob-code-inner js-file-line" id="LC452">      <span class="pl-s"><span class="pl-pds">&quot;</span>source<span class="pl-pds">&quot;</span></span>: [</div>
                </div>
                <div class="d-flex flex-justify-start flex-items-start">
                  <div class="blob-num blame-blob-num bg-gray-light js-line-number" id="L453">453</div>
                  <div class="blob-code blob-code-inner js-file-line" id="LC453">        <span class="pl-s"><span class="pl-pds">&quot;</span>df_work1.isnull().sum()<span class="pl-pds">&quot;</span></span></div>
                </div>
                <div class="d-flex flex-justify-start flex-items-start">
                  <div class="blob-num blame-blob-num bg-gray-light js-line-number" id="L454">454</div>
                  <div class="blob-code blob-code-inner js-file-line" id="LC454">      ],</div>
                </div>
                <div class="d-flex flex-justify-start flex-items-start">
                  <div class="blob-num blame-blob-num bg-gray-light js-line-number" id="L455">455</div>
                  <div class="blob-code blob-code-inner js-file-line" id="LC455">      <span class="pl-s"><span class="pl-pds">&quot;</span>execution_count<span class="pl-pds">&quot;</span></span>: <span class="pl-c1">42</span>,</div>
                </div>
                <div class="d-flex flex-justify-start flex-items-start">
                  <div class="blob-num blame-blob-num bg-gray-light js-line-number" id="L456">456</div>
                  <div class="blob-code blob-code-inner js-file-line" id="LC456">      <span class="pl-s"><span class="pl-pds">&quot;</span>outputs<span class="pl-pds">&quot;</span></span>: [</div>
                </div>
                <div class="d-flex flex-justify-start flex-items-start">
                  <div class="blob-num blame-blob-num bg-gray-light js-line-number" id="L457">457</div>
                  <div class="blob-code blob-code-inner js-file-line" id="LC457">        {</div>
                </div>
                <div class="d-flex flex-justify-start flex-items-start">
                  <div class="blob-num blame-blob-num bg-gray-light js-line-number" id="L458">458</div>
                  <div class="blob-code blob-code-inner js-file-line" id="LC458">          <span class="pl-s"><span class="pl-pds">&quot;</span>output_type<span class="pl-pds">&quot;</span></span>: <span class="pl-s"><span class="pl-pds">&quot;</span>execute_result<span class="pl-pds">&quot;</span></span>,</div>
                </div>
                <div class="d-flex flex-justify-start flex-items-start">
                  <div class="blob-num blame-blob-num bg-gray-light js-line-number" id="L459">459</div>
                  <div class="blob-code blob-code-inner js-file-line" id="LC459">          <span class="pl-s"><span class="pl-pds">&quot;</span>data<span class="pl-pds">&quot;</span></span>: {</div>
                </div>
                <div class="d-flex flex-justify-start flex-items-start">
                  <div class="blob-num blame-blob-num bg-gray-light js-line-number" id="L460">460</div>
                  <div class="blob-code blob-code-inner js-file-line" id="LC460">            <span class="pl-s"><span class="pl-pds">&quot;</span>text/plain<span class="pl-pds">&quot;</span></span>: [</div>
                </div>
                <div class="d-flex flex-justify-start flex-items-start">
                  <div class="blob-num blame-blob-num bg-gray-light js-line-number" id="L461">461</div>
                  <div class="blob-code blob-code-inner js-file-line" id="LC461">              <span class="pl-s"><span class="pl-pds">&quot;</span>Fecha          0<span class="pl-cce">\n</span><span class="pl-pds">&quot;</span></span>,</div>
                </div>
                <div class="d-flex flex-justify-start flex-items-start">
                  <div class="blob-num blame-blob-num bg-gray-light js-line-number" id="L462">462</div>
                  <div class="blob-code blob-code-inner js-file-line" id="LC462">              <span class="pl-s"><span class="pl-pds">&quot;</span>Precipit     124<span class="pl-cce">\n</span><span class="pl-pds">&quot;</span></span>,</div>
                </div>
                <div class="d-flex flex-justify-start flex-items-start">
                  <div class="blob-num blame-blob-num bg-gray-light js-line-number" id="L463">463</div>
                  <div class="blob-code blob-code-inner js-file-line" id="LC463">              <span class="pl-s"><span class="pl-pds">&quot;</span>Evap        6075<span class="pl-cce">\n</span><span class="pl-pds">&quot;</span></span>,</div>
                </div>
                <div class="d-flex flex-justify-start flex-items-start">
                  <div class="blob-num blame-blob-num bg-gray-light js-line-number" id="L464">464</div>
                  <div class="blob-code blob-code-inner js-file-line" id="LC464">              <span class="pl-s"><span class="pl-pds">&quot;</span>Tmax          80<span class="pl-cce">\n</span><span class="pl-pds">&quot;</span></span>,</div>
                </div>
                <div class="d-flex flex-justify-start flex-items-start">
                  <div class="blob-num blame-blob-num bg-gray-light js-line-number" id="L465">465</div>
                  <div class="blob-code blob-code-inner js-file-line" id="LC465">              <span class="pl-s"><span class="pl-pds">&quot;</span>Tmin          86<span class="pl-cce">\n</span><span class="pl-pds">&quot;</span></span>,</div>
                </div>
                <div class="d-flex flex-justify-start flex-items-start">
                  <div class="blob-num blame-blob-num bg-gray-light js-line-number" id="L466">466</div>
                  <div class="blob-code blob-code-inner js-file-line" id="LC466">              <span class="pl-s"><span class="pl-pds">&quot;</span>dtype: int64<span class="pl-pds">&quot;</span></span></div>
                </div>
                <div class="d-flex flex-justify-start flex-items-start">
                  <div class="blob-num blame-blob-num bg-gray-light js-line-number" id="L467">467</div>
                  <div class="blob-code blob-code-inner js-file-line" id="LC467">            ]</div>
                </div>
                <div class="d-flex flex-justify-start flex-items-start">
                  <div class="blob-num blame-blob-num bg-gray-light js-line-number" id="L468">468</div>
                  <div class="blob-code blob-code-inner js-file-line" id="LC468">          },</div>
                </div>
                <div class="d-flex flex-justify-start flex-items-start">
                  <div class="blob-num blame-blob-num bg-gray-light js-line-number" id="L469">469</div>
                  <div class="blob-code blob-code-inner js-file-line" id="LC469">          <span class="pl-s"><span class="pl-pds">&quot;</span>metadata<span class="pl-pds">&quot;</span></span>: {</div>
                </div>
                <div class="d-flex flex-justify-start flex-items-start">
                  <div class="blob-num blame-blob-num bg-gray-light js-line-number" id="L470">470</div>
                  <div class="blob-code blob-code-inner js-file-line" id="LC470">            <span class="pl-s"><span class="pl-pds">&quot;</span>tags<span class="pl-pds">&quot;</span></span>: []</div>
                </div>
                <div class="d-flex flex-justify-start flex-items-start">
                  <div class="blob-num blame-blob-num bg-gray-light js-line-number" id="L471">471</div>
                  <div class="blob-code blob-code-inner js-file-line" id="LC471">          },</div>
                </div>
                <div class="d-flex flex-justify-start flex-items-start">
                  <div class="blob-num blame-blob-num bg-gray-light js-line-number" id="L472">472</div>
                  <div class="blob-code blob-code-inner js-file-line" id="LC472">          <span class="pl-s"><span class="pl-pds">&quot;</span>execution_count<span class="pl-pds">&quot;</span></span>: <span class="pl-c1">42</span></div>
                </div>
                <div class="d-flex flex-justify-start flex-items-start">
                  <div class="blob-num blame-blob-num bg-gray-light js-line-number" id="L473">473</div>
                  <div class="blob-code blob-code-inner js-file-line" id="LC473">        }</div>
                </div>
                <div class="d-flex flex-justify-start flex-items-start">
                  <div class="blob-num blame-blob-num bg-gray-light js-line-number" id="L474">474</div>
                  <div class="blob-code blob-code-inner js-file-line" id="LC474">      ]</div>
                </div>
                <div class="d-flex flex-justify-start flex-items-start">
                  <div class="blob-num blame-blob-num bg-gray-light js-line-number" id="L475">475</div>
                  <div class="blob-code blob-code-inner js-file-line" id="LC475">    },</div>
                </div>
                <div class="d-flex flex-justify-start flex-items-start">
                  <div class="blob-num blame-blob-num bg-gray-light js-line-number" id="L476">476</div>
                  <div class="blob-code blob-code-inner js-file-line" id="LC476">    {</div>
                </div>
                <div class="d-flex flex-justify-start flex-items-start">
                  <div class="blob-num blame-blob-num bg-gray-light js-line-number" id="L477">477</div>
                  <div class="blob-code blob-code-inner js-file-line" id="LC477">      <span class="pl-s"><span class="pl-pds">&quot;</span>cell_type<span class="pl-pds">&quot;</span></span>: <span class="pl-s"><span class="pl-pds">&quot;</span>code<span class="pl-pds">&quot;</span></span>,</div>
                </div>
                <div class="d-flex flex-justify-start flex-items-start">
                  <div class="blob-num blame-blob-num bg-gray-light js-line-number" id="L478">478</div>
                  <div class="blob-code blob-code-inner js-file-line" id="LC478">      <span class="pl-s"><span class="pl-pds">&quot;</span>metadata<span class="pl-pds">&quot;</span></span>: {</div>
                </div>
                <div class="d-flex flex-justify-start flex-items-start">
                  <div class="blob-num blame-blob-num bg-gray-light js-line-number" id="L479">479</div>
                  <div class="blob-code blob-code-inner js-file-line" id="LC479">        <span class="pl-s"><span class="pl-pds">&quot;</span>colab<span class="pl-pds">&quot;</span></span>: {</div>
                </div>
                <div class="d-flex flex-justify-start flex-items-start">
                  <div class="blob-num blame-blob-num bg-gray-light js-line-number" id="L480">480</div>
                  <div class="blob-code blob-code-inner js-file-line" id="LC480">          <span class="pl-s"><span class="pl-pds">&quot;</span>base_uri<span class="pl-pds">&quot;</span></span>: <span class="pl-s"><span class="pl-pds">&quot;</span>https://localhost:8080/<span class="pl-pds">&quot;</span></span></div>
                </div>
                <div class="d-flex flex-justify-start flex-items-start">
                  <div class="blob-num blame-blob-num bg-gray-light js-line-number" id="L481">481</div>
                  <div class="blob-code blob-code-inner js-file-line" id="LC481">        },</div>
                </div>
                <div class="d-flex flex-justify-start flex-items-start">
                  <div class="blob-num blame-blob-num bg-gray-light js-line-number" id="L482">482</div>
                  <div class="blob-code blob-code-inner js-file-line" id="LC482">        <span class="pl-s"><span class="pl-pds">&quot;</span>id<span class="pl-pds">&quot;</span></span>: <span class="pl-s"><span class="pl-pds">&quot;</span>gNvS9nosMqpn<span class="pl-pds">&quot;</span></span>,</div>
                </div>
                <div class="d-flex flex-justify-start flex-items-start">
                  <div class="blob-num blame-blob-num bg-gray-light js-line-number" id="L483">483</div>
                  <div class="blob-code blob-code-inner js-file-line" id="LC483">        <span class="pl-s"><span class="pl-pds">&quot;</span>outputId<span class="pl-pds">&quot;</span></span>: <span class="pl-s"><span class="pl-pds">&quot;</span>e5bae2b2-5b84-418f-a0e5-596c5ca8a1ae<span class="pl-pds">&quot;</span></span></div>
                </div>
                <div class="d-flex flex-justify-start flex-items-start">
                  <div class="blob-num blame-blob-num bg-gray-light js-line-number" id="L484">484</div>
                  <div class="blob-code blob-code-inner js-file-line" id="LC484">      },</div>
                </div>
                <div class="d-flex flex-justify-start flex-items-start">
                  <div class="blob-num blame-blob-num bg-gray-light js-line-number" id="L485">485</div>
                  <div class="blob-code blob-code-inner js-file-line" id="LC485">      <span class="pl-s"><span class="pl-pds">&quot;</span>source<span class="pl-pds">&quot;</span></span>: [</div>
                </div>
                <div class="d-flex flex-justify-start flex-items-start">
                  <div class="blob-num blame-blob-num bg-gray-light js-line-number" id="L486">486</div>
                  <div class="blob-code blob-code-inner js-file-line" id="LC486">        <span class="pl-s"><span class="pl-pds">&quot;</span>print(df_work0.head())<span class="pl-cce">\r\n</span><span class="pl-pds">&quot;</span></span>,</div>
                </div>
                <div class="d-flex flex-justify-start flex-items-start">
                  <div class="blob-num blame-blob-num bg-gray-light js-line-number" id="L487">487</div>
                  <div class="blob-code blob-code-inner js-file-line" id="LC487">        <span class="pl-s"><span class="pl-pds">&quot;</span>print(df_work1.head())<span class="pl-pds">&quot;</span></span></div>
                </div>
                <div class="d-flex flex-justify-start flex-items-start">
                  <div class="blob-num blame-blob-num bg-gray-light js-line-number" id="L488">488</div>
                  <div class="blob-code blob-code-inner js-file-line" id="LC488">      ],</div>
                </div>
                <div class="d-flex flex-justify-start flex-items-start">
                  <div class="blob-num blame-blob-num bg-gray-light js-line-number" id="L489">489</div>
                  <div class="blob-code blob-code-inner js-file-line" id="LC489">      <span class="pl-s"><span class="pl-pds">&quot;</span>execution_count<span class="pl-pds">&quot;</span></span>: <span class="pl-c1">43</span>,</div>
                </div>
                <div class="d-flex flex-justify-start flex-items-start">
                  <div class="blob-num blame-blob-num bg-gray-light js-line-number" id="L490">490</div>
                  <div class="blob-code blob-code-inner js-file-line" id="LC490">      <span class="pl-s"><span class="pl-pds">&quot;</span>outputs<span class="pl-pds">&quot;</span></span>: [</div>
                </div>
                <div class="d-flex flex-justify-start flex-items-start">
                  <div class="blob-num blame-blob-num bg-gray-light js-line-number" id="L491">491</div>
                  <div class="blob-code blob-code-inner js-file-line" id="LC491">        {</div>
                </div>
                <div class="d-flex flex-justify-start flex-items-start">
                  <div class="blob-num blame-blob-num bg-gray-light js-line-number" id="L492">492</div>
                  <div class="blob-code blob-code-inner js-file-line" id="LC492">          <span class="pl-s"><span class="pl-pds">&quot;</span>output_type<span class="pl-pds">&quot;</span></span>: <span class="pl-s"><span class="pl-pds">&quot;</span>stream<span class="pl-pds">&quot;</span></span>,</div>
                </div>
                <div class="d-flex flex-justify-start flex-items-start">
                  <div class="blob-num blame-blob-num bg-gray-light js-line-number" id="L493">493</div>
                  <div class="blob-code blob-code-inner js-file-line" id="LC493">          <span class="pl-s"><span class="pl-pds">&quot;</span>text<span class="pl-pds">&quot;</span></span>: [</div>
                </div>
                <div class="d-flex flex-justify-start flex-items-start">
                  <div class="blob-num blame-blob-num bg-gray-light js-line-number" id="L494">494</div>
                  <div class="blob-code blob-code-inner js-file-line" id="LC494">            <span class="pl-s"><span class="pl-pds">&quot;</span>        Fecha Precipit  Evap Tmax Tmin<span class="pl-cce">\n</span><span class="pl-pds">&quot;</span></span>,</div>
                </div>
                <div class="d-flex flex-justify-start flex-items-start">
                  <div class="blob-num blame-blob-num bg-gray-light js-line-number" id="L495">495</div>
                  <div class="blob-code blob-code-inner js-file-line" id="LC495">            <span class="pl-s"><span class="pl-pds">&quot;</span>0  01/03/1973        0  Nulo   29   12<span class="pl-cce">\n</span><span class="pl-pds">&quot;</span></span>,</div>
                </div>
                <div class="d-flex flex-justify-start flex-items-start">
                  <div class="blob-num blame-blob-num bg-gray-light js-line-number" id="L496">496</div>
                  <div class="blob-code blob-code-inner js-file-line" id="LC496">            <span class="pl-s"><span class="pl-pds">&quot;</span>1  02/03/1973        0  Nulo   30   12<span class="pl-cce">\n</span><span class="pl-pds">&quot;</span></span>,</div>
                </div>
                <div class="d-flex flex-justify-start flex-items-start">
                  <div class="blob-num blame-blob-num bg-gray-light js-line-number" id="L497">497</div>
                  <div class="blob-code blob-code-inner js-file-line" id="LC497">            <span class="pl-s"><span class="pl-pds">&quot;</span>2  03/03/1973        0  Nulo   29    9<span class="pl-cce">\n</span><span class="pl-pds">&quot;</span></span>,</div>
                </div>
                <div class="d-flex flex-justify-start flex-items-start">
                  <div class="blob-num blame-blob-num bg-gray-light js-line-number" id="L498">498</div>
                  <div class="blob-code blob-code-inner js-file-line" id="LC498">            <span class="pl-s"><span class="pl-pds">&quot;</span>3  04/03/1973        0  Nulo   28    8<span class="pl-cce">\n</span><span class="pl-pds">&quot;</span></span>,</div>
                </div>
                <div class="d-flex flex-justify-start flex-items-start">
                  <div class="blob-num blame-blob-num bg-gray-light js-line-number" id="L499">499</div>
                  <div class="blob-code blob-code-inner js-file-line" id="LC499">            <span class="pl-s"><span class="pl-pds">&quot;</span>4  05/03/1973        0  Nulo   28    7<span class="pl-cce">\n</span><span class="pl-pds">&quot;</span></span>,</div>
                </div>
                <div class="d-flex flex-justify-start flex-items-start">
                  <div class="blob-num blame-blob-num bg-gray-light js-line-number" id="L500">500</div>
                  <div class="blob-code blob-code-inner js-file-line" id="LC500">            <span class="pl-s"><span class="pl-pds">&quot;</span>        Fecha  Precipit  Evap  Tmax  Tmin<span class="pl-cce">\n</span><span class="pl-pds">&quot;</span></span>,</div>
                </div>
                <div class="d-flex flex-justify-start flex-items-start">
                  <div class="blob-num blame-blob-num bg-gray-light js-line-number" id="L501">501</div>
                  <div class="blob-code blob-code-inner js-file-line" id="LC501">            <span class="pl-s"><span class="pl-pds">&quot;</span>0  01/03/1973       0.0   NaN  29.0  12.0<span class="pl-cce">\n</span><span class="pl-pds">&quot;</span></span>,</div>
                </div>
                <div class="d-flex flex-justify-start flex-items-start">
                  <div class="blob-num blame-blob-num bg-gray-light js-line-number" id="L502">502</div>
                  <div class="blob-code blob-code-inner js-file-line" id="LC502">            <span class="pl-s"><span class="pl-pds">&quot;</span>1  02/03/1973       0.0   NaN  30.0  12.0<span class="pl-cce">\n</span><span class="pl-pds">&quot;</span></span>,</div>
                </div>
                <div class="d-flex flex-justify-start flex-items-start">
                  <div class="blob-num blame-blob-num bg-gray-light js-line-number" id="L503">503</div>
                  <div class="blob-code blob-code-inner js-file-line" id="LC503">            <span class="pl-s"><span class="pl-pds">&quot;</span>2  03/03/1973       0.0   NaN  29.0   9.0<span class="pl-cce">\n</span><span class="pl-pds">&quot;</span></span>,</div>
                </div>
                <div class="d-flex flex-justify-start flex-items-start">
                  <div class="blob-num blame-blob-num bg-gray-light js-line-number" id="L504">504</div>
                  <div class="blob-code blob-code-inner js-file-line" id="LC504">            <span class="pl-s"><span class="pl-pds">&quot;</span>3  04/03/1973       0.0   NaN  28.0   8.0<span class="pl-cce">\n</span><span class="pl-pds">&quot;</span></span>,</div>
                </div>
                <div class="d-flex flex-justify-start flex-items-start">
                  <div class="blob-num blame-blob-num bg-gray-light js-line-number" id="L505">505</div>
                  <div class="blob-code blob-code-inner js-file-line" id="LC505">            <span class="pl-s"><span class="pl-pds">&quot;</span>4  05/03/1973       0.0   NaN  28.0   7.0<span class="pl-cce">\n</span><span class="pl-pds">&quot;</span></span></div>
                </div>
                <div class="d-flex flex-justify-start flex-items-start">
                  <div class="blob-num blame-blob-num bg-gray-light js-line-number" id="L506">506</div>
                  <div class="blob-code blob-code-inner js-file-line" id="LC506">          ],</div>
                </div>
                <div class="d-flex flex-justify-start flex-items-start">
                  <div class="blob-num blame-blob-num bg-gray-light js-line-number" id="L507">507</div>
                  <div class="blob-code blob-code-inner js-file-line" id="LC507">          <span class="pl-s"><span class="pl-pds">&quot;</span>name<span class="pl-pds">&quot;</span></span>: <span class="pl-s"><span class="pl-pds">&quot;</span>stdout<span class="pl-pds">&quot;</span></span></div>
                </div>
                <div class="d-flex flex-justify-start flex-items-start">
                  <div class="blob-num blame-blob-num bg-gray-light js-line-number" id="L508">508</div>
                  <div class="blob-code blob-code-inner js-file-line" id="LC508">        }</div>
                </div>
                <div class="d-flex flex-justify-start flex-items-start">
                  <div class="blob-num blame-blob-num bg-gray-light js-line-number" id="L509">509</div>
                  <div class="blob-code blob-code-inner js-file-line" id="LC509">      ]</div>
                </div>
                <div class="d-flex flex-justify-start flex-items-start">
                  <div class="blob-num blame-blob-num bg-gray-light js-line-number" id="L510">510</div>
                  <div class="blob-code blob-code-inner js-file-line" id="LC510">    },</div>
                </div>
                <div class="d-flex flex-justify-start flex-items-start">
                  <div class="blob-num blame-blob-num bg-gray-light js-line-number" id="L511">511</div>
                  <div class="blob-code blob-code-inner js-file-line" id="LC511">    {</div>
                </div>
                <div class="d-flex flex-justify-start flex-items-start">
                  <div class="blob-num blame-blob-num bg-gray-light js-line-number" id="L512">512</div>
                  <div class="blob-code blob-code-inner js-file-line" id="LC512">      <span class="pl-s"><span class="pl-pds">&quot;</span>cell_type<span class="pl-pds">&quot;</span></span>: <span class="pl-s"><span class="pl-pds">&quot;</span>code<span class="pl-pds">&quot;</span></span>,</div>
                </div>
                <div class="d-flex flex-justify-start flex-items-start">
                  <div class="blob-num blame-blob-num bg-gray-light js-line-number" id="L513">513</div>
                  <div class="blob-code blob-code-inner js-file-line" id="LC513">      <span class="pl-s"><span class="pl-pds">&quot;</span>metadata<span class="pl-pds">&quot;</span></span>: {</div>
                </div>
                <div class="d-flex flex-justify-start flex-items-start">
                  <div class="blob-num blame-blob-num bg-gray-light js-line-number" id="L514">514</div>
                  <div class="blob-code blob-code-inner js-file-line" id="LC514">        <span class="pl-s"><span class="pl-pds">&quot;</span>colab<span class="pl-pds">&quot;</span></span>: {</div>
                </div>
                <div class="d-flex flex-justify-start flex-items-start">
                  <div class="blob-num blame-blob-num bg-gray-light js-line-number" id="L515">515</div>
                  <div class="blob-code blob-code-inner js-file-line" id="LC515">          <span class="pl-s"><span class="pl-pds">&quot;</span>base_uri<span class="pl-pds">&quot;</span></span>: <span class="pl-s"><span class="pl-pds">&quot;</span>https://localhost:8080/<span class="pl-pds">&quot;</span></span>,</div>
                </div>
                <div class="d-flex flex-justify-start flex-items-start">
                  <div class="blob-num blame-blob-num bg-gray-light js-line-number" id="L516">516</div>
                  <div class="blob-code blob-code-inner js-file-line" id="LC516">          <span class="pl-s"><span class="pl-pds">&quot;</span>height<span class="pl-pds">&quot;</span></span>: <span class="pl-c1">297</span></div>
                </div>
                <div class="d-flex flex-justify-start flex-items-start">
                  <div class="blob-num blame-blob-num bg-gray-light js-line-number" id="L517">517</div>
                  <div class="blob-code blob-code-inner js-file-line" id="LC517">        },</div>
                </div>
                <div class="d-flex flex-justify-start flex-items-start">
                  <div class="blob-num blame-blob-num bg-gray-light js-line-number" id="L518">518</div>
                  <div class="blob-code blob-code-inner js-file-line" id="LC518">        <span class="pl-s"><span class="pl-pds">&quot;</span>id<span class="pl-pds">&quot;</span></span>: <span class="pl-s"><span class="pl-pds">&quot;</span>zi_OrTZNM0i5<span class="pl-pds">&quot;</span></span>,</div>
                </div>
                <div class="d-flex flex-justify-start flex-items-start">
                  <div class="blob-num blame-blob-num bg-gray-light js-line-number" id="L519">519</div>
                  <div class="blob-code blob-code-inner js-file-line" id="LC519">        <span class="pl-s"><span class="pl-pds">&quot;</span>outputId<span class="pl-pds">&quot;</span></span>: <span class="pl-s"><span class="pl-pds">&quot;</span>21d45e6e-87c1-4d2c-d758-92c53e5ea82a<span class="pl-pds">&quot;</span></span></div>
                </div>
                <div class="d-flex flex-justify-start flex-items-start">
                  <div class="blob-num blame-blob-num bg-gray-light js-line-number" id="L520">520</div>
                  <div class="blob-code blob-code-inner js-file-line" id="LC520">      },</div>
                </div>
                <div class="d-flex flex-justify-start flex-items-start">
                  <div class="blob-num blame-blob-num bg-gray-light js-line-number" id="L521">521</div>
                  <div class="blob-code blob-code-inner js-file-line" id="LC521">      <span class="pl-s"><span class="pl-pds">&quot;</span>source<span class="pl-pds">&quot;</span></span>: [</div>
                </div>
                <div class="d-flex flex-justify-start flex-items-start">
                  <div class="blob-num blame-blob-num bg-gray-light js-line-number" id="L522">522</div>
                  <div class="blob-code blob-code-inner js-file-line" id="LC522">        <span class="pl-s"><span class="pl-pds">&quot;</span>df_work1.describe().round(2)<span class="pl-pds">&quot;</span></span></div>
                </div>
                <div class="d-flex flex-justify-start flex-items-start">
                  <div class="blob-num blame-blob-num bg-gray-light js-line-number" id="L523">523</div>
                  <div class="blob-code blob-code-inner js-file-line" id="LC523">      ],</div>
                </div>
                <div class="d-flex flex-justify-start flex-items-start">
                  <div class="blob-num blame-blob-num bg-gray-light js-line-number" id="L524">524</div>
                  <div class="blob-code blob-code-inner js-file-line" id="LC524">      <span class="pl-s"><span class="pl-pds">&quot;</span>execution_count<span class="pl-pds">&quot;</span></span>: <span class="pl-c1">44</span>,</div>
                </div>
                <div class="d-flex flex-justify-start flex-items-start">
                  <div class="blob-num blame-blob-num bg-gray-light js-line-number" id="L525">525</div>
                  <div class="blob-code blob-code-inner js-file-line" id="LC525">      <span class="pl-s"><span class="pl-pds">&quot;</span>outputs<span class="pl-pds">&quot;</span></span>: [</div>
                </div>
                <div class="d-flex flex-justify-start flex-items-start">
                  <div class="blob-num blame-blob-num bg-gray-light js-line-number" id="L526">526</div>
                  <div class="blob-code blob-code-inner js-file-line" id="LC526">        {</div>
                </div>
                <div class="d-flex flex-justify-start flex-items-start">
                  <div class="blob-num blame-blob-num bg-gray-light js-line-number" id="L527">527</div>
                  <div class="blob-code blob-code-inner js-file-line" id="LC527">          <span class="pl-s"><span class="pl-pds">&quot;</span>output_type<span class="pl-pds">&quot;</span></span>: <span class="pl-s"><span class="pl-pds">&quot;</span>execute_result<span class="pl-pds">&quot;</span></span>,</div>
                </div>
                <div class="d-flex flex-justify-start flex-items-start">
                  <div class="blob-num blame-blob-num bg-gray-light js-line-number" id="L528">528</div>
                  <div class="blob-code blob-code-inner js-file-line" id="LC528">          <span class="pl-s"><span class="pl-pds">&quot;</span>data<span class="pl-pds">&quot;</span></span>: {</div>
                </div>
                <div class="d-flex flex-justify-start flex-items-start">
                  <div class="blob-num blame-blob-num bg-gray-light js-line-number" id="L529">529</div>
                  <div class="blob-code blob-code-inner js-file-line" id="LC529">            <span class="pl-s"><span class="pl-pds">&quot;</span>text/html<span class="pl-pds">&quot;</span></span>: [</div>
                </div>
                <div class="d-flex flex-justify-start flex-items-start">
                  <div class="blob-num blame-blob-num bg-gray-light js-line-number" id="L530">530</div>
                  <div class="blob-code blob-code-inner js-file-line" id="LC530">              <span class="pl-s"><span class="pl-pds">&quot;</span>&lt;div&gt;<span class="pl-cce">\n</span><span class="pl-pds">&quot;</span></span>,</div>
                </div>
                <div class="d-flex flex-justify-start flex-items-start">
                  <div class="blob-num blame-blob-num bg-gray-light js-line-number" id="L531">531</div>
                  <div class="blob-code blob-code-inner js-file-line" id="LC531">              <span class="pl-s"><span class="pl-pds">&quot;</span>&lt;style scoped&gt;<span class="pl-cce">\n</span><span class="pl-pds">&quot;</span></span>,</div>
                </div>
                <div class="d-flex flex-justify-start flex-items-start">
                  <div class="blob-num blame-blob-num bg-gray-light js-line-number" id="L532">532</div>
                  <div class="blob-code blob-code-inner js-file-line" id="LC532">              <span class="pl-s"><span class="pl-pds">&quot;</span>    .dataframe tbody tr th:only-of-type {<span class="pl-cce">\n</span><span class="pl-pds">&quot;</span></span>,</div>
                </div>
                <div class="d-flex flex-justify-start flex-items-start">
                  <div class="blob-num blame-blob-num bg-gray-light js-line-number" id="L533">533</div>
                  <div class="blob-code blob-code-inner js-file-line" id="LC533">              <span class="pl-s"><span class="pl-pds">&quot;</span>        vertical-align: middle;<span class="pl-cce">\n</span><span class="pl-pds">&quot;</span></span>,</div>
                </div>
                <div class="d-flex flex-justify-start flex-items-start">
                  <div class="blob-num blame-blob-num bg-gray-light js-line-number" id="L534">534</div>
                  <div class="blob-code blob-code-inner js-file-line" id="LC534">              <span class="pl-s"><span class="pl-pds">&quot;</span>    }<span class="pl-cce">\n</span><span class="pl-pds">&quot;</span></span>,</div>
                </div>
                <div class="d-flex flex-justify-start flex-items-start">
                  <div class="blob-num blame-blob-num bg-gray-light js-line-number" id="L535">535</div>
                  <div class="blob-code blob-code-inner js-file-line" id="LC535">              <span class="pl-s"><span class="pl-pds">&quot;</span><span class="pl-cce">\n</span><span class="pl-pds">&quot;</span></span>,</div>
                </div>
                <div class="d-flex flex-justify-start flex-items-start">
                  <div class="blob-num blame-blob-num bg-gray-light js-line-number" id="L536">536</div>
                  <div class="blob-code blob-code-inner js-file-line" id="LC536">              <span class="pl-s"><span class="pl-pds">&quot;</span>    .dataframe tbody tr th {<span class="pl-cce">\n</span><span class="pl-pds">&quot;</span></span>,</div>
                </div>
                <div class="d-flex flex-justify-start flex-items-start">
                  <div class="blob-num blame-blob-num bg-gray-light js-line-number" id="L537">537</div>
                  <div class="blob-code blob-code-inner js-file-line" id="LC537">              <span class="pl-s"><span class="pl-pds">&quot;</span>        vertical-align: top;<span class="pl-cce">\n</span><span class="pl-pds">&quot;</span></span>,</div>
                </div>
                <div class="d-flex flex-justify-start flex-items-start">
                  <div class="blob-num blame-blob-num bg-gray-light js-line-number" id="L538">538</div>
                  <div class="blob-code blob-code-inner js-file-line" id="LC538">              <span class="pl-s"><span class="pl-pds">&quot;</span>    }<span class="pl-cce">\n</span><span class="pl-pds">&quot;</span></span>,</div>
                </div>
                <div class="d-flex flex-justify-start flex-items-start">
                  <div class="blob-num blame-blob-num bg-gray-light js-line-number" id="L539">539</div>
                  <div class="blob-code blob-code-inner js-file-line" id="LC539">              <span class="pl-s"><span class="pl-pds">&quot;</span><span class="pl-cce">\n</span><span class="pl-pds">&quot;</span></span>,</div>
                </div>
                <div class="d-flex flex-justify-start flex-items-start">
                  <div class="blob-num blame-blob-num bg-gray-light js-line-number" id="L540">540</div>
                  <div class="blob-code blob-code-inner js-file-line" id="LC540">              <span class="pl-s"><span class="pl-pds">&quot;</span>    .dataframe thead th {<span class="pl-cce">\n</span><span class="pl-pds">&quot;</span></span>,</div>
                </div>
                <div class="d-flex flex-justify-start flex-items-start">
                  <div class="blob-num blame-blob-num bg-gray-light js-line-number" id="L541">541</div>
                  <div class="blob-code blob-code-inner js-file-line" id="LC541">              <span class="pl-s"><span class="pl-pds">&quot;</span>        text-align: right;<span class="pl-cce">\n</span><span class="pl-pds">&quot;</span></span>,</div>
                </div>
                <div class="d-flex flex-justify-start flex-items-start">
                  <div class="blob-num blame-blob-num bg-gray-light js-line-number" id="L542">542</div>
                  <div class="blob-code blob-code-inner js-file-line" id="LC542">              <span class="pl-s"><span class="pl-pds">&quot;</span>    }<span class="pl-cce">\n</span><span class="pl-pds">&quot;</span></span>,</div>
                </div>
                <div class="d-flex flex-justify-start flex-items-start">
                  <div class="blob-num blame-blob-num bg-gray-light js-line-number" id="L543">543</div>
                  <div class="blob-code blob-code-inner js-file-line" id="LC543">              <span class="pl-s"><span class="pl-pds">&quot;</span>&lt;/style&gt;<span class="pl-cce">\n</span><span class="pl-pds">&quot;</span></span>,</div>
                </div>
                <div class="d-flex flex-justify-start flex-items-start">
                  <div class="blob-num blame-blob-num bg-gray-light js-line-number" id="L544">544</div>
                  <div class="blob-code blob-code-inner js-file-line" id="LC544">              <span class="pl-s"><span class="pl-pds">&quot;</span>&lt;table border=<span class="pl-cce">\&quot;</span>1<span class="pl-cce">\&quot;</span> class=<span class="pl-cce">\&quot;</span>dataframe<span class="pl-cce">\&quot;</span>&gt;<span class="pl-cce">\n</span><span class="pl-pds">&quot;</span></span>,</div>
                </div>
                <div class="d-flex flex-justify-start flex-items-start">
                  <div class="blob-num blame-blob-num bg-gray-light js-line-number" id="L545">545</div>
                  <div class="blob-code blob-code-inner js-file-line" id="LC545">              <span class="pl-s"><span class="pl-pds">&quot;</span>  &lt;thead&gt;<span class="pl-cce">\n</span><span class="pl-pds">&quot;</span></span>,</div>
                </div>
                <div class="d-flex flex-justify-start flex-items-start">
                  <div class="blob-num blame-blob-num bg-gray-light js-line-number" id="L546">546</div>
                  <div class="blob-code blob-code-inner js-file-line" id="LC546">              <span class="pl-s"><span class="pl-pds">&quot;</span>    &lt;tr style=<span class="pl-cce">\&quot;</span>text-align: right;<span class="pl-cce">\&quot;</span>&gt;<span class="pl-cce">\n</span><span class="pl-pds">&quot;</span></span>,</div>
                </div>
                <div class="d-flex flex-justify-start flex-items-start">
                  <div class="blob-num blame-blob-num bg-gray-light js-line-number" id="L547">547</div>
                  <div class="blob-code blob-code-inner js-file-line" id="LC547">              <span class="pl-s"><span class="pl-pds">&quot;</span>      &lt;th&gt;&lt;/th&gt;<span class="pl-cce">\n</span><span class="pl-pds">&quot;</span></span>,</div>
                </div>
                <div class="d-flex flex-justify-start flex-items-start">
                  <div class="blob-num blame-blob-num bg-gray-light js-line-number" id="L548">548</div>
                  <div class="blob-code blob-code-inner js-file-line" id="LC548">              <span class="pl-s"><span class="pl-pds">&quot;</span>      &lt;th&gt;Precipit&lt;/th&gt;<span class="pl-cce">\n</span><span class="pl-pds">&quot;</span></span>,</div>
                </div>
                <div class="d-flex flex-justify-start flex-items-start">
                  <div class="blob-num blame-blob-num bg-gray-light js-line-number" id="L549">549</div>
                  <div class="blob-code blob-code-inner js-file-line" id="LC549">              <span class="pl-s"><span class="pl-pds">&quot;</span>      &lt;th&gt;Evap&lt;/th&gt;<span class="pl-cce">\n</span><span class="pl-pds">&quot;</span></span>,</div>
                </div>
                <div class="d-flex flex-justify-start flex-items-start">
                  <div class="blob-num blame-blob-num bg-gray-light js-line-number" id="L550">550</div>
                  <div class="blob-code blob-code-inner js-file-line" id="LC550">              <span class="pl-s"><span class="pl-pds">&quot;</span>      &lt;th&gt;Tmax&lt;/th&gt;<span class="pl-cce">\n</span><span class="pl-pds">&quot;</span></span>,</div>
                </div>
                <div class="d-flex flex-justify-start flex-items-start">
                  <div class="blob-num blame-blob-num bg-gray-light js-line-number" id="L551">551</div>
                  <div class="blob-code blob-code-inner js-file-line" id="LC551">              <span class="pl-s"><span class="pl-pds">&quot;</span>      &lt;th&gt;Tmin&lt;/th&gt;<span class="pl-cce">\n</span><span class="pl-pds">&quot;</span></span>,</div>
                </div>
                <div class="d-flex flex-justify-start flex-items-start">
                  <div class="blob-num blame-blob-num bg-gray-light js-line-number" id="L552">552</div>
                  <div class="blob-code blob-code-inner js-file-line" id="LC552">              <span class="pl-s"><span class="pl-pds">&quot;</span>    &lt;/tr&gt;<span class="pl-cce">\n</span><span class="pl-pds">&quot;</span></span>,</div>
                </div>
                <div class="d-flex flex-justify-start flex-items-start">
                  <div class="blob-num blame-blob-num bg-gray-light js-line-number" id="L553">553</div>
                  <div class="blob-code blob-code-inner js-file-line" id="LC553">              <span class="pl-s"><span class="pl-pds">&quot;</span>  &lt;/thead&gt;<span class="pl-cce">\n</span><span class="pl-pds">&quot;</span></span>,</div>
                </div>
                <div class="d-flex flex-justify-start flex-items-start">
                  <div class="blob-num blame-blob-num bg-gray-light js-line-number" id="L554">554</div>
                  <div class="blob-code blob-code-inner js-file-line" id="LC554">              <span class="pl-s"><span class="pl-pds">&quot;</span>  &lt;tbody&gt;<span class="pl-cce">\n</span><span class="pl-pds">&quot;</span></span>,</div>
                </div>
                <div class="d-flex flex-justify-start flex-items-start">
                  <div class="blob-num blame-blob-num bg-gray-light js-line-number" id="L555">555</div>
                  <div class="blob-code blob-code-inner js-file-line" id="LC555">              <span class="pl-s"><span class="pl-pds">&quot;</span>    &lt;tr&gt;<span class="pl-cce">\n</span><span class="pl-pds">&quot;</span></span>,</div>
                </div>
                <div class="d-flex flex-justify-start flex-items-start">
                  <div class="blob-num blame-blob-num bg-gray-light js-line-number" id="L556">556</div>
                  <div class="blob-code blob-code-inner js-file-line" id="LC556">              <span class="pl-s"><span class="pl-pds">&quot;</span>      &lt;th&gt;count&lt;/th&gt;<span class="pl-cce">\n</span><span class="pl-pds">&quot;</span></span>,</div>
                </div>
                <div class="d-flex flex-justify-start flex-items-start">
                  <div class="blob-num blame-blob-num bg-gray-light js-line-number" id="L557">557</div>
                  <div class="blob-code blob-code-inner js-file-line" id="LC557">              <span class="pl-s"><span class="pl-pds">&quot;</span>      &lt;td&gt;6774.00&lt;/td&gt;<span class="pl-cce">\n</span><span class="pl-pds">&quot;</span></span>,</div>
                </div>
                <div class="d-flex flex-justify-start flex-items-start">
                  <div class="blob-num blame-blob-num bg-gray-light js-line-number" id="L558">558</div>
                  <div class="blob-code blob-code-inner js-file-line" id="LC558">              <span class="pl-s"><span class="pl-pds">&quot;</span>      &lt;td&gt;823.00&lt;/td&gt;<span class="pl-cce">\n</span><span class="pl-pds">&quot;</span></span>,</div>
                </div>
                <div class="d-flex flex-justify-start flex-items-start">
                  <div class="blob-num blame-blob-num bg-gray-light js-line-number" id="L559">559</div>
                  <div class="blob-code blob-code-inner js-file-line" id="LC559">              <span class="pl-s"><span class="pl-pds">&quot;</span>      &lt;td&gt;6818.00&lt;/td&gt;<span class="pl-cce">\n</span><span class="pl-pds">&quot;</span></span>,</div>
                </div>
                <div class="d-flex flex-justify-start flex-items-start">
                  <div class="blob-num blame-blob-num bg-gray-light js-line-number" id="L560">560</div>
                  <div class="blob-code blob-code-inner js-file-line" id="LC560">              <span class="pl-s"><span class="pl-pds">&quot;</span>      &lt;td&gt;6812.00&lt;/td&gt;<span class="pl-cce">\n</span><span class="pl-pds">&quot;</span></span>,</div>
                </div>
                <div class="d-flex flex-justify-start flex-items-start">
                  <div class="blob-num blame-blob-num bg-gray-light js-line-number" id="L561">561</div>
                  <div class="blob-code blob-code-inner js-file-line" id="LC561">              <span class="pl-s"><span class="pl-pds">&quot;</span>    &lt;/tr&gt;<span class="pl-cce">\n</span><span class="pl-pds">&quot;</span></span>,</div>
                </div>
                <div class="d-flex flex-justify-start flex-items-start">
                  <div class="blob-num blame-blob-num bg-gray-light js-line-number" id="L562">562</div>
                  <div class="blob-code blob-code-inner js-file-line" id="LC562">              <span class="pl-s"><span class="pl-pds">&quot;</span>    &lt;tr&gt;<span class="pl-cce">\n</span><span class="pl-pds">&quot;</span></span>,</div>
                </div>
                <div class="d-flex flex-justify-start flex-items-start">
                  <div class="blob-num blame-blob-num bg-gray-light js-line-number" id="L563">563</div>
                  <div class="blob-code blob-code-inner js-file-line" id="LC563">              <span class="pl-s"><span class="pl-pds">&quot;</span>      &lt;th&gt;mean&lt;/th&gt;<span class="pl-cce">\n</span><span class="pl-pds">&quot;</span></span>,</div>
                </div>
                <div class="d-flex flex-justify-start flex-items-start">
                  <div class="blob-num blame-blob-num bg-gray-light js-line-number" id="L564">564</div>
                  <div class="blob-code blob-code-inner js-file-line" id="LC564">              <span class="pl-s"><span class="pl-pds">&quot;</span>      &lt;td&gt;0.58&lt;/td&gt;<span class="pl-cce">\n</span><span class="pl-pds">&quot;</span></span>,</div>
                </div>
                <div class="d-flex flex-justify-start flex-items-start">
                  <div class="blob-num blame-blob-num bg-gray-light js-line-number" id="L565">565</div>
                  <div class="blob-code blob-code-inner js-file-line" id="LC565">              <span class="pl-s"><span class="pl-pds">&quot;</span>      &lt;td&gt;8.48&lt;/td&gt;<span class="pl-cce">\n</span><span class="pl-pds">&quot;</span></span>,</div>
                </div>
                <div class="d-flex flex-justify-start flex-items-start">
                  <div class="blob-num blame-blob-num bg-gray-light js-line-number" id="L566">566</div>
                  <div class="blob-code blob-code-inner js-file-line" id="LC566">              <span class="pl-s"><span class="pl-pds">&quot;</span>      &lt;td&gt;32.75&lt;/td&gt;<span class="pl-cce">\n</span><span class="pl-pds">&quot;</span></span>,</div>
                </div>
                <div class="d-flex flex-justify-start flex-items-start">
                  <div class="blob-num blame-blob-num bg-gray-light js-line-number" id="L567">567</div>
                  <div class="blob-code blob-code-inner js-file-line" id="LC567">              <span class="pl-s"><span class="pl-pds">&quot;</span>      &lt;td&gt;15.11&lt;/td&gt;<span class="pl-cce">\n</span><span class="pl-pds">&quot;</span></span>,</div>
                </div>
                <div class="d-flex flex-justify-start flex-items-start">
                  <div class="blob-num blame-blob-num bg-gray-light js-line-number" id="L568">568</div>
                  <div class="blob-code blob-code-inner js-file-line" id="LC568">              <span class="pl-s"><span class="pl-pds">&quot;</span>    &lt;/tr&gt;<span class="pl-cce">\n</span><span class="pl-pds">&quot;</span></span>,</div>
                </div>
                <div class="d-flex flex-justify-start flex-items-start">
                  <div class="blob-num blame-blob-num bg-gray-light js-line-number" id="L569">569</div>
                  <div class="blob-code blob-code-inner js-file-line" id="LC569">              <span class="pl-s"><span class="pl-pds">&quot;</span>    &lt;tr&gt;<span class="pl-cce">\n</span><span class="pl-pds">&quot;</span></span>,</div>
                </div>
                <div class="d-flex flex-justify-start flex-items-start">
                  <div class="blob-num blame-blob-num bg-gray-light js-line-number" id="L570">570</div>
                  <div class="blob-code blob-code-inner js-file-line" id="LC570">              <span class="pl-s"><span class="pl-pds">&quot;</span>      &lt;th&gt;std&lt;/th&gt;<span class="pl-cce">\n</span><span class="pl-pds">&quot;</span></span>,</div>
                </div>
                <div class="d-flex flex-justify-start flex-items-start">
                  <div class="blob-num blame-blob-num bg-gray-light js-line-number" id="L571">571</div>
                  <div class="blob-code blob-code-inner js-file-line" id="LC571">              <span class="pl-s"><span class="pl-pds">&quot;</span>      &lt;td&gt;4.68&lt;/td&gt;<span class="pl-cce">\n</span><span class="pl-pds">&quot;</span></span>,</div>
                </div>
                <div class="d-flex flex-justify-start flex-items-start">
                  <div class="blob-num blame-blob-num bg-gray-light js-line-number" id="L572">572</div>
                  <div class="blob-code blob-code-inner js-file-line" id="LC572">              <span class="pl-s"><span class="pl-pds">&quot;</span>      &lt;td&gt;3.20&lt;/td&gt;<span class="pl-cce">\n</span><span class="pl-pds">&quot;</span></span>,</div>
                </div>
                <div class="d-flex flex-justify-start flex-items-start">
                  <div class="blob-num blame-blob-num bg-gray-light js-line-number" id="L573">573</div>
                  <div class="blob-code blob-code-inner js-file-line" id="LC573">              <span class="pl-s"><span class="pl-pds">&quot;</span>      &lt;td&gt;5.85&lt;/td&gt;<span class="pl-cce">\n</span><span class="pl-pds">&quot;</span></span>,</div>
                </div>
                <div class="d-flex flex-justify-start flex-items-start">
                  <div class="blob-num blame-blob-num bg-gray-light js-line-number" id="L574">574</div>
                  <div class="blob-code blob-code-inner js-file-line" id="LC574">              <span class="pl-s"><span class="pl-pds">&quot;</span>      &lt;td&gt;6.72&lt;/td&gt;<span class="pl-cce">\n</span><span class="pl-pds">&quot;</span></span>,</div>
                </div>
                <div class="d-flex flex-justify-start flex-items-start">
                  <div class="blob-num blame-blob-num bg-gray-light js-line-number" id="L575">575</div>
                  <div class="blob-code blob-code-inner js-file-line" id="LC575">              <span class="pl-s"><span class="pl-pds">&quot;</span>    &lt;/tr&gt;<span class="pl-cce">\n</span><span class="pl-pds">&quot;</span></span>,</div>
                </div>
                <div class="d-flex flex-justify-start flex-items-start">
                  <div class="blob-num blame-blob-num bg-gray-light js-line-number" id="L576">576</div>
                  <div class="blob-code blob-code-inner js-file-line" id="LC576">              <span class="pl-s"><span class="pl-pds">&quot;</span>    &lt;tr&gt;<span class="pl-cce">\n</span><span class="pl-pds">&quot;</span></span>,</div>
                </div>
                <div class="d-flex flex-justify-start flex-items-start">
                  <div class="blob-num blame-blob-num bg-gray-light js-line-number" id="L577">577</div>
                  <div class="blob-code blob-code-inner js-file-line" id="LC577">              <span class="pl-s"><span class="pl-pds">&quot;</span>      &lt;th&gt;min&lt;/th&gt;<span class="pl-cce">\n</span><span class="pl-pds">&quot;</span></span>,</div>
                </div>
                <div class="d-flex flex-justify-start flex-items-start">
                  <div class="blob-num blame-blob-num bg-gray-light js-line-number" id="L578">578</div>
                  <div class="blob-code blob-code-inner js-file-line" id="LC578">              <span class="pl-s"><span class="pl-pds">&quot;</span>      &lt;td&gt;0.00&lt;/td&gt;<span class="pl-cce">\n</span><span class="pl-pds">&quot;</span></span>,</div>
                </div>
                <div class="d-flex flex-justify-start flex-items-start">
                  <div class="blob-num blame-blob-num bg-gray-light js-line-number" id="L579">579</div>
                  <div class="blob-code blob-code-inner js-file-line" id="LC579">              <span class="pl-s"><span class="pl-pds">&quot;</span>      &lt;td&gt;0.10&lt;/td&gt;<span class="pl-cce">\n</span><span class="pl-pds">&quot;</span></span>,</div>
                </div>
                <div class="d-flex flex-justify-start flex-items-start">
                  <div class="blob-num blame-blob-num bg-gray-light js-line-number" id="L580">580</div>
                  <div class="blob-code blob-code-inner js-file-line" id="LC580">              <span class="pl-s"><span class="pl-pds">&quot;</span>      &lt;td&gt;6.00&lt;/td&gt;<span class="pl-cce">\n</span><span class="pl-pds">&quot;</span></span>,</div>
                </div>
                <div class="d-flex flex-justify-start flex-items-start">
                  <div class="blob-num blame-blob-num bg-gray-light js-line-number" id="L581">581</div>
                  <div class="blob-code blob-code-inner js-file-line" id="LC581">              <span class="pl-s"><span class="pl-pds">&quot;</span>      &lt;td&gt;-1.00&lt;/td&gt;<span class="pl-cce">\n</span><span class="pl-pds">&quot;</span></span>,</div>
                </div>
                <div class="d-flex flex-justify-start flex-items-start">
                  <div class="blob-num blame-blob-num bg-gray-light js-line-number" id="L582">582</div>
                  <div class="blob-code blob-code-inner js-file-line" id="LC582">              <span class="pl-s"><span class="pl-pds">&quot;</span>    &lt;/tr&gt;<span class="pl-cce">\n</span><span class="pl-pds">&quot;</span></span>,</div>
                </div>
                <div class="d-flex flex-justify-start flex-items-start">
                  <div class="blob-num blame-blob-num bg-gray-light js-line-number" id="L583">583</div>
                  <div class="blob-code blob-code-inner js-file-line" id="LC583">              <span class="pl-s"><span class="pl-pds">&quot;</span>    &lt;tr&gt;<span class="pl-cce">\n</span><span class="pl-pds">&quot;</span></span>,</div>
                </div>
                <div class="d-flex flex-justify-start flex-items-start">
                  <div class="blob-num blame-blob-num bg-gray-light js-line-number" id="L584">584</div>
                  <div class="blob-code blob-code-inner js-file-line" id="LC584">              <span class="pl-s"><span class="pl-pds">&quot;</span>      &lt;th&gt;25%&lt;/th&gt;<span class="pl-cce">\n</span><span class="pl-pds">&quot;</span></span>,</div>
                </div>
                <div class="d-flex flex-justify-start flex-items-start">
                  <div class="blob-num blame-blob-num bg-gray-light js-line-number" id="L585">585</div>
                  <div class="blob-code blob-code-inner js-file-line" id="LC585">              <span class="pl-s"><span class="pl-pds">&quot;</span>      &lt;td&gt;0.00&lt;/td&gt;<span class="pl-cce">\n</span><span class="pl-pds">&quot;</span></span>,</div>
                </div>
                <div class="d-flex flex-justify-start flex-items-start">
                  <div class="blob-num blame-blob-num bg-gray-light js-line-number" id="L586">586</div>
                  <div class="blob-code blob-code-inner js-file-line" id="LC586">              <span class="pl-s"><span class="pl-pds">&quot;</span>      &lt;td&gt;6.10&lt;/td&gt;<span class="pl-cce">\n</span><span class="pl-pds">&quot;</span></span>,</div>
                </div>
                <div class="d-flex flex-justify-start flex-items-start">
                  <div class="blob-num blame-blob-num bg-gray-light js-line-number" id="L587">587</div>
                  <div class="blob-code blob-code-inner js-file-line" id="LC587">              <span class="pl-s"><span class="pl-pds">&quot;</span>      &lt;td&gt;28.00&lt;/td&gt;<span class="pl-cce">\n</span><span class="pl-pds">&quot;</span></span>,</div>
                </div>
                <div class="d-flex flex-justify-start flex-items-start">
                  <div class="blob-num blame-blob-num bg-gray-light js-line-number" id="L588">588</div>
                  <div class="blob-code blob-code-inner js-file-line" id="LC588">              <span class="pl-s"><span class="pl-pds">&quot;</span>      &lt;td&gt;10.00&lt;/td&gt;<span class="pl-cce">\n</span><span class="pl-pds">&quot;</span></span>,</div>
                </div>
                <div class="d-flex flex-justify-start flex-items-start">
                  <div class="blob-num blame-blob-num bg-gray-light js-line-number" id="L589">589</div>
                  <div class="blob-code blob-code-inner js-file-line" id="LC589">              <span class="pl-s"><span class="pl-pds">&quot;</span>    &lt;/tr&gt;<span class="pl-cce">\n</span><span class="pl-pds">&quot;</span></span>,</div>
                </div>
                <div class="d-flex flex-justify-start flex-items-start">
                  <div class="blob-num blame-blob-num bg-gray-light js-line-number" id="L590">590</div>
                  <div class="blob-code blob-code-inner js-file-line" id="LC590">              <span class="pl-s"><span class="pl-pds">&quot;</span>    &lt;tr&gt;<span class="pl-cce">\n</span><span class="pl-pds">&quot;</span></span>,</div>
                </div>
                <div class="d-flex flex-justify-start flex-items-start">
                  <div class="blob-num blame-blob-num bg-gray-light js-line-number" id="L591">591</div>
                  <div class="blob-code blob-code-inner js-file-line" id="LC591">              <span class="pl-s"><span class="pl-pds">&quot;</span>      &lt;th&gt;50%&lt;/th&gt;<span class="pl-cce">\n</span><span class="pl-pds">&quot;</span></span>,</div>
                </div>
                <div class="d-flex flex-justify-start flex-items-start">
                  <div class="blob-num blame-blob-num bg-gray-light js-line-number" id="L592">592</div>
                  <div class="blob-code blob-code-inner js-file-line" id="LC592">              <span class="pl-s"><span class="pl-pds">&quot;</span>      &lt;td&gt;0.00&lt;/td&gt;<span class="pl-cce">\n</span><span class="pl-pds">&quot;</span></span>,</div>
                </div>
                <div class="d-flex flex-justify-start flex-items-start">
                  <div class="blob-num blame-blob-num bg-gray-light js-line-number" id="L593">593</div>
                  <div class="blob-code blob-code-inner js-file-line" id="LC593">              <span class="pl-s"><span class="pl-pds">&quot;</span>      &lt;td&gt;8.60&lt;/td&gt;<span class="pl-cce">\n</span><span class="pl-pds">&quot;</span></span>,</div>
                </div>
                <div class="d-flex flex-justify-start flex-items-start">
                  <div class="blob-num blame-blob-num bg-gray-light js-line-number" id="L594">594</div>
                  <div class="blob-code blob-code-inner js-file-line" id="LC594">              <span class="pl-s"><span class="pl-pds">&quot;</span>      &lt;td&gt;34.00&lt;/td&gt;<span class="pl-cce">\n</span><span class="pl-pds">&quot;</span></span>,</div>
                </div>
                <div class="d-flex flex-justify-start flex-items-start">
                  <div class="blob-num blame-blob-num bg-gray-light js-line-number" id="L595">595</div>
                  <div class="blob-code blob-code-inner js-file-line" id="LC595">              <span class="pl-s"><span class="pl-pds">&quot;</span>      &lt;td&gt;14.00&lt;/td&gt;<span class="pl-cce">\n</span><span class="pl-pds">&quot;</span></span>,</div>
                </div>
                <div class="d-flex flex-justify-start flex-items-start">
                  <div class="blob-num blame-blob-num bg-gray-light js-line-number" id="L596">596</div>
                  <div class="blob-code blob-code-inner js-file-line" id="LC596">              <span class="pl-s"><span class="pl-pds">&quot;</span>    &lt;/tr&gt;<span class="pl-cce">\n</span><span class="pl-pds">&quot;</span></span>,</div>
                </div>
                <div class="d-flex flex-justify-start flex-items-start">
                  <div class="blob-num blame-blob-num bg-gray-light js-line-number" id="L597">597</div>
                  <div class="blob-code blob-code-inner js-file-line" id="LC597">              <span class="pl-s"><span class="pl-pds">&quot;</span>    &lt;tr&gt;<span class="pl-cce">\n</span><span class="pl-pds">&quot;</span></span>,</div>
                </div>
                <div class="d-flex flex-justify-start flex-items-start">
                  <div class="blob-num blame-blob-num bg-gray-light js-line-number" id="L598">598</div>
                  <div class="blob-code blob-code-inner js-file-line" id="LC598">              <span class="pl-s"><span class="pl-pds">&quot;</span>      &lt;th&gt;75%&lt;/th&gt;<span class="pl-cce">\n</span><span class="pl-pds">&quot;</span></span>,</div>
                </div>
                <div class="d-flex flex-justify-start flex-items-start">
                  <div class="blob-num blame-blob-num bg-gray-light js-line-number" id="L599">599</div>
                  <div class="blob-code blob-code-inner js-file-line" id="LC599">              <span class="pl-s"><span class="pl-pds">&quot;</span>      &lt;td&gt;0.00&lt;/td&gt;<span class="pl-cce">\n</span><span class="pl-pds">&quot;</span></span>,</div>
                </div>
                <div class="d-flex flex-justify-start flex-items-start">
                  <div class="blob-num blame-blob-num bg-gray-light js-line-number" id="L600">600</div>
                  <div class="blob-code blob-code-inner js-file-line" id="LC600">              <span class="pl-s"><span class="pl-pds">&quot;</span>      &lt;td&gt;10.70&lt;/td&gt;<span class="pl-cce">\n</span><span class="pl-pds">&quot;</span></span>,</div>
                </div>
                <div class="d-flex flex-justify-start flex-items-start">
                  <div class="blob-num blame-blob-num bg-gray-light js-line-number" id="L601">601</div>
                  <div class="blob-code blob-code-inner js-file-line" id="LC601">              <span class="pl-s"><span class="pl-pds">&quot;</span>      &lt;td&gt;38.00&lt;/td&gt;<span class="pl-cce">\n</span><span class="pl-pds">&quot;</span></span>,</div>
                </div>
                <div class="d-flex flex-justify-start flex-items-start">
                  <div class="blob-num blame-blob-num bg-gray-light js-line-number" id="L602">602</div>
                  <div class="blob-code blob-code-inner js-file-line" id="LC602">              <span class="pl-s"><span class="pl-pds">&quot;</span>      &lt;td&gt;22.00&lt;/td&gt;<span class="pl-cce">\n</span><span class="pl-pds">&quot;</span></span>,</div>
                </div>
                <div class="d-flex flex-justify-start flex-items-start">
                  <div class="blob-num blame-blob-num bg-gray-light js-line-number" id="L603">603</div>
                  <div class="blob-code blob-code-inner js-file-line" id="LC603">              <span class="pl-s"><span class="pl-pds">&quot;</span>    &lt;/tr&gt;<span class="pl-cce">\n</span><span class="pl-pds">&quot;</span></span>,</div>
                </div>
                <div class="d-flex flex-justify-start flex-items-start">
                  <div class="blob-num blame-blob-num bg-gray-light js-line-number" id="L604">604</div>
                  <div class="blob-code blob-code-inner js-file-line" id="LC604">              <span class="pl-s"><span class="pl-pds">&quot;</span>    &lt;tr&gt;<span class="pl-cce">\n</span><span class="pl-pds">&quot;</span></span>,</div>
                </div>
                <div class="d-flex flex-justify-start flex-items-start">
                  <div class="blob-num blame-blob-num bg-gray-light js-line-number" id="L605">605</div>
                  <div class="blob-code blob-code-inner js-file-line" id="LC605">              <span class="pl-s"><span class="pl-pds">&quot;</span>      &lt;th&gt;max&lt;/th&gt;<span class="pl-cce">\n</span><span class="pl-pds">&quot;</span></span>,</div>
                </div>
                <div class="d-flex flex-justify-start flex-items-start">
                  <div class="blob-num blame-blob-num bg-gray-light js-line-number" id="L606">606</div>
                  <div class="blob-code blob-code-inner js-file-line" id="LC606">              <span class="pl-s"><span class="pl-pds">&quot;</span>      &lt;td&gt;180.00&lt;/td&gt;<span class="pl-cce">\n</span><span class="pl-pds">&quot;</span></span>,</div>
                </div>
                <div class="d-flex flex-justify-start flex-items-start">
                  <div class="blob-num blame-blob-num bg-gray-light js-line-number" id="L607">607</div>
                  <div class="blob-code blob-code-inner js-file-line" id="LC607">              <span class="pl-s"><span class="pl-pds">&quot;</span>      &lt;td&gt;17.90&lt;/td&gt;<span class="pl-cce">\n</span><span class="pl-pds">&quot;</span></span>,</div>
                </div>
                <div class="d-flex flex-justify-start flex-items-start">
                  <div class="blob-num blame-blob-num bg-gray-light js-line-number" id="L608">608</div>
                  <div class="blob-code blob-code-inner js-file-line" id="LC608">              <span class="pl-s"><span class="pl-pds">&quot;</span>      &lt;td&gt;46.00&lt;/td&gt;<span class="pl-cce">\n</span><span class="pl-pds">&quot;</span></span>,</div>
                </div>
                <div class="d-flex flex-justify-start flex-items-start">
                  <div class="blob-num blame-blob-num bg-gray-light js-line-number" id="L609">609</div>
                  <div class="blob-code blob-code-inner js-file-line" id="LC609">              <span class="pl-s"><span class="pl-pds">&quot;</span>      &lt;td&gt;31.00&lt;/td&gt;<span class="pl-cce">\n</span><span class="pl-pds">&quot;</span></span>,</div>
                </div>
                <div class="d-flex flex-justify-start flex-items-start">
                  <div class="blob-num blame-blob-num bg-gray-light js-line-number" id="L610">610</div>
                  <div class="blob-code blob-code-inner js-file-line" id="LC610">              <span class="pl-s"><span class="pl-pds">&quot;</span>    &lt;/tr&gt;<span class="pl-cce">\n</span><span class="pl-pds">&quot;</span></span>,</div>
                </div>
                <div class="d-flex flex-justify-start flex-items-start">
                  <div class="blob-num blame-blob-num bg-gray-light js-line-number" id="L611">611</div>
                  <div class="blob-code blob-code-inner js-file-line" id="LC611">              <span class="pl-s"><span class="pl-pds">&quot;</span>  &lt;/tbody&gt;<span class="pl-cce">\n</span><span class="pl-pds">&quot;</span></span>,</div>
                </div>
                <div class="d-flex flex-justify-start flex-items-start">
                  <div class="blob-num blame-blob-num bg-gray-light js-line-number" id="L612">612</div>
                  <div class="blob-code blob-code-inner js-file-line" id="LC612">              <span class="pl-s"><span class="pl-pds">&quot;</span>&lt;/table&gt;<span class="pl-cce">\n</span><span class="pl-pds">&quot;</span></span>,</div>
                </div>
                <div class="d-flex flex-justify-start flex-items-start">
                  <div class="blob-num blame-blob-num bg-gray-light js-line-number" id="L613">613</div>
                  <div class="blob-code blob-code-inner js-file-line" id="LC613">              <span class="pl-s"><span class="pl-pds">&quot;</span>&lt;/div&gt;<span class="pl-pds">&quot;</span></span></div>
                </div>
                <div class="d-flex flex-justify-start flex-items-start">
                  <div class="blob-num blame-blob-num bg-gray-light js-line-number" id="L614">614</div>
                  <div class="blob-code blob-code-inner js-file-line" id="LC614">            ],</div>
                </div>
                <div class="d-flex flex-justify-start flex-items-start">
                  <div class="blob-num blame-blob-num bg-gray-light js-line-number" id="L615">615</div>
                  <div class="blob-code blob-code-inner js-file-line" id="LC615">            <span class="pl-s"><span class="pl-pds">&quot;</span>text/plain<span class="pl-pds">&quot;</span></span>: [</div>
                </div>
                <div class="d-flex flex-justify-start flex-items-start">
                  <div class="blob-num blame-blob-num bg-gray-light js-line-number" id="L616">616</div>
                  <div class="blob-code blob-code-inner js-file-line" id="LC616">              <span class="pl-s"><span class="pl-pds">&quot;</span>       Precipit    Evap     Tmax     Tmin<span class="pl-cce">\n</span><span class="pl-pds">&quot;</span></span>,</div>
                </div>
                <div class="d-flex flex-justify-start flex-items-start">
                  <div class="blob-num blame-blob-num bg-gray-light js-line-number" id="L617">617</div>
                  <div class="blob-code blob-code-inner js-file-line" id="LC617">              <span class="pl-s"><span class="pl-pds">&quot;</span>count   6774.00  823.00  6818.00  6812.00<span class="pl-cce">\n</span><span class="pl-pds">&quot;</span></span>,</div>
                </div>
                <div class="d-flex flex-justify-start flex-items-start">
                  <div class="blob-num blame-blob-num bg-gray-light js-line-number" id="L618">618</div>
                  <div class="blob-code blob-code-inner js-file-line" id="LC618">              <span class="pl-s"><span class="pl-pds">&quot;</span>mean       0.58    8.48    32.75    15.11<span class="pl-cce">\n</span><span class="pl-pds">&quot;</span></span>,</div>
                </div>
                <div class="d-flex flex-justify-start flex-items-start">
                  <div class="blob-num blame-blob-num bg-gray-light js-line-number" id="L619">619</div>
                  <div class="blob-code blob-code-inner js-file-line" id="LC619">              <span class="pl-s"><span class="pl-pds">&quot;</span>std        4.68    3.20     5.85     6.72<span class="pl-cce">\n</span><span class="pl-pds">&quot;</span></span>,</div>
                </div>
                <div class="d-flex flex-justify-start flex-items-start">
                  <div class="blob-num blame-blob-num bg-gray-light js-line-number" id="L620">620</div>
                  <div class="blob-code blob-code-inner js-file-line" id="LC620">              <span class="pl-s"><span class="pl-pds">&quot;</span>min        0.00    0.10     6.00    -1.00<span class="pl-cce">\n</span><span class="pl-pds">&quot;</span></span>,</div>
                </div>
                <div class="d-flex flex-justify-start flex-items-start">
                  <div class="blob-num blame-blob-num bg-gray-light js-line-number" id="L621">621</div>
                  <div class="blob-code blob-code-inner js-file-line" id="LC621">              <span class="pl-s"><span class="pl-pds">&quot;</span>25%        0.00    6.10    28.00    10.00<span class="pl-cce">\n</span><span class="pl-pds">&quot;</span></span>,</div>
                </div>
                <div class="d-flex flex-justify-start flex-items-start">
                  <div class="blob-num blame-blob-num bg-gray-light js-line-number" id="L622">622</div>
                  <div class="blob-code blob-code-inner js-file-line" id="LC622">              <span class="pl-s"><span class="pl-pds">&quot;</span>50%        0.00    8.60    34.00    14.00<span class="pl-cce">\n</span><span class="pl-pds">&quot;</span></span>,</div>
                </div>
                <div class="d-flex flex-justify-start flex-items-start">
                  <div class="blob-num blame-blob-num bg-gray-light js-line-number" id="L623">623</div>
                  <div class="blob-code blob-code-inner js-file-line" id="LC623">              <span class="pl-s"><span class="pl-pds">&quot;</span>75%        0.00   10.70    38.00    22.00<span class="pl-cce">\n</span><span class="pl-pds">&quot;</span></span>,</div>
                </div>
                <div class="d-flex flex-justify-start flex-items-start">
                  <div class="blob-num blame-blob-num bg-gray-light js-line-number" id="L624">624</div>
                  <div class="blob-code blob-code-inner js-file-line" id="LC624">              <span class="pl-s"><span class="pl-pds">&quot;</span>max      180.00   17.90    46.00    31.00<span class="pl-pds">&quot;</span></span></div>
                </div>
                <div class="d-flex flex-justify-start flex-items-start">
                  <div class="blob-num blame-blob-num bg-gray-light js-line-number" id="L625">625</div>
                  <div class="blob-code blob-code-inner js-file-line" id="LC625">            ]</div>
                </div>
                <div class="d-flex flex-justify-start flex-items-start">
                  <div class="blob-num blame-blob-num bg-gray-light js-line-number" id="L626">626</div>
                  <div class="blob-code blob-code-inner js-file-line" id="LC626">          },</div>
                </div>
                <div class="d-flex flex-justify-start flex-items-start">
                  <div class="blob-num blame-blob-num bg-gray-light js-line-number" id="L627">627</div>
                  <div class="blob-code blob-code-inner js-file-line" id="LC627">          <span class="pl-s"><span class="pl-pds">&quot;</span>metadata<span class="pl-pds">&quot;</span></span>: {</div>
                </div>
                <div class="d-flex flex-justify-start flex-items-start">
                  <div class="blob-num blame-blob-num bg-gray-light js-line-number" id="L628">628</div>
                  <div class="blob-code blob-code-inner js-file-line" id="LC628">            <span class="pl-s"><span class="pl-pds">&quot;</span>tags<span class="pl-pds">&quot;</span></span>: []</div>
                </div>
                <div class="d-flex flex-justify-start flex-items-start">
                  <div class="blob-num blame-blob-num bg-gray-light js-line-number" id="L629">629</div>
                  <div class="blob-code blob-code-inner js-file-line" id="LC629">          },</div>
                </div>
                <div class="d-flex flex-justify-start flex-items-start">
                  <div class="blob-num blame-blob-num bg-gray-light js-line-number" id="L630">630</div>
                  <div class="blob-code blob-code-inner js-file-line" id="LC630">          <span class="pl-s"><span class="pl-pds">&quot;</span>execution_count<span class="pl-pds">&quot;</span></span>: <span class="pl-c1">44</span></div>
                </div>
                <div class="d-flex flex-justify-start flex-items-start">
                  <div class="blob-num blame-blob-num bg-gray-light js-line-number" id="L631">631</div>
                  <div class="blob-code blob-code-inner js-file-line" id="LC631">        }</div>
                </div>
                <div class="d-flex flex-justify-start flex-items-start">
                  <div class="blob-num blame-blob-num bg-gray-light js-line-number" id="L632">632</div>
                  <div class="blob-code blob-code-inner js-file-line" id="LC632">      ]</div>
                </div>
                <div class="d-flex flex-justify-start flex-items-start">
                  <div class="blob-num blame-blob-num bg-gray-light js-line-number" id="L633">633</div>
                  <div class="blob-code blob-code-inner js-file-line" id="LC633">    },</div>
                </div>
                <div class="d-flex flex-justify-start flex-items-start">
                  <div class="blob-num blame-blob-num bg-gray-light js-line-number" id="L634">634</div>
                  <div class="blob-code blob-code-inner js-file-line" id="LC634">    {</div>
                </div>
                <div class="d-flex flex-justify-start flex-items-start">
                  <div class="blob-num blame-blob-num bg-gray-light js-line-number" id="L635">635</div>
                  <div class="blob-code blob-code-inner js-file-line" id="LC635">      <span class="pl-s"><span class="pl-pds">&quot;</span>cell_type<span class="pl-pds">&quot;</span></span>: <span class="pl-s"><span class="pl-pds">&quot;</span>code<span class="pl-pds">&quot;</span></span>,</div>
                </div>
                <div class="d-flex flex-justify-start flex-items-start">
                  <div class="blob-num blame-blob-num bg-gray-light js-line-number" id="L636">636</div>
                  <div class="blob-code blob-code-inner js-file-line" id="LC636">      <span class="pl-s"><span class="pl-pds">&quot;</span>metadata<span class="pl-pds">&quot;</span></span>: {</div>
                </div>
                <div class="d-flex flex-justify-start flex-items-start">
                  <div class="blob-num blame-blob-num bg-gray-light js-line-number" id="L637">637</div>
                  <div class="blob-code blob-code-inner js-file-line" id="LC637">        <span class="pl-s"><span class="pl-pds">&quot;</span>colab<span class="pl-pds">&quot;</span></span>: {</div>
                </div>
                <div class="d-flex flex-justify-start flex-items-start">
                  <div class="blob-num blame-blob-num bg-gray-light js-line-number" id="L638">638</div>
                  <div class="blob-code blob-code-inner js-file-line" id="LC638">          <span class="pl-s"><span class="pl-pds">&quot;</span>base_uri<span class="pl-pds">&quot;</span></span>: <span class="pl-s"><span class="pl-pds">&quot;</span>https://localhost:8080/<span class="pl-pds">&quot;</span></span></div>
                </div>
                <div class="d-flex flex-justify-start flex-items-start">
                  <div class="blob-num blame-blob-num bg-gray-light js-line-number" id="L639">639</div>
                  <div class="blob-code blob-code-inner js-file-line" id="LC639">        },</div>
                </div>
                <div class="d-flex flex-justify-start flex-items-start">
                  <div class="blob-num blame-blob-num bg-gray-light js-line-number" id="L640">640</div>
                  <div class="blob-code blob-code-inner js-file-line" id="LC640">        <span class="pl-s"><span class="pl-pds">&quot;</span>id<span class="pl-pds">&quot;</span></span>: <span class="pl-s"><span class="pl-pds">&quot;</span>fx9g2ZDzM6w4<span class="pl-pds">&quot;</span></span>,</div>
                </div>
                <div class="d-flex flex-justify-start flex-items-start">
                  <div class="blob-num blame-blob-num bg-gray-light js-line-number" id="L641">641</div>
                  <div class="blob-code blob-code-inner js-file-line" id="LC641">        <span class="pl-s"><span class="pl-pds">&quot;</span>outputId<span class="pl-pds">&quot;</span></span>: <span class="pl-s"><span class="pl-pds">&quot;</span>08f21c13-ef12-4842-8f59-4dae91ce974b<span class="pl-pds">&quot;</span></span></div>
                </div>
                <div class="d-flex flex-justify-start flex-items-start">
                  <div class="blob-num blame-blob-num bg-gray-light js-line-number" id="L642">642</div>
                  <div class="blob-code blob-code-inner js-file-line" id="LC642">      },</div>
                </div>
                <div class="d-flex flex-justify-start flex-items-start">
                  <div class="blob-num blame-blob-num bg-gray-light js-line-number" id="L643">643</div>
                  <div class="blob-code blob-code-inner js-file-line" id="LC643">      <span class="pl-s"><span class="pl-pds">&quot;</span>source<span class="pl-pds">&quot;</span></span>: [</div>
                </div>
                <div class="d-flex flex-justify-start flex-items-start">
                  <div class="blob-num blame-blob-num bg-gray-light js-line-number" id="L644">644</div>
                  <div class="blob-code blob-code-inner js-file-line" id="LC644">        <span class="pl-s"><span class="pl-pds">&quot;</span>print(df_work1.head())<span class="pl-cce">\r\n</span><span class="pl-pds">&quot;</span></span>,</div>
                </div>
                <div class="d-flex flex-justify-start flex-items-start">
                  <div class="blob-num blame-blob-num bg-gray-light js-line-number" id="L645">645</div>
                  <div class="blob-code blob-code-inner js-file-line" id="LC645">        <span class="pl-s"><span class="pl-pds">&quot;</span>print(df_work1.tail())<span class="pl-pds">&quot;</span></span></div>
                </div>
                <div class="d-flex flex-justify-start flex-items-start">
                  <div class="blob-num blame-blob-num bg-gray-light js-line-number" id="L646">646</div>
                  <div class="blob-code blob-code-inner js-file-line" id="LC646">      ],</div>
                </div>
                <div class="d-flex flex-justify-start flex-items-start">
                  <div class="blob-num blame-blob-num bg-gray-light js-line-number" id="L647">647</div>
                  <div class="blob-code blob-code-inner js-file-line" id="LC647">      <span class="pl-s"><span class="pl-pds">&quot;</span>execution_count<span class="pl-pds">&quot;</span></span>: <span class="pl-c1">45</span>,</div>
                </div>
                <div class="d-flex flex-justify-start flex-items-start">
                  <div class="blob-num blame-blob-num bg-gray-light js-line-number" id="L648">648</div>
                  <div class="blob-code blob-code-inner js-file-line" id="LC648">      <span class="pl-s"><span class="pl-pds">&quot;</span>outputs<span class="pl-pds">&quot;</span></span>: [</div>
                </div>
                <div class="d-flex flex-justify-start flex-items-start">
                  <div class="blob-num blame-blob-num bg-gray-light js-line-number" id="L649">649</div>
                  <div class="blob-code blob-code-inner js-file-line" id="LC649">        {</div>
                </div>
                <div class="d-flex flex-justify-start flex-items-start">
                  <div class="blob-num blame-blob-num bg-gray-light js-line-number" id="L650">650</div>
                  <div class="blob-code blob-code-inner js-file-line" id="LC650">          <span class="pl-s"><span class="pl-pds">&quot;</span>output_type<span class="pl-pds">&quot;</span></span>: <span class="pl-s"><span class="pl-pds">&quot;</span>stream<span class="pl-pds">&quot;</span></span>,</div>
                </div>
                <div class="d-flex flex-justify-start flex-items-start">
                  <div class="blob-num blame-blob-num bg-gray-light js-line-number" id="L651">651</div>
                  <div class="blob-code blob-code-inner js-file-line" id="LC651">          <span class="pl-s"><span class="pl-pds">&quot;</span>text<span class="pl-pds">&quot;</span></span>: [</div>
                </div>
                <div class="d-flex flex-justify-start flex-items-start">
                  <div class="blob-num blame-blob-num bg-gray-light js-line-number" id="L652">652</div>
                  <div class="blob-code blob-code-inner js-file-line" id="LC652">            <span class="pl-s"><span class="pl-pds">&quot;</span>        Fecha  Precipit  Evap  Tmax  Tmin<span class="pl-cce">\n</span><span class="pl-pds">&quot;</span></span>,</div>
                </div>
                <div class="d-flex flex-justify-start flex-items-start">
                  <div class="blob-num blame-blob-num bg-gray-light js-line-number" id="L653">653</div>
                  <div class="blob-code blob-code-inner js-file-line" id="LC653">            <span class="pl-s"><span class="pl-pds">&quot;</span>0  01/03/1973       0.0   NaN  29.0  12.0<span class="pl-cce">\n</span><span class="pl-pds">&quot;</span></span>,</div>
                </div>
                <div class="d-flex flex-justify-start flex-items-start">
                  <div class="blob-num blame-blob-num bg-gray-light js-line-number" id="L654">654</div>
                  <div class="blob-code blob-code-inner js-file-line" id="LC654">            <span class="pl-s"><span class="pl-pds">&quot;</span>1  02/03/1973       0.0   NaN  30.0  12.0<span class="pl-cce">\n</span><span class="pl-pds">&quot;</span></span>,</div>
                </div>
                <div class="d-flex flex-justify-start flex-items-start">
                  <div class="blob-num blame-blob-num bg-gray-light js-line-number" id="L655">655</div>
                  <div class="blob-code blob-code-inner js-file-line" id="LC655">            <span class="pl-s"><span class="pl-pds">&quot;</span>2  03/03/1973       0.0   NaN  29.0   9.0<span class="pl-cce">\n</span><span class="pl-pds">&quot;</span></span>,</div>
                </div>
                <div class="d-flex flex-justify-start flex-items-start">
                  <div class="blob-num blame-blob-num bg-gray-light js-line-number" id="L656">656</div>
                  <div class="blob-code blob-code-inner js-file-line" id="LC656">            <span class="pl-s"><span class="pl-pds">&quot;</span>3  04/03/1973       0.0   NaN  28.0   8.0<span class="pl-cce">\n</span><span class="pl-pds">&quot;</span></span>,</div>
                </div>
                <div class="d-flex flex-justify-start flex-items-start">
                  <div class="blob-num blame-blob-num bg-gray-light js-line-number" id="L657">657</div>
                  <div class="blob-code blob-code-inner js-file-line" id="LC657">            <span class="pl-s"><span class="pl-pds">&quot;</span>4  05/03/1973       0.0   NaN  28.0   7.0<span class="pl-cce">\n</span><span class="pl-pds">&quot;</span></span>,</div>
                </div>
                <div class="d-flex flex-justify-start flex-items-start">
                  <div class="blob-num blame-blob-num bg-gray-light js-line-number" id="L658">658</div>
                  <div class="blob-code blob-code-inner js-file-line" id="LC658">            <span class="pl-s"><span class="pl-pds">&quot;</span>           Fecha  Precipit  Evap  Tmax  Tmin<span class="pl-cce">\n</span><span class="pl-pds">&quot;</span></span>,</div>
                </div>
                <div class="d-flex flex-justify-start flex-items-start">
                  <div class="blob-num blame-blob-num bg-gray-light js-line-number" id="L659">659</div>
                  <div class="blob-code blob-code-inner js-file-line" id="LC659">            <span class="pl-s"><span class="pl-pds">&quot;</span>6893  26/03/2016       0.0   NaN  30.0  11.0<span class="pl-cce">\n</span><span class="pl-pds">&quot;</span></span>,</div>
                </div>
                <div class="d-flex flex-justify-start flex-items-start">
                  <div class="blob-num blame-blob-num bg-gray-light js-line-number" id="L660">660</div>
                  <div class="blob-code blob-code-inner js-file-line" id="LC660">            <span class="pl-s"><span class="pl-pds">&quot;</span>6894  27/03/2016       0.0   NaN  30.0  11.0<span class="pl-cce">\n</span><span class="pl-pds">&quot;</span></span>,</div>
                </div>
                <div class="d-flex flex-justify-start flex-items-start">
                  <div class="blob-num blame-blob-num bg-gray-light js-line-number" id="L661">661</div>
                  <div class="blob-code blob-code-inner js-file-line" id="LC661">            <span class="pl-s"><span class="pl-pds">&quot;</span>6895  28/03/2016       0.0   NaN  28.0  12.0<span class="pl-cce">\n</span><span class="pl-pds">&quot;</span></span>,</div>
                </div>
                <div class="d-flex flex-justify-start flex-items-start">
                  <div class="blob-num blame-blob-num bg-gray-light js-line-number" id="L662">662</div>
                  <div class="blob-code blob-code-inner js-file-line" id="LC662">            <span class="pl-s"><span class="pl-pds">&quot;</span>6896  29/03/2016       0.0   NaN  28.0  11.0<span class="pl-cce">\n</span><span class="pl-pds">&quot;</span></span>,</div>
                </div>
                <div class="d-flex flex-justify-start flex-items-start">
                  <div class="blob-num blame-blob-num bg-gray-light js-line-number" id="L663">663</div>
                  <div class="blob-code blob-code-inner js-file-line" id="LC663">            <span class="pl-s"><span class="pl-pds">&quot;</span>6897  30/03/2016       0.0   NaN  29.0  12.0<span class="pl-cce">\n</span><span class="pl-pds">&quot;</span></span></div>
                </div>
                <div class="d-flex flex-justify-start flex-items-start">
                  <div class="blob-num blame-blob-num bg-gray-light js-line-number" id="L664">664</div>
                  <div class="blob-code blob-code-inner js-file-line" id="LC664">          ],</div>
                </div>
                <div class="d-flex flex-justify-start flex-items-start">
                  <div class="blob-num blame-blob-num bg-gray-light js-line-number" id="L665">665</div>
                  <div class="blob-code blob-code-inner js-file-line" id="LC665">          <span class="pl-s"><span class="pl-pds">&quot;</span>name<span class="pl-pds">&quot;</span></span>: <span class="pl-s"><span class="pl-pds">&quot;</span>stdout<span class="pl-pds">&quot;</span></span></div>
                </div>
                <div class="d-flex flex-justify-start flex-items-start">
                  <div class="blob-num blame-blob-num bg-gray-light js-line-number" id="L666">666</div>
                  <div class="blob-code blob-code-inner js-file-line" id="LC666">        }</div>
                </div>
                <div class="d-flex flex-justify-start flex-items-start">
                  <div class="blob-num blame-blob-num bg-gray-light js-line-number" id="L667">667</div>
                  <div class="blob-code blob-code-inner js-file-line" id="LC667">      ]</div>
                </div>
                <div class="d-flex flex-justify-start flex-items-start">
                  <div class="blob-num blame-blob-num bg-gray-light js-line-number" id="L668">668</div>
                  <div class="blob-code blob-code-inner js-file-line" id="LC668">    },</div>
                </div>
                <div class="d-flex flex-justify-start flex-items-start">
                  <div class="blob-num blame-blob-num bg-gray-light js-line-number" id="L669">669</div>
                  <div class="blob-code blob-code-inner js-file-line" id="LC669">    {</div>
                </div>
                <div class="d-flex flex-justify-start flex-items-start">
                  <div class="blob-num blame-blob-num bg-gray-light js-line-number" id="L670">670</div>
                  <div class="blob-code blob-code-inner js-file-line" id="LC670">      <span class="pl-s"><span class="pl-pds">&quot;</span>cell_type<span class="pl-pds">&quot;</span></span>: <span class="pl-s"><span class="pl-pds">&quot;</span>code<span class="pl-pds">&quot;</span></span>,</div>
                </div>
                <div class="d-flex flex-justify-start flex-items-start">
                  <div class="blob-num blame-blob-num bg-gray-light js-line-number" id="L671">671</div>
                  <div class="blob-code blob-code-inner js-file-line" id="LC671">      <span class="pl-s"><span class="pl-pds">&quot;</span>metadata<span class="pl-pds">&quot;</span></span>: {</div>
                </div>
                <div class="d-flex flex-justify-start flex-items-start">
                  <div class="blob-num blame-blob-num bg-gray-light js-line-number" id="L672">672</div>
                  <div class="blob-code blob-code-inner js-file-line" id="LC672">        <span class="pl-s"><span class="pl-pds">&quot;</span>colab<span class="pl-pds">&quot;</span></span>: {</div>
                </div>
                <div class="d-flex flex-justify-start flex-items-start">
                  <div class="blob-num blame-blob-num bg-gray-light js-line-number" id="L673">673</div>
                  <div class="blob-code blob-code-inner js-file-line" id="LC673">          <span class="pl-s"><span class="pl-pds">&quot;</span>base_uri<span class="pl-pds">&quot;</span></span>: <span class="pl-s"><span class="pl-pds">&quot;</span>https://localhost:8080/<span class="pl-pds">&quot;</span></span>,</div>
                </div>
                <div class="d-flex flex-justify-start flex-items-start">
                  <div class="blob-num blame-blob-num bg-gray-light js-line-number" id="L674">674</div>
                  <div class="blob-code blob-code-inner js-file-line" id="LC674">          <span class="pl-s"><span class="pl-pds">&quot;</span>height<span class="pl-pds">&quot;</span></span>: <span class="pl-c1">297</span></div>
                </div>
                <div class="d-flex flex-justify-start flex-items-start">
                  <div class="blob-num blame-blob-num bg-gray-light js-line-number" id="L675">675</div>
                  <div class="blob-code blob-code-inner js-file-line" id="LC675">        },</div>
                </div>
                <div class="d-flex flex-justify-start flex-items-start">
                  <div class="blob-num blame-blob-num bg-gray-light js-line-number" id="L676">676</div>
                  <div class="blob-code blob-code-inner js-file-line" id="LC676">        <span class="pl-s"><span class="pl-pds">&quot;</span>id<span class="pl-pds">&quot;</span></span>: <span class="pl-s"><span class="pl-pds">&quot;</span>2zKdbmJuNOai<span class="pl-pds">&quot;</span></span>,</div>
                </div>
                <div class="d-flex flex-justify-start flex-items-start">
                  <div class="blob-num blame-blob-num bg-gray-light js-line-number" id="L677">677</div>
                  <div class="blob-code blob-code-inner js-file-line" id="LC677">        <span class="pl-s"><span class="pl-pds">&quot;</span>outputId<span class="pl-pds">&quot;</span></span>: <span class="pl-s"><span class="pl-pds">&quot;</span>2ce38ccb-853b-4e84-b9b2-8926289566c1<span class="pl-pds">&quot;</span></span></div>
                </div>
                <div class="d-flex flex-justify-start flex-items-start">
                  <div class="blob-num blame-blob-num bg-gray-light js-line-number" id="L678">678</div>
                  <div class="blob-code blob-code-inner js-file-line" id="LC678">      },</div>
                </div>
                <div class="d-flex flex-justify-start flex-items-start">
                  <div class="blob-num blame-blob-num bg-gray-light js-line-number" id="L679">679</div>
                  <div class="blob-code blob-code-inner js-file-line" id="LC679">      <span class="pl-s"><span class="pl-pds">&quot;</span>source<span class="pl-pds">&quot;</span></span>: [</div>
                </div>
                <div class="d-flex flex-justify-start flex-items-start">
                  <div class="blob-num blame-blob-num bg-gray-light js-line-number" id="L680">680</div>
                  <div class="blob-code blob-code-inner js-file-line" id="LC680">        <span class="pl-s"><span class="pl-pds">&quot;</span>df_work1.describe()<span class="pl-pds">&quot;</span></span></div>
                </div>
                <div class="d-flex flex-justify-start flex-items-start">
                  <div class="blob-num blame-blob-num bg-gray-light js-line-number" id="L681">681</div>
                  <div class="blob-code blob-code-inner js-file-line" id="LC681">      ],</div>
                </div>
                <div class="d-flex flex-justify-start flex-items-start">
                  <div class="blob-num blame-blob-num bg-gray-light js-line-number" id="L682">682</div>
                  <div class="blob-code blob-code-inner js-file-line" id="LC682">      <span class="pl-s"><span class="pl-pds">&quot;</span>execution_count<span class="pl-pds">&quot;</span></span>: <span class="pl-c1">47</span>,</div>
                </div>
                <div class="d-flex flex-justify-start flex-items-start">
                  <div class="blob-num blame-blob-num bg-gray-light js-line-number" id="L683">683</div>
                  <div class="blob-code blob-code-inner js-file-line" id="LC683">      <span class="pl-s"><span class="pl-pds">&quot;</span>outputs<span class="pl-pds">&quot;</span></span>: [</div>
                </div>
                <div class="d-flex flex-justify-start flex-items-start">
                  <div class="blob-num blame-blob-num bg-gray-light js-line-number" id="L684">684</div>
                  <div class="blob-code blob-code-inner js-file-line" id="LC684">        {</div>
                </div>
                <div class="d-flex flex-justify-start flex-items-start">
                  <div class="blob-num blame-blob-num bg-gray-light js-line-number" id="L685">685</div>
                  <div class="blob-code blob-code-inner js-file-line" id="LC685">          <span class="pl-s"><span class="pl-pds">&quot;</span>output_type<span class="pl-pds">&quot;</span></span>: <span class="pl-s"><span class="pl-pds">&quot;</span>execute_result<span class="pl-pds">&quot;</span></span>,</div>
                </div>
                <div class="d-flex flex-justify-start flex-items-start">
                  <div class="blob-num blame-blob-num bg-gray-light js-line-number" id="L686">686</div>
                  <div class="blob-code blob-code-inner js-file-line" id="LC686">          <span class="pl-s"><span class="pl-pds">&quot;</span>data<span class="pl-pds">&quot;</span></span>: {</div>
                </div>
                <div class="d-flex flex-justify-start flex-items-start">
                  <div class="blob-num blame-blob-num bg-gray-light js-line-number" id="L687">687</div>
                  <div class="blob-code blob-code-inner js-file-line" id="LC687">            <span class="pl-s"><span class="pl-pds">&quot;</span>text/html<span class="pl-pds">&quot;</span></span>: [</div>
                </div>
                <div class="d-flex flex-justify-start flex-items-start">
                  <div class="blob-num blame-blob-num bg-gray-light js-line-number" id="L688">688</div>
                  <div class="blob-code blob-code-inner js-file-line" id="LC688">              <span class="pl-s"><span class="pl-pds">&quot;</span>&lt;div&gt;<span class="pl-cce">\n</span><span class="pl-pds">&quot;</span></span>,</div>
                </div>
                <div class="d-flex flex-justify-start flex-items-start">
                  <div class="blob-num blame-blob-num bg-gray-light js-line-number" id="L689">689</div>
                  <div class="blob-code blob-code-inner js-file-line" id="LC689">              <span class="pl-s"><span class="pl-pds">&quot;</span>&lt;style scoped&gt;<span class="pl-cce">\n</span><span class="pl-pds">&quot;</span></span>,</div>
                </div>
                <div class="d-flex flex-justify-start flex-items-start">
                  <div class="blob-num blame-blob-num bg-gray-light js-line-number" id="L690">690</div>
                  <div class="blob-code blob-code-inner js-file-line" id="LC690">              <span class="pl-s"><span class="pl-pds">&quot;</span>    .dataframe tbody tr th:only-of-type {<span class="pl-cce">\n</span><span class="pl-pds">&quot;</span></span>,</div>
                </div>
                <div class="d-flex flex-justify-start flex-items-start">
                  <div class="blob-num blame-blob-num bg-gray-light js-line-number" id="L691">691</div>
                  <div class="blob-code blob-code-inner js-file-line" id="LC691">              <span class="pl-s"><span class="pl-pds">&quot;</span>        vertical-align: middle;<span class="pl-cce">\n</span><span class="pl-pds">&quot;</span></span>,</div>
                </div>
                <div class="d-flex flex-justify-start flex-items-start">
                  <div class="blob-num blame-blob-num bg-gray-light js-line-number" id="L692">692</div>
                  <div class="blob-code blob-code-inner js-file-line" id="LC692">              <span class="pl-s"><span class="pl-pds">&quot;</span>    }<span class="pl-cce">\n</span><span class="pl-pds">&quot;</span></span>,</div>
                </div>
                <div class="d-flex flex-justify-start flex-items-start">
                  <div class="blob-num blame-blob-num bg-gray-light js-line-number" id="L693">693</div>
                  <div class="blob-code blob-code-inner js-file-line" id="LC693">              <span class="pl-s"><span class="pl-pds">&quot;</span><span class="pl-cce">\n</span><span class="pl-pds">&quot;</span></span>,</div>
                </div>
                <div class="d-flex flex-justify-start flex-items-start">
                  <div class="blob-num blame-blob-num bg-gray-light js-line-number" id="L694">694</div>
                  <div class="blob-code blob-code-inner js-file-line" id="LC694">              <span class="pl-s"><span class="pl-pds">&quot;</span>    .dataframe tbody tr th {<span class="pl-cce">\n</span><span class="pl-pds">&quot;</span></span>,</div>
                </div>
                <div class="d-flex flex-justify-start flex-items-start">
                  <div class="blob-num blame-blob-num bg-gray-light js-line-number" id="L695">695</div>
                  <div class="blob-code blob-code-inner js-file-line" id="LC695">              <span class="pl-s"><span class="pl-pds">&quot;</span>        vertical-align: top;<span class="pl-cce">\n</span><span class="pl-pds">&quot;</span></span>,</div>
                </div>
                <div class="d-flex flex-justify-start flex-items-start">
                  <div class="blob-num blame-blob-num bg-gray-light js-line-number" id="L696">696</div>
                  <div class="blob-code blob-code-inner js-file-line" id="LC696">              <span class="pl-s"><span class="pl-pds">&quot;</span>    }<span class="pl-cce">\n</span><span class="pl-pds">&quot;</span></span>,</div>
                </div>
                <div class="d-flex flex-justify-start flex-items-start">
                  <div class="blob-num blame-blob-num bg-gray-light js-line-number" id="L697">697</div>
                  <div class="blob-code blob-code-inner js-file-line" id="LC697">              <span class="pl-s"><span class="pl-pds">&quot;</span><span class="pl-cce">\n</span><span class="pl-pds">&quot;</span></span>,</div>
                </div>
                <div class="d-flex flex-justify-start flex-items-start">
                  <div class="blob-num blame-blob-num bg-gray-light js-line-number" id="L698">698</div>
                  <div class="blob-code blob-code-inner js-file-line" id="LC698">              <span class="pl-s"><span class="pl-pds">&quot;</span>    .dataframe thead th {<span class="pl-cce">\n</span><span class="pl-pds">&quot;</span></span>,</div>
                </div>
                <div class="d-flex flex-justify-start flex-items-start">
                  <div class="blob-num blame-blob-num bg-gray-light js-line-number" id="L699">699</div>
                  <div class="blob-code blob-code-inner js-file-line" id="LC699">              <span class="pl-s"><span class="pl-pds">&quot;</span>        text-align: right;<span class="pl-cce">\n</span><span class="pl-pds">&quot;</span></span>,</div>
                </div>
                <div class="d-flex flex-justify-start flex-items-start">
                  <div class="blob-num blame-blob-num bg-gray-light js-line-number" id="L700">700</div>
                  <div class="blob-code blob-code-inner js-file-line" id="LC700">              <span class="pl-s"><span class="pl-pds">&quot;</span>    }<span class="pl-cce">\n</span><span class="pl-pds">&quot;</span></span>,</div>
                </div>
                <div class="d-flex flex-justify-start flex-items-start">
                  <div class="blob-num blame-blob-num bg-gray-light js-line-number" id="L701">701</div>
                  <div class="blob-code blob-code-inner js-file-line" id="LC701">              <span class="pl-s"><span class="pl-pds">&quot;</span>&lt;/style&gt;<span class="pl-cce">\n</span><span class="pl-pds">&quot;</span></span>,</div>
                </div>
                <div class="d-flex flex-justify-start flex-items-start">
                  <div class="blob-num blame-blob-num bg-gray-light js-line-number" id="L702">702</div>
                  <div class="blob-code blob-code-inner js-file-line" id="LC702">              <span class="pl-s"><span class="pl-pds">&quot;</span>&lt;table border=<span class="pl-cce">\&quot;</span>1<span class="pl-cce">\&quot;</span> class=<span class="pl-cce">\&quot;</span>dataframe<span class="pl-cce">\&quot;</span>&gt;<span class="pl-cce">\n</span><span class="pl-pds">&quot;</span></span>,</div>
                </div>
                <div class="d-flex flex-justify-start flex-items-start">
                  <div class="blob-num blame-blob-num bg-gray-light js-line-number" id="L703">703</div>
                  <div class="blob-code blob-code-inner js-file-line" id="LC703">              <span class="pl-s"><span class="pl-pds">&quot;</span>  &lt;thead&gt;<span class="pl-cce">\n</span><span class="pl-pds">&quot;</span></span>,</div>
                </div>
                <div class="d-flex flex-justify-start flex-items-start">
                  <div class="blob-num blame-blob-num bg-gray-light js-line-number" id="L704">704</div>
                  <div class="blob-code blob-code-inner js-file-line" id="LC704">              <span class="pl-s"><span class="pl-pds">&quot;</span>    &lt;tr style=<span class="pl-cce">\&quot;</span>text-align: right;<span class="pl-cce">\&quot;</span>&gt;<span class="pl-cce">\n</span><span class="pl-pds">&quot;</span></span>,</div>
                </div>
                <div class="d-flex flex-justify-start flex-items-start">
                  <div class="blob-num blame-blob-num bg-gray-light js-line-number" id="L705">705</div>
                  <div class="blob-code blob-code-inner js-file-line" id="LC705">              <span class="pl-s"><span class="pl-pds">&quot;</span>      &lt;th&gt;&lt;/th&gt;<span class="pl-cce">\n</span><span class="pl-pds">&quot;</span></span>,</div>
                </div>
                <div class="d-flex flex-justify-start flex-items-start">
                  <div class="blob-num blame-blob-num bg-gray-light js-line-number" id="L706">706</div>
                  <div class="blob-code blob-code-inner js-file-line" id="LC706">              <span class="pl-s"><span class="pl-pds">&quot;</span>      &lt;th&gt;Precipit&lt;/th&gt;<span class="pl-cce">\n</span><span class="pl-pds">&quot;</span></span>,</div>
                </div>
                <div class="d-flex flex-justify-start flex-items-start">
                  <div class="blob-num blame-blob-num bg-gray-light js-line-number" id="L707">707</div>
                  <div class="blob-code blob-code-inner js-file-line" id="LC707">              <span class="pl-s"><span class="pl-pds">&quot;</span>      &lt;th&gt;Evap&lt;/th&gt;<span class="pl-cce">\n</span><span class="pl-pds">&quot;</span></span>,</div>
                </div>
                <div class="d-flex flex-justify-start flex-items-start">
                  <div class="blob-num blame-blob-num bg-gray-light js-line-number" id="L708">708</div>
                  <div class="blob-code blob-code-inner js-file-line" id="LC708">              <span class="pl-s"><span class="pl-pds">&quot;</span>      &lt;th&gt;Tmax&lt;/th&gt;<span class="pl-cce">\n</span><span class="pl-pds">&quot;</span></span>,</div>
                </div>
                <div class="d-flex flex-justify-start flex-items-start">
                  <div class="blob-num blame-blob-num bg-gray-light js-line-number" id="L709">709</div>
                  <div class="blob-code blob-code-inner js-file-line" id="LC709">              <span class="pl-s"><span class="pl-pds">&quot;</span>      &lt;th&gt;Tmin&lt;/th&gt;<span class="pl-cce">\n</span><span class="pl-pds">&quot;</span></span>,</div>
                </div>
                <div class="d-flex flex-justify-start flex-items-start">
                  <div class="blob-num blame-blob-num bg-gray-light js-line-number" id="L710">710</div>
                  <div class="blob-code blob-code-inner js-file-line" id="LC710">              <span class="pl-s"><span class="pl-pds">&quot;</span>    &lt;/tr&gt;<span class="pl-cce">\n</span><span class="pl-pds">&quot;</span></span>,</div>
                </div>
                <div class="d-flex flex-justify-start flex-items-start">
                  <div class="blob-num blame-blob-num bg-gray-light js-line-number" id="L711">711</div>
                  <div class="blob-code blob-code-inner js-file-line" id="LC711">              <span class="pl-s"><span class="pl-pds">&quot;</span>  &lt;/thead&gt;<span class="pl-cce">\n</span><span class="pl-pds">&quot;</span></span>,</div>
                </div>
                <div class="d-flex flex-justify-start flex-items-start">
                  <div class="blob-num blame-blob-num bg-gray-light js-line-number" id="L712">712</div>
                  <div class="blob-code blob-code-inner js-file-line" id="LC712">              <span class="pl-s"><span class="pl-pds">&quot;</span>  &lt;tbody&gt;<span class="pl-cce">\n</span><span class="pl-pds">&quot;</span></span>,</div>
                </div>
                <div class="d-flex flex-justify-start flex-items-start">
                  <div class="blob-num blame-blob-num bg-gray-light js-line-number" id="L713">713</div>
                  <div class="blob-code blob-code-inner js-file-line" id="LC713">              <span class="pl-s"><span class="pl-pds">&quot;</span>    &lt;tr&gt;<span class="pl-cce">\n</span><span class="pl-pds">&quot;</span></span>,</div>
                </div>
                <div class="d-flex flex-justify-start flex-items-start">
                  <div class="blob-num blame-blob-num bg-gray-light js-line-number" id="L714">714</div>
                  <div class="blob-code blob-code-inner js-file-line" id="LC714">              <span class="pl-s"><span class="pl-pds">&quot;</span>      &lt;th&gt;count&lt;/th&gt;<span class="pl-cce">\n</span><span class="pl-pds">&quot;</span></span>,</div>
                </div>
                <div class="d-flex flex-justify-start flex-items-start">
                  <div class="blob-num blame-blob-num bg-gray-light js-line-number" id="L715">715</div>
                  <div class="blob-code blob-code-inner js-file-line" id="LC715">              <span class="pl-s"><span class="pl-pds">&quot;</span>      &lt;td&gt;6774.000000&lt;/td&gt;<span class="pl-cce">\n</span><span class="pl-pds">&quot;</span></span>,</div>
                </div>
                <div class="d-flex flex-justify-start flex-items-start">
                  <div class="blob-num blame-blob-num bg-gray-light js-line-number" id="L716">716</div>
                  <div class="blob-code blob-code-inner js-file-line" id="LC716">              <span class="pl-s"><span class="pl-pds">&quot;</span>      &lt;td&gt;823.000000&lt;/td&gt;<span class="pl-cce">\n</span><span class="pl-pds">&quot;</span></span>,</div>
                </div>
                <div class="d-flex flex-justify-start flex-items-start">
                  <div class="blob-num blame-blob-num bg-gray-light js-line-number" id="L717">717</div>
                  <div class="blob-code blob-code-inner js-file-line" id="LC717">              <span class="pl-s"><span class="pl-pds">&quot;</span>      &lt;td&gt;6818.000000&lt;/td&gt;<span class="pl-cce">\n</span><span class="pl-pds">&quot;</span></span>,</div>
                </div>
                <div class="d-flex flex-justify-start flex-items-start">
                  <div class="blob-num blame-blob-num bg-gray-light js-line-number" id="L718">718</div>
                  <div class="blob-code blob-code-inner js-file-line" id="LC718">              <span class="pl-s"><span class="pl-pds">&quot;</span>      &lt;td&gt;6812.00000&lt;/td&gt;<span class="pl-cce">\n</span><span class="pl-pds">&quot;</span></span>,</div>
                </div>
                <div class="d-flex flex-justify-start flex-items-start">
                  <div class="blob-num blame-blob-num bg-gray-light js-line-number" id="L719">719</div>
                  <div class="blob-code blob-code-inner js-file-line" id="LC719">              <span class="pl-s"><span class="pl-pds">&quot;</span>    &lt;/tr&gt;<span class="pl-cce">\n</span><span class="pl-pds">&quot;</span></span>,</div>
                </div>
                <div class="d-flex flex-justify-start flex-items-start">
                  <div class="blob-num blame-blob-num bg-gray-light js-line-number" id="L720">720</div>
                  <div class="blob-code blob-code-inner js-file-line" id="LC720">              <span class="pl-s"><span class="pl-pds">&quot;</span>    &lt;tr&gt;<span class="pl-cce">\n</span><span class="pl-pds">&quot;</span></span>,</div>
                </div>
                <div class="d-flex flex-justify-start flex-items-start">
                  <div class="blob-num blame-blob-num bg-gray-light js-line-number" id="L721">721</div>
                  <div class="blob-code blob-code-inner js-file-line" id="LC721">              <span class="pl-s"><span class="pl-pds">&quot;</span>      &lt;th&gt;mean&lt;/th&gt;<span class="pl-cce">\n</span><span class="pl-pds">&quot;</span></span>,</div>
                </div>
                <div class="d-flex flex-justify-start flex-items-start">
                  <div class="blob-num blame-blob-num bg-gray-light js-line-number" id="L722">722</div>
                  <div class="blob-code blob-code-inner js-file-line" id="LC722">              <span class="pl-s"><span class="pl-pds">&quot;</span>      &lt;td&gt;0.583776&lt;/td&gt;<span class="pl-cce">\n</span><span class="pl-pds">&quot;</span></span>,</div>
                </div>
                <div class="d-flex flex-justify-start flex-items-start">
                  <div class="blob-num blame-blob-num bg-gray-light js-line-number" id="L723">723</div>
                  <div class="blob-code blob-code-inner js-file-line" id="LC723">              <span class="pl-s"><span class="pl-pds">&quot;</span>      &lt;td&gt;8.477521&lt;/td&gt;<span class="pl-cce">\n</span><span class="pl-pds">&quot;</span></span>,</div>
                </div>
                <div class="d-flex flex-justify-start flex-items-start">
                  <div class="blob-num blame-blob-num bg-gray-light js-line-number" id="L724">724</div>
                  <div class="blob-code blob-code-inner js-file-line" id="LC724">              <span class="pl-s"><span class="pl-pds">&quot;</span>      &lt;td&gt;32.752728&lt;/td&gt;<span class="pl-cce">\n</span><span class="pl-pds">&quot;</span></span>,</div>
                </div>
                <div class="d-flex flex-justify-start flex-items-start">
                  <div class="blob-num blame-blob-num bg-gray-light js-line-number" id="L725">725</div>
                  <div class="blob-code blob-code-inner js-file-line" id="LC725">              <span class="pl-s"><span class="pl-pds">&quot;</span>      &lt;td&gt;15.11377&lt;/td&gt;<span class="pl-cce">\n</span><span class="pl-pds">&quot;</span></span>,</div>
                </div>
                <div class="d-flex flex-justify-start flex-items-start">
                  <div class="blob-num blame-blob-num bg-gray-light js-line-number" id="L726">726</div>
                  <div class="blob-code blob-code-inner js-file-line" id="LC726">              <span class="pl-s"><span class="pl-pds">&quot;</span>    &lt;/tr&gt;<span class="pl-cce">\n</span><span class="pl-pds">&quot;</span></span>,</div>
                </div>
                <div class="d-flex flex-justify-start flex-items-start">
                  <div class="blob-num blame-blob-num bg-gray-light js-line-number" id="L727">727</div>
                  <div class="blob-code blob-code-inner js-file-line" id="LC727">              <span class="pl-s"><span class="pl-pds">&quot;</span>    &lt;tr&gt;<span class="pl-cce">\n</span><span class="pl-pds">&quot;</span></span>,</div>
                </div>
                <div class="d-flex flex-justify-start flex-items-start">
                  <div class="blob-num blame-blob-num bg-gray-light js-line-number" id="L728">728</div>
                  <div class="blob-code blob-code-inner js-file-line" id="LC728">              <span class="pl-s"><span class="pl-pds">&quot;</span>      &lt;th&gt;std&lt;/th&gt;<span class="pl-cce">\n</span><span class="pl-pds">&quot;</span></span>,</div>
                </div>
                <div class="d-flex flex-justify-start flex-items-start">
                  <div class="blob-num blame-blob-num bg-gray-light js-line-number" id="L729">729</div>
                  <div class="blob-code blob-code-inner js-file-line" id="LC729">              <span class="pl-s"><span class="pl-pds">&quot;</span>      &lt;td&gt;4.675694&lt;/td&gt;<span class="pl-cce">\n</span><span class="pl-pds">&quot;</span></span>,</div>
                </div>
                <div class="d-flex flex-justify-start flex-items-start">
                  <div class="blob-num blame-blob-num bg-gray-light js-line-number" id="L730">730</div>
                  <div class="blob-code blob-code-inner js-file-line" id="LC730">              <span class="pl-s"><span class="pl-pds">&quot;</span>      &lt;td&gt;3.196214&lt;/td&gt;<span class="pl-cce">\n</span><span class="pl-pds">&quot;</span></span>,</div>
                </div>
                <div class="d-flex flex-justify-start flex-items-start">
                  <div class="blob-num blame-blob-num bg-gray-light js-line-number" id="L731">731</div>
                  <div class="blob-code blob-code-inner js-file-line" id="LC731">              <span class="pl-s"><span class="pl-pds">&quot;</span>      &lt;td&gt;5.852063&lt;/td&gt;<span class="pl-cce">\n</span><span class="pl-pds">&quot;</span></span>,</div>
                </div>
                <div class="d-flex flex-justify-start flex-items-start">
                  <div class="blob-num blame-blob-num bg-gray-light js-line-number" id="L732">732</div>
                  <div class="blob-code blob-code-inner js-file-line" id="LC732">              <span class="pl-s"><span class="pl-pds">&quot;</span>      &lt;td&gt;6.72071&lt;/td&gt;<span class="pl-cce">\n</span><span class="pl-pds">&quot;</span></span>,</div>
                </div>
                <div class="d-flex flex-justify-start flex-items-start">
                  <div class="blob-num blame-blob-num bg-gray-light js-line-number" id="L733">733</div>
                  <div class="blob-code blob-code-inner js-file-line" id="LC733">              <span class="pl-s"><span class="pl-pds">&quot;</span>    &lt;/tr&gt;<span class="pl-cce">\n</span><span class="pl-pds">&quot;</span></span>,</div>
                </div>
                <div class="d-flex flex-justify-start flex-items-start">
                  <div class="blob-num blame-blob-num bg-gray-light js-line-number" id="L734">734</div>
                  <div class="blob-code blob-code-inner js-file-line" id="LC734">              <span class="pl-s"><span class="pl-pds">&quot;</span>    &lt;tr&gt;<span class="pl-cce">\n</span><span class="pl-pds">&quot;</span></span>,</div>
                </div>
                <div class="d-flex flex-justify-start flex-items-start">
                  <div class="blob-num blame-blob-num bg-gray-light js-line-number" id="L735">735</div>
                  <div class="blob-code blob-code-inner js-file-line" id="LC735">              <span class="pl-s"><span class="pl-pds">&quot;</span>      &lt;th&gt;min&lt;/th&gt;<span class="pl-cce">\n</span><span class="pl-pds">&quot;</span></span>,</div>
                </div>
                <div class="d-flex flex-justify-start flex-items-start">
                  <div class="blob-num blame-blob-num bg-gray-light js-line-number" id="L736">736</div>
                  <div class="blob-code blob-code-inner js-file-line" id="LC736">              <span class="pl-s"><span class="pl-pds">&quot;</span>      &lt;td&gt;0.000000&lt;/td&gt;<span class="pl-cce">\n</span><span class="pl-pds">&quot;</span></span>,</div>
                </div>
                <div class="d-flex flex-justify-start flex-items-start">
                  <div class="blob-num blame-blob-num bg-gray-light js-line-number" id="L737">737</div>
                  <div class="blob-code blob-code-inner js-file-line" id="LC737">              <span class="pl-s"><span class="pl-pds">&quot;</span>      &lt;td&gt;0.100000&lt;/td&gt;<span class="pl-cce">\n</span><span class="pl-pds">&quot;</span></span>,</div>
                </div>
                <div class="d-flex flex-justify-start flex-items-start">
                  <div class="blob-num blame-blob-num bg-gray-light js-line-number" id="L738">738</div>
                  <div class="blob-code blob-code-inner js-file-line" id="LC738">              <span class="pl-s"><span class="pl-pds">&quot;</span>      &lt;td&gt;6.000000&lt;/td&gt;<span class="pl-cce">\n</span><span class="pl-pds">&quot;</span></span>,</div>
                </div>
                <div class="d-flex flex-justify-start flex-items-start">
                  <div class="blob-num blame-blob-num bg-gray-light js-line-number" id="L739">739</div>
                  <div class="blob-code blob-code-inner js-file-line" id="LC739">              <span class="pl-s"><span class="pl-pds">&quot;</span>      &lt;td&gt;-1.00000&lt;/td&gt;<span class="pl-cce">\n</span><span class="pl-pds">&quot;</span></span>,</div>
                </div>
                <div class="d-flex flex-justify-start flex-items-start">
                  <div class="blob-num blame-blob-num bg-gray-light js-line-number" id="L740">740</div>
                  <div class="blob-code blob-code-inner js-file-line" id="LC740">              <span class="pl-s"><span class="pl-pds">&quot;</span>    &lt;/tr&gt;<span class="pl-cce">\n</span><span class="pl-pds">&quot;</span></span>,</div>
                </div>
                <div class="d-flex flex-justify-start flex-items-start">
                  <div class="blob-num blame-blob-num bg-gray-light js-line-number" id="L741">741</div>
                  <div class="blob-code blob-code-inner js-file-line" id="LC741">              <span class="pl-s"><span class="pl-pds">&quot;</span>    &lt;tr&gt;<span class="pl-cce">\n</span><span class="pl-pds">&quot;</span></span>,</div>
                </div>
                <div class="d-flex flex-justify-start flex-items-start">
                  <div class="blob-num blame-blob-num bg-gray-light js-line-number" id="L742">742</div>
                  <div class="blob-code blob-code-inner js-file-line" id="LC742">              <span class="pl-s"><span class="pl-pds">&quot;</span>      &lt;th&gt;25%&lt;/th&gt;<span class="pl-cce">\n</span><span class="pl-pds">&quot;</span></span>,</div>
                </div>
                <div class="d-flex flex-justify-start flex-items-start">
                  <div class="blob-num blame-blob-num bg-gray-light js-line-number" id="L743">743</div>
                  <div class="blob-code blob-code-inner js-file-line" id="LC743">              <span class="pl-s"><span class="pl-pds">&quot;</span>      &lt;td&gt;0.000000&lt;/td&gt;<span class="pl-cce">\n</span><span class="pl-pds">&quot;</span></span>,</div>
                </div>
                <div class="d-flex flex-justify-start flex-items-start">
                  <div class="blob-num blame-blob-num bg-gray-light js-line-number" id="L744">744</div>
                  <div class="blob-code blob-code-inner js-file-line" id="LC744">              <span class="pl-s"><span class="pl-pds">&quot;</span>      &lt;td&gt;6.100000&lt;/td&gt;<span class="pl-cce">\n</span><span class="pl-pds">&quot;</span></span>,</div>
                </div>
                <div class="d-flex flex-justify-start flex-items-start">
                  <div class="blob-num blame-blob-num bg-gray-light js-line-number" id="L745">745</div>
                  <div class="blob-code blob-code-inner js-file-line" id="LC745">              <span class="pl-s"><span class="pl-pds">&quot;</span>      &lt;td&gt;28.000000&lt;/td&gt;<span class="pl-cce">\n</span><span class="pl-pds">&quot;</span></span>,</div>
                </div>
                <div class="d-flex flex-justify-start flex-items-start">
                  <div class="blob-num blame-blob-num bg-gray-light js-line-number" id="L746">746</div>
                  <div class="blob-code blob-code-inner js-file-line" id="LC746">              <span class="pl-s"><span class="pl-pds">&quot;</span>      &lt;td&gt;10.00000&lt;/td&gt;<span class="pl-cce">\n</span><span class="pl-pds">&quot;</span></span>,</div>
                </div>
                <div class="d-flex flex-justify-start flex-items-start">
                  <div class="blob-num blame-blob-num bg-gray-light js-line-number" id="L747">747</div>
                  <div class="blob-code blob-code-inner js-file-line" id="LC747">              <span class="pl-s"><span class="pl-pds">&quot;</span>    &lt;/tr&gt;<span class="pl-cce">\n</span><span class="pl-pds">&quot;</span></span>,</div>
                </div>
                <div class="d-flex flex-justify-start flex-items-start">
                  <div class="blob-num blame-blob-num bg-gray-light js-line-number" id="L748">748</div>
                  <div class="blob-code blob-code-inner js-file-line" id="LC748">              <span class="pl-s"><span class="pl-pds">&quot;</span>    &lt;tr&gt;<span class="pl-cce">\n</span><span class="pl-pds">&quot;</span></span>,</div>
                </div>
                <div class="d-flex flex-justify-start flex-items-start">
                  <div class="blob-num blame-blob-num bg-gray-light js-line-number" id="L749">749</div>
                  <div class="blob-code blob-code-inner js-file-line" id="LC749">              <span class="pl-s"><span class="pl-pds">&quot;</span>      &lt;th&gt;50%&lt;/th&gt;<span class="pl-cce">\n</span><span class="pl-pds">&quot;</span></span>,</div>
                </div>
                <div class="d-flex flex-justify-start flex-items-start">
                  <div class="blob-num blame-blob-num bg-gray-light js-line-number" id="L750">750</div>
                  <div class="blob-code blob-code-inner js-file-line" id="LC750">              <span class="pl-s"><span class="pl-pds">&quot;</span>      &lt;td&gt;0.000000&lt;/td&gt;<span class="pl-cce">\n</span><span class="pl-pds">&quot;</span></span>,</div>
                </div>
                <div class="d-flex flex-justify-start flex-items-start">
                  <div class="blob-num blame-blob-num bg-gray-light js-line-number" id="L751">751</div>
                  <div class="blob-code blob-code-inner js-file-line" id="LC751">              <span class="pl-s"><span class="pl-pds">&quot;</span>      &lt;td&gt;8.600000&lt;/td&gt;<span class="pl-cce">\n</span><span class="pl-pds">&quot;</span></span>,</div>
                </div>
                <div class="d-flex flex-justify-start flex-items-start">
                  <div class="blob-num blame-blob-num bg-gray-light js-line-number" id="L752">752</div>
                  <div class="blob-code blob-code-inner js-file-line" id="LC752">              <span class="pl-s"><span class="pl-pds">&quot;</span>      &lt;td&gt;34.000000&lt;/td&gt;<span class="pl-cce">\n</span><span class="pl-pds">&quot;</span></span>,</div>
                </div>
                <div class="d-flex flex-justify-start flex-items-start">
                  <div class="blob-num blame-blob-num bg-gray-light js-line-number" id="L753">753</div>
                  <div class="blob-code blob-code-inner js-file-line" id="LC753">              <span class="pl-s"><span class="pl-pds">&quot;</span>      &lt;td&gt;14.00000&lt;/td&gt;<span class="pl-cce">\n</span><span class="pl-pds">&quot;</span></span>,</div>
                </div>
                <div class="d-flex flex-justify-start flex-items-start">
                  <div class="blob-num blame-blob-num bg-gray-light js-line-number" id="L754">754</div>
                  <div class="blob-code blob-code-inner js-file-line" id="LC754">              <span class="pl-s"><span class="pl-pds">&quot;</span>    &lt;/tr&gt;<span class="pl-cce">\n</span><span class="pl-pds">&quot;</span></span>,</div>
                </div>
                <div class="d-flex flex-justify-start flex-items-start">
                  <div class="blob-num blame-blob-num bg-gray-light js-line-number" id="L755">755</div>
                  <div class="blob-code blob-code-inner js-file-line" id="LC755">              <span class="pl-s"><span class="pl-pds">&quot;</span>    &lt;tr&gt;<span class="pl-cce">\n</span><span class="pl-pds">&quot;</span></span>,</div>
                </div>
                <div class="d-flex flex-justify-start flex-items-start">
                  <div class="blob-num blame-blob-num bg-gray-light js-line-number" id="L756">756</div>
                  <div class="blob-code blob-code-inner js-file-line" id="LC756">              <span class="pl-s"><span class="pl-pds">&quot;</span>      &lt;th&gt;75%&lt;/th&gt;<span class="pl-cce">\n</span><span class="pl-pds">&quot;</span></span>,</div>
                </div>
                <div class="d-flex flex-justify-start flex-items-start">
                  <div class="blob-num blame-blob-num bg-gray-light js-line-number" id="L757">757</div>
                  <div class="blob-code blob-code-inner js-file-line" id="LC757">              <span class="pl-s"><span class="pl-pds">&quot;</span>      &lt;td&gt;0.000000&lt;/td&gt;<span class="pl-cce">\n</span><span class="pl-pds">&quot;</span></span>,</div>
                </div>
                <div class="d-flex flex-justify-start flex-items-start">
                  <div class="blob-num blame-blob-num bg-gray-light js-line-number" id="L758">758</div>
                  <div class="blob-code blob-code-inner js-file-line" id="LC758">              <span class="pl-s"><span class="pl-pds">&quot;</span>      &lt;td&gt;10.700000&lt;/td&gt;<span class="pl-cce">\n</span><span class="pl-pds">&quot;</span></span>,</div>
                </div>
                <div class="d-flex flex-justify-start flex-items-start">
                  <div class="blob-num blame-blob-num bg-gray-light js-line-number" id="L759">759</div>
                  <div class="blob-code blob-code-inner js-file-line" id="LC759">              <span class="pl-s"><span class="pl-pds">&quot;</span>      &lt;td&gt;38.000000&lt;/td&gt;<span class="pl-cce">\n</span><span class="pl-pds">&quot;</span></span>,</div>
                </div>
                <div class="d-flex flex-justify-start flex-items-start">
                  <div class="blob-num blame-blob-num bg-gray-light js-line-number" id="L760">760</div>
                  <div class="blob-code blob-code-inner js-file-line" id="LC760">              <span class="pl-s"><span class="pl-pds">&quot;</span>      &lt;td&gt;22.00000&lt;/td&gt;<span class="pl-cce">\n</span><span class="pl-pds">&quot;</span></span>,</div>
                </div>
                <div class="d-flex flex-justify-start flex-items-start">
                  <div class="blob-num blame-blob-num bg-gray-light js-line-number" id="L761">761</div>
                  <div class="blob-code blob-code-inner js-file-line" id="LC761">              <span class="pl-s"><span class="pl-pds">&quot;</span>    &lt;/tr&gt;<span class="pl-cce">\n</span><span class="pl-pds">&quot;</span></span>,</div>
                </div>
                <div class="d-flex flex-justify-start flex-items-start">
                  <div class="blob-num blame-blob-num bg-gray-light js-line-number" id="L762">762</div>
                  <div class="blob-code blob-code-inner js-file-line" id="LC762">              <span class="pl-s"><span class="pl-pds">&quot;</span>    &lt;tr&gt;<span class="pl-cce">\n</span><span class="pl-pds">&quot;</span></span>,</div>
                </div>
                <div class="d-flex flex-justify-start flex-items-start">
                  <div class="blob-num blame-blob-num bg-gray-light js-line-number" id="L763">763</div>
                  <div class="blob-code blob-code-inner js-file-line" id="LC763">              <span class="pl-s"><span class="pl-pds">&quot;</span>      &lt;th&gt;max&lt;/th&gt;<span class="pl-cce">\n</span><span class="pl-pds">&quot;</span></span>,</div>
                </div>
                <div class="d-flex flex-justify-start flex-items-start">
                  <div class="blob-num blame-blob-num bg-gray-light js-line-number" id="L764">764</div>
                  <div class="blob-code blob-code-inner js-file-line" id="LC764">              <span class="pl-s"><span class="pl-pds">&quot;</span>      &lt;td&gt;180.000000&lt;/td&gt;<span class="pl-cce">\n</span><span class="pl-pds">&quot;</span></span>,</div>
                </div>
                <div class="d-flex flex-justify-start flex-items-start">
                  <div class="blob-num blame-blob-num bg-gray-light js-line-number" id="L765">765</div>
                  <div class="blob-code blob-code-inner js-file-line" id="LC765">              <span class="pl-s"><span class="pl-pds">&quot;</span>      &lt;td&gt;17.900000&lt;/td&gt;<span class="pl-cce">\n</span><span class="pl-pds">&quot;</span></span>,</div>
                </div>
                <div class="d-flex flex-justify-start flex-items-start">
                  <div class="blob-num blame-blob-num bg-gray-light js-line-number" id="L766">766</div>
                  <div class="blob-code blob-code-inner js-file-line" id="LC766">              <span class="pl-s"><span class="pl-pds">&quot;</span>      &lt;td&gt;46.000000&lt;/td&gt;<span class="pl-cce">\n</span><span class="pl-pds">&quot;</span></span>,</div>
                </div>
                <div class="d-flex flex-justify-start flex-items-start">
                  <div class="blob-num blame-blob-num bg-gray-light js-line-number" id="L767">767</div>
                  <div class="blob-code blob-code-inner js-file-line" id="LC767">              <span class="pl-s"><span class="pl-pds">&quot;</span>      &lt;td&gt;31.00000&lt;/td&gt;<span class="pl-cce">\n</span><span class="pl-pds">&quot;</span></span>,</div>
                </div>
                <div class="d-flex flex-justify-start flex-items-start">
                  <div class="blob-num blame-blob-num bg-gray-light js-line-number" id="L768">768</div>
                  <div class="blob-code blob-code-inner js-file-line" id="LC768">              <span class="pl-s"><span class="pl-pds">&quot;</span>    &lt;/tr&gt;<span class="pl-cce">\n</span><span class="pl-pds">&quot;</span></span>,</div>
                </div>
                <div class="d-flex flex-justify-start flex-items-start">
                  <div class="blob-num blame-blob-num bg-gray-light js-line-number" id="L769">769</div>
                  <div class="blob-code blob-code-inner js-file-line" id="LC769">              <span class="pl-s"><span class="pl-pds">&quot;</span>  &lt;/tbody&gt;<span class="pl-cce">\n</span><span class="pl-pds">&quot;</span></span>,</div>
                </div>
                <div class="d-flex flex-justify-start flex-items-start">
                  <div class="blob-num blame-blob-num bg-gray-light js-line-number" id="L770">770</div>
                  <div class="blob-code blob-code-inner js-file-line" id="LC770">              <span class="pl-s"><span class="pl-pds">&quot;</span>&lt;/table&gt;<span class="pl-cce">\n</span><span class="pl-pds">&quot;</span></span>,</div>
                </div>
                <div class="d-flex flex-justify-start flex-items-start">
                  <div class="blob-num blame-blob-num bg-gray-light js-line-number" id="L771">771</div>
                  <div class="blob-code blob-code-inner js-file-line" id="LC771">              <span class="pl-s"><span class="pl-pds">&quot;</span>&lt;/div&gt;<span class="pl-pds">&quot;</span></span></div>
                </div>
                <div class="d-flex flex-justify-start flex-items-start">
                  <div class="blob-num blame-blob-num bg-gray-light js-line-number" id="L772">772</div>
                  <div class="blob-code blob-code-inner js-file-line" id="LC772">            ],</div>
                </div>
                <div class="d-flex flex-justify-start flex-items-start">
                  <div class="blob-num blame-blob-num bg-gray-light js-line-number" id="L773">773</div>
                  <div class="blob-code blob-code-inner js-file-line" id="LC773">            <span class="pl-s"><span class="pl-pds">&quot;</span>text/plain<span class="pl-pds">&quot;</span></span>: [</div>
                </div>
                <div class="d-flex flex-justify-start flex-items-start">
                  <div class="blob-num blame-blob-num bg-gray-light js-line-number" id="L774">774</div>
                  <div class="blob-code blob-code-inner js-file-line" id="LC774">              <span class="pl-s"><span class="pl-pds">&quot;</span>          Precipit        Evap         Tmax        Tmin<span class="pl-cce">\n</span><span class="pl-pds">&quot;</span></span>,</div>
                </div>
                <div class="d-flex flex-justify-start flex-items-start">
                  <div class="blob-num blame-blob-num bg-gray-light js-line-number" id="L775">775</div>
                  <div class="blob-code blob-code-inner js-file-line" id="LC775">              <span class="pl-s"><span class="pl-pds">&quot;</span>count  6774.000000  823.000000  6818.000000  6812.00000<span class="pl-cce">\n</span><span class="pl-pds">&quot;</span></span>,</div>
                </div>
                <div class="d-flex flex-justify-start flex-items-start">
                  <div class="blob-num blame-blob-num bg-gray-light js-line-number" id="L776">776</div>
                  <div class="blob-code blob-code-inner js-file-line" id="LC776">              <span class="pl-s"><span class="pl-pds">&quot;</span>mean      0.583776    8.477521    32.752728    15.11377<span class="pl-cce">\n</span><span class="pl-pds">&quot;</span></span>,</div>
                </div>
                <div class="d-flex flex-justify-start flex-items-start">
                  <div class="blob-num blame-blob-num bg-gray-light js-line-number" id="L777">777</div>
                  <div class="blob-code blob-code-inner js-file-line" id="LC777">              <span class="pl-s"><span class="pl-pds">&quot;</span>std       4.675694    3.196214     5.852063     6.72071<span class="pl-cce">\n</span><span class="pl-pds">&quot;</span></span>,</div>
                </div>
                <div class="d-flex flex-justify-start flex-items-start">
                  <div class="blob-num blame-blob-num bg-gray-light js-line-number" id="L778">778</div>
                  <div class="blob-code blob-code-inner js-file-line" id="LC778">              <span class="pl-s"><span class="pl-pds">&quot;</span>min       0.000000    0.100000     6.000000    -1.00000<span class="pl-cce">\n</span><span class="pl-pds">&quot;</span></span>,</div>
                </div>
                <div class="d-flex flex-justify-start flex-items-start">
                  <div class="blob-num blame-blob-num bg-gray-light js-line-number" id="L779">779</div>
                  <div class="blob-code blob-code-inner js-file-line" id="LC779">              <span class="pl-s"><span class="pl-pds">&quot;</span>25%       0.000000    6.100000    28.000000    10.00000<span class="pl-cce">\n</span><span class="pl-pds">&quot;</span></span>,</div>
                </div>
                <div class="d-flex flex-justify-start flex-items-start">
                  <div class="blob-num blame-blob-num bg-gray-light js-line-number" id="L780">780</div>
                  <div class="blob-code blob-code-inner js-file-line" id="LC780">              <span class="pl-s"><span class="pl-pds">&quot;</span>50%       0.000000    8.600000    34.000000    14.00000<span class="pl-cce">\n</span><span class="pl-pds">&quot;</span></span>,</div>
                </div>
                <div class="d-flex flex-justify-start flex-items-start">
                  <div class="blob-num blame-blob-num bg-gray-light js-line-number" id="L781">781</div>
                  <div class="blob-code blob-code-inner js-file-line" id="LC781">              <span class="pl-s"><span class="pl-pds">&quot;</span>75%       0.000000   10.700000    38.000000    22.00000<span class="pl-cce">\n</span><span class="pl-pds">&quot;</span></span>,</div>
                </div>
                <div class="d-flex flex-justify-start flex-items-start">
                  <div class="blob-num blame-blob-num bg-gray-light js-line-number" id="L782">782</div>
                  <div class="blob-code blob-code-inner js-file-line" id="LC782">              <span class="pl-s"><span class="pl-pds">&quot;</span>max     180.000000   17.900000    46.000000    31.00000<span class="pl-pds">&quot;</span></span></div>
                </div>
                <div class="d-flex flex-justify-start flex-items-start">
                  <div class="blob-num blame-blob-num bg-gray-light js-line-number" id="L783">783</div>
                  <div class="blob-code blob-code-inner js-file-line" id="LC783">            ]</div>
                </div>
                <div class="d-flex flex-justify-start flex-items-start">
                  <div class="blob-num blame-blob-num bg-gray-light js-line-number" id="L784">784</div>
                  <div class="blob-code blob-code-inner js-file-line" id="LC784">          },</div>
                </div>
                <div class="d-flex flex-justify-start flex-items-start">
                  <div class="blob-num blame-blob-num bg-gray-light js-line-number" id="L785">785</div>
                  <div class="blob-code blob-code-inner js-file-line" id="LC785">          <span class="pl-s"><span class="pl-pds">&quot;</span>metadata<span class="pl-pds">&quot;</span></span>: {</div>
                </div>
                <div class="d-flex flex-justify-start flex-items-start">
                  <div class="blob-num blame-blob-num bg-gray-light js-line-number" id="L786">786</div>
                  <div class="blob-code blob-code-inner js-file-line" id="LC786">            <span class="pl-s"><span class="pl-pds">&quot;</span>tags<span class="pl-pds">&quot;</span></span>: []</div>
                </div>
                <div class="d-flex flex-justify-start flex-items-start">
                  <div class="blob-num blame-blob-num bg-gray-light js-line-number" id="L787">787</div>
                  <div class="blob-code blob-code-inner js-file-line" id="LC787">          },</div>
                </div>
                <div class="d-flex flex-justify-start flex-items-start">
                  <div class="blob-num blame-blob-num bg-gray-light js-line-number" id="L788">788</div>
                  <div class="blob-code blob-code-inner js-file-line" id="LC788">          <span class="pl-s"><span class="pl-pds">&quot;</span>execution_count<span class="pl-pds">&quot;</span></span>: <span class="pl-c1">47</span></div>
                </div>
                <div class="d-flex flex-justify-start flex-items-start">
                  <div class="blob-num blame-blob-num bg-gray-light js-line-number" id="L789">789</div>
                  <div class="blob-code blob-code-inner js-file-line" id="LC789">        }</div>
                </div>
                <div class="d-flex flex-justify-start flex-items-start">
                  <div class="blob-num blame-blob-num bg-gray-light js-line-number" id="L790">790</div>
                  <div class="blob-code blob-code-inner js-file-line" id="LC790">      ]</div>
                </div>
                <div class="d-flex flex-justify-start flex-items-start">
                  <div class="blob-num blame-blob-num bg-gray-light js-line-number" id="L791">791</div>
                  <div class="blob-code blob-code-inner js-file-line" id="LC791">    }</div>
                </div>
                <div class="d-flex flex-justify-start flex-items-start">
                  <div class="blob-num blame-blob-num bg-gray-light js-line-number" id="L792">792</div>
                  <div class="blob-code blob-code-inner js-file-line" id="LC792">  ]</div>
                </div>
                <div class="d-flex flex-justify-start flex-items-start">
                  <div class="blob-num blame-blob-num bg-gray-light js-line-number" id="L793">793</div>
                  <div class="blob-code blob-code-inner js-file-line" id="LC793">}</div>
                </div>
            </div>
          </div>
      </div>
    </div>

  </div>



  </div>
</div>

    </main>
  </div>

  </div>

          
<div class="footer container-xl width-full p-responsive" role="contentinfo">
  <div class="position-relative d-flex flex-row-reverse flex-lg-row flex-wrap flex-lg-nowrap flex-justify-center flex-lg-justify-between pt-6 pb-2 mt-6 f6 text-gray border-top border-gray-light ">
    <ul class="list-style-none d-flex flex-wrap col-12 col-lg-5 flex-justify-center flex-lg-justify-between mb-2 mb-lg-0">
      <li class="mr-3 mr-lg-0">&copy; 2021 GitHub, Inc.</li>
        <li class="mr-3 mr-lg-0"><a data-ga-click="Footer, go to terms, text:terms" href="https://github.com/site/terms">Terms</a></li>
        <li class="mr-3 mr-lg-0"><a data-ga-click="Footer, go to privacy, text:privacy" href="https://github.com/site/privacy">Privacy</a></li>
        <li class="mr-3 mr-lg-0"><a data-ga-click="Footer, go to security, text:security" href="https://github.com/security">Security</a></li>
        <li class="mr-3 mr-lg-0"><a href="https://www.githubstatus.com/" data-ga-click="Footer, go to status, text:status">Status</a></li>
        <li><a data-ga-click="Footer, go to help, text:Docs" href="https://docs.github.com">Docs</a></li>
    </ul>

    <a aria-label="Homepage" title="GitHub" class="footer-octicon d-none d-lg-block mx-lg-4" href="https://github.com">
      <svg height="24" class="octicon octicon-mark-github" viewBox="0 0 16 16" version="1.1" width="24" aria-hidden="true"><path fill-rule="evenodd" d="M8 0C3.58 0 0 3.58 0 8c0 3.54 2.29 6.53 5.47 7.59.4.07.55-.17.55-.38 0-.19-.01-.82-.01-1.49-2.01.37-2.53-.49-2.69-.94-.09-.23-.48-.94-.82-1.13-.28-.15-.68-.52-.01-.53.63-.01 1.08.58 1.23.82.72 1.21 1.87.87 2.33.66.07-.52.28-.87.51-1.07-1.78-.2-3.64-.89-3.64-3.95 0-.87.31-1.59.82-2.15-.08-.2-.36-1.02.08-2.12 0 0 .67-.21 2.2.82.64-.18 1.32-.27 2-.27.68 0 1.36.09 2 .27 1.53-1.04 2.2-.82 2.2-.82.44 1.1.16 1.92.08 2.12.51.56.82 1.27.82 2.15 0 3.07-1.87 3.75-3.65 3.95.29.25.54.73.54 1.48 0 1.07-.01 1.93-.01 2.2 0 .21.15.46.55.38A8.013 8.013 0 0016 8c0-4.42-3.58-8-8-8z"></path></svg>
</a>
    <ul class="list-style-none d-flex flex-wrap col-12 col-lg-5 flex-justify-center flex-lg-justify-between mb-2 mb-lg-0">
        <li class="mr-3 mr-lg-0"><a data-ga-click="Footer, go to contact, text:contact" href="https://github.com/contact">Contact GitHub</a></li>
        <li class="mr-3 mr-lg-0"><a href="https://github.com/pricing" data-ga-click="Footer, go to Pricing, text:Pricing">Pricing</a></li>
      <li class="mr-3 mr-lg-0"><a href="https://docs.github.com" data-ga-click="Footer, go to api, text:api">API</a></li>
      <li class="mr-3 mr-lg-0"><a href="https://services.github.com" data-ga-click="Footer, go to training, text:training">Training</a></li>
        <li class="mr-3 mr-lg-0"><a href="https://github.blog" data-ga-click="Footer, go to blog, text:blog">Blog</a></li>
        <li><a data-ga-click="Footer, go to about, text:about" href="https://github.com/about">About</a></li>
    </ul>
  </div>
  <div class="d-flex flex-justify-center pb-6">
    <span class="f6 text-gray-light"></span>
  </div>

  
</div>



  <div id="ajax-error-message" class="ajax-error-message flash flash-error" hidden>
    <svg class="octicon octicon-alert" viewBox="0 0 16 16" version="1.1" width="16" height="16" aria-hidden="true"><path fill-rule="evenodd" d="M8.22 1.754a.25.25 0 00-.44 0L1.698 13.132a.25.25 0 00.22.368h12.164a.25.25 0 00.22-.368L8.22 1.754zm-1.763-.707c.659-1.234 2.427-1.234 3.086 0l6.082 11.378A1.75 1.75 0 0114.082 15H1.918a1.75 1.75 0 01-1.543-2.575L6.457 1.047zM9 11a1 1 0 11-2 0 1 1 0 012 0zm-.25-5.25a.75.75 0 00-1.5 0v2.5a.75.75 0 001.5 0v-2.5z"></path></svg>
    <button type="button" class="flash-close js-ajax-error-dismiss" aria-label="Dismiss error">
      <svg class="octicon octicon-x" viewBox="0 0 16 16" version="1.1" width="16" height="16" aria-hidden="true"><path fill-rule="evenodd" d="M3.72 3.72a.75.75 0 011.06 0L8 6.94l3.22-3.22a.75.75 0 111.06 1.06L9.06 8l3.22 3.22a.75.75 0 11-1.06 1.06L8 9.06l-3.22 3.22a.75.75 0 01-1.06-1.06L6.94 8 3.72 4.78a.75.75 0 010-1.06z"></path></svg>
    </button>
    You can’t perform that action at this time.
  </div>


  <div class="js-stale-session-flash flash flash-warn flash-banner" hidden
    >
    <svg class="octicon octicon-alert" viewBox="0 0 16 16" version="1.1" width="16" height="16" aria-hidden="true"><path fill-rule="evenodd" d="M8.22 1.754a.25.25 0 00-.44 0L1.698 13.132a.25.25 0 00.22.368h12.164a.25.25 0 00.22-.368L8.22 1.754zm-1.763-.707c.659-1.234 2.427-1.234 3.086 0l6.082 11.378A1.75 1.75 0 0114.082 15H1.918a1.75 1.75 0 01-1.543-2.575L6.457 1.047zM9 11a1 1 0 11-2 0 1 1 0 012 0zm-.25-5.25a.75.75 0 00-1.5 0v2.5a.75.75 0 001.5 0v-2.5z"></path></svg>
    <span class="js-stale-session-flash-signed-in" hidden>You signed in with another tab or window. <a href="">Reload</a> to refresh your session.</span>
    <span class="js-stale-session-flash-signed-out" hidden>You signed out in another tab or window. <a href="">Reload</a> to refresh your session.</span>
  </div>
    <template id="site-details-dialog">
  <details class="details-reset details-overlay details-overlay-dark lh-default text-gray-dark hx_rsm" open>
    <summary role="button" aria-label="Close dialog"></summary>
    <details-dialog class="Box Box--overlay d-flex flex-column anim-fade-in fast hx_rsm-dialog hx_rsm-modal">
      <button class="Box-btn-octicon m-0 btn-octicon position-absolute right-0 top-0" type="button" aria-label="Close dialog" data-close-dialog>
        <svg class="octicon octicon-x" viewBox="0 0 16 16" version="1.1" width="16" height="16" aria-hidden="true"><path fill-rule="evenodd" d="M3.72 3.72a.75.75 0 011.06 0L8 6.94l3.22-3.22a.75.75 0 111.06 1.06L9.06 8l3.22 3.22a.75.75 0 11-1.06 1.06L8 9.06l-3.22 3.22a.75.75 0 01-1.06-1.06L6.94 8 3.72 4.78a.75.75 0 010-1.06z"></path></svg>
      </button>
      <div class="octocat-spinner my-6 js-details-dialog-spinner"></div>
    </details-dialog>
  </details>
</template>

    <div class="Popover js-hovercard-content position-absolute" style="display: none; outline: none;" tabindex="0">
  <div class="Popover-message Popover-message--bottom-left Popover-message--large Box box-shadow-large" style="width:360px;">
  </div>
</div>


  </body>
</html>

