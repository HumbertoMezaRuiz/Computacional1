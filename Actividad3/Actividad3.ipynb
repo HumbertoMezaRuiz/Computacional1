{
  "nbformat": 4,
  "nbformat_minor": 0,
  "metadata": {
    "colab": {
      "name": "Actividad3.ipynb",
      "provenance": [],
      "collapsed_sections": []
    },
    "kernelspec": {
      "name": "python3",
      "display_name": "Python 3"
    }
  },
  "cells": [
    {
      "cell_type": "code",
      "metadata": {
        "id": "aKYWv4NB0wrn"
      },
      "source": [
        "import numpy as np\r\n",
        "import pandas as pd #Esta biblioteca es para las graficas\r\n",
        "\r\n",
        "url1 = \"https://raw.githubusercontent.com/HumbertoMezaRuiz/FisicaComputacional1/main/Actividad1/diarios.txt\"  #Definimos este link para usar el texo desde ahi\r\n",
        "encabezado = ['Fecha','Precipit','Evap','Tmax','Tmin'] #Definimos aqui los encabezados para tener mas orden al definir el df\r\n",
        "#Ahora definimos nuestro df, donde como archivo pondremos el link url1 y en names, los encabezado definidos previamente\r\n",
        "df_dist = pd.read_csv(url1, names=encabezado, encoding='cp1251', sep='\\s+', skiprows=19, skipfooter=2, header=None, engine='python')\r\n"
      ],
      "execution_count": null,
      "outputs": []
    },
    {
      "cell_type": "code",
      "metadata": {
        "colab": {
          "base_uri": "https://localhost:8080/"
        },
        "id": "Im2MTQs7IsZi",
        "outputId": "a9f0fb39-1a1b-4d0f-b650-c4b9b330bcd2"
      },
      "source": [
        "print(df_dist.head(10))     #Esto es para ver las primeras 10 lineas del cuadro\r\n",
        "print(df_dist.tail(10))     #Eso para ver las ultimas 10 lineas de datos"
      ],
      "execution_count": null,
      "outputs": [
        {
          "output_type": "stream",
          "text": [
            "        Fecha Precipit  Evap Tmax Tmin\n",
            "0  01/03/1973        0  Nulo   29   12\n",
            "1  02/03/1973        0  Nulo   30   12\n",
            "2  03/03/1973        0  Nulo   29    9\n",
            "3  04/03/1973        0  Nulo   28    8\n",
            "4  05/03/1973        0  Nulo   28    7\n",
            "5  06/03/1973        0  Nulo   25    9\n",
            "6  07/03/1973        0  Nulo   26    7\n",
            "7  08/03/1973        0  Nulo   27    8\n",
            "8  09/03/1973        0  Nulo   27   10\n",
            "9  10/03/1973        0  Nulo   23    6\n",
            "           Fecha Precipit  Evap Tmax Tmin\n",
            "6888  21/03/2016        0  Nulo   39   11\n",
            "6889  22/03/2016        0  Nulo   34   12\n",
            "6890  23/03/2016        0  Nulo   31   12\n",
            "6891  24/03/2016        0  Nulo   30   11\n",
            "6892  25/03/2016        0  Nulo   31    9\n",
            "6893  26/03/2016        0  Nulo   30   11\n",
            "6894  27/03/2016        0  Nulo   30   11\n",
            "6895  28/03/2016        0  Nulo   28   12\n",
            "6896  29/03/2016        0  Nulo   28   11\n",
            "6897  30/03/2016        0  Nulo   29   12\n"
          ],
          "name": "stdout"
        }
      ]
    },
    {
      "cell_type": "code",
      "metadata": {
        "colab": {
          "base_uri": "https://localhost:8080/"
        },
        "id": "MvZ0YfUhJbQJ",
        "outputId": "657dad8d-000f-4079-ea9b-5f1bb73552fe"
      },
      "source": [
        "df_dist.shape   #Aqui podemos ver el numero de filas y columnas"
      ],
      "execution_count": null,
      "outputs": [
        {
          "output_type": "execute_result",
          "data": {
            "text/plain": [
              "(6898, 5)"
            ]
          },
          "metadata": {
            "tags": []
          },
          "execution_count": 6
        }
      ]
    },
    {
      "cell_type": "code",
      "metadata": {
        "colab": {
          "base_uri": "https://localhost:8080/"
        },
        "id": "wQvX01HcJ2mV",
        "outputId": "556b9131-ca28-4f9e-8129-0281a43b3bfb"
      },
      "source": [
        "df_dist.info()    #Aqui vemos la cantidad de objetos por cada encabezado"
      ],
      "execution_count": null,
      "outputs": [
        {
          "output_type": "stream",
          "text": [
            "<class 'pandas.core.frame.DataFrame'>\n",
            "RangeIndex: 6898 entries, 0 to 6897\n",
            "Data columns (total 5 columns):\n",
            " #   Column    Non-Null Count  Dtype \n",
            "---  ------    --------------  ----- \n",
            " 0   Fecha     6898 non-null   object\n",
            " 1   Precipit  6898 non-null   object\n",
            " 2   Evap      6898 non-null   object\n",
            " 3   Tmax      6898 non-null   object\n",
            " 4   Tmin      6898 non-null   object\n",
            "dtypes: object(5)\n",
            "memory usage: 269.6+ KB\n"
          ],
          "name": "stdout"
        }
      ]
    },
    {
      "cell_type": "code",
      "metadata": {
        "colab": {
          "base_uri": "https://localhost:8080/",
          "height": 204
        },
        "id": "pu3tvsh4LODt",
        "outputId": "0dbbd6d1-0a47-44a5-de88-a8c99e78a849"
      },
      "source": [
        "df_work0 = df_dist.copy()     #Hacemos una copia de nuestros datos para manipularlos sin miedo a perderlos\r\n",
        "df_work0.head()              #Verificamos que la copia sea correcta"
      ],
      "execution_count": null,
      "outputs": [
        {
          "output_type": "execute_result",
          "data": {
            "text/html": [
              "<div>\n",
              "<style scoped>\n",
              "    .dataframe tbody tr th:only-of-type {\n",
              "        vertical-align: middle;\n",
              "    }\n",
              "\n",
              "    .dataframe tbody tr th {\n",
              "        vertical-align: top;\n",
              "    }\n",
              "\n",
              "    .dataframe thead th {\n",
              "        text-align: right;\n",
              "    }\n",
              "</style>\n",
              "<table border=\"1\" class=\"dataframe\">\n",
              "  <thead>\n",
              "    <tr style=\"text-align: right;\">\n",
              "      <th></th>\n",
              "      <th>Fecha</th>\n",
              "      <th>Precipit</th>\n",
              "      <th>Evap</th>\n",
              "      <th>Tmax</th>\n",
              "      <th>Tmin</th>\n",
              "    </tr>\n",
              "  </thead>\n",
              "  <tbody>\n",
              "    <tr>\n",
              "      <th>0</th>\n",
              "      <td>01/03/1973</td>\n",
              "      <td>0</td>\n",
              "      <td>Nulo</td>\n",
              "      <td>29</td>\n",
              "      <td>12</td>\n",
              "    </tr>\n",
              "    <tr>\n",
              "      <th>1</th>\n",
              "      <td>02/03/1973</td>\n",
              "      <td>0</td>\n",
              "      <td>Nulo</td>\n",
              "      <td>30</td>\n",
              "      <td>12</td>\n",
              "    </tr>\n",
              "    <tr>\n",
              "      <th>2</th>\n",
              "      <td>03/03/1973</td>\n",
              "      <td>0</td>\n",
              "      <td>Nulo</td>\n",
              "      <td>29</td>\n",
              "      <td>9</td>\n",
              "    </tr>\n",
              "    <tr>\n",
              "      <th>3</th>\n",
              "      <td>04/03/1973</td>\n",
              "      <td>0</td>\n",
              "      <td>Nulo</td>\n",
              "      <td>28</td>\n",
              "      <td>8</td>\n",
              "    </tr>\n",
              "    <tr>\n",
              "      <th>4</th>\n",
              "      <td>05/03/1973</td>\n",
              "      <td>0</td>\n",
              "      <td>Nulo</td>\n",
              "      <td>28</td>\n",
              "      <td>7</td>\n",
              "    </tr>\n",
              "  </tbody>\n",
              "</table>\n",
              "</div>"
            ],
            "text/plain": [
              "        Fecha Precipit  Evap Tmax Tmin\n",
              "0  01/03/1973        0  Nulo   29   12\n",
              "1  02/03/1973        0  Nulo   30   12\n",
              "2  03/03/1973        0  Nulo   29    9\n",
              "3  04/03/1973        0  Nulo   28    8\n",
              "4  05/03/1973        0  Nulo   28    7"
            ]
          },
          "metadata": {
            "tags": []
          },
          "execution_count": 8
        }
      ]
    },
    {
      "cell_type": "code",
      "metadata": {
        "colab": {
          "base_uri": "https://localhost:8080/",
          "height": 204
        },
        "id": "ZWs0CduzLQ2l",
        "outputId": "b0c1704c-f600-4b64-a229-494cef441bad"
      },
      "source": [
        "str_Nulo = 'Nulo'    #Aqui pondremos lo que querramos quitar, es decir, en mis datos hay datos que dicen 'nulos'\r\n",
        "df_work1 = df_work0.replace(to_replace=str_Nulo, value='', regex=True)        #Reemplazamos todos los nulos, en este caso, quedara en blanco\r\n",
        "df_work1.head()  #Checamos"
      ],
      "execution_count": null,
      "outputs": [
        {
          "output_type": "execute_result",
          "data": {
            "text/html": [
              "<div>\n",
              "<style scoped>\n",
              "    .dataframe tbody tr th:only-of-type {\n",
              "        vertical-align: middle;\n",
              "    }\n",
              "\n",
              "    .dataframe tbody tr th {\n",
              "        vertical-align: top;\n",
              "    }\n",
              "\n",
              "    .dataframe thead th {\n",
              "        text-align: right;\n",
              "    }\n",
              "</style>\n",
              "<table border=\"1\" class=\"dataframe\">\n",
              "  <thead>\n",
              "    <tr style=\"text-align: right;\">\n",
              "      <th></th>\n",
              "      <th>Fecha</th>\n",
              "      <th>Precipit</th>\n",
              "      <th>Evap</th>\n",
              "      <th>Tmax</th>\n",
              "      <th>Tmin</th>\n",
              "    </tr>\n",
              "  </thead>\n",
              "  <tbody>\n",
              "    <tr>\n",
              "      <th>0</th>\n",
              "      <td>01/03/1973</td>\n",
              "      <td>0</td>\n",
              "      <td></td>\n",
              "      <td>29</td>\n",
              "      <td>12</td>\n",
              "    </tr>\n",
              "    <tr>\n",
              "      <th>1</th>\n",
              "      <td>02/03/1973</td>\n",
              "      <td>0</td>\n",
              "      <td></td>\n",
              "      <td>30</td>\n",
              "      <td>12</td>\n",
              "    </tr>\n",
              "    <tr>\n",
              "      <th>2</th>\n",
              "      <td>03/03/1973</td>\n",
              "      <td>0</td>\n",
              "      <td></td>\n",
              "      <td>29</td>\n",
              "      <td>9</td>\n",
              "    </tr>\n",
              "    <tr>\n",
              "      <th>3</th>\n",
              "      <td>04/03/1973</td>\n",
              "      <td>0</td>\n",
              "      <td></td>\n",
              "      <td>28</td>\n",
              "      <td>8</td>\n",
              "    </tr>\n",
              "    <tr>\n",
              "      <th>4</th>\n",
              "      <td>05/03/1973</td>\n",
              "      <td>0</td>\n",
              "      <td></td>\n",
              "      <td>28</td>\n",
              "      <td>7</td>\n",
              "    </tr>\n",
              "  </tbody>\n",
              "</table>\n",
              "</div>"
            ],
            "text/plain": [
              "        Fecha Precipit Evap Tmax Tmin\n",
              "0  01/03/1973        0        29   12\n",
              "1  02/03/1973        0        30   12\n",
              "2  03/03/1973        0        29    9\n",
              "3  04/03/1973        0        28    8\n",
              "4  05/03/1973        0        28    7"
            ]
          },
          "metadata": {
            "tags": []
          },
          "execution_count": 9
        }
      ]
    },
    {
      "cell_type": "code",
      "metadata": {
        "colab": {
          "base_uri": "https://localhost:8080/"
        },
        "id": "v7nHsEPPLcEf",
        "outputId": "b9f24b16-282b-40ad-e351-1c2f02b9f9dd"
      },
      "source": [
        "df_work1.info()       #Pedimos el numero de objetos\r\n",
        "print(df_work1.head())#Imprimimos los datos de 5 filas"
      ],
      "execution_count": null,
      "outputs": [
        {
          "output_type": "stream",
          "text": [
            "<class 'pandas.core.frame.DataFrame'>\n",
            "RangeIndex: 6898 entries, 0 to 6897\n",
            "Data columns (total 5 columns):\n",
            " #   Column    Non-Null Count  Dtype \n",
            "---  ------    --------------  ----- \n",
            " 0   Fecha     6898 non-null   object\n",
            " 1   Precipit  6898 non-null   object\n",
            " 2   Evap      6898 non-null   object\n",
            " 3   Tmax      6898 non-null   object\n",
            " 4   Tmin      6898 non-null   object\n",
            "dtypes: object(5)\n",
            "memory usage: 269.6+ KB\n",
            "        Fecha Precipit Evap Tmax Tmin\n",
            "0  01/03/1973        0        29   12\n",
            "1  02/03/1973        0        30   12\n",
            "2  03/03/1973        0        29    9\n",
            "3  04/03/1973        0        28    8\n",
            "4  05/03/1973        0        28    7\n"
          ],
          "name": "stdout"
        }
      ]
    },
    {
      "cell_type": "code",
      "metadata": {
        "colab": {
          "base_uri": "https://localhost:8080/"
        },
        "id": "eEF2ecsmLdW_",
        "outputId": "2d79003f-58f5-4f01-cf3b-e34434fd6494"
      },
      "source": [
        "# Deseamos convertir los valores de las variables ambientales a núm. flotantes \r\n",
        "cols_list = ['Precipit', 'Evap', 'Tmax', 'Tmin']\r\n",
        "for cols in cols_list:\r\n",
        "  df_work1[cols] = pd.to_numeric(df_work1[cols], errors='coerce')\r\n",
        "\r\n",
        "df_work1.info()"
      ],
      "execution_count": null,
      "outputs": [
        {
          "output_type": "stream",
          "text": [
            "<class 'pandas.core.frame.DataFrame'>\n",
            "RangeIndex: 6898 entries, 0 to 6897\n",
            "Data columns (total 5 columns):\n",
            " #   Column    Non-Null Count  Dtype  \n",
            "---  ------    --------------  -----  \n",
            " 0   Fecha     6898 non-null   object \n",
            " 1   Precipit  6774 non-null   float64\n",
            " 2   Evap      823 non-null    float64\n",
            " 3   Tmax      6818 non-null   float64\n",
            " 4   Tmin      6812 non-null   float64\n",
            "dtypes: float64(4), object(1)\n",
            "memory usage: 269.6+ KB\n"
          ],
          "name": "stdout"
        }
      ]
    },
    {
      "cell_type": "code",
      "metadata": {
        "colab": {
          "base_uri": "https://localhost:8080/"
        },
        "id": "Kh4s00VkMbix",
        "outputId": "0f78f5bf-03cc-4121-a480-49a5ac5e0bde"
      },
      "source": [
        "df_work1.isnull().sum() #Ahora vemos los objetos nulos que tenemos en cada columna"
      ],
      "execution_count": null,
      "outputs": [
        {
          "output_type": "execute_result",
          "data": {
            "text/plain": [
              "Fecha          0\n",
              "Precipit     124\n",
              "Evap        6075\n",
              "Tmax          80\n",
              "Tmin          86\n",
              "dtype: int64"
            ]
          },
          "metadata": {
            "tags": []
          },
          "execution_count": 12
        }
      ]
    },
    {
      "cell_type": "code",
      "metadata": {
        "colab": {
          "base_uri": "https://localhost:8080/"
        },
        "id": "gNvS9nosMqpn",
        "outputId": "a46e62ab-4315-4108-9321-b74d2565fde4"
      },
      "source": [
        "print(df_work0.head())       #Checamos como teniamos antes los datos\r\n",
        "print(df_work1.head())       #Checamos como ahora tenemos numeros reales y sin nulos"
      ],
      "execution_count": null,
      "outputs": [
        {
          "output_type": "stream",
          "text": [
            "        Fecha Precipit  Evap Tmax Tmin\n",
            "0  01/03/1973        0  Nulo   29   12\n",
            "1  02/03/1973        0  Nulo   30   12\n",
            "2  03/03/1973        0  Nulo   29    9\n",
            "3  04/03/1973        0  Nulo   28    8\n",
            "4  05/03/1973        0  Nulo   28    7\n",
            "        Fecha  Precipit  Evap  Tmax  Tmin\n",
            "0  01/03/1973       0.0   NaN  29.0  12.0\n",
            "1  02/03/1973       0.0   NaN  30.0  12.0\n",
            "2  03/03/1973       0.0   NaN  29.0   9.0\n",
            "3  04/03/1973       0.0   NaN  28.0   8.0\n",
            "4  05/03/1973       0.0   NaN  28.0   7.0\n"
          ],
          "name": "stdout"
        }
      ]
    },
    {
      "cell_type": "code",
      "metadata": {
        "colab": {
          "base_uri": "https://localhost:8080/",
          "height": 297
        },
        "id": "zi_OrTZNM0i5",
        "outputId": "2298bac9-91f0-4168-890f-c303a1dabc7c"
      },
      "source": [
        "df_work1.describe().round(2) #Una estadistica de todos nuestros datos"
      ],
      "execution_count": null,
      "outputs": [
        {
          "output_type": "execute_result",
          "data": {
            "text/html": [
              "<div>\n",
              "<style scoped>\n",
              "    .dataframe tbody tr th:only-of-type {\n",
              "        vertical-align: middle;\n",
              "    }\n",
              "\n",
              "    .dataframe tbody tr th {\n",
              "        vertical-align: top;\n",
              "    }\n",
              "\n",
              "    .dataframe thead th {\n",
              "        text-align: right;\n",
              "    }\n",
              "</style>\n",
              "<table border=\"1\" class=\"dataframe\">\n",
              "  <thead>\n",
              "    <tr style=\"text-align: right;\">\n",
              "      <th></th>\n",
              "      <th>Precipit</th>\n",
              "      <th>Evap</th>\n",
              "      <th>Tmax</th>\n",
              "      <th>Tmin</th>\n",
              "    </tr>\n",
              "  </thead>\n",
              "  <tbody>\n",
              "    <tr>\n",
              "      <th>count</th>\n",
              "      <td>6774.00</td>\n",
              "      <td>823.00</td>\n",
              "      <td>6818.00</td>\n",
              "      <td>6812.00</td>\n",
              "    </tr>\n",
              "    <tr>\n",
              "      <th>mean</th>\n",
              "      <td>0.58</td>\n",
              "      <td>8.48</td>\n",
              "      <td>32.75</td>\n",
              "      <td>15.11</td>\n",
              "    </tr>\n",
              "    <tr>\n",
              "      <th>std</th>\n",
              "      <td>4.68</td>\n",
              "      <td>3.20</td>\n",
              "      <td>5.85</td>\n",
              "      <td>6.72</td>\n",
              "    </tr>\n",
              "    <tr>\n",
              "      <th>min</th>\n",
              "      <td>0.00</td>\n",
              "      <td>0.10</td>\n",
              "      <td>6.00</td>\n",
              "      <td>-1.00</td>\n",
              "    </tr>\n",
              "    <tr>\n",
              "      <th>25%</th>\n",
              "      <td>0.00</td>\n",
              "      <td>6.10</td>\n",
              "      <td>28.00</td>\n",
              "      <td>10.00</td>\n",
              "    </tr>\n",
              "    <tr>\n",
              "      <th>50%</th>\n",
              "      <td>0.00</td>\n",
              "      <td>8.60</td>\n",
              "      <td>34.00</td>\n",
              "      <td>14.00</td>\n",
              "    </tr>\n",
              "    <tr>\n",
              "      <th>75%</th>\n",
              "      <td>0.00</td>\n",
              "      <td>10.70</td>\n",
              "      <td>38.00</td>\n",
              "      <td>22.00</td>\n",
              "    </tr>\n",
              "    <tr>\n",
              "      <th>max</th>\n",
              "      <td>180.00</td>\n",
              "      <td>17.90</td>\n",
              "      <td>46.00</td>\n",
              "      <td>31.00</td>\n",
              "    </tr>\n",
              "  </tbody>\n",
              "</table>\n",
              "</div>"
            ],
            "text/plain": [
              "       Precipit    Evap     Tmax     Tmin\n",
              "count   6774.00  823.00  6818.00  6812.00\n",
              "mean       0.58    8.48    32.75    15.11\n",
              "std        4.68    3.20     5.85     6.72\n",
              "min        0.00    0.10     6.00    -1.00\n",
              "25%        0.00    6.10    28.00    10.00\n",
              "50%        0.00    8.60    34.00    14.00\n",
              "75%        0.00   10.70    38.00    22.00\n",
              "max      180.00   17.90    46.00    31.00"
            ]
          },
          "metadata": {
            "tags": []
          },
          "execution_count": 14
        }
      ]
    },
    {
      "cell_type": "code",
      "metadata": {
        "colab": {
          "base_uri": "https://localhost:8080/"
        },
        "id": "fx9g2ZDzM6w4",
        "outputId": "c97f5f2f-513d-45a2-a8c5-85f92cee3452"
      },
      "source": [
        "print(df_work1.head())\r\n",
        "print(df_work1.tail())"
      ],
      "execution_count": null,
      "outputs": [
        {
          "output_type": "stream",
          "text": [
            "        Fecha  Precipit  Evap  Tmax  Tmin\n",
            "0  01/03/1973       0.0   NaN  29.0  12.0\n",
            "1  02/03/1973       0.0   NaN  30.0  12.0\n",
            "2  03/03/1973       0.0   NaN  29.0   9.0\n",
            "3  04/03/1973       0.0   NaN  28.0   8.0\n",
            "4  05/03/1973       0.0   NaN  28.0   7.0\n",
            "           Fecha  Precipit  Evap  Tmax  Tmin\n",
            "6893  26/03/2016       0.0   NaN  30.0  11.0\n",
            "6894  27/03/2016       0.0   NaN  30.0  11.0\n",
            "6895  28/03/2016       0.0   NaN  28.0  12.0\n",
            "6896  29/03/2016       0.0   NaN  28.0  11.0\n",
            "6897  30/03/2016       0.0   NaN  29.0  12.0\n"
          ],
          "name": "stdout"
        }
      ]
    },
    {
      "cell_type": "code",
      "metadata": {
        "colab": {
          "base_uri": "https://localhost:8080/",
          "height": 297
        },
        "id": "2zKdbmJuNOai",
        "outputId": "b089f6e0-a24a-40d0-bb52-d20c79ad0d0a"
      },
      "source": [
        "df_work1.describe()"
      ],
      "execution_count": null,
      "outputs": [
        {
          "output_type": "execute_result",
          "data": {
            "text/html": [
              "<div>\n",
              "<style scoped>\n",
              "    .dataframe tbody tr th:only-of-type {\n",
              "        vertical-align: middle;\n",
              "    }\n",
              "\n",
              "    .dataframe tbody tr th {\n",
              "        vertical-align: top;\n",
              "    }\n",
              "\n",
              "    .dataframe thead th {\n",
              "        text-align: right;\n",
              "    }\n",
              "</style>\n",
              "<table border=\"1\" class=\"dataframe\">\n",
              "  <thead>\n",
              "    <tr style=\"text-align: right;\">\n",
              "      <th></th>\n",
              "      <th>Precipit</th>\n",
              "      <th>Evap</th>\n",
              "      <th>Tmax</th>\n",
              "      <th>Tmin</th>\n",
              "    </tr>\n",
              "  </thead>\n",
              "  <tbody>\n",
              "    <tr>\n",
              "      <th>count</th>\n",
              "      <td>6774.000000</td>\n",
              "      <td>823.000000</td>\n",
              "      <td>6818.000000</td>\n",
              "      <td>6812.00000</td>\n",
              "    </tr>\n",
              "    <tr>\n",
              "      <th>mean</th>\n",
              "      <td>0.583776</td>\n",
              "      <td>8.477521</td>\n",
              "      <td>32.752728</td>\n",
              "      <td>15.11377</td>\n",
              "    </tr>\n",
              "    <tr>\n",
              "      <th>std</th>\n",
              "      <td>4.675694</td>\n",
              "      <td>3.196214</td>\n",
              "      <td>5.852063</td>\n",
              "      <td>6.72071</td>\n",
              "    </tr>\n",
              "    <tr>\n",
              "      <th>min</th>\n",
              "      <td>0.000000</td>\n",
              "      <td>0.100000</td>\n",
              "      <td>6.000000</td>\n",
              "      <td>-1.00000</td>\n",
              "    </tr>\n",
              "    <tr>\n",
              "      <th>25%</th>\n",
              "      <td>0.000000</td>\n",
              "      <td>6.100000</td>\n",
              "      <td>28.000000</td>\n",
              "      <td>10.00000</td>\n",
              "    </tr>\n",
              "    <tr>\n",
              "      <th>50%</th>\n",
              "      <td>0.000000</td>\n",
              "      <td>8.600000</td>\n",
              "      <td>34.000000</td>\n",
              "      <td>14.00000</td>\n",
              "    </tr>\n",
              "    <tr>\n",
              "      <th>75%</th>\n",
              "      <td>0.000000</td>\n",
              "      <td>10.700000</td>\n",
              "      <td>38.000000</td>\n",
              "      <td>22.00000</td>\n",
              "    </tr>\n",
              "    <tr>\n",
              "      <th>max</th>\n",
              "      <td>180.000000</td>\n",
              "      <td>17.900000</td>\n",
              "      <td>46.000000</td>\n",
              "      <td>31.00000</td>\n",
              "    </tr>\n",
              "  </tbody>\n",
              "</table>\n",
              "</div>"
            ],
            "text/plain": [
              "          Precipit        Evap         Tmax        Tmin\n",
              "count  6774.000000  823.000000  6818.000000  6812.00000\n",
              "mean      0.583776    8.477521    32.752728    15.11377\n",
              "std       4.675694    3.196214     5.852063     6.72071\n",
              "min       0.000000    0.100000     6.000000    -1.00000\n",
              "25%       0.000000    6.100000    28.000000    10.00000\n",
              "50%       0.000000    8.600000    34.000000    14.00000\n",
              "75%       0.000000   10.700000    38.000000    22.00000\n",
              "max     180.000000   17.900000    46.000000    31.00000"
            ]
          },
          "metadata": {
            "tags": []
          },
          "execution_count": 16
        }
      ]
    },
    {
      "cell_type": "code",
      "metadata": {
        "colab": {
          "base_uri": "https://localhost:8080/"
        },
        "id": "uYQzKWtaMaBO",
        "outputId": "4184e185-d52e-4482-a257-6cc0b1d8218d"
      },
      "source": [
        "df_work2 = df_work1.copy() #hacemos otra copia para hacer otro cambio\r\n",
        "df_work2['Fecha'].head()   #Veamos los datos de las fechas"
      ],
      "execution_count": null,
      "outputs": [
        {
          "output_type": "execute_result",
          "data": {
            "text/plain": [
              "0    01/03/1973\n",
              "1    02/03/1973\n",
              "2    03/03/1973\n",
              "3    04/03/1973\n",
              "4    05/03/1973\n",
              "Name: Fecha, dtype: object"
            ]
          },
          "metadata": {
            "tags": []
          },
          "execution_count": 18
        }
      ]
    },
    {
      "cell_type": "code",
      "metadata": {
        "colab": {
          "base_uri": "https://localhost:8080/"
        },
        "id": "5njKhdFRONDF",
        "outputId": "80d68dd0-7515-4307-f3e0-34b6e0f8f66a"
      },
      "source": [
        "df_work2['Fecha']=pd.to_datetime(df_work2['Fecha'], dayfirst=True).copy() #Le decimos a python que esa columna son fehcas y le decimos que el primer numero son los dias\r\n",
        "print(df_work1.head()) #Vemos que todo este bien"
      ],
      "execution_count": null,
      "outputs": [
        {
          "output_type": "stream",
          "text": [
            "        Fecha  Precipit  Evap  Tmax  Tmin\n",
            "0  01/03/1973       0.0   NaN  29.0  12.0\n",
            "1  02/03/1973       0.0   NaN  30.0  12.0\n",
            "2  03/03/1973       0.0   NaN  29.0   9.0\n",
            "3  04/03/1973       0.0   NaN  28.0   8.0\n",
            "4  05/03/1973       0.0   NaN  28.0   7.0\n"
          ],
          "name": "stdout"
        }
      ]
    },
    {
      "cell_type": "code",
      "metadata": {
        "colab": {
          "base_uri": "https://localhost:8080/"
        },
        "id": "7_8Qn_HqOgvv",
        "outputId": "9babc0c3-8f05-465b-aa26-3264017aa759"
      },
      "source": [
        "df_work2.dtypes #Vemos los tipos justo ahora\r\n"
      ],
      "execution_count": null,
      "outputs": [
        {
          "output_type": "execute_result",
          "data": {
            "text/plain": [
              "Fecha       datetime64[ns]\n",
              "Precipit           float64\n",
              "Evap               float64\n",
              "Tmax               float64\n",
              "Tmin               float64\n",
              "dtype: object"
            ]
          },
          "metadata": {
            "tags": []
          },
          "execution_count": 22
        }
      ]
    },
    {
      "cell_type": "code",
      "metadata": {
        "id": "6OhLsOfROkN0"
      },
      "source": [
        "df_work2['Año'] = df_work2['Fecha'].dt.year  #Vamos a crear una columna con el año de las fechas\r\n",
        "df_work2['Mes'] = df_work2['Fecha'].dt.month #y otras con el mes"
      ],
      "execution_count": null,
      "outputs": []
    },
    {
      "cell_type": "code",
      "metadata": {
        "colab": {
          "base_uri": "https://localhost:8080/"
        },
        "id": "rz8JU9trOqAt",
        "outputId": "c9b209ff-6643-4f9a-be03-326855d203c0"
      },
      "source": [
        "#Podemos checar para ver las nuevas columnas\r\n",
        "print(df_work2.head())\r\n",
        "print(df_work2.tail())"
      ],
      "execution_count": null,
      "outputs": [
        {
          "output_type": "stream",
          "text": [
            "       Fecha  Precipit  Evap  Tmax  Tmin   Año  Mes\n",
            "0 1973-03-01       0.0   NaN  29.0  12.0  1973    3\n",
            "1 1973-03-02       0.0   NaN  30.0  12.0  1973    3\n",
            "2 1973-03-03       0.0   NaN  29.0   9.0  1973    3\n",
            "3 1973-03-04       0.0   NaN  28.0   8.0  1973    3\n",
            "4 1973-03-05       0.0   NaN  28.0   7.0  1973    3\n",
            "          Fecha  Precipit  Evap  Tmax  Tmin   Año  Mes\n",
            "6893 2016-03-26       0.0   NaN  30.0  11.0  2016    3\n",
            "6894 2016-03-27       0.0   NaN  30.0  11.0  2016    3\n",
            "6895 2016-03-28       0.0   NaN  28.0  12.0  2016    3\n",
            "6896 2016-03-29       0.0   NaN  28.0  11.0  2016    3\n",
            "6897 2016-03-30       0.0   NaN  29.0  12.0  2016    3\n"
          ],
          "name": "stdout"
        }
      ]
    },
    {
      "cell_type": "code",
      "metadata": {
        "colab": {
          "base_uri": "https://localhost:8080/"
        },
        "id": "5gRL34XPOtQL",
        "outputId": "7d317f50-8776-41a4-8ed0-564e68ea31ec"
      },
      "source": [
        "df_work2.info() #Y vemos tambien que en informacion detecra la columna fecha como datetime"
      ],
      "execution_count": null,
      "outputs": [
        {
          "output_type": "stream",
          "text": [
            "<class 'pandas.core.frame.DataFrame'>\n",
            "RangeIndex: 6898 entries, 0 to 6897\n",
            "Data columns (total 7 columns):\n",
            " #   Column    Non-Null Count  Dtype         \n",
            "---  ------    --------------  -----         \n",
            " 0   Fecha     6898 non-null   datetime64[ns]\n",
            " 1   Precipit  6774 non-null   float64       \n",
            " 2   Evap      823 non-null    float64       \n",
            " 3   Tmax      6818 non-null   float64       \n",
            " 4   Tmin      6812 non-null   float64       \n",
            " 5   Año       6898 non-null   int64         \n",
            " 6   Mes       6898 non-null   int64         \n",
            "dtypes: datetime64[ns](1), float64(4), int64(2)\n",
            "memory usage: 377.4 KB\n"
          ],
          "name": "stdout"
        }
      ]
    }
  ]
}