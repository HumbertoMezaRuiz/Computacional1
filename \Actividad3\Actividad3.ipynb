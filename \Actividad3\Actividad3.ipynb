{
  "nbformat": 4,
  "nbformat_minor": 0,
  "metadata": {
    "colab": {
      "name": "Actividad3.ipynb",
      "provenance": [],
      "authorship_tag": "ABX9TyNDYagUAzsCSSKkCkZhpvNM",
      "include_colab_link": true
    },
    "kernelspec": {
      "name": "python3",
      "display_name": "Python 3"
    }
  },
  "cells": [
    {
      "cell_type": "markdown",
      "metadata": {
        "id": "view-in-github",
        "colab_type": "text"
      },
      "source": [
        "<a href=\"https://colab.research.google.com/github/HumbertoMezaRuiz/FisicaComputacional1/blob/main/%5CActividad3%5CActividad3.ipynb\" target=\"_parent\"><img src=\"https://colab.research.google.com/assets/colab-badge.svg\" alt=\"Open In Colab\"/></a>"
      ]
    },
    {
      "cell_type": "code",
      "metadata": {
        "id": "aKYWv4NB0wrn"
      },
      "source": [
        "import numpy as np\r\n",
        "import pandas as pd\r\n",
        "\r\n",
        "url1 = \"https://raw.githubusercontent.com/HumbertoMezaRuiz/FisicaComputacional1/main/Actividad1/diarios.txt\"\r\n",
        "encabezado = ['Fecha','Precipit','Evap','Tmax','Tmin']\r\n",
        "df_dist = pd.read_csv(url1, names=encabezado, encoding='cp1251', sep='\\s+', skiprows=19, skipfooter=2, header=None, engine='python')\r\n"
      ],
      "execution_count": 27,
      "outputs": []
    },
    {
      "cell_type": "code",
      "metadata": {
        "colab": {
          "base_uri": "https://localhost:8080/"
        },
        "id": "Im2MTQs7IsZi",
        "outputId": "d1643307-c2d9-44ed-884e-6d669c751a33"
      },
      "source": [
        "print(df_dist.head(10))\r\n",
        "print(df_dist.tail(10))"
      ],
      "execution_count": 32,
      "outputs": [
        {
          "output_type": "stream",
          "text": [
            "        Fecha Precipit  Evap Tmax Tmin\n",
            "0  01/03/1973        0  Nulo   29   12\n",
            "1  02/03/1973        0  Nulo   30   12\n",
            "2  03/03/1973        0  Nulo   29    9\n",
            "3  04/03/1973        0  Nulo   28    8\n",
            "4  05/03/1973        0  Nulo   28    7\n",
            "5  06/03/1973        0  Nulo   25    9\n",
            "6  07/03/1973        0  Nulo   26    7\n",
            "7  08/03/1973        0  Nulo   27    8\n",
            "8  09/03/1973        0  Nulo   27   10\n",
            "9  10/03/1973        0  Nulo   23    6\n",
            "           Fecha Precipit  Evap Tmax Tmin\n",
            "6888  21/03/2016        0  Nulo   39   11\n",
            "6889  22/03/2016        0  Nulo   34   12\n",
            "6890  23/03/2016        0  Nulo   31   12\n",
            "6891  24/03/2016        0  Nulo   30   11\n",
            "6892  25/03/2016        0  Nulo   31    9\n",
            "6893  26/03/2016        0  Nulo   30   11\n",
            "6894  27/03/2016        0  Nulo   30   11\n",
            "6895  28/03/2016        0  Nulo   28   12\n",
            "6896  29/03/2016        0  Nulo   28   11\n",
            "6897  30/03/2016        0  Nulo   29   12\n"
          ],
          "name": "stdout"
        }
      ]
    },
    {
      "cell_type": "code",
      "metadata": {
        "colab": {
          "base_uri": "https://localhost:8080/"
        },
        "id": "MvZ0YfUhJbQJ",
        "outputId": "9d10d04c-3ae2-4f2e-ad52-9f4bcb2da1ae"
      },
      "source": [
        "df_dist.shape"
      ],
      "execution_count": 29,
      "outputs": [
        {
          "output_type": "execute_result",
          "data": {
            "text/plain": [
              "(6898, 5)"
            ]
          },
          "metadata": {
            "tags": []
          },
          "execution_count": 29
        }
      ]
    },
    {
      "cell_type": "code",
      "metadata": {
        "colab": {
          "base_uri": "https://localhost:8080/"
        },
        "id": "wQvX01HcJ2mV",
        "outputId": "a1d1fe18-f23b-465e-9261-b78dfd505e02"
      },
      "source": [
        "df_dist.info()"
      ],
      "execution_count": 35,
      "outputs": [
        {
          "output_type": "stream",
          "text": [
            "<class 'pandas.core.frame.DataFrame'>\n",
            "RangeIndex: 6898 entries, 0 to 6897\n",
            "Data columns (total 5 columns):\n",
            " #   Column    Non-Null Count  Dtype \n",
            "---  ------    --------------  ----- \n",
            " 0   Fecha     6898 non-null   object\n",
            " 1   Precipit  6898 non-null   object\n",
            " 2   Evap      6898 non-null   object\n",
            " 3   Tmax      6898 non-null   object\n",
            " 4   Tmin      6898 non-null   object\n",
            "dtypes: object(5)\n",
            "memory usage: 269.6+ KB\n"
          ],
          "name": "stdout"
        }
      ]
    },
    {
      "cell_type": "code",
      "metadata": {
        "colab": {
          "base_uri": "https://localhost:8080/",
          "height": 204
        },
        "id": "pu3tvsh4LODt",
        "outputId": "f6e2e248-2aae-4063-b792-03dfd76f7555"
      },
      "source": [
        "df_work0 = df_dist.copy()\r\n",
        "df_work0.head()"
      ],
      "execution_count": 36,
      "outputs": [
        {
          "output_type": "execute_result",
          "data": {
            "text/html": [
              "<div>\n",
              "<style scoped>\n",
              "    .dataframe tbody tr th:only-of-type {\n",
              "        vertical-align: middle;\n",
              "    }\n",
              "\n",
              "    .dataframe tbody tr th {\n",
              "        vertical-align: top;\n",
              "    }\n",
              "\n",
              "    .dataframe thead th {\n",
              "        text-align: right;\n",
              "    }\n",
              "</style>\n",
              "<table border=\"1\" class=\"dataframe\">\n",
              "  <thead>\n",
              "    <tr style=\"text-align: right;\">\n",
              "      <th></th>\n",
              "      <th>Fecha</th>\n",
              "      <th>Precipit</th>\n",
              "      <th>Evap</th>\n",
              "      <th>Tmax</th>\n",
              "      <th>Tmin</th>\n",
              "    </tr>\n",
              "  </thead>\n",
              "  <tbody>\n",
              "    <tr>\n",
              "      <th>0</th>\n",
              "      <td>01/03/1973</td>\n",
              "      <td>0</td>\n",
              "      <td>Nulo</td>\n",
              "      <td>29</td>\n",
              "      <td>12</td>\n",
              "    </tr>\n",
              "    <tr>\n",
              "      <th>1</th>\n",
              "      <td>02/03/1973</td>\n",
              "      <td>0</td>\n",
              "      <td>Nulo</td>\n",
              "      <td>30</td>\n",
              "      <td>12</td>\n",
              "    </tr>\n",
              "    <tr>\n",
              "      <th>2</th>\n",
              "      <td>03/03/1973</td>\n",
              "      <td>0</td>\n",
              "      <td>Nulo</td>\n",
              "      <td>29</td>\n",
              "      <td>9</td>\n",
              "    </tr>\n",
              "    <tr>\n",
              "      <th>3</th>\n",
              "      <td>04/03/1973</td>\n",
              "      <td>0</td>\n",
              "      <td>Nulo</td>\n",
              "      <td>28</td>\n",
              "      <td>8</td>\n",
              "    </tr>\n",
              "    <tr>\n",
              "      <th>4</th>\n",
              "      <td>05/03/1973</td>\n",
              "      <td>0</td>\n",
              "      <td>Nulo</td>\n",
              "      <td>28</td>\n",
              "      <td>7</td>\n",
              "    </tr>\n",
              "  </tbody>\n",
              "</table>\n",
              "</div>"
            ],
            "text/plain": [
              "        Fecha Precipit  Evap Tmax Tmin\n",
              "0  01/03/1973        0  Nulo   29   12\n",
              "1  02/03/1973        0  Nulo   30   12\n",
              "2  03/03/1973        0  Nulo   29    9\n",
              "3  04/03/1973        0  Nulo   28    8\n",
              "4  05/03/1973        0  Nulo   28    7"
            ]
          },
          "metadata": {
            "tags": []
          },
          "execution_count": 36
        }
      ]
    },
    {
      "cell_type": "code",
      "metadata": {
        "colab": {
          "base_uri": "https://localhost:8080/",
          "height": 204
        },
        "id": "ZWs0CduzLQ2l",
        "outputId": "ae557af0-4685-47c9-9557-70ebb2065e53"
      },
      "source": [
        "str_Nulo = 'Nulo'\r\n",
        "df_work1 = df_work0.replace(to_replace=str_Nulo, value='', regex=True)\r\n",
        "df_work1.head()"
      ],
      "execution_count": 37,
      "outputs": [
        {
          "output_type": "execute_result",
          "data": {
            "text/html": [
              "<div>\n",
              "<style scoped>\n",
              "    .dataframe tbody tr th:only-of-type {\n",
              "        vertical-align: middle;\n",
              "    }\n",
              "\n",
              "    .dataframe tbody tr th {\n",
              "        vertical-align: top;\n",
              "    }\n",
              "\n",
              "    .dataframe thead th {\n",
              "        text-align: right;\n",
              "    }\n",
              "</style>\n",
              "<table border=\"1\" class=\"dataframe\">\n",
              "  <thead>\n",
              "    <tr style=\"text-align: right;\">\n",
              "      <th></th>\n",
              "      <th>Fecha</th>\n",
              "      <th>Precipit</th>\n",
              "      <th>Evap</th>\n",
              "      <th>Tmax</th>\n",
              "      <th>Tmin</th>\n",
              "    </tr>\n",
              "  </thead>\n",
              "  <tbody>\n",
              "    <tr>\n",
              "      <th>0</th>\n",
              "      <td>01/03/1973</td>\n",
              "      <td>0</td>\n",
              "      <td></td>\n",
              "      <td>29</td>\n",
              "      <td>12</td>\n",
              "    </tr>\n",
              "    <tr>\n",
              "      <th>1</th>\n",
              "      <td>02/03/1973</td>\n",
              "      <td>0</td>\n",
              "      <td></td>\n",
              "      <td>30</td>\n",
              "      <td>12</td>\n",
              "    </tr>\n",
              "    <tr>\n",
              "      <th>2</th>\n",
              "      <td>03/03/1973</td>\n",
              "      <td>0</td>\n",
              "      <td></td>\n",
              "      <td>29</td>\n",
              "      <td>9</td>\n",
              "    </tr>\n",
              "    <tr>\n",
              "      <th>3</th>\n",
              "      <td>04/03/1973</td>\n",
              "      <td>0</td>\n",
              "      <td></td>\n",
              "      <td>28</td>\n",
              "      <td>8</td>\n",
              "    </tr>\n",
              "    <tr>\n",
              "      <th>4</th>\n",
              "      <td>05/03/1973</td>\n",
              "      <td>0</td>\n",
              "      <td></td>\n",
              "      <td>28</td>\n",
              "      <td>7</td>\n",
              "    </tr>\n",
              "  </tbody>\n",
              "</table>\n",
              "</div>"
            ],
            "text/plain": [
              "        Fecha Precipit Evap Tmax Tmin\n",
              "0  01/03/1973        0        29   12\n",
              "1  02/03/1973        0        30   12\n",
              "2  03/03/1973        0        29    9\n",
              "3  04/03/1973        0        28    8\n",
              "4  05/03/1973        0        28    7"
            ]
          },
          "metadata": {
            "tags": []
          },
          "execution_count": 37
        }
      ]
    },
    {
      "cell_type": "code",
      "metadata": {
        "colab": {
          "base_uri": "https://localhost:8080/"
        },
        "id": "v7nHsEPPLcEf",
        "outputId": "1be4ca87-cd60-4fa1-f80a-1c6b62340922"
      },
      "source": [
        "df_work1.info()\r\n",
        "print(df_work1.head())"
      ],
      "execution_count": 38,
      "outputs": [
        {
          "output_type": "stream",
          "text": [
            "<class 'pandas.core.frame.DataFrame'>\n",
            "RangeIndex: 6898 entries, 0 to 6897\n",
            "Data columns (total 5 columns):\n",
            " #   Column    Non-Null Count  Dtype \n",
            "---  ------    --------------  ----- \n",
            " 0   Fecha     6898 non-null   object\n",
            " 1   Precipit  6898 non-null   object\n",
            " 2   Evap      6898 non-null   object\n",
            " 3   Tmax      6898 non-null   object\n",
            " 4   Tmin      6898 non-null   object\n",
            "dtypes: object(5)\n",
            "memory usage: 269.6+ KB\n",
            "        Fecha Precipit Evap Tmax Tmin\n",
            "0  01/03/1973        0        29   12\n",
            "1  02/03/1973        0        30   12\n",
            "2  03/03/1973        0        29    9\n",
            "3  04/03/1973        0        28    8\n",
            "4  05/03/1973        0        28    7\n"
          ],
          "name": "stdout"
        }
      ]
    },
    {
      "cell_type": "code",
      "metadata": {
        "colab": {
          "base_uri": "https://localhost:8080/"
        },
        "id": "eEF2ecsmLdW_",
        "outputId": "3fdb4287-4098-41e8-b72c-d148715b03d5"
      },
      "source": [
        "# Deseamos convertir los valores de las variables ambientales a núm. flotantes \r\n",
        "cols_list = ['Precipit', 'Evap', 'Tmax', 'Tmin']\r\n",
        "for cols in cols_list:\r\n",
        "  df_work1[cols] = pd.to_numeric(df_work1[cols], errors='coerce')\r\n",
        "\r\n",
        "df_work1.info()"
      ],
      "execution_count": 41,
      "outputs": [
        {
          "output_type": "stream",
          "text": [
            "<class 'pandas.core.frame.DataFrame'>\n",
            "RangeIndex: 6898 entries, 0 to 6897\n",
            "Data columns (total 5 columns):\n",
            " #   Column    Non-Null Count  Dtype  \n",
            "---  ------    --------------  -----  \n",
            " 0   Fecha     6898 non-null   object \n",
            " 1   Precipit  6774 non-null   float64\n",
            " 2   Evap      823 non-null    float64\n",
            " 3   Tmax      6818 non-null   float64\n",
            " 4   Tmin      6812 non-null   float64\n",
            "dtypes: float64(4), object(1)\n",
            "memory usage: 269.6+ KB\n"
          ],
          "name": "stdout"
        }
      ]
    },
    {
      "cell_type": "code",
      "metadata": {
        "colab": {
          "base_uri": "https://localhost:8080/"
        },
        "id": "Kh4s00VkMbix",
        "outputId": "036fe5ca-f0b9-46f8-b7a9-493ea10a0432"
      },
      "source": [
        "df_work1.isnull().sum()"
      ],
      "execution_count": 42,
      "outputs": [
        {
          "output_type": "execute_result",
          "data": {
            "text/plain": [
              "Fecha          0\n",
              "Precipit     124\n",
              "Evap        6075\n",
              "Tmax          80\n",
              "Tmin          86\n",
              "dtype: int64"
            ]
          },
          "metadata": {
            "tags": []
          },
          "execution_count": 42
        }
      ]
    },
    {
      "cell_type": "code",
      "metadata": {
        "colab": {
          "base_uri": "https://localhost:8080/"
        },
        "id": "gNvS9nosMqpn",
        "outputId": "e5bae2b2-5b84-418f-a0e5-596c5ca8a1ae"
      },
      "source": [
        "print(df_work0.head())\r\n",
        "print(df_work1.head())"
      ],
      "execution_count": 43,
      "outputs": [
        {
          "output_type": "stream",
          "text": [
            "        Fecha Precipit  Evap Tmax Tmin\n",
            "0  01/03/1973        0  Nulo   29   12\n",
            "1  02/03/1973        0  Nulo   30   12\n",
            "2  03/03/1973        0  Nulo   29    9\n",
            "3  04/03/1973        0  Nulo   28    8\n",
            "4  05/03/1973        0  Nulo   28    7\n",
            "        Fecha  Precipit  Evap  Tmax  Tmin\n",
            "0  01/03/1973       0.0   NaN  29.0  12.0\n",
            "1  02/03/1973       0.0   NaN  30.0  12.0\n",
            "2  03/03/1973       0.0   NaN  29.0   9.0\n",
            "3  04/03/1973       0.0   NaN  28.0   8.0\n",
            "4  05/03/1973       0.0   NaN  28.0   7.0\n"
          ],
          "name": "stdout"
        }
      ]
    },
    {
      "cell_type": "code",
      "metadata": {
        "colab": {
          "base_uri": "https://localhost:8080/",
          "height": 297
        },
        "id": "zi_OrTZNM0i5",
        "outputId": "21d45e6e-87c1-4d2c-d758-92c53e5ea82a"
      },
      "source": [
        "df_work1.describe().round(2)"
      ],
      "execution_count": 44,
      "outputs": [
        {
          "output_type": "execute_result",
          "data": {
            "text/html": [
              "<div>\n",
              "<style scoped>\n",
              "    .dataframe tbody tr th:only-of-type {\n",
              "        vertical-align: middle;\n",
              "    }\n",
              "\n",
              "    .dataframe tbody tr th {\n",
              "        vertical-align: top;\n",
              "    }\n",
              "\n",
              "    .dataframe thead th {\n",
              "        text-align: right;\n",
              "    }\n",
              "</style>\n",
              "<table border=\"1\" class=\"dataframe\">\n",
              "  <thead>\n",
              "    <tr style=\"text-align: right;\">\n",
              "      <th></th>\n",
              "      <th>Precipit</th>\n",
              "      <th>Evap</th>\n",
              "      <th>Tmax</th>\n",
              "      <th>Tmin</th>\n",
              "    </tr>\n",
              "  </thead>\n",
              "  <tbody>\n",
              "    <tr>\n",
              "      <th>count</th>\n",
              "      <td>6774.00</td>\n",
              "      <td>823.00</td>\n",
              "      <td>6818.00</td>\n",
              "      <td>6812.00</td>\n",
              "    </tr>\n",
              "    <tr>\n",
              "      <th>mean</th>\n",
              "      <td>0.58</td>\n",
              "      <td>8.48</td>\n",
              "      <td>32.75</td>\n",
              "      <td>15.11</td>\n",
              "    </tr>\n",
              "    <tr>\n",
              "      <th>std</th>\n",
              "      <td>4.68</td>\n",
              "      <td>3.20</td>\n",
              "      <td>5.85</td>\n",
              "      <td>6.72</td>\n",
              "    </tr>\n",
              "    <tr>\n",
              "      <th>min</th>\n",
              "      <td>0.00</td>\n",
              "      <td>0.10</td>\n",
              "      <td>6.00</td>\n",
              "      <td>-1.00</td>\n",
              "    </tr>\n",
              "    <tr>\n",
              "      <th>25%</th>\n",
              "      <td>0.00</td>\n",
              "      <td>6.10</td>\n",
              "      <td>28.00</td>\n",
              "      <td>10.00</td>\n",
              "    </tr>\n",
              "    <tr>\n",
              "      <th>50%</th>\n",
              "      <td>0.00</td>\n",
              "      <td>8.60</td>\n",
              "      <td>34.00</td>\n",
              "      <td>14.00</td>\n",
              "    </tr>\n",
              "    <tr>\n",
              "      <th>75%</th>\n",
              "      <td>0.00</td>\n",
              "      <td>10.70</td>\n",
              "      <td>38.00</td>\n",
              "      <td>22.00</td>\n",
              "    </tr>\n",
              "    <tr>\n",
              "      <th>max</th>\n",
              "      <td>180.00</td>\n",
              "      <td>17.90</td>\n",
              "      <td>46.00</td>\n",
              "      <td>31.00</td>\n",
              "    </tr>\n",
              "  </tbody>\n",
              "</table>\n",
              "</div>"
            ],
            "text/plain": [
              "       Precipit    Evap     Tmax     Tmin\n",
              "count   6774.00  823.00  6818.00  6812.00\n",
              "mean       0.58    8.48    32.75    15.11\n",
              "std        4.68    3.20     5.85     6.72\n",
              "min        0.00    0.10     6.00    -1.00\n",
              "25%        0.00    6.10    28.00    10.00\n",
              "50%        0.00    8.60    34.00    14.00\n",
              "75%        0.00   10.70    38.00    22.00\n",
              "max      180.00   17.90    46.00    31.00"
            ]
          },
          "metadata": {
            "tags": []
          },
          "execution_count": 44
        }
      ]
    },
    {
      "cell_type": "code",
      "metadata": {
        "colab": {
          "base_uri": "https://localhost:8080/"
        },
        "id": "fx9g2ZDzM6w4",
        "outputId": "08f21c13-ef12-4842-8f59-4dae91ce974b"
      },
      "source": [
        "print(df_work1.head())\r\n",
        "print(df_work1.tail())"
      ],
      "execution_count": 45,
      "outputs": [
        {
          "output_type": "stream",
          "text": [
            "        Fecha  Precipit  Evap  Tmax  Tmin\n",
            "0  01/03/1973       0.0   NaN  29.0  12.0\n",
            "1  02/03/1973       0.0   NaN  30.0  12.0\n",
            "2  03/03/1973       0.0   NaN  29.0   9.0\n",
            "3  04/03/1973       0.0   NaN  28.0   8.0\n",
            "4  05/03/1973       0.0   NaN  28.0   7.0\n",
            "           Fecha  Precipit  Evap  Tmax  Tmin\n",
            "6893  26/03/2016       0.0   NaN  30.0  11.0\n",
            "6894  27/03/2016       0.0   NaN  30.0  11.0\n",
            "6895  28/03/2016       0.0   NaN  28.0  12.0\n",
            "6896  29/03/2016       0.0   NaN  28.0  11.0\n",
            "6897  30/03/2016       0.0   NaN  29.0  12.0\n"
          ],
          "name": "stdout"
        }
      ]
    },
    {
      "cell_type": "code",
      "metadata": {
        "colab": {
          "base_uri": "https://localhost:8080/",
          "height": 297
        },
        "id": "2zKdbmJuNOai",
        "outputId": "2ce38ccb-853b-4e84-b9b2-8926289566c1"
      },
      "source": [
        "df_work1.describe()"
      ],
      "execution_count": 47,
      "outputs": [
        {
          "output_type": "execute_result",
          "data": {
            "text/html": [
              "<div>\n",
              "<style scoped>\n",
              "    .dataframe tbody tr th:only-of-type {\n",
              "        vertical-align: middle;\n",
              "    }\n",
              "\n",
              "    .dataframe tbody tr th {\n",
              "        vertical-align: top;\n",
              "    }\n",
              "\n",
              "    .dataframe thead th {\n",
              "        text-align: right;\n",
              "    }\n",
              "</style>\n",
              "<table border=\"1\" class=\"dataframe\">\n",
              "  <thead>\n",
              "    <tr style=\"text-align: right;\">\n",
              "      <th></th>\n",
              "      <th>Precipit</th>\n",
              "      <th>Evap</th>\n",
              "      <th>Tmax</th>\n",
              "      <th>Tmin</th>\n",
              "    </tr>\n",
              "  </thead>\n",
              "  <tbody>\n",
              "    <tr>\n",
              "      <th>count</th>\n",
              "      <td>6774.000000</td>\n",
              "      <td>823.000000</td>\n",
              "      <td>6818.000000</td>\n",
              "      <td>6812.00000</td>\n",
              "    </tr>\n",
              "    <tr>\n",
              "      <th>mean</th>\n",
              "      <td>0.583776</td>\n",
              "      <td>8.477521</td>\n",
              "      <td>32.752728</td>\n",
              "      <td>15.11377</td>\n",
              "    </tr>\n",
              "    <tr>\n",
              "      <th>std</th>\n",
              "      <td>4.675694</td>\n",
              "      <td>3.196214</td>\n",
              "      <td>5.852063</td>\n",
              "      <td>6.72071</td>\n",
              "    </tr>\n",
              "    <tr>\n",
              "      <th>min</th>\n",
              "      <td>0.000000</td>\n",
              "      <td>0.100000</td>\n",
              "      <td>6.000000</td>\n",
              "      <td>-1.00000</td>\n",
              "    </tr>\n",
              "    <tr>\n",
              "      <th>25%</th>\n",
              "      <td>0.000000</td>\n",
              "      <td>6.100000</td>\n",
              "      <td>28.000000</td>\n",
              "      <td>10.00000</td>\n",
              "    </tr>\n",
              "    <tr>\n",
              "      <th>50%</th>\n",
              "      <td>0.000000</td>\n",
              "      <td>8.600000</td>\n",
              "      <td>34.000000</td>\n",
              "      <td>14.00000</td>\n",
              "    </tr>\n",
              "    <tr>\n",
              "      <th>75%</th>\n",
              "      <td>0.000000</td>\n",
              "      <td>10.700000</td>\n",
              "      <td>38.000000</td>\n",
              "      <td>22.00000</td>\n",
              "    </tr>\n",
              "    <tr>\n",
              "      <th>max</th>\n",
              "      <td>180.000000</td>\n",
              "      <td>17.900000</td>\n",
              "      <td>46.000000</td>\n",
              "      <td>31.00000</td>\n",
              "    </tr>\n",
              "  </tbody>\n",
              "</table>\n",
              "</div>"
            ],
            "text/plain": [
              "          Precipit        Evap         Tmax        Tmin\n",
              "count  6774.000000  823.000000  6818.000000  6812.00000\n",
              "mean      0.583776    8.477521    32.752728    15.11377\n",
              "std       4.675694    3.196214     5.852063     6.72071\n",
              "min       0.000000    0.100000     6.000000    -1.00000\n",
              "25%       0.000000    6.100000    28.000000    10.00000\n",
              "50%       0.000000    8.600000    34.000000    14.00000\n",
              "75%       0.000000   10.700000    38.000000    22.00000\n",
              "max     180.000000   17.900000    46.000000    31.00000"
            ]
          },
          "metadata": {
            "tags": []
          },
          "execution_count": 47
        }
      ]
    }
  ]
}