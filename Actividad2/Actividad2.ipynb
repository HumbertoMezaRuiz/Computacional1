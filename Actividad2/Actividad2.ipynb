{
  "nbformat": 4,
  "nbformat_minor": 0,
  "metadata": {
    "colab": {
      "name": "Actividad2.ipynb",
      "provenance": []
    },
    "kernelspec": {
      "name": "python3",
      "display_name": "Python 3"
    }
  },
  "cells": [
    {
      "cell_type": "markdown",
      "metadata": {
        "id": "QmpNz_Te7tDU"
      },
      "source": [
        "Este código corresponde (por cada celda) a los problemas de la actividad 2 del curso de Física Computacional I."
      ]
    },
    {
      "cell_type": "code",
      "metadata": {
        "id": "kfkA6zBi7E8j"
      },
      "source": [
        "#AQUÍ VAN LAS BIBLIOTECAS\r\n",
        "import numpy as np #para poder usar el número pi\r\n"
      ],
      "execution_count": null,
      "outputs": []
    },
    {
      "cell_type": "markdown",
      "metadata": {
        "id": "W1qECLkc9E5z"
      },
      "source": [
        "En la siguiente celda vamos a calcular el área de un rectángulo.\r\n"
      ]
    },
    {
      "cell_type": "code",
      "metadata": {
        "id": "JxtBGL4B17YF"
      },
      "source": [
        "#CÁLCULO DEL ÁREA DE UN RECTANGULO\r\n",
        "# Se utiliza el símbolo # para hacer comentarios.\r\n",
        "# Se define una función de 2 variables para calcular el área de un rectángulo  \r\n",
        "def area(x, y):\r\n",
        "    return x*y\r\n",
        "\r\n",
        "print(\"Proporciona el largo y altura del rectángulo: \", end=\"\")\r\n",
        "l = float(input())\r\n",
        "w = float(input())\r\n",
        "a = area(l, w)\r\n",
        "# Imprime el valor del área en formato libre.\r\n",
        "print(\"\\nArea = \", a)\r\n",
        "# Imprime el valor del área con 2 decimales. \r\n",
        "print(\"\\nArea = {:.2f}\".format(a))"
      ],
      "execution_count": null,
      "outputs": []
    },
    {
      "cell_type": "markdown",
      "metadata": {
        "id": "qz9HAh8R9M13"
      },
      "source": [
        "En la siguiente celda vamos a calcular el área de un círculo."
      ]
    },
    {
      "cell_type": "code",
      "metadata": {
        "id": "-CVL-eLT3fYo"
      },
      "source": [
        "#CÁLCULO DEL ÁREA DE UN CÍRCULO\r\n",
        "# Se define una función de 1 variable para calcular el área de un círculo.  \r\n",
        "def area(r):\r\n",
        "    return np.pi*r**2\r\n",
        "\r\n",
        "print(\"Proporciona el radio del círculo: \", end=\"\")\r\n",
        "r = float(input())\r\n",
        "a = area(r)\r\n",
        "# Imprime el valor del área en formato libre.\r\n",
        "print(\"\\nArea = \", a)\r\n",
        "# Imprime el valor del área con 2 decimales. \r\n",
        "print(\"\\nArea = {:.2f}\".format(a))\r\n",
        "print(np.pi)"
      ],
      "execution_count": null,
      "outputs": []
    },
    {
      "cell_type": "markdown",
      "metadata": {
        "id": "v73Yui9R9QEo"
      },
      "source": [
        "En la siguiente celda vamos a calcular el área de una elipse.\r\n"
      ]
    },
    {
      "cell_type": "code",
      "metadata": {
        "id": "D0ELTI0s4VGT"
      },
      "source": [
        "#CÁLCULO DEL ÁREA DE UNA ELIPSE\r\n",
        "# Se define una función de 2 variables para calcular el área de una elipse.  \r\n",
        "def area(x, y):\r\n",
        "    return x*y*np.pi\r\n",
        "\r\n",
        "print(\"Proporciona las medidas del eje mayor y el eje menor de la elipse: \", end=\"\")\r\n",
        "l = float(input())\r\n",
        "w = float(input())\r\n",
        "a = area(l, w)\r\n",
        "# Imprime el valor del área en formato libre.\r\n",
        "print(\"\\nArea = \", a)\r\n",
        "# Imprime el valor del área con 2 decimales. \r\n",
        "print(\"\\nArea = {:.2f}\".format(a))\r\n"
      ],
      "execution_count": null,
      "outputs": []
    },
    {
      "cell_type": "markdown",
      "metadata": {
        "id": "HufSP5E_9S8l"
      },
      "source": [
        "En la siguiente celda vamos a calcular el volumen de una esfera.\r\n"
      ]
    },
    {
      "cell_type": "code",
      "metadata": {
        "id": "oRQVoeuw7W7l"
      },
      "source": [
        "#CÁLCULO DEL VOLUMEN DE UNA ESFERA\r\n",
        "# Se define una función de 1 variable para calcular el volumen de una esfera.  \r\n",
        "def area(x):\r\n",
        "    return (4/3)*np.pi*x**3\r\n",
        "\r\n",
        "print(\"Proporciona las medida del radio de la esfera: \", end=\"\")\r\n",
        "r = float(input())\r\n",
        "a = area(r)\r\n",
        "# Imprime el valor del área en formato libre.\r\n",
        "print(\"\\nArea = \", a)\r\n",
        "# Imprime el valor del área con 2 decimales. \r\n",
        "print(\"\\nArea = {:.2f}\".format(a))\r\n"
      ],
      "execution_count": null,
      "outputs": []
    },
    {
      "cell_type": "markdown",
      "metadata": {
        "id": "qioywM-R9V5F"
      },
      "source": [
        "En la siguiente celda vamos a calcular el área de un cilindro circular.\r\n"
      ]
    },
    {
      "cell_type": "code",
      "metadata": {
        "id": "f5R-NWwh8XuU"
      },
      "source": [
        "#CÁLCULO DEL VOLUMEN DE UN CILINDRO CIRCULAR\r\n",
        "# Se define una función de 2 variables para calcular el volumen de un cilindro circular.  \r\n",
        "def area(r,h):\r\n",
        "    return np.pi*r**2*h\r\n",
        "\r\n",
        "print(\"Proporciona las medidas del radio de la base y la altura del cilindro: \", end=\"\")\r\n",
        "r = float(input())\r\n",
        "h = float(input())\r\n",
        "a = area(r,h)\r\n",
        "# Imprime el valor del área en formato libre.\r\n",
        "print(\"\\nArea = \", a)\r\n",
        "# Imprime el valor del área con 2 decimales. \r\n",
        "print(\"\\nArea = {:.2f}\".format(a))"
      ],
      "execution_count": null,
      "outputs": []
    },
    {
      "cell_type": "markdown",
      "metadata": {
        "id": "-NhiTZJk9m80"
      },
      "source": [
        "**Ejercicio 2**\r\n",
        "En las siguiente celdas estaremos desarrollando un programa que calcule las raíces de una ecuación cuadrática."
      ]
    },
    {
      "cell_type": "code",
      "metadata": {
        "id": "bzT4cAFD93I7"
      },
      "source": [
        "print(\"Este programa encuentra raíces para las ecuaciones de la forma ax^2+bx+c=0.\", end=\"\")\r\n",
        "print(\"\\nPor favor, indique los valores a, b,c de su ecuación.\", end=\"\")\r\n",
        "import numpy as np #para las funciones raiz\r\n",
        "a = float(input())\r\n",
        "b = float(input())\r\n",
        "c = float(input())\r\n",
        "\r\n",
        "#Primero debemos asegurar que el discriminante es mayor a 0 para que tenga soluciones reales, asi\r\n",
        "\r\n",
        "if b**2-4*a*c >= 0:\r\n",
        " \r\n",
        "    #Usando la fórmula general obtendremos las dos raíces reales de una ecuación de segundo grado como, definimos entonces\r\n",
        "    def raiz1(a,b,c):\r\n",
        "        return (-b+np.sqrt(b**2-4*a*c))/(2*a)\r\n",
        "\r\n",
        "    def raiz2(a,b,c):\r\n",
        "        return (-b-np.sqrt(b**2-4*a*c))/(2*a)\r\n",
        "\r\n",
        "    #Calculamos las raices con nuestras constantes a,b,c\r\n",
        "    X1 = raiz1(a,b,c)\r\n",
        "    X2 = raiz2(a,b,c)\r\n",
        "\r\n",
        "    #Imprimimos las raíces\r\n",
        "    print(\"\\nX1 = \", X1)\r\n",
        "    print(\"\\nX2 = \", X2)\r\n",
        "elif b**2-4*a*c < 0:\r\n",
        "    print(\"\\nTu ecuación no tiene soluciones reales.\", end=\"\")"
      ],
      "execution_count": null,
      "outputs": []
    }
  ]
}