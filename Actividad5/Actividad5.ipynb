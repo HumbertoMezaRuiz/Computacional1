{
  "nbformat": 4,
  "nbformat_minor": 0,
  "metadata": {
    "colab": {
      "name": "Actividad5.ipynb",
      "provenance": []
    },
    "kernelspec": {
      "name": "python3",
      "display_name": "Python 3"
    }
  },
  "cells": [
    {
      "cell_type": "code",
      "metadata": {
        "id": "4KR-R43R23hg"
      },
      "source": [
        "import pandas as pd\r\n",
        "import numpy as np\r\n",
        "import matplotlib.pyplot as plt\r\n",
        "import seaborn as sns"
      ],
      "execution_count": null,
      "outputs": []
    },
    {
      "cell_type": "code",
      "metadata": {
        "colab": {
          "base_uri": "https://localhost:8080/"
        },
        "id": "5koNmbh-3kld",
        "outputId": "5cdb8f7b-3870-40f9-d001-0393a2a57776"
      },
      "source": [
        "#En resumen de la actividad anterior tenemos\r\n",
        "url1 = \"https://raw.githubusercontent.com/HumbertoMezaRuiz/FisicaComputacional1/main/Actividad1/diarios.txt\"#Definimos este link para usar el texo desde ahi\r\n",
        "\r\n",
        "encabezado = ['Fecha','Precipit','Evap','Tmax','Tmin']#Definimos aqui los encabezados para tener mas orden al definir el df\r\n",
        "\r\n",
        "#Ahora definimos nuestro df, donde como archivo pondremos el link url1 y en names, los encabezado definidos previamente\r\n",
        "df_dist = pd.read_csv(url1, names=encabezado, encoding='cp1251', sep='\\s+', skiprows=19, skipfooter=2, header=None, engine='python')\r\n",
        "\r\n",
        "df_work0 = df_dist.copy()     #Hacemos una copia de nuestros datos para manipularlos sin miedo a perderlos\r\n",
        "\r\n",
        "str_Nulo = 'Nulo'    #Aqui pondremos lo que querramos quitar, es decir, en mis datos hay datos que dicen 'nulos'\r\n",
        "\r\n",
        "df_work1 = df_work0.replace(to_replace=str_Nulo, value='', regex=True)        #Reemplazamos todos los nulos, en este caso, quedara en blanco\r\n",
        "\r\n",
        "# Deseamos convertir los valores de las variables ambientales a núm. flotantes \r\n",
        "cols_list = ['Precipit', 'Evap', 'Tmax', 'Tmin']\r\n",
        "for cols in cols_list:\r\n",
        "  df_work1[cols] = pd.to_numeric(df_work1[cols], errors='coerce')\r\n",
        "\r\n",
        "df_work2 = df_work1.copy() #hacemos otra copia para hacer otro cambio\r\n",
        "\r\n",
        "df_work2['Fecha']=pd.to_datetime(df_work2['Fecha'], dayfirst=True).copy() #Le decimos a python que esa columna son fehcas y le decimos que el primer numero son los dias\r\n",
        "\r\n",
        "df_work2['Año'] = df_work2['Fecha'].dt.year  #Vamos a crear una columna con el año de las fechas\r\n",
        "\r\n",
        "df_work2['Mes'] = df_work2['Fecha'].dt.month #y otras con el mes\r\n",
        " \r\n",
        "############################################################################################################################################\r\n",
        "df_meteo = df_work2.copy()# Definimos un nuevo DataFrame para el análisis de los datos meteorológicos.\r\n",
        "df_meteo.info()\r\n",
        "print(df_meteo.head())\r\n",
        "print(df_meteo.tail())"
      ],
      "execution_count": null,
      "outputs": [
        {
          "output_type": "stream",
          "text": [
            "<class 'pandas.core.frame.DataFrame'>\n",
            "RangeIndex: 6898 entries, 0 to 6897\n",
            "Data columns (total 7 columns):\n",
            " #   Column    Non-Null Count  Dtype         \n",
            "---  ------    --------------  -----         \n",
            " 0   Fecha     6898 non-null   datetime64[ns]\n",
            " 1   Precipit  6774 non-null   float64       \n",
            " 2   Evap      823 non-null    float64       \n",
            " 3   Tmax      6818 non-null   float64       \n",
            " 4   Tmin      6812 non-null   float64       \n",
            " 5   Año       6898 non-null   int64         \n",
            " 6   Mes       6898 non-null   int64         \n",
            "dtypes: datetime64[ns](1), float64(4), int64(2)\n",
            "memory usage: 377.4 KB\n",
            "       Fecha  Precipit  Evap  Tmax  Tmin   Año  Mes\n",
            "0 1973-03-01       0.0   NaN  29.0  12.0  1973    3\n",
            "1 1973-03-02       0.0   NaN  30.0  12.0  1973    3\n",
            "2 1973-03-03       0.0   NaN  29.0   9.0  1973    3\n",
            "3 1973-03-04       0.0   NaN  28.0   8.0  1973    3\n",
            "4 1973-03-05       0.0   NaN  28.0   7.0  1973    3\n",
            "          Fecha  Precipit  Evap  Tmax  Tmin   Año  Mes\n",
            "6893 2016-03-26       0.0   NaN  30.0  11.0  2016    3\n",
            "6894 2016-03-27       0.0   NaN  30.0  11.0  2016    3\n",
            "6895 2016-03-28       0.0   NaN  28.0  12.0  2016    3\n",
            "6896 2016-03-29       0.0   NaN  28.0  11.0  2016    3\n",
            "6897 2016-03-30       0.0   NaN  29.0  12.0  2016    3\n"
          ],
          "name": "stdout"
        }
      ]
    }
  ]
}